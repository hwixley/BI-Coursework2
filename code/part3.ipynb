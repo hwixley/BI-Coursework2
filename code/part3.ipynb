{
 "cells": [
  {
   "cell_type": "code",
   "execution_count": 8,
   "id": "42068d6f",
   "metadata": {},
   "outputs": [],
   "source": [
    "import numpy as np\n",
    "import matplotlib.pyplot as plt\n",
    "import pandas as pd\n",
    "import os\n",
    "from Bio import Entrez\n",
    "from tqdm import tqdm\n",
    "import pickle"
   ]
  },
  {
   "cell_type": "code",
   "execution_count": 9,
   "id": "2dc03f7b",
   "metadata": {},
   "outputs": [],
   "source": [
    "data = pd.read_csv (r'data/SFARI-Genes.csv')\n",
    "cols = data.columns\n",
    "N, D = data.shape"
   ]
  },
  {
   "cell_type": "code",
   "execution_count": 10,
   "id": "5e67bf7f",
   "metadata": {},
   "outputs": [],
   "source": [
    "def save_to_txt_file(contents, filename):\n",
    "    DIR = os.getcwd() + \"/results/\" + filename\n",
    "    \n",
    "    with open(DIR, \"w\") as f:\n",
    "        f.write(contents)\n",
    "        \n",
    "def save_to_pickle_file(contents, filename):\n",
    "    DIR = os.getcwd() + \"/data/\" + filename\n",
    "    \n",
    "    with open(DIR, \"wb\") as handle:\n",
    "        pickle.dump(contents, handle, protocol=pickle.HIGHEST_PROTOCOL)\n",
    "        \n",
    "def open_pickle_file(filename):\n",
    "    DIR = os.getcwd() + \"/data/\" + filename\n",
    "    \n",
    "    with open(DIR, \"rb\") as handle:\n",
    "        data = pickle.load(handle)\n",
    "        \n",
    "    return data\n",
    "\n",
    "def save_to_npy_file(contents, filename):\n",
    "    np.save(os.getcwd() + \"/data/\" + filename, contents)\n",
    "    \n",
    "def open_npy_file(filename):\n",
    "    np.load(os.getcwd() + \"/data/\" + filename, allow_pickle=True)\n",
    "    \n",
    "def parse_eid():\n",
    "    DIR = os.getcwd() + \"/results/task2-1-eid.txt\"\n",
    "    eid = {}\n",
    "    \n",
    "    with open(DIR) as f:\n",
    "        lines = f.readlines()\n",
    "        \n",
    "    for l in lines:\n",
    "        t1 = l.replace(\"\\n\", \"\").split(\": \")\n",
    "        gene = t1[0]\n",
    "\n",
    "        if len(t1) > 1:\n",
    "            eid[gene] = t1[1].split(\", \")\n",
    "        else:\n",
    "            eid[gene] = t1[1]\n",
    "               \n",
    "    return eid\n",
    "\n",
    "def get_entrezs(symbols):\n",
    "    entrezs = {}\n",
    "    \n",
    "    for s in symbols:\n",
    "        entrezs[s] = eid[s]\n",
    "        \n",
    "    return entrezs"
   ]
  },
  {
   "cell_type": "code",
   "execution_count": 11,
   "id": "2ca6ca0a",
   "metadata": {},
   "outputs": [],
   "source": [
    "eid = parse_eid()"
   ]
  },
  {
   "cell_type": "markdown",
   "id": "11d5edd3",
   "metadata": {},
   "source": [
    "# Task 1"
   ]
  },
  {
   "cell_type": "code",
   "execution_count": 12,
   "id": "21614196",
   "metadata": {},
   "outputs": [
    {
     "name": "stdout",
     "output_type": "stream",
     "text": [
      "6         ACTB\n",
      "14        ADNP\n",
      "16        ADSL\n",
      "17        AFF2\n",
      "27       AHDC1\n",
      "         ...  \n",
      "984       UBR1\n",
      "998     ZBTB20\n",
      "1004    ZNF292\n",
      "1006    ZNF462\n",
      "1019    ZMYND8\n",
      "Name: gene-symbol, Length: 206, dtype: object\n"
     ]
    }
   ],
   "source": [
    "gene_scores = data[\"gene-score\"]\n",
    "score_indexes =  gene_scores[gene_scores == 1].index\n",
    "symbols = data[\"gene-symbol\"].filter(items=score_indexes, axis=0)  \n",
    "\n",
    "print(symbols)"
   ]
  },
  {
   "cell_type": "code",
   "execution_count": 14,
   "id": "42966044",
   "metadata": {},
   "outputs": [
    {
     "name": "stdout",
     "output_type": "stream",
     "text": [
      "{'ACTB': ['60', '728378'], 'ADNP': ['23394'], 'ADSL': ['158'], 'AFF2': ['2334'], 'AHDC1': ['27245'], 'ALDH5A1': ['7915'], 'ANK2': ['287'], 'ANK3': ['288'], 'ANKRD11': ['29123'], 'ARHGEF9': ['23229'], 'ARID1B': ['57492'], 'ARX': ['170302', '10054', '170640'], 'ASH1L': ['55870'], 'ASXL3': ['80816'], 'ATRX': ['546'], 'AUTS2': ['26053', '282553'], 'AP2S1': ['1175'], 'BAZ2B': ['29994'], 'BCKDK': ['10295'], 'BCL11A': ['53335'], 'BRAF': ['673'], 'BRSK2': ['9024'], 'CACNA1A': ['773'], 'CACNA1C': ['775'], 'CACNA1E': ['777'], 'CACNA2D3': ['55799'], 'CAPRIN1': ['4076'], 'CASK': ['8573'], 'CASZ1': ['54897'], 'CDKL5': ['6792'], 'CELF4': ['56853'], 'CHAMP1': ['283489'], 'CHD2': ['1106', '1826'], 'CHD3': ['1107'], 'CHD7': ['55636', '338420'], 'CHD8': ['57680'], 'CIC': ['23152', '93977'], 'CNOT3': ['4849'], 'CREBBP': ['1387'], 'CSDE1': ['7812'], 'CTCF': ['10664'], 'CTNNB1': ['1499'], 'CUL3': ['8452'], 'CORO1A': ['11151'], 'DDX3X': ['1654'], 'DEAF1': ['10522'], 'DHCR7': ['1717'], 'DIP2A': ['23181'], 'DLG4': ['1742', '3996'], 'DMPK': ['1760', '60405'], 'DNMT3A': ['1788'], 'DPYSL2': ['1808'], 'DSCAM': ['1826'], 'DYNC1H1': ['1778'], 'DYRK1A': ['1859'], 'EBF3': ['22924', '253738', '276717'], 'EHMT1': ['79813'], 'EIF3G': ['8666'], 'ELAVL3': ['1995'], 'EP300': ['2033'], 'FMR1': ['2332', '108684022', '106478973', '2477'], 'FOXG1': ['2290', '2291'], 'FOXP1': ['27086'], 'FOXP2': ['93986', '27323'], 'GABRB3': ['2562'], 'GABRB2': ['2561'], 'GIGYF1': ['64599'], 'GIGYF2': ['26058'], 'GRIA2': ['2891'], 'GFAP': ['2670'], 'GNAI1': ['2770'], 'GRIN2B': ['2904'], 'HDLBP': ['3069'], 'HECTD4': ['283450'], 'HIVEP2': ['3097'], 'HNRNPH2': ['3188'], 'HNRNPU': ['3192'], 'HRAS': ['3265'], 'IQSEC2': ['23096'], 'IRF2BPL': ['64207'], 'KANSL1': ['284058'], 'KATNAL2': ['83473'], 'KCNB1': ['3745'], 'KCNQ3': ['3786'], 'KDM3B': ['51780'], 'KDM5B': ['10765'], 'KDM5C': ['8242'], 'KDM6B': ['23135'], 'KIAA0232': ['9778'], 'KMT2A': ['4297'], 'KMT2C': ['58508'], 'KMT2E': ['55904'], 'KMT5B': ['51111'], 'LZTR1': ['8216'], 'MAGEL2': ['54551'], 'MBD5': ['55777'], 'MBOAT7': ['79143'], 'MECP2': ['4204'], 'LDB1': ['8861', '9079'], 'LRRC4C': ['57689'], 'MED13': ['9969'], 'MED13L': ['23389'], 'MEF2C': ['4208'], 'MEIS2': ['4212', '56908'], 'MKX': ['283078'], 'MAP1A': ['4130', '23173'], 'MYT1L': ['23040', '4662'], 'NAA15': ['80155'], 'NACC1': ['112939'], 'NBEA': ['26960'], 'NCKAP1': ['10787'], 'NF1': ['4763'], 'NIPBL': ['25836'], 'MSL3': ['10943'], 'NCOA1': ['8648'], 'NLGN2': ['57555'], 'NLGN3': ['54413'], 'NLGN4X': ['57502'], 'NR3C2': ['4306'], 'NR4A2': ['4929'], 'NRXN1': ['9378'], 'NRXN2': ['9379'], 'NRXN3': ['9369'], 'NSD1': ['64324'], 'NUP155': ['9631'], 'PACS1': ['55690'], 'PAH': ['5053'], 'PAX5': ['5079'], 'PCCB': ['5096'], 'PCDH19': ['57526', '57575', '89774'], 'PHF2': ['5252', '5253'], 'PHF21A': ['51317'], 'PHF3': ['23469'], 'PHIP': ['55023', '83843'], 'PHF12': ['57649'], 'POGZ': ['4864', '23126'], 'POMGNT1': ['55624'], 'PPP2R5D': ['5528'], 'PRR12': ['57479'], 'PSMD12': ['5718'], 'PTCHD1': ['139411'], 'PTEN': ['5728'], 'PTK7': ['5754'], 'PTPN11': ['5781'], 'PPP1R9B': ['84687', '5508'], 'PPP5C': ['5536'], 'RAI1': ['10743', '1797', '493901'], 'RELN': ['5649'], 'RERE': ['473'], 'RFX3': ['5991'], 'RIMS1': ['22999'], 'RORB': ['6096'], 'SCN1A': ['6323'], 'SATB1': ['6304'], 'SCN2A': ['6326', '6325'], 'SCN8A': ['6334'], 'SETBP1': ['26040'], 'SETD2': ['29072'], 'SETD5': ['55209'], 'SHANK2': ['22941', '170817'], 'SHANK3': ['85358'], 'SIN3A': ['25942'], 'SKI': ['6497'], 'SLC6A1': ['6529'], 'SLC9A6': ['10479', '84679'], 'SMARCA2': ['6595'], 'SMARCA4': ['6597'], 'SMARCC2': ['6601'], 'SON': ['6651', '54066'], 'SOX5': ['6660'], 'SPAST': ['6683'], 'SRCAP': ['10847'], 'STXBP1': ['6812'], 'SYN1': ['6853', '9623'], 'SYNGAP1': ['8831'], 'SRPRA': ['6734'], 'TANC2': ['26115'], 'TAOK1': ['57551'], 'TBCK': ['93627'], 'TBL1XR1': ['79718'], 'TBR1': ['10716'], 'TCF20': ['6942'], 'TCF4': ['6934', '6925'], 'TCF7L2': ['6934'], 'TLK2': ['11011'], 'TEK': ['7010'], 'TM9SF4': ['9777'], 'TRAF7': ['84231'], 'TRIO': ['7204'], 'TRIP12': ['9320'], 'TSC1': ['7248', '10344'], 'TSC2': ['7249'], 'TSHZ3': ['57616'], 'UBE3A': ['7337'], 'UPF3B': ['65109'], 'TRIM23': ['373'], 'USP9X': ['8239'], 'VEZF1': ['7716'], 'VPS13B': ['157680'], 'WAC': ['51322', '119165'], 'WDFY3': ['23001'], 'UBR1': ['197131', '64703'], 'ZBTB20': ['26137'], 'ZNF292': ['23036'], 'ZNF462': ['58499'], 'ZMYND8': ['23613']}\n"
     ]
    }
   ],
   "source": [
    "ncbi_ids = get_entrezs(symbols)\n",
    "\n",
    "print(ncbi_ids)"
   ]
  }
 ],
 "metadata": {
  "kernelspec": {
   "display_name": "Python 3 (ipykernel)",
   "language": "python",
   "name": "python3"
  },
  "language_info": {
   "codemirror_mode": {
    "name": "ipython",
    "version": 3
   },
   "file_extension": ".py",
   "mimetype": "text/x-python",
   "name": "python",
   "nbconvert_exporter": "python",
   "pygments_lexer": "ipython3",
   "version": "3.9.7"
  }
 },
 "nbformat": 4,
 "nbformat_minor": 5
}
