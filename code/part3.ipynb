{
 "cells": [
  {
   "cell_type": "code",
   "execution_count": 3,
   "id": "c6ff313f",
   "metadata": {},
   "outputs": [],
   "source": [
    "import numpy as np\n",
    "import matplotlib.pyplot as plt\n",
    "import pandas as pd\n",
    "import os\n",
    "from Bio import Entrez\n",
    "from tqdm import tqdm\n",
    "import pickle"
   ]
  },
  {
   "cell_type": "code",
   "execution_count": 4,
   "id": "37f530b6",
   "metadata": {},
   "outputs": [],
   "source": [
    "data = pd.read_csv (r'data/SFARI-Genes.csv')\n",
    "cols = data.columns\n",
    "N, D = data.shape"
   ]
  },
  {
   "cell_type": "code",
   "execution_count": null,
   "id": "7ea820b2",
   "metadata": {},
   "outputs": [],
   "source": [
    "def save_to_txt_file(contents, filename):\n",
    "    DIR = os.getcwd() + \"/results/\" + filename\n",
    "    \n",
    "    with open(DIR, \"w\") as f:\n",
    "        f.write(contents)\n",
    "        \n",
    "def save_to_pickle_file(contents, filename):\n",
    "    DIR = os.getcwd() + \"/data/\" + filename\n",
    "    \n",
    "    with open(DIR, \"wb\") as handle:\n",
    "        pickle.dump(contents, handle, protocol=pickle.HIGHEST_PROTOCOL)\n",
    "        \n",
    "def open_pickle_file(filename):\n",
    "    DIR = os.getcwd() + \"/data/\" + filename\n",
    "    \n",
    "    with open(DIR, \"rb\") as handle:\n",
    "        data = pickle.load(handle)\n",
    "        \n",
    "    return data\n",
    "\n",
    "def save_to_npy_file(contents, filename):\n",
    "    np.save(os.getcwd() + \"/data/\" + filename, contents)\n",
    "    \n",
    "def open_npy_file(filename):\n",
    "    np.load(os.getcwd() + \"/data/\" + filename, allow_pickle=True)\n",
    "    \n",
    "def parse_eid():\n",
    "    DIR = os.getcwd() + \"/results/task2-1-eid.txt\"\n",
    "    eid = {}\n",
    "    \n",
    "    with open(DIR) as f:\n",
    "        lines = f.readlines()\n",
    "        \n",
    "    for l in lines:\n",
    "        t1 = l.replace(\"\\n\", \"\").split(\": \")\n",
    "        gene = t1[0]\n",
    "\n",
    "        if len(t1) > 1:\n",
    "            eid[gene] = t1[1].split(\", \")\n",
    "        else:\n",
    "            eid[gene] = t1[1]\n",
    "               \n",
    "    return eid\n",
    "\n",
    "def get_entrezs(symbols):\n",
    "    entrezs = {}\n",
    "    \n",
    "    for s in symbols:\n",
    "        entrezs[s] = eid[s]\n",
    "        \n",
    "    return entrezs\n",
    "\n",
    "def get_GO_indexes(symbols):\n",
    "    indexes = {}\n",
    "    entrezs = get_entrezs(symbols)\n",
    "    errors = 0\n",
    "    \n",
    "    tax_ids = gene2go[\"#tax_id\"]\n",
    "    human_gene_indexes = tax_ids[tax_ids == \"9606\"].index\n",
    "    human_genes = gene2go.filter(items=human_gene_indexes, axis = 0)\n",
    "    human_gene_ids = human_genes[\"GeneID\"]\n",
    "\n",
    "    for g in tqdm(gene_symbols):\n",
    "        gene_entrez = eid[g]\n",
    "\n",
    "        if len(gene_entrez) == 0:\n",
    "            print(g)\n",
    "            continue\n",
    "        else:\n",
    "            gene_entrez = gene_entrez[0]\n",
    "\n",
    "        gene_index = human_gene_ids[human_gene_ids == gene_entrez].index.unique()\n",
    "\n",
    "        indexes[g] = gene_index\n",
    "    \n",
    "    if errors > 0:\n",
    "        print(\"Warning {} errors exist\".format(errors))\n",
    "        \n",
    "    return indexes\n",
    "\n",
    "def get_GO_cols(cols, indexes):\n",
    "    cols_data = []\n",
    "    output = []\n",
    "    \n",
    "    for c in cols:\n",
    "        cols_data.append(gene2go[c].filter(items=indexes, axis=0))\n",
    "    \n",
    "    for i in range(len(cols_data[0])):\n",
    "        out = []\n",
    "        for c in range(len(cols)):\n",
    "            out.append(str(cols_data[c]))\n",
    "        output.append(out)\n",
    "    \n",
    "    return output"
   ]
  },
  {
   "cell_type": "markdown",
   "id": "8741f769",
   "metadata": {},
   "source": [
    "# Task 1"
   ]
  },
  {
   "cell_type": "code",
   "execution_count": 7,
   "id": "98eba1c9",
   "metadata": {},
   "outputs": [
    {
     "name": "stdout",
     "output_type": "stream",
     "text": [
      "6         ACTB\n",
      "14        ADNP\n",
      "16        ADSL\n",
      "17        AFF2\n",
      "27       AHDC1\n",
      "         ...  \n",
      "984       UBR1\n",
      "998     ZBTB20\n",
      "1004    ZNF292\n",
      "1006    ZNF462\n",
      "1019    ZMYND8\n",
      "Name: gene-symbol, Length: 206, dtype: object\n"
     ]
    }
   ],
   "source": [
    "gene_scores = data[\"gene-score\"]\n",
    "score_indexes =  gene_scores[gene_scores == 1].index\n",
    "symbols = data[\"gene-symbol\"].filter(items=score_indexes, axis=0)  \n",
    "\n",
    "print(symbols)"
   ]
  },
  {
   "cell_type": "code",
   "execution_count": null,
   "id": "bc54969a",
   "metadata": {},
   "outputs": [],
   "source": [
    "def get_entrezs(symbols):\n",
    "    entrezs = {}\n",
    "    \n",
    "    for s in symbols:\n",
    "        entrezs[s] = eid[s]\n",
    "        \n",
    "    return entrezs\n"
   ]
  }
 ],
 "metadata": {
  "kernelspec": {
   "display_name": "Python 3 (ipykernel)",
   "language": "python",
   "name": "python3"
  },
  "language_info": {
   "codemirror_mode": {
    "name": "ipython",
    "version": 3
   },
   "file_extension": ".py",
   "mimetype": "text/x-python",
   "name": "python",
   "nbconvert_exporter": "python",
   "pygments_lexer": "ipython3",
   "version": "3.9.7"
  }
 },
 "nbformat": 4,
 "nbformat_minor": 5
}
