{
 "cells": [
  {
   "cell_type": "code",
   "execution_count": 8,
   "id": "10baeecb",
   "metadata": {},
   "outputs": [],
   "source": [
    "import numpy as np\n",
    "import matplotlib.pyplot as plt\n",
    "import pandas as pd\n",
    "import os\n",
    "from Bio import Entrez\n",
    "from tqdm import tqdm\n",
    "import pickle"
   ]
  },
  {
   "cell_type": "code",
   "execution_count": 9,
   "id": "ffabcde5",
   "metadata": {},
   "outputs": [],
   "source": [
    "data = pd.read_csv (r'data/SFARI-Genes.csv')\n",
    "cols = data.columns\n",
    "N, D = data.shape"
   ]
  },
  {
   "cell_type": "code",
   "execution_count": 10,
   "id": "270d246f",
   "metadata": {},
   "outputs": [],
   "source": [
    "def save_to_txt_file(contents, filename):\n",
    "    DIR = os.getcwd() + \"/results/\" + filename\n",
    "    \n",
    "    with open(DIR, \"w\") as f:\n",
    "        f.write(contents)\n",
    "        \n",
    "def save_to_pickle_file(contents, filename):\n",
    "    DIR = os.getcwd() + \"/data/\" + filename\n",
    "    \n",
    "    with open(DIR, \"wb\") as handle:\n",
    "        pickle.dump(contents, handle, protocol=pickle.HIGHEST_PROTOCOL)\n",
    "        \n",
    "def open_pickle_file(filename):\n",
    "    DIR = os.getcwd() + \"/data/\" + filename\n",
    "    \n",
    "    with open(DIR, \"rb\") as handle:\n",
    "        data = pickle.load(handle)\n",
    "        \n",
    "    return data\n",
    "\n",
    "def save_to_npy_file(contents, filename):\n",
    "    np.save(os.getcwd() + \"/data/\" + filename, contents)\n",
    "    \n",
    "def open_npy_file(filename):\n",
    "    np.load(os.getcwd() + \"/data/\" + filename, allow_pickle=True)\n",
    "    \n",
    "def parse_eid():\n",
    "    DIR = os.getcwd() + \"/results/task2-1-eid.txt\"\n",
    "    eid = {}\n",
    "    \n",
    "    with open(DIR) as f:\n",
    "        lines = f.readlines()\n",
    "        \n",
    "    for l in lines:\n",
    "        t1 = l.replace(\"\\n\", \"\").split(\": \")\n",
    "        gene = t1[0]\n",
    "\n",
    "        if len(t1) > 1:\n",
    "            eid[gene] = t1[1].split(\", \")\n",
    "        else:\n",
    "            eid[gene] = t1[1]\n",
    "               \n",
    "    return eid\n",
    "\n",
    "def get_entrezs(symbols):\n",
    "    entrezs = {}\n",
    "    \n",
    "    for s in symbols:\n",
    "        entrezs[s] = eid[s]\n",
    "        \n",
    "    return entrezs"
   ]
  },
  {
   "cell_type": "code",
   "execution_count": 11,
   "id": "c1a5e78b",
   "metadata": {},
   "outputs": [],
   "source": [
    "eid = parse_eid()"
   ]
  },
  {
   "cell_type": "markdown",
   "id": "fb5c387a",
   "metadata": {},
   "source": [
    "# Task 1"
   ]
  },
  {
   "cell_type": "code",
   "execution_count": 12,
   "id": "fa813fc7",
   "metadata": {},
   "outputs": [
    {
     "name": "stdout",
     "output_type": "stream",
     "text": [
      "6         ACTB\n",
      "14        ADNP\n",
      "16        ADSL\n",
      "17        AFF2\n",
      "27       AHDC1\n",
      "         ...  \n",
      "984       UBR1\n",
      "998     ZBTB20\n",
      "1004    ZNF292\n",
      "1006    ZNF462\n",
      "1019    ZMYND8\n",
      "Name: gene-symbol, Length: 206, dtype: object\n"
     ]
    }
   ],
   "source": [
    "gene_scores = data[\"gene-score\"]\n",
    "score_indexes =  gene_scores[gene_scores == 1].index\n",
    "symbols = data[\"gene-symbol\"].filter(items=score_indexes, axis=0)  \n",
    "\n",
    "print(symbols)"
   ]
  },
  {
   "cell_type": "code",
   "execution_count": 19,
   "id": "59b9ffb7",
   "metadata": {},
   "outputs": [],
   "source": [
    "ncbi_ids = get_entrezs(symbols)\n",
    "\n",
    "txt = \"\"\n",
    "for s in symbols:\n",
    "    txt += \" \".join(ncbi_ids[s]) + \"\\n\"\n",
    "    \n",
    "save_to_txt_file(txt, \"task3.1-gs1-ids.txt\")"
   ]
  }
 ],
 "metadata": {
  "kernelspec": {
   "display_name": "Python 3 (ipykernel)",
   "language": "python",
   "name": "python3"
  },
  "language_info": {
   "codemirror_mode": {
    "name": "ipython",
    "version": 3
   },
   "file_extension": ".py",
   "mimetype": "text/x-python",
   "name": "python",
   "nbconvert_exporter": "python",
   "pygments_lexer": "ipython3",
   "version": "3.9.7"
  }
 },
 "nbformat": 4,
 "nbformat_minor": 5
}
