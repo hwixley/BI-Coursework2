{
 "cells": [
  {
   "cell_type": "code",
   "execution_count": 78,
   "id": "342f12e7",
   "metadata": {},
   "outputs": [],
   "source": [
    "import numpy as np\n",
    "import matplotlib.pyplot as plt\n",
    "import pandas as pd\n",
    "import os\n",
    "from Bio import Entrez\n",
    "from tqdm import tqdm"
   ]
  },
  {
   "cell_type": "code",
   "execution_count": 4,
   "id": "610a5b1b",
   "metadata": {},
   "outputs": [
    {
     "name": "stdout",
     "output_type": "stream",
     "text": [
      "Index(['status', 'gene-symbol', 'gene-name', 'ensembl-id', 'chromosome',\n",
      "       'genetic-category', 'gene-score', 'syndromic', 'number-of-reports'],\n",
      "      dtype='object')\n"
     ]
    }
   ],
   "source": [
    "data = pd.read_csv (r'data/SFARI-Genes.csv')\n",
    "cols = data.columns\n",
    "N, D = data.shape\n",
    "print(cols)"
   ]
  },
  {
   "cell_type": "code",
   "execution_count": 284,
   "id": "ce34a4ab",
   "metadata": {},
   "outputs": [],
   "source": [
    "gene_symbols = data[\"gene-symbol\"].values"
   ]
  },
  {
   "cell_type": "code",
   "execution_count": 272,
   "id": "50053c19",
   "metadata": {},
   "outputs": [
    {
     "data": {
      "text/html": [
       "<div>\n",
       "<style scoped>\n",
       "    .dataframe tbody tr th:only-of-type {\n",
       "        vertical-align: middle;\n",
       "    }\n",
       "\n",
       "    .dataframe tbody tr th {\n",
       "        vertical-align: top;\n",
       "    }\n",
       "\n",
       "    .dataframe thead th {\n",
       "        text-align: right;\n",
       "    }\n",
       "</style>\n",
       "<table border=\"1\" class=\"dataframe\">\n",
       "  <thead>\n",
       "    <tr style=\"text-align: right;\">\n",
       "      <th></th>\n",
       "      <th>status</th>\n",
       "      <th>gene-symbol</th>\n",
       "      <th>gene-name</th>\n",
       "      <th>ensembl-id</th>\n",
       "      <th>chromosome</th>\n",
       "      <th>genetic-category</th>\n",
       "      <th>gene-score</th>\n",
       "      <th>syndromic</th>\n",
       "      <th>number-of-reports</th>\n",
       "    </tr>\n",
       "  </thead>\n",
       "  <tbody>\n",
       "    <tr>\n",
       "      <th>0</th>\n",
       "      <td>9</td>\n",
       "      <td>ABAT</td>\n",
       "      <td>4-aminobutyrate aminotransferase</td>\n",
       "      <td>ENSG00000183044</td>\n",
       "      <td>16</td>\n",
       "      <td>Rare Single Gene Mutation, Genetic Association</td>\n",
       "      <td>3.0</td>\n",
       "      <td>0</td>\n",
       "      <td>5</td>\n",
       "    </tr>\n",
       "    <tr>\n",
       "      <th>1</th>\n",
       "      <td>9</td>\n",
       "      <td>ABCA10</td>\n",
       "      <td>ATP-binding cassette, sub-family A (ABC1), mem...</td>\n",
       "      <td>ENSG00000154263</td>\n",
       "      <td>17</td>\n",
       "      <td>Rare Single Gene Mutation</td>\n",
       "      <td>3.0</td>\n",
       "      <td>0</td>\n",
       "      <td>1</td>\n",
       "    </tr>\n",
       "    <tr>\n",
       "      <th>2</th>\n",
       "      <td>9</td>\n",
       "      <td>ABCA13</td>\n",
       "      <td>ATP binding cassette subfamily A member 13</td>\n",
       "      <td>ENSG00000179869</td>\n",
       "      <td>7</td>\n",
       "      <td>Rare Single Gene Mutation, Functional</td>\n",
       "      <td>3.0</td>\n",
       "      <td>0</td>\n",
       "      <td>6</td>\n",
       "    </tr>\n",
       "    <tr>\n",
       "      <th>3</th>\n",
       "      <td>9</td>\n",
       "      <td>ABCA7</td>\n",
       "      <td>ATP-binding cassette, sub-family A (ABC1), mem...</td>\n",
       "      <td>ENSG00000064687</td>\n",
       "      <td>19</td>\n",
       "      <td>Rare Single Gene Mutation</td>\n",
       "      <td>3.0</td>\n",
       "      <td>0</td>\n",
       "      <td>4</td>\n",
       "    </tr>\n",
       "    <tr>\n",
       "      <th>4</th>\n",
       "      <td>9</td>\n",
       "      <td>ACE</td>\n",
       "      <td>angiotensin I converting enzyme</td>\n",
       "      <td>ENSG00000159640</td>\n",
       "      <td>17</td>\n",
       "      <td>Rare Single Gene Mutation, Genetic Association</td>\n",
       "      <td>3.0</td>\n",
       "      <td>0</td>\n",
       "      <td>3</td>\n",
       "    </tr>\n",
       "    <tr>\n",
       "      <th>...</th>\n",
       "      <td>...</td>\n",
       "      <td>...</td>\n",
       "      <td>...</td>\n",
       "      <td>...</td>\n",
       "      <td>...</td>\n",
       "      <td>...</td>\n",
       "      <td>...</td>\n",
       "      <td>...</td>\n",
       "      <td>...</td>\n",
       "    </tr>\n",
       "    <tr>\n",
       "      <th>1018</th>\n",
       "      <td>9</td>\n",
       "      <td>ZMYM2</td>\n",
       "      <td>zinc finger MYM-type containing 2</td>\n",
       "      <td>ENSG00000121741</td>\n",
       "      <td>13</td>\n",
       "      <td>Rare Single Gene Mutation, Syndromic</td>\n",
       "      <td>2.0</td>\n",
       "      <td>1</td>\n",
       "      <td>6</td>\n",
       "    </tr>\n",
       "    <tr>\n",
       "      <th>1019</th>\n",
       "      <td>9</td>\n",
       "      <td>ZMYND8</td>\n",
       "      <td>zinc finger MYND-type containing 8</td>\n",
       "      <td>ENSG00000101040</td>\n",
       "      <td>20</td>\n",
       "      <td>Rare Single Gene Mutation</td>\n",
       "      <td>1.0</td>\n",
       "      <td>0</td>\n",
       "      <td>4</td>\n",
       "    </tr>\n",
       "    <tr>\n",
       "      <th>1020</th>\n",
       "      <td>9</td>\n",
       "      <td>ZNF827</td>\n",
       "      <td>Zinc finger protein 827</td>\n",
       "      <td>ENSG00000151612</td>\n",
       "      <td>4</td>\n",
       "      <td>Genetic Association</td>\n",
       "      <td>3.0</td>\n",
       "      <td>0</td>\n",
       "      <td>1</td>\n",
       "    </tr>\n",
       "    <tr>\n",
       "      <th>1021</th>\n",
       "      <td>9</td>\n",
       "      <td>ZSWIM6</td>\n",
       "      <td>zinc finger SWIM-type containing 6</td>\n",
       "      <td>ENSG00000130449</td>\n",
       "      <td>5</td>\n",
       "      <td>Syndromic, Genetic Association</td>\n",
       "      <td>NaN</td>\n",
       "      <td>1</td>\n",
       "      <td>3</td>\n",
       "    </tr>\n",
       "    <tr>\n",
       "      <th>1022</th>\n",
       "      <td>9</td>\n",
       "      <td>ZWILCH</td>\n",
       "      <td>zwilchkinetochore protein</td>\n",
       "      <td>ENSG00000174442</td>\n",
       "      <td>15</td>\n",
       "      <td>Rare Single Gene Mutation</td>\n",
       "      <td>3.0</td>\n",
       "      <td>0</td>\n",
       "      <td>4</td>\n",
       "    </tr>\n",
       "  </tbody>\n",
       "</table>\n",
       "<p>1023 rows × 9 columns</p>\n",
       "</div>"
      ],
      "text/plain": [
       "      status gene-symbol                                          gene-name  \\\n",
       "0          9        ABAT                   4-aminobutyrate aminotransferase   \n",
       "1          9      ABCA10  ATP-binding cassette, sub-family A (ABC1), mem...   \n",
       "2          9      ABCA13         ATP binding cassette subfamily A member 13   \n",
       "3          9       ABCA7  ATP-binding cassette, sub-family A (ABC1), mem...   \n",
       "4          9         ACE                    angiotensin I converting enzyme   \n",
       "...      ...         ...                                                ...   \n",
       "1018       9       ZMYM2                  zinc finger MYM-type containing 2   \n",
       "1019       9      ZMYND8                 zinc finger MYND-type containing 8   \n",
       "1020       9      ZNF827                            Zinc finger protein 827   \n",
       "1021       9      ZSWIM6                 zinc finger SWIM-type containing 6   \n",
       "1022       9      ZWILCH                          zwilchkinetochore protein   \n",
       "\n",
       "           ensembl-id chromosome  \\\n",
       "0     ENSG00000183044         16   \n",
       "1     ENSG00000154263         17   \n",
       "2     ENSG00000179869          7   \n",
       "3     ENSG00000064687         19   \n",
       "4     ENSG00000159640         17   \n",
       "...               ...        ...   \n",
       "1018  ENSG00000121741         13   \n",
       "1019  ENSG00000101040         20   \n",
       "1020  ENSG00000151612          4   \n",
       "1021  ENSG00000130449          5   \n",
       "1022  ENSG00000174442         15   \n",
       "\n",
       "                                    genetic-category  gene-score  syndromic  \\\n",
       "0     Rare Single Gene Mutation, Genetic Association         3.0          0   \n",
       "1                          Rare Single Gene Mutation         3.0          0   \n",
       "2              Rare Single Gene Mutation, Functional         3.0          0   \n",
       "3                          Rare Single Gene Mutation         3.0          0   \n",
       "4     Rare Single Gene Mutation, Genetic Association         3.0          0   \n",
       "...                                              ...         ...        ...   \n",
       "1018            Rare Single Gene Mutation, Syndromic         2.0          1   \n",
       "1019                       Rare Single Gene Mutation         1.0          0   \n",
       "1020                             Genetic Association         3.0          0   \n",
       "1021                  Syndromic, Genetic Association         NaN          1   \n",
       "1022                       Rare Single Gene Mutation         3.0          0   \n",
       "\n",
       "      number-of-reports  \n",
       "0                     5  \n",
       "1                     1  \n",
       "2                     6  \n",
       "3                     4  \n",
       "4                     3  \n",
       "...                 ...  \n",
       "1018                  6  \n",
       "1019                  4  \n",
       "1020                  1  \n",
       "1021                  3  \n",
       "1022                  4  \n",
       "\n",
       "[1023 rows x 9 columns]"
      ]
     },
     "execution_count": 272,
     "metadata": {},
     "output_type": "execute_result"
    }
   ],
   "source": [
    "data"
   ]
  },
  {
   "cell_type": "markdown",
   "id": "d5d7bb66",
   "metadata": {},
   "source": [
    "# task 1"
   ]
  },
  {
   "cell_type": "code",
   "execution_count": 5,
   "id": "5000ea78",
   "metadata": {},
   "outputs": [
    {
     "data": {
      "text/plain": [
       "Text(0.5, 1.0, 'A bar chart to show the number of genes in each\\nSFARI gene-score category')"
      ]
     },
     "execution_count": 5,
     "metadata": {},
     "output_type": "execute_result"
    },
    {
     "data": {
      "image/png": "[encoded data removed]",
      "text/plain": [
       "<Figure size 432x288 with 1 Axes>"
      ]
     },
     "metadata": {
      "needs_background": "light"
     },
     "output_type": "display_data"
    }
   ],
   "source": [
    "gene_cats_data = data['genetic-category']\n",
    "gene_cat_counts = gene_cats_data.value_counts()\n",
    "gene_cat_vals = gene_cat_counts.index\n",
    "\n",
    "A, B = gene_cat_vals.size, gene_cat_counts.size\n",
    "assert(A == B)\n",
    "\n",
    "plt.barh(gene_cat_vals, gene_cat_counts)\n",
    "plt.xlabel(\"# genes\")\n",
    "plt.ylabel(\"Genetic \")\n",
    "plt.title(\"A bar chart to show the number of genes in each\\nSFARI gene-score category\")"
   ]
  },
  {
   "cell_type": "code",
   "execution_count": 65,
   "id": "ac3ef671",
   "metadata": {},
   "outputs": [
    {
     "data": {
      "image/png": "[encoded data removed]",
      "text/plain": [
       "<Figure size 432x288 with 1 Axes>"
      ]
     },
     "metadata": {
      "needs_background": "light"
     },
     "output_type": "display_data"
    }
   ],
   "source": [
    "gene_cats_data = data['gene-score']\n",
    "gene_cat_counts = gene_cats_data.value_counts()\n",
    "gene_cat_vals = gene_cat_counts.index\n",
    "\n",
    "A, B = gene_cat_vals.size, gene_cat_counts.size\n",
    "assert(A == B)\n",
    "\n",
    "fig = plt.figure()\n",
    "plt.bar(gene_cat_vals, gene_cat_counts)\n",
    "plt.ylabel(\"# genes\")\n",
    "plt.xlabel(\"Gene score \")\n",
    "plt.xticks(gene_cat_vals)\n",
    "plt.title(\"A bar chart to show the number of SFARI\\ngenes in each gene-score category\")\n",
    "fig.savefig(f'{os.getcwd()}/results/task1-1.pdf', dpi=fig.dpi)"
   ]
  },
  {
   "cell_type": "code",
   "execution_count": 61,
   "id": "17126fc5",
   "metadata": {},
   "outputs": [
    {
     "data": {
      "text/plain": [
       "array([ 3.,  2.,  1., nan])"
      ]
     },
     "execution_count": 61,
     "metadata": {},
     "output_type": "execute_result"
    }
   ],
   "source": [
    "gene_cat_vals"
   ]
  },
  {
   "cell_type": "code",
   "execution_count": 287,
   "id": "dba059d4",
   "metadata": {},
   "outputs": [
    {
     "name": "stdout",
     "output_type": "stream",
     "text": [
      "['1', '2', '3', 'NaN']\n"
     ]
    },
    {
     "data": {
      "image/png": "[encoded data removed]",
      "text/plain": [
       "<Figure size 432x288 with 1 Axes>"
      ]
     },
     "metadata": {
      "needs_background": "light"
     },
     "output_type": "display_data"
    }
   ],
   "source": [
    "gene_cats_data = data.sort_values(\"gene-score\")['gene-score']\n",
    "gene_cat_vals = gene_cats_data.unique()\n",
    "gene_cat_counts = []\n",
    "for g in gene_cat_vals:\n",
    "    if np.isnan(g):\n",
    "        score_indexes = gene_cats_data[gene_cats_data.isnull()].index\n",
    "    else:\n",
    "        score_indexes = gene_cats_data[gene_cats_data == g].index\n",
    "    gene_cat_counts.append(score_indexes.size)\n",
    "    \n",
    "\n",
    "A, B = gene_cat_vals.size, len(gene_cat_counts)\n",
    "assert(A == B)\n",
    "\n",
    "ticks = np.arange(gene_cat_vals.size)\n",
    "tick_vals = [\"1\", \"2\", \"3\", \"NaN\"]#[str(int(val)) for val in gene_cat_vals]\n",
    "print(tick_vals)\n",
    "\n",
    "fig = plt.figure()\n",
    "plt.bar(ticks, gene_cat_counts)\n",
    "plt.ylabel(\"# genes\")\n",
    "plt.xlabel(\"Gene score \")\n",
    "plt.xticks(ticks, tick_vals)\n",
    "plt.title(\"A bar chart to show the number of SFARI\\ngenes in each gene-score category\")\n",
    "fig.savefig(f'{os.getcwd()}/results/task1-1-v2.pdf', dpi=fig.dpi)"
   ]
  },
  {
   "cell_type": "markdown",
   "id": "b6c97bff",
   "metadata": {},
   "source": [
    "# task 2"
   ]
  },
  {
   "cell_type": "code",
   "execution_count": 157,
   "id": "becd4ef7",
   "metadata": {},
   "outputs": [
    {
     "data": {
      "text/html": [
       "<div>\n",
       "<style scoped>\n",
       "    .dataframe tbody tr th:only-of-type {\n",
       "        vertical-align: middle;\n",
       "    }\n",
       "\n",
       "    .dataframe tbody tr th {\n",
       "        vertical-align: top;\n",
       "    }\n",
       "\n",
       "    .dataframe thead th {\n",
       "        text-align: right;\n",
       "    }\n",
       "</style>\n",
       "<table border=\"1\" class=\"dataframe\">\n",
       "  <thead>\n",
       "    <tr style=\"text-align: right;\">\n",
       "      <th></th>\n",
       "      <th>status</th>\n",
       "      <th>gene-symbol</th>\n",
       "      <th>gene-name</th>\n",
       "      <th>ensembl-id</th>\n",
       "      <th>chromosome</th>\n",
       "      <th>genetic-category</th>\n",
       "      <th>gene-score</th>\n",
       "      <th>syndromic</th>\n",
       "      <th>number-of-reports</th>\n",
       "    </tr>\n",
       "  </thead>\n",
       "  <tbody>\n",
       "    <tr>\n",
       "      <th>511</th>\n",
       "      <td>9</td>\n",
       "      <td>KNG1</td>\n",
       "      <td>kininogen 1</td>\n",
       "      <td>ENSG00000113889</td>\n",
       "      <td>3</td>\n",
       "      <td>Rare Single Gene Mutation</td>\n",
       "      <td>3.0</td>\n",
       "      <td>0</td>\n",
       "      <td>1</td>\n",
       "    </tr>\n",
       "    <tr>\n",
       "      <th>574</th>\n",
       "      <td>9</td>\n",
       "      <td>MNT</td>\n",
       "      <td>MAX network transcriptional repressor</td>\n",
       "      <td>ENSG00000070444</td>\n",
       "      <td>17</td>\n",
       "      <td>Genetic Association</td>\n",
       "      <td>3.0</td>\n",
       "      <td>0</td>\n",
       "      <td>1</td>\n",
       "    </tr>\n",
       "    <tr>\n",
       "      <th>923</th>\n",
       "      <td>9</td>\n",
       "      <td>TFB2M</td>\n",
       "      <td>transcription factor B2, mitochondrial</td>\n",
       "      <td>ENSG00000162851</td>\n",
       "      <td>1</td>\n",
       "      <td>Rare Single Gene Mutation</td>\n",
       "      <td>3.0</td>\n",
       "      <td>0</td>\n",
       "      <td>1</td>\n",
       "    </tr>\n",
       "    <tr>\n",
       "      <th>562</th>\n",
       "      <td>9</td>\n",
       "      <td>NEO1</td>\n",
       "      <td>Neogenin 1</td>\n",
       "      <td>ENSG00000067141</td>\n",
       "      <td>15</td>\n",
       "      <td>NaN</td>\n",
       "      <td>3.0</td>\n",
       "      <td>0</td>\n",
       "      <td>1</td>\n",
       "    </tr>\n",
       "    <tr>\n",
       "      <th>925</th>\n",
       "      <td>9</td>\n",
       "      <td>TMEM134</td>\n",
       "      <td>transmembrane protein 134</td>\n",
       "      <td>ENSG00000172663</td>\n",
       "      <td>11</td>\n",
       "      <td>Rare Single Gene Mutation</td>\n",
       "      <td>3.0</td>\n",
       "      <td>0</td>\n",
       "      <td>1</td>\n",
       "    </tr>\n",
       "    <tr>\n",
       "      <th>...</th>\n",
       "      <td>...</td>\n",
       "      <td>...</td>\n",
       "      <td>...</td>\n",
       "      <td>...</td>\n",
       "      <td>...</td>\n",
       "      <td>...</td>\n",
       "      <td>...</td>\n",
       "      <td>...</td>\n",
       "      <td>...</td>\n",
       "    </tr>\n",
       "    <tr>\n",
       "      <th>184</th>\n",
       "      <td>9</td>\n",
       "      <td>CNTNAP2</td>\n",
       "      <td>contactin associated protein-like 2</td>\n",
       "      <td>ENSG00000174469</td>\n",
       "      <td>7</td>\n",
       "      <td>Rare Single Gene Mutation, Syndromic, Genetic ...</td>\n",
       "      <td>2.0</td>\n",
       "      <td>1</td>\n",
       "      <td>71</td>\n",
       "    </tr>\n",
       "    <tr>\n",
       "      <th>789</th>\n",
       "      <td>9</td>\n",
       "      <td>SCN2A</td>\n",
       "      <td>sodium channel, voltage-gated, type II, alpha ...</td>\n",
       "      <td>ENSG00000136531</td>\n",
       "      <td>2</td>\n",
       "      <td>Rare Single Gene Mutation, Syndromic</td>\n",
       "      <td>1.0</td>\n",
       "      <td>0</td>\n",
       "      <td>75</td>\n",
       "    </tr>\n",
       "    <tr>\n",
       "      <th>510</th>\n",
       "      <td>9</td>\n",
       "      <td>MECP2</td>\n",
       "      <td>Methyl CpG binding protein 2</td>\n",
       "      <td>ENSG00000169057</td>\n",
       "      <td>X</td>\n",
       "      <td>Rare Single Gene Mutation, Syndromic, Functional</td>\n",
       "      <td>1.0</td>\n",
       "      <td>1</td>\n",
       "      <td>90</td>\n",
       "    </tr>\n",
       "    <tr>\n",
       "      <th>812</th>\n",
       "      <td>9</td>\n",
       "      <td>SHANK3</td>\n",
       "      <td>SH3 and multiple ankyrin repeat domains 3</td>\n",
       "      <td>ENSG00000251322</td>\n",
       "      <td>22</td>\n",
       "      <td>Rare Single Gene Mutation, Syndromic, Genetic ...</td>\n",
       "      <td>1.0</td>\n",
       "      <td>1</td>\n",
       "      <td>92</td>\n",
       "    </tr>\n",
       "    <tr>\n",
       "      <th>596</th>\n",
       "      <td>9</td>\n",
       "      <td>NRXN1</td>\n",
       "      <td>neurexin 1</td>\n",
       "      <td>ENSG00000179915</td>\n",
       "      <td>2</td>\n",
       "      <td>Rare Single Gene Mutation, Syndromic, Genetic ...</td>\n",
       "      <td>1.0</td>\n",
       "      <td>0</td>\n",
       "      <td>94</td>\n",
       "    </tr>\n",
       "  </tbody>\n",
       "</table>\n",
       "<p>1023 rows × 9 columns</p>\n",
       "</div>"
      ],
      "text/plain": [
       "     status gene-symbol                                          gene-name  \\\n",
       "511       9        KNG1                                        kininogen 1   \n",
       "574       9         MNT              MAX network transcriptional repressor   \n",
       "923       9       TFB2M             transcription factor B2, mitochondrial   \n",
       "562       9        NEO1                                         Neogenin 1   \n",
       "925       9     TMEM134                          transmembrane protein 134   \n",
       "..      ...         ...                                                ...   \n",
       "184       9     CNTNAP2                contactin associated protein-like 2   \n",
       "789       9       SCN2A  sodium channel, voltage-gated, type II, alpha ...   \n",
       "510       9       MECP2                       Methyl CpG binding protein 2   \n",
       "812       9      SHANK3          SH3 and multiple ankyrin repeat domains 3   \n",
       "596       9       NRXN1                                         neurexin 1   \n",
       "\n",
       "          ensembl-id chromosome  \\\n",
       "511  ENSG00000113889          3   \n",
       "574  ENSG00000070444         17   \n",
       "923  ENSG00000162851          1   \n",
       "562  ENSG00000067141         15   \n",
       "925  ENSG00000172663         11   \n",
       "..               ...        ...   \n",
       "184  ENSG00000174469          7   \n",
       "789  ENSG00000136531          2   \n",
       "510  ENSG00000169057          X   \n",
       "812  ENSG00000251322         22   \n",
       "596  ENSG00000179915          2   \n",
       "\n",
       "                                      genetic-category  gene-score  syndromic  \\\n",
       "511                          Rare Single Gene Mutation         3.0          0   \n",
       "574                                Genetic Association         3.0          0   \n",
       "923                          Rare Single Gene Mutation         3.0          0   \n",
       "562                                                NaN         3.0          0   \n",
       "925                          Rare Single Gene Mutation         3.0          0   \n",
       "..                                                 ...         ...        ...   \n",
       "184  Rare Single Gene Mutation, Syndromic, Genetic ...         2.0          1   \n",
       "789               Rare Single Gene Mutation, Syndromic         1.0          0   \n",
       "510   Rare Single Gene Mutation, Syndromic, Functional         1.0          1   \n",
       "812  Rare Single Gene Mutation, Syndromic, Genetic ...         1.0          1   \n",
       "596  Rare Single Gene Mutation, Syndromic, Genetic ...         1.0          0   \n",
       "\n",
       "     number-of-reports  \n",
       "511                  1  \n",
       "574                  1  \n",
       "923                  1  \n",
       "562                  1  \n",
       "925                  1  \n",
       "..                 ...  \n",
       "184                 71  \n",
       "789                 75  \n",
       "510                 90  \n",
       "812                 92  \n",
       "596                 94  \n",
       "\n",
       "[1023 rows x 9 columns]"
      ]
     },
     "metadata": {},
     "output_type": "display_data"
    }
   ],
   "source": [
    "ranked_data = data.sort_values(\"number-of-reports\")\n",
    "indexes = ranked_data.index[ranked_data['gene-score'] == 1].tolist()\n",
    "gene_scores = ranked_data['gene-score']\n",
    "num_reports = ranked_data[\"number-of-reports\"]\n",
    "\n",
    "display(ranked_data)"
   ]
  },
  {
   "cell_type": "code",
   "execution_count": 118,
   "id": "5ec21b71",
   "metadata": {},
   "outputs": [
    {
     "data": {
      "text/plain": [
       "status                                       9\n",
       "gene-symbol                     RP11-1407O15.2\n",
       "gene-name                                  NaN\n",
       "ensembl-id                                 NaN\n",
       "chromosome                                  17\n",
       "genetic-category     Rare Single Gene Mutation\n",
       "gene-score                                 3.0\n",
       "syndromic                                    0\n",
       "number-of-reports                            1\n",
       "Name: 771, dtype: object"
      ]
     },
     "execution_count": 118,
     "metadata": {},
     "output_type": "execute_result"
    }
   ],
   "source": [
    "gs = data[\"gene-symbol\"]\n",
    "data.iloc[gs[gs == \"RP11-1407O15.2\"].index[0]]"
   ]
  },
  {
   "cell_type": "code",
   "execution_count": 5,
   "id": "3a195338",
   "metadata": {},
   "outputs": [
    {
     "data": {
      "text/plain": [
       "[780, 789, 510, 812, 596]"
      ]
     },
     "execution_count": 5,
     "metadata": {},
     "output_type": "execute_result"
    }
   ],
   "source": [
    "indexes[-5:]"
   ]
  },
  {
   "cell_type": "code",
   "execution_count": 7,
   "id": "e43421dd",
   "metadata": {},
   "outputs": [
    {
     "name": "stdout",
     "output_type": "stream",
     "text": [
      "780\n",
      "68\n",
      "\n",
      "789\n",
      "75\n",
      "\n",
      "510\n",
      "90\n",
      "\n",
      "812\n",
      "92\n",
      "\n",
      "596\n",
      "94\n",
      "\n"
     ]
    }
   ],
   "source": [
    "for i in indexes[-5:]:\n",
    "    print(i)\n",
    "    print(data.iloc[i][\"number-of-reports\"])\n",
    "    print()"
   ]
  },
  {
   "cell_type": "markdown",
   "id": "2ebd42f5",
   "metadata": {},
   "source": [
    "# task 3"
   ]
  },
  {
   "cell_type": "code",
   "execution_count": null,
   "id": "f1e878e2",
   "metadata": {},
   "outputs": [],
   "source": [
    "# This task was completed manually"
   ]
  },
  {
   "cell_type": "markdown",
   "id": "a2ba3d4e",
   "metadata": {},
   "source": [
    "# task 4"
   ]
  },
  {
   "cell_type": "code",
   "execution_count": 229,
   "id": "79bdb1f5",
   "metadata": {},
   "outputs": [],
   "source": [
    "genes = [\"NRXN1\", \"SHANK3\", \"MECP2\", \"SCN2A\", \"SCN1A\"]\n",
    "files = [\"nrxn1\", \"shank3\", \"mecp2\", \"scn2a\", \"scn1a\"]"
   ]
  },
  {
   "cell_type": "code",
   "execution_count": null,
   "id": "8a5ac4db",
   "metadata": {},
   "outputs": [],
   "source": [
    "# Getting gene-names and ensemblIDs for the above genes^"
   ]
  },
  {
   "cell_type": "code",
   "execution_count": 285,
   "id": "417c5afd",
   "metadata": {},
   "outputs": [],
   "source": [
    "gs = data[\"gene-symbol\"]\n",
    "ensembls = []\n",
    "names = []\n",
    "\n",
    "for g in gene_symbols:\n",
    "    idx = gs[gs == g].index[0]\n",
    "    ensembls.append(data[\"ensembl-id\"].iloc[idx])\n",
    "    names.append(data[\"gene-name\"].iloc[idx])"
   ]
  },
  {
   "cell_type": "code",
   "execution_count": null,
   "id": "e58c55a2",
   "metadata": {},
   "outputs": [],
   "source": [
    "# load data manually from CSVs"
   ]
  },
  {
   "cell_type": "code",
   "execution_count": 83,
   "id": "e7877f9c",
   "metadata": {},
   "outputs": [],
   "source": [
    "years = np.concatenate(([1993], np.arange(1999,2022, 1)))\n",
    "year_data = np.zeros((5, years.size))\n",
    "\n",
    "\n",
    "for f in range(5):\n",
    "    file = files[f]\n",
    "    \n",
    "    gene_data = pd.read_csv(os.getcwd() + \"/data/task1-4/\" + file + \".csv\")\n",
    "    year_data_f = gene_data[\"Publication Year\"].value_counts().sort_index()\n",
    "    \n",
    "    for y in range(years.size):\n",
    "        year = years[y]\n",
    "        \n",
    "        if year in year_data_f.index:\n",
    "            year_data[f, y] = year_data_f[year]"
   ]
  },
  {
   "cell_type": "code",
   "execution_count": 84,
   "id": "bd2b3477",
   "metadata": {},
   "outputs": [],
   "source": [
    "year_data2 = []\n",
    "#citation_data = []\n",
    "#pmids = []\n",
    "\n",
    "for f in range(5):\n",
    "    file = files[f]\n",
    "    \n",
    "    gene_data = pd.read_csv(os.getcwd() + \"/data/task1-4/\" + file + \".csv\")\n",
    "    year_data2.append(gene_data[\"Publication Year\"].values.tolist())\n",
    "    #citation_data.append(gene_data[\"Citation\"].values.size)\n",
    "    #pmids.append(gene_data[\"PMID\"].values.tolist())"
   ]
  },
  {
   "cell_type": "code",
   "execution_count": 85,
   "id": "6fba1757",
   "metadata": {},
   "outputs": [
    {
     "data": {
      "text/plain": [
       "0     Epilepsia. 2019 Dec;60 Suppl 3:S17-S24. doi: 1...\n",
       "1     Neuron. 2020 May 6;106(3):421-437.e11. doi: 10...\n",
       "2     Nature. 2012 Apr 4;485(7397):246-50. doi: 10.1...\n",
       "3     Nature. 2012 Sep 20;489(7416):385-90. doi: 10....\n",
       "4     Nat Genet. 2011 Jun;43(6):585-9. doi: 10.1038/...\n",
       "                            ...                        \n",
       "63    Pract Neurol. 2017 Aug;17(4):314-317. doi: 10....\n",
       "64    J Pediatr Neurosci. 2012 May;7(2):123-5. doi: ...\n",
       "65    J Neurosci. 2004 Mar 17;24(11):2690-8. doi: 10...\n",
       "66    Gene. 2013 Dec 15;532(2):294-6. doi: 10.1016/j...\n",
       "67    J Child Neurol. 2004 Aug;19(8):597-603. doi: 1...\n",
       "Name: Citation, Length: 68, dtype: object"
      ]
     },
     "execution_count": 85,
     "metadata": {},
     "output_type": "execute_result"
    }
   ],
   "source": [
    "gene_data[\"Citation\"]"
   ]
  },
  {
   "cell_type": "code",
   "execution_count": null,
   "id": "4647b7f5",
   "metadata": {},
   "outputs": [],
   "source": [
    "# load data dynamically from NCBI"
   ]
  },
  {
   "cell_type": "code",
   "execution_count": 165,
   "id": "6a9dc372",
   "metadata": {},
   "outputs": [
    {
     "name": "stderr",
     "output_type": "stream",
     "text": [
      "100%|██████████████████████████████████| 1023/1023 [00:00<00:00, 5138650.29it/s]\n"
     ]
    }
   ],
   "source": [
    "for i in tqdm(gene_symbols):\n",
    "    i"
   ]
  },
  {
   "cell_type": "code",
   "execution_count": null,
   "id": "6450fee2",
   "metadata": {},
   "outputs": [
    {
     "name": "stderr",
     "output_type": "stream",
     "text": [
      "\r",
      "0it [00:00, ?it/s]"
     ]
    },
    {
     "name": "stdout",
     "output_type": "stream",
     "text": [
      "0\n"
     ]
    },
    {
     "name": "stderr",
     "output_type": "stream",
     "text": [
      "\n",
      "  0%|                                                     | 0/4 [00:00<?, ?it/s]\u001b[A\n",
      " 25%|███████████▎                                 | 1/4 [00:00<00:01,  1.61it/s]\u001b[A\n",
      " 50%|██████████████████████▌                      | 2/4 [00:01<00:01,  1.80it/s]\u001b[A\n",
      " 75%|█████████████████████████████████▊           | 3/4 [00:01<00:00,  1.79it/s]\u001b[A\n",
      "100%|█████████████████████████████████████████████| 4/4 [00:02<00:00,  1.83it/s]\u001b[A\n",
      "1it [00:02,  2.81s/it]"
     ]
    },
    {
     "name": "stdout",
     "output_type": "stream",
     "text": [
      "1\n"
     ]
    },
    {
     "name": "stderr",
     "output_type": "stream",
     "text": [
      "\n",
      "0it [00:00, ?it/s]\u001b[A\n",
      "2it [00:03,  1.54s/it]"
     ]
    },
    {
     "name": "stdout",
     "output_type": "stream",
     "text": [
      "2\n"
     ]
    },
    {
     "name": "stderr",
     "output_type": "stream",
     "text": [
      "\n",
      "  0%|                                                     | 0/4 [00:00<?, ?it/s]\u001b[A\n",
      " 25%|███████████▎                                 | 1/4 [00:00<00:01,  1.59it/s]\u001b[A\n",
      " 50%|██████████████████████▌                      | 2/4 [00:01<00:01,  1.54it/s]\u001b[A\n",
      " 75%|█████████████████████████████████▊           | 3/4 [00:01<00:00,  1.65it/s]\u001b[A\n",
      "100%|█████████████████████████████████████████████| 4/4 [00:02<00:00,  1.70it/s]\u001b[A\n",
      "3it [00:06,  2.22s/it]"
     ]
    },
    {
     "name": "stdout",
     "output_type": "stream",
     "text": [
      "3\n"
     ]
    },
    {
     "name": "stderr",
     "output_type": "stream",
     "text": [
      "\n",
      "0it [00:00, ?it/s]\u001b[A\n",
      "4it [00:07,  1.60s/it]"
     ]
    },
    {
     "name": "stdout",
     "output_type": "stream",
     "text": [
      "4\n"
     ]
    },
    {
     "name": "stderr",
     "output_type": "stream",
     "text": [
      "\n",
      "  0%|                                                    | 0/24 [00:00<?, ?it/s]\u001b[A\n",
      "  4%|█▊                                          | 1/24 [00:00<00:15,  1.50it/s]\u001b[A\n",
      "  8%|███▋                                        | 2/24 [00:01<00:13,  1.66it/s]\u001b[A\n",
      " 12%|█████▌                                      | 3/24 [00:01<00:12,  1.68it/s]\u001b[A\n",
      " 17%|███████▎                                    | 4/24 [00:02<00:11,  1.69it/s]\u001b[A\n",
      " 21%|█████████▏                                  | 5/24 [00:03<00:11,  1.63it/s]\u001b[A\n",
      " 25%|███████████                                 | 6/24 [00:03<00:10,  1.67it/s]\u001b[A\n",
      " 29%|████████████▊                               | 7/24 [00:04<00:09,  1.73it/s]\u001b[A\n",
      " 33%|██████████████▋                             | 8/24 [00:04<00:09,  1.75it/s]\u001b[A\n",
      " 38%|████████████████▌                           | 9/24 [00:05<00:08,  1.74it/s]\u001b[A\n",
      " 42%|█████████████████▉                         | 10/24 [00:05<00:07,  1.76it/s]\u001b[A\n",
      " 46%|███████████████████▋                       | 11/24 [00:06<00:07,  1.81it/s]\u001b[A\n",
      " 50%|█████████████████████▌                     | 12/24 [00:06<00:06,  1.77it/s]\u001b[A\n",
      " 54%|███████████████████████▎                   | 13/24 [00:07<00:06,  1.81it/s]\u001b[A\n",
      " 58%|█████████████████████████                  | 14/24 [00:07<00:05,  1.85it/s]\u001b[A\n",
      " 62%|██████████████████████████▉                | 15/24 [00:08<00:04,  1.88it/s]\u001b[A\n",
      " 67%|████████████████████████████▋              | 16/24 [00:09<00:04,  1.92it/s]\u001b[A\n",
      " 71%|██████████████████████████████▍            | 17/24 [00:09<00:03,  1.84it/s]\u001b[A\n",
      " 75%|████████████████████████████████▎          | 18/24 [00:10<00:03,  1.89it/s]\u001b[A\n",
      " 79%|██████████████████████████████████         | 19/24 [00:10<00:02,  1.85it/s]\u001b[A\n",
      " 83%|███████████████████████████████████▊       | 20/24 [00:11<00:02,  1.89it/s]\u001b[A\n",
      " 88%|█████████████████████████████████████▋     | 21/24 [00:11<00:01,  1.87it/s]\u001b[A\n",
      " 92%|███████████████████████████████████████▍   | 22/24 [00:12<00:01,  1.92it/s]\u001b[A\n",
      " 96%|█████████████████████████████████████████▏ | 23/24 [00:12<00:00,  1.95it/s]\u001b[A\n",
      "100%|███████████████████████████████████████████| 24/24 [00:13<00:00,  1.81it/s]\u001b[A\n",
      "5it [00:21,  6.03s/it]"
     ]
    },
    {
     "name": "stdout",
     "output_type": "stream",
     "text": [
      "5\n"
     ]
    },
    {
     "name": "stderr",
     "output_type": "stream",
     "text": [
      "\n",
      "0it [00:00, ?it/s]\u001b[A\n",
      "6it [00:21,  4.26s/it]"
     ]
    },
    {
     "name": "stdout",
     "output_type": "stream",
     "text": [
      "6\n"
     ]
    },
    {
     "name": "stderr",
     "output_type": "stream",
     "text": [
      "\n",
      "  0%|                                                     | 0/2 [00:00<?, ?it/s]\u001b[A\n",
      " 50%|██████████████████████▌                      | 1/2 [00:00<00:00,  1.48it/s]\u001b[A\n",
      "100%|█████████████████████████████████████████████| 2/2 [00:01<00:00,  1.63it/s]\u001b[A\n",
      "7it [00:23,  3.50s/it]"
     ]
    },
    {
     "name": "stdout",
     "output_type": "stream",
     "text": [
      "7\n"
     ]
    },
    {
     "name": "stderr",
     "output_type": "stream",
     "text": [
      "\n",
      "  0%|                                                     | 0/5 [00:00<?, ?it/s]\u001b[A\n",
      " 20%|█████████                                    | 1/5 [00:00<00:02,  1.55it/s]\u001b[A\n",
      " 40%|██████████████████                           | 2/5 [00:01<00:02,  1.42it/s]\u001b[A\n",
      " 60%|███████████████████████████                  | 3/5 [00:02<00:01,  1.49it/s]\u001b[A\n",
      " 80%|████████████████████████████████████         | 4/5 [00:02<00:00,  1.59it/s]\u001b[A\n",
      "100%|█████████████████████████████████████████████| 5/5 [00:03<00:00,  1.59it/s]\u001b[A\n",
      "8it [00:27,  3.59s/it]"
     ]
    },
    {
     "name": "stdout",
     "output_type": "stream",
     "text": [
      "8\n"
     ]
    },
    {
     "name": "stderr",
     "output_type": "stream",
     "text": [
      "\n",
      "  0%|                                                     | 0/1 [00:00<?, ?it/s]\u001b[A\n",
      "100%|█████████████████████████████████████████████| 1/1 [00:00<00:00,  1.82it/s]\u001b[A\n",
      "9it [00:28,  2.83s/it]"
     ]
    },
    {
     "name": "stdout",
     "output_type": "stream",
     "text": [
      "9\n"
     ]
    },
    {
     "name": "stderr",
     "output_type": "stream",
     "text": [
      "\n",
      "  0%|                                                     | 0/1 [00:00<?, ?it/s]\u001b[A\n",
      "100%|█████████████████████████████████████████████| 1/1 [00:00<00:00,  1.90it/s]\u001b[A\n",
      "10it [00:29,  2.31s/it]"
     ]
    },
    {
     "name": "stdout",
     "output_type": "stream",
     "text": [
      "10\n"
     ]
    },
    {
     "name": "stderr",
     "output_type": "stream",
     "text": [
      "\n",
      "  0%|                                                    | 0/13 [00:00<?, ?it/s]\u001b[A\n",
      "  8%|███▍                                        | 1/13 [00:00<00:07,  1.57it/s]\u001b[A\n",
      " 15%|██████▊                                     | 2/13 [00:01<00:06,  1.59it/s]\u001b[A\n",
      " 23%|██████████▏                                 | 3/13 [00:01<00:05,  1.73it/s]\u001b[A\n",
      " 31%|█████████████▌                              | 4/13 [00:02<00:05,  1.71it/s]\u001b[A\n",
      " 38%|████████████████▉                           | 5/13 [00:02<00:04,  1.67it/s]\u001b[A\n",
      " 46%|████████████████████▎                       | 6/13 [00:03<00:04,  1.70it/s]\u001b[A\n",
      " 54%|███████████████████████▋                    | 7/13 [00:04<00:03,  1.71it/s]\u001b[A\n",
      " 62%|███████████████████████████                 | 8/13 [00:04<00:02,  1.71it/s]\u001b[A\n",
      " 69%|██████████████████████████████▍             | 9/13 [00:05<00:02,  1.75it/s]\u001b[A\n",
      " 77%|█████████████████████████████████          | 10/13 [00:05<00:01,  1.80it/s]\u001b[A\n",
      " 85%|████████████████████████████████████▍      | 11/13 [00:06<00:01,  1.77it/s]\u001b[A\n",
      " 92%|███████████████████████████████████████▋   | 12/13 [00:06<00:00,  1.84it/s]\u001b[A\n",
      "100%|███████████████████████████████████████████| 13/13 [00:07<00:00,  1.75it/s]\u001b[A\n",
      "11it [00:37,  4.08s/it]"
     ]
    },
    {
     "name": "stdout",
     "output_type": "stream",
     "text": [
      "11\n"
     ]
    },
    {
     "name": "stderr",
     "output_type": "stream",
     "text": [
      "\n",
      "  0%|                                                     | 0/1 [00:00<?, ?it/s]\u001b[A\n",
      "100%|█████████████████████████████████████████████| 1/1 [00:00<00:00,  1.72it/s]\u001b[A\n",
      "12it [00:39,  3.24s/it]"
     ]
    },
    {
     "name": "stdout",
     "output_type": "stream",
     "text": [
      "12\n"
     ]
    },
    {
     "name": "stderr",
     "output_type": "stream",
     "text": [
      "\n",
      "  0%|                                                     | 0/1 [00:00<?, ?it/s]\u001b[A\n",
      "100%|█████████████████████████████████████████████| 1/1 [00:00<00:00,  1.49it/s]\u001b[A\n",
      "13it [00:40,  2.72s/it]"
     ]
    },
    {
     "name": "stdout",
     "output_type": "stream",
     "text": [
      "13\n"
     ]
    },
    {
     "name": "stderr",
     "output_type": "stream",
     "text": [
      "\n",
      "0it [00:00, ?it/s]\u001b[A\n",
      "14it [00:41,  2.08s/it]"
     ]
    },
    {
     "name": "stdout",
     "output_type": "stream",
     "text": [
      "14\n"
     ]
    },
    {
     "name": "stderr",
     "output_type": "stream",
     "text": [
      "\n",
      "  0%|                                                    | 0/42 [00:00<?, ?it/s]\u001b[A\n",
      "  2%|█                                           | 1/42 [00:00<00:21,  1.89it/s]\u001b[A\n",
      "  5%|██                                          | 2/42 [00:01<00:22,  1.75it/s]\u001b[A\n",
      "  7%|███▏                                        | 3/42 [00:01<00:22,  1.73it/s]\u001b[A\n",
      " 10%|████▏                                       | 4/42 [00:02<00:22,  1.69it/s]\u001b[A\n",
      " 12%|█████▏                                      | 5/42 [00:02<00:22,  1.63it/s]\u001b[A\n",
      " 14%|██████▎                                     | 6/42 [00:03<00:22,  1.62it/s]\u001b[A\n",
      " 17%|███████▎                                    | 7/42 [00:04<00:22,  1.58it/s]\u001b[A\n",
      " 19%|████████▍                                   | 8/42 [00:04<00:20,  1.65it/s]\u001b[A\n",
      " 21%|█████████▍                                  | 9/42 [00:05<00:19,  1.69it/s]\u001b[A\n",
      " 24%|██████████▏                                | 10/42 [00:05<00:18,  1.74it/s]\u001b[A\n",
      " 26%|███████████▎                               | 11/42 [00:06<00:17,  1.72it/s]\u001b[A\n",
      " 29%|████████████▎                              | 12/42 [00:07<00:18,  1.64it/s]\u001b[A\n",
      " 31%|█████████████▎                             | 13/42 [00:07<00:17,  1.61it/s]\u001b[A\n",
      " 33%|██████████████▎                            | 14/42 [00:08<00:17,  1.63it/s]\u001b[A\n",
      " 36%|███████████████▎                           | 15/42 [00:08<00:16,  1.67it/s]\u001b[A\n",
      " 38%|████████████████▍                          | 16/42 [00:09<00:15,  1.72it/s]\u001b[A\n",
      " 40%|█████████████████▍                         | 17/42 [00:10<00:14,  1.73it/s]\u001b[A\n",
      " 43%|██████████████████▍                        | 18/42 [00:10<00:14,  1.68it/s]\u001b[A\n",
      " 45%|███████████████████▍                       | 19/42 [00:11<00:13,  1.74it/s]\u001b[A\n",
      " 48%|████████████████████▍                      | 20/42 [00:11<00:12,  1.79it/s]\u001b[A\n",
      " 50%|█████████████████████▌                     | 21/42 [00:12<00:11,  1.79it/s]\u001b[A\n",
      " 52%|██████████████████████▌                    | 22/42 [00:12<00:10,  1.85it/s]\u001b[A\n",
      " 55%|███████████████████████▌                   | 23/42 [00:13<00:10,  1.83it/s]\u001b[A\n",
      " 57%|████████████████████████▌                  | 24/42 [00:14<00:10,  1.73it/s]\u001b[A\n",
      " 60%|█████████████████████████▌                 | 25/42 [00:14<00:09,  1.76it/s]\u001b[A\n",
      " 62%|██████████████████████████▌                | 26/42 [00:15<00:08,  1.83it/s]\u001b[A\n",
      " 64%|███████████████████████████▋               | 27/42 [00:15<00:08,  1.84it/s]\u001b[A\n",
      " 67%|████████████████████████████▋              | 28/42 [00:16<00:07,  1.77it/s]\u001b[A\n",
      " 69%|█████████████████████████████▋             | 29/42 [00:16<00:07,  1.69it/s]\u001b[A\n",
      " 71%|██████████████████████████████▋            | 30/42 [00:17<00:06,  1.73it/s]\u001b[A\n",
      " 74%|███████████████████████████████▋           | 31/42 [00:18<00:06,  1.75it/s]\u001b[A\n",
      " 76%|████████████████████████████████▊          | 32/42 [00:18<00:05,  1.76it/s]\u001b[A\n",
      " 79%|█████████████████████████████████▊         | 33/42 [00:19<00:05,  1.71it/s]\u001b[A\n",
      " 81%|██████████████████████████████████▊        | 34/42 [00:19<00:04,  1.76it/s]\u001b[A\n",
      " 83%|███████████████████████████████████▊       | 35/42 [00:20<00:03,  1.75it/s]\u001b[A\n",
      " 86%|████████████████████████████████████▊      | 36/42 [00:20<00:03,  1.75it/s]\u001b[A\n",
      " 88%|█████████████████████████████████████▉     | 37/42 [00:21<00:02,  1.76it/s]\u001b[A\n",
      " 90%|██████████████████████████████████████▉    | 38/42 [00:22<00:02,  1.71it/s]\u001b[A\n",
      " 93%|███████████████████████████████████████▉   | 39/42 [00:22<00:01,  1.76it/s]\u001b[A\n",
      " 95%|████████████████████████████████████████▉  | 40/42 [00:23<00:01,  1.73it/s]\u001b[A\n",
      " 98%|█████████████████████████████████████████▉ | 41/42 [00:23<00:00,  1.76it/s]\u001b[A\n",
      "100%|███████████████████████████████████████████| 42/42 [00:24<00:00,  1.73it/s]\u001b[A\n",
      "15it [01:06,  8.97s/it]"
     ]
    },
    {
     "name": "stdout",
     "output_type": "stream",
     "text": [
      "15\n"
     ]
    },
    {
     "name": "stderr",
     "output_type": "stream",
     "text": [
      "\n",
      "  0%|                                                     | 0/2 [00:00<?, ?it/s]\u001b[A\n",
      " 50%|██████████████████████▌                      | 1/2 [00:00<00:00,  1.72it/s]\u001b[A\n",
      "100%|█████████████████████████████████████████████| 2/2 [00:01<00:00,  1.73it/s]\u001b[A\n",
      "16it [01:08,  6.81s/it]"
     ]
    },
    {
     "name": "stdout",
     "output_type": "stream",
     "text": [
      "16\n"
     ]
    },
    {
     "name": "stderr",
     "output_type": "stream",
     "text": [
      "\n",
      "  0%|                                                    | 0/47 [00:00<?, ?it/s]\u001b[A\n",
      "  2%|▉                                           | 1/47 [00:00<00:25,  1.82it/s]\u001b[A\n",
      "  4%|█▊                                          | 2/47 [00:01<00:30,  1.49it/s]\u001b[A\n",
      "  6%|██▊                                         | 3/47 [00:01<00:27,  1.59it/s]\u001b[A\n",
      "  9%|███▋                                        | 4/47 [00:02<00:28,  1.51it/s]\u001b[A\n",
      " 11%|████▋                                       | 5/47 [00:03<00:26,  1.57it/s]\u001b[A\n",
      " 13%|█████▌                                      | 6/47 [00:03<00:25,  1.58it/s]\u001b[A\n",
      " 15%|██████▌                                     | 7/47 [00:04<00:24,  1.66it/s]\u001b[A\n",
      " 17%|███████▍                                    | 8/47 [00:04<00:22,  1.73it/s]\u001b[A\n",
      " 19%|████████▍                                   | 9/47 [00:05<00:21,  1.74it/s]\u001b[A\n",
      " 21%|█████████▏                                 | 10/47 [00:06<00:21,  1.76it/s]\u001b[A\n",
      " 23%|██████████                                 | 11/47 [00:06<00:20,  1.73it/s]\u001b[A\n",
      " 26%|██████████▉                                | 12/47 [00:07<00:20,  1.75it/s]\u001b[A\n",
      " 28%|███████████▉                               | 13/47 [00:07<00:19,  1.78it/s]\u001b[A\n",
      " 30%|████████████▊                              | 14/47 [00:08<00:18,  1.83it/s]\u001b[A\n",
      " 32%|█████████████▋                             | 15/47 [00:08<00:17,  1.85it/s]\u001b[A\n",
      " 34%|██████████████▋                            | 16/47 [00:09<00:16,  1.89it/s]\u001b[A\n",
      " 36%|███████████████▌                           | 17/47 [00:09<00:16,  1.82it/s]\u001b[A\n",
      " 38%|████████████████▍                          | 18/47 [00:10<00:15,  1.82it/s]\u001b[A\n",
      " 40%|█████████████████▍                         | 19/47 [00:10<00:15,  1.85it/s]\u001b[A\n",
      " 43%|██████████████████▎                        | 20/47 [00:11<00:14,  1.86it/s]\u001b[A\n",
      " 45%|███████████████████▏                       | 21/47 [00:11<00:13,  1.87it/s]\u001b[A\n",
      " 47%|████████████████████▏                      | 22/47 [00:12<00:13,  1.84it/s]\u001b[A\n",
      " 49%|█████████████████████                      | 23/47 [00:13<00:14,  1.63it/s]\u001b[A\n",
      " 51%|█████████████████████▉                     | 24/47 [00:13<00:13,  1.68it/s]\u001b[A\n",
      " 53%|██████████████████████▊                    | 25/47 [00:14<00:13,  1.66it/s]\u001b[A\n",
      " 55%|███████████████████████▊                   | 26/47 [00:15<00:12,  1.64it/s]\u001b[A\n",
      " 57%|████████████████████████▋                  | 27/47 [00:15<00:13,  1.50it/s]\u001b[A\n",
      " 60%|█████████████████████████▌                 | 28/47 [00:16<00:12,  1.57it/s]\u001b[A\n",
      " 62%|██████████████████████████▌                | 29/47 [00:17<00:11,  1.61it/s]\u001b[A\n",
      " 64%|███████████████████████████▍               | 30/47 [00:17<00:10,  1.59it/s]\u001b[A\n",
      " 66%|████████████████████████████▎              | 31/47 [00:18<00:09,  1.61it/s]\u001b[A\n",
      " 68%|█████████████████████████████▎             | 32/47 [00:18<00:09,  1.65it/s]\u001b[A\n",
      " 70%|██████████████████████████████▏            | 33/47 [00:19<00:08,  1.72it/s]\u001b[A\n",
      " 72%|███████████████████████████████            | 34/47 [00:19<00:07,  1.74it/s]\u001b[A\n",
      " 74%|████████████████████████████████           | 35/47 [00:20<00:06,  1.80it/s]\u001b[A\n",
      " 77%|████████████████████████████████▉          | 36/47 [00:20<00:05,  1.84it/s]\u001b[A\n",
      " 79%|█████████████████████████████████▊         | 37/47 [00:21<00:05,  1.86it/s]\u001b[A\n",
      " 81%|██████████████████████████████████▊        | 38/47 [00:22<00:04,  1.88it/s]\u001b[A\n",
      " 83%|███████████████████████████████████▋       | 39/47 [00:22<00:04,  1.83it/s]\u001b[A\n",
      " 85%|████████████████████████████████████▌      | 40/47 [00:23<00:04,  1.73it/s]\u001b[A\n",
      " 87%|█████████████████████████████████████▌     | 41/47 [00:23<00:03,  1.64it/s]\u001b[A\n",
      " 89%|██████████████████████████████████████▍    | 42/47 [00:24<00:03,  1.63it/s]\u001b[A\n",
      " 91%|███████████████████████████████████████▎   | 43/47 [00:25<00:02,  1.59it/s]\u001b[A\n",
      " 94%|████████████████████████████████████████▎  | 44/47 [00:25<00:01,  1.63it/s]\u001b[A\n",
      " 96%|█████████████████████████████████████████▏ | 45/47 [00:26<00:01,  1.69it/s]\u001b[A\n",
      " 98%|██████████████████████████████████████████ | 46/47 [00:26<00:00,  1.75it/s]\u001b[A\n",
      "100%|███████████████████████████████████████████| 47/47 [00:27<00:00,  1.72it/s]\u001b[A\n",
      "17it [01:36, 13.21s/it]"
     ]
    },
    {
     "name": "stdout",
     "output_type": "stream",
     "text": [
      "17\n"
     ]
    },
    {
     "name": "stderr",
     "output_type": "stream",
     "text": [
      "\n",
      "  0%|                                                     | 0/9 [00:00<?, ?it/s]\u001b[A\n",
      " 11%|█████                                        | 1/9 [00:00<00:03,  2.03it/s]\u001b[A\n",
      " 22%|██████████                                   | 2/9 [00:01<00:03,  1.92it/s]\u001b[A\n",
      " 33%|███████████████                              | 3/9 [00:01<00:03,  1.87it/s]\u001b[A\n",
      " 44%|████████████████████                         | 4/9 [00:02<00:02,  1.90it/s]\u001b[A\n",
      " 56%|█████████████████████████                    | 5/9 [00:02<00:02,  1.81it/s]\u001b[A\n",
      " 67%|██████████████████████████████               | 6/9 [00:03<00:01,  1.70it/s]\u001b[A\n",
      " 78%|███████████████████████████████████          | 7/9 [00:03<00:01,  1.76it/s]\u001b[A\n",
      " 89%|████████████████████████████████████████     | 8/9 [00:04<00:00,  1.77it/s]\u001b[A\n",
      "100%|█████████████████████████████████████████████| 9/9 [00:05<00:00,  1.76it/s]\u001b[A\n",
      "18it [01:42, 10.98s/it]"
     ]
    },
    {
     "name": "stdout",
     "output_type": "stream",
     "text": [
      "18\n"
     ]
    },
    {
     "name": "stderr",
     "output_type": "stream",
     "text": [
      "\n",
      "  0%|                                                     | 0/3 [00:00<?, ?it/s]\u001b[A\n",
      " 33%|███████████████                              | 1/3 [00:00<00:01,  1.73it/s]\u001b[A\n",
      " 67%|██████████████████████████████               | 2/3 [00:01<00:00,  1.79it/s]\u001b[A\n",
      "100%|█████████████████████████████████████████████| 3/3 [00:01<00:00,  1.73it/s]\u001b[A\n",
      "19it [01:44,  8.43s/it]"
     ]
    },
    {
     "name": "stdout",
     "output_type": "stream",
     "text": [
      "19\n"
     ]
    },
    {
     "name": "stderr",
     "output_type": "stream",
     "text": [
      "\n",
      "0it [00:00, ?it/s]\u001b[A\n",
      "20it [01:45,  6.10s/it]"
     ]
    },
    {
     "name": "stdout",
     "output_type": "stream",
     "text": [
      "20\n"
     ]
    },
    {
     "name": "stderr",
     "output_type": "stream",
     "text": [
      "\n",
      "0it [00:00, ?it/s]\u001b[A\n",
      "21it [01:45,  4.46s/it]"
     ]
    },
    {
     "name": "stdout",
     "output_type": "stream",
     "text": [
      "21\n"
     ]
    },
    {
     "name": "stderr",
     "output_type": "stream",
     "text": [
      "\n",
      "0it [00:00, ?it/s]\u001b[A\n",
      "22it [01:46,  3.29s/it]"
     ]
    },
    {
     "name": "stdout",
     "output_type": "stream",
     "text": [
      "22\n"
     ]
    },
    {
     "name": "stderr",
     "output_type": "stream",
     "text": [
      "\n",
      "  0%|                                                     | 0/1 [00:00<?, ?it/s]\u001b[A\n",
      "100%|█████████████████████████████████████████████| 1/1 [00:00<00:00,  1.99it/s]\u001b[A\n",
      "23it [01:47,  2.63s/it]"
     ]
    },
    {
     "name": "stdout",
     "output_type": "stream",
     "text": [
      "23\n"
     ]
    },
    {
     "name": "stderr",
     "output_type": "stream",
     "text": [
      "\n",
      "  0%|                                                     | 0/3 [00:00<?, ?it/s]\u001b[A\n",
      " 33%|███████████████                              | 1/3 [00:00<00:01,  1.98it/s]\u001b[A\n",
      " 67%|██████████████████████████████               | 2/3 [00:01<00:00,  1.81it/s]\u001b[A\n",
      "100%|█████████████████████████████████████████████| 3/3 [00:01<00:00,  1.81it/s]\u001b[A\n",
      "24it [01:49,  2.54s/it]"
     ]
    },
    {
     "name": "stdout",
     "output_type": "stream",
     "text": [
      "24\n"
     ]
    },
    {
     "name": "stderr",
     "output_type": "stream",
     "text": [
      "\n",
      "0it [00:00, ?it/s]\u001b[A\n",
      "25it [01:50,  1.96s/it]"
     ]
    },
    {
     "name": "stdout",
     "output_type": "stream",
     "text": [
      "25\n"
     ]
    },
    {
     "name": "stderr",
     "output_type": "stream",
     "text": [
      "\n",
      "0it [00:00, ?it/s]\u001b[A\n",
      "26it [01:51,  1.59s/it]"
     ]
    },
    {
     "name": "stdout",
     "output_type": "stream",
     "text": [
      "26\n"
     ]
    },
    {
     "name": "stderr",
     "output_type": "stream",
     "text": [
      "\n",
      "  0%|                                                     | 0/2 [00:00<?, ?it/s]\u001b[A\n",
      " 50%|██████████████████████▌                      | 1/2 [00:00<00:00,  1.60it/s]\u001b[A\n",
      "100%|█████████████████████████████████████████████| 2/2 [00:01<00:00,  1.66it/s]\u001b[A\n",
      "27it [01:52,  1.67s/it]"
     ]
    },
    {
     "name": "stdout",
     "output_type": "stream",
     "text": [
      "27\n"
     ]
    },
    {
     "name": "stderr",
     "output_type": "stream",
     "text": [
      "\n",
      "  0%|                                                     | 0/2 [00:00<?, ?it/s]\u001b[A\n",
      " 50%|██████████████████████▌                      | 1/2 [00:00<00:00,  1.79it/s]\u001b[A\n",
      "100%|█████████████████████████████████████████████| 2/2 [00:01<00:00,  1.68it/s]\u001b[A\n",
      "28it [01:54,  1.73s/it]"
     ]
    },
    {
     "name": "stdout",
     "output_type": "stream",
     "text": [
      "28\n"
     ]
    },
    {
     "name": "stderr",
     "output_type": "stream",
     "text": [
      "\n",
      "  0%|                                                     | 0/4 [00:00<?, ?it/s]\u001b[A\n",
      " 25%|███████████▎                                 | 1/4 [00:00<00:01,  1.53it/s]\u001b[A\n",
      " 50%|██████████████████████▌                      | 2/4 [00:01<00:01,  1.69it/s]\u001b[A\n",
      " 75%|█████████████████████████████████▊           | 3/4 [00:01<00:00,  1.79it/s]\u001b[A\n",
      "100%|█████████████████████████████████████████████| 4/4 [00:02<00:00,  1.74it/s]\u001b[A\n",
      "29it [01:57,  2.09s/it]"
     ]
    },
    {
     "name": "stdout",
     "output_type": "stream",
     "text": [
      "29\n"
     ]
    },
    {
     "name": "stderr",
     "output_type": "stream",
     "text": [
      "\n",
      "0it [00:00, ?it/s]\u001b[A\n",
      "30it [01:58,  1.66s/it]"
     ]
    },
    {
     "name": "stdout",
     "output_type": "stream",
     "text": [
      "30\n"
     ]
    },
    {
     "name": "stderr",
     "output_type": "stream",
     "text": [
      "\n",
      "  0%|                                                     | 0/3 [00:00<?, ?it/s]\u001b[A\n",
      " 33%|███████████████                              | 1/3 [00:00<00:01,  1.91it/s]\u001b[A\n",
      " 67%|██████████████████████████████               | 2/3 [00:01<00:00,  1.77it/s]\u001b[A\n",
      "100%|█████████████████████████████████████████████| 3/3 [00:01<00:00,  1.82it/s]\u001b[A\n",
      "31it [02:00,  1.86s/it]"
     ]
    },
    {
     "name": "stdout",
     "output_type": "stream",
     "text": [
      "31\n"
     ]
    },
    {
     "name": "stderr",
     "output_type": "stream",
     "text": [
      "\n",
      "0it [00:00, ?it/s]\u001b[A\n",
      "32it [02:01,  1.51s/it]"
     ]
    },
    {
     "name": "stdout",
     "output_type": "stream",
     "text": [
      "32\n"
     ]
    },
    {
     "name": "stderr",
     "output_type": "stream",
     "text": [
      "\n",
      "  0%|                                                     | 0/2 [00:00<?, ?it/s]\u001b[A\n",
      " 50%|██████████████████████▌                      | 1/2 [00:00<00:00,  1.69it/s]\u001b[A\n",
      "100%|█████████████████████████████████████████████| 2/2 [00:01<00:00,  1.76it/s]\u001b[A\n",
      "33it [02:03,  1.61s/it]"
     ]
    },
    {
     "name": "stdout",
     "output_type": "stream",
     "text": [
      "33\n"
     ]
    },
    {
     "name": "stderr",
     "output_type": "stream",
     "text": [
      "\n",
      "  0%|                                                     | 0/7 [00:00<?, ?it/s]\u001b[A\n",
      " 14%|██████▍                                      | 1/7 [00:00<00:03,  1.87it/s]\u001b[A\n",
      " 29%|████████████▊                                | 2/7 [00:01<00:02,  1.78it/s]\u001b[A\n",
      " 43%|███████████████████▎                         | 3/7 [00:01<00:02,  1.67it/s]\u001b[A\n",
      " 57%|█████████████████████████▋                   | 4/7 [00:02<00:01,  1.60it/s]\u001b[A\n",
      " 71%|████████████████████████████████▏            | 5/7 [00:02<00:01,  1.67it/s]\u001b[A\n",
      " 86%|██████████████████████████████████████▌      | 6/7 [00:03<00:00,  1.74it/s]\u001b[A\n",
      "100%|█████████████████████████████████████████████| 7/7 [00:04<00:00,  1.71it/s]\u001b[A\n",
      "34it [02:08,  2.56s/it]"
     ]
    },
    {
     "name": "stdout",
     "output_type": "stream",
     "text": [
      "34\n"
     ]
    },
    {
     "name": "stderr",
     "output_type": "stream",
     "text": [
      "\n",
      "  0%|                                                     | 0/8 [00:00<?, ?it/s]\u001b[A\n",
      " 12%|█████▋                                       | 1/8 [00:00<00:04,  1.73it/s]\u001b[A\n",
      " 25%|███████████▎                                 | 2/8 [00:01<00:03,  1.64it/s]\u001b[A\n",
      " 38%|████████████████▉                            | 3/8 [00:01<00:03,  1.65it/s]\u001b[A\n",
      " 50%|██████████████████████▌                      | 4/8 [00:02<00:02,  1.55it/s]\u001b[A\n",
      " 62%|████████████████████████████▏                | 5/8 [00:03<00:02,  1.46it/s]\u001b[A\n",
      " 75%|█████████████████████████████████▊           | 6/8 [00:03<00:01,  1.57it/s]\u001b[A\n",
      " 88%|███████████████████████████████████████▍     | 7/8 [00:04<00:00,  1.61it/s]\u001b[A\n",
      "100%|█████████████████████████████████████████████| 8/8 [00:05<00:00,  1.58it/s]\u001b[A\n",
      "35it [02:13,  3.49s/it]"
     ]
    },
    {
     "name": "stdout",
     "output_type": "stream",
     "text": [
      "35\n"
     ]
    },
    {
     "name": "stderr",
     "output_type": "stream",
     "text": [
      "\n",
      "  0%|                                                    | 0/12 [00:00<?, ?it/s]\u001b[A\n",
      "  8%|███▋                                        | 1/12 [00:00<00:06,  1.81it/s]\u001b[A\n",
      " 17%|███████▎                                    | 2/12 [00:01<00:06,  1.66it/s]\u001b[A\n",
      " 25%|███████████                                 | 3/12 [00:01<00:05,  1.69it/s]\u001b[A\n",
      " 33%|██████████████▋                             | 4/12 [00:02<00:04,  1.67it/s]\u001b[A\n",
      " 42%|██████████████████▎                         | 5/12 [00:02<00:04,  1.71it/s]\u001b[A\n",
      " 50%|██████████████████████                      | 6/12 [00:03<00:03,  1.66it/s]\u001b[A\n",
      " 58%|█████████████████████████▋                  | 7/12 [00:04<00:02,  1.67it/s]\u001b[A\n",
      " 67%|█████████████████████████████▎              | 8/12 [00:04<00:02,  1.72it/s]\u001b[A\n",
      " 75%|█████████████████████████████████           | 9/12 [00:05<00:01,  1.72it/s]\u001b[A\n",
      " 83%|███████████████████████████████████▊       | 10/12 [00:05<00:01,  1.77it/s]\u001b[A\n",
      " 92%|███████████████████████████████████████▍   | 11/12 [00:06<00:00,  1.71it/s]\u001b[A\n",
      "100%|███████████████████████████████████████████| 12/12 [00:07<00:00,  1.68it/s]\u001b[A\n",
      "36it [02:21,  4.79s/it]"
     ]
    },
    {
     "name": "stdout",
     "output_type": "stream",
     "text": [
      "36\n"
     ]
    },
    {
     "name": "stderr",
     "output_type": "stream",
     "text": [
      "\n",
      "  0%|                                                    | 0/14 [00:00<?, ?it/s]\u001b[A\n",
      "  7%|███▏                                        | 1/14 [00:00<00:07,  1.79it/s]\u001b[A\n",
      " 14%|██████▎                                     | 2/14 [00:01<00:06,  1.83it/s]\u001b[A\n",
      " 21%|█████████▍                                  | 3/14 [00:01<00:06,  1.68it/s]\u001b[A\n",
      " 29%|████████████▌                               | 4/14 [00:02<00:05,  1.71it/s]\u001b[A\n",
      " 36%|███████████████▋                            | 5/14 [00:02<00:05,  1.77it/s]\u001b[A\n",
      " 43%|██████████████████▊                         | 6/14 [00:03<00:04,  1.71it/s]\u001b[A\n",
      " 50%|██████████████████████                      | 7/14 [00:04<00:04,  1.70it/s]\u001b[A\n",
      " 57%|█████████████████████████▏                  | 8/14 [00:04<00:03,  1.69it/s]\u001b[A\n",
      " 64%|████████████████████████████▎               | 9/14 [00:05<00:03,  1.44it/s]\u001b[A\n",
      " 71%|██████████████████████████████▋            | 10/14 [00:06<00:02,  1.52it/s]\u001b[A\n",
      " 79%|█████████████████████████████████▊         | 11/14 [00:06<00:01,  1.58it/s]\u001b[A\n",
      " 86%|████████████████████████████████████▊      | 12/14 [00:07<00:01,  1.63it/s]\u001b[A\n",
      " 93%|███████████████████████████████████████▉   | 13/14 [00:07<00:00,  1.60it/s]\u001b[A\n",
      "100%|███████████████████████████████████████████| 14/14 [00:08<00:00,  1.64it/s]\u001b[A\n",
      "37it [02:30,  6.13s/it]"
     ]
    },
    {
     "name": "stdout",
     "output_type": "stream",
     "text": [
      "37\n"
     ]
    },
    {
     "name": "stderr",
     "output_type": "stream",
     "text": [
      "\n",
      "0it [00:00, ?it/s]\u001b[A\n",
      "38it [02:31,  4.51s/it]"
     ]
    },
    {
     "name": "stdout",
     "output_type": "stream",
     "text": [
      "38\n"
     ]
    },
    {
     "name": "stderr",
     "output_type": "stream",
     "text": [
      "\n",
      "0it [00:00, ?it/s]\u001b[A\n",
      "39it [02:32,  3.35s/it]"
     ]
    },
    {
     "name": "stdout",
     "output_type": "stream",
     "text": [
      "39\n"
     ]
    },
    {
     "name": "stderr",
     "output_type": "stream",
     "text": [
      "\n",
      "0it [00:00, ?it/s]\u001b[A\n",
      "40it [02:32,  2.52s/it]"
     ]
    },
    {
     "name": "stdout",
     "output_type": "stream",
     "text": [
      "40\n"
     ]
    },
    {
     "name": "stderr",
     "output_type": "stream",
     "text": [
      "\n",
      "0it [00:00, ?it/s]\u001b[A\n",
      "41it [02:33,  1.96s/it]"
     ]
    },
    {
     "name": "stdout",
     "output_type": "stream",
     "text": [
      "41\n"
     ]
    },
    {
     "name": "stderr",
     "output_type": "stream",
     "text": [
      "\n",
      "  0%|                                                     | 0/2 [00:00<?, ?it/s]\u001b[A\n",
      " 50%|██████████████████████▌                      | 1/2 [00:00<00:00,  1.78it/s]\u001b[A\n",
      "100%|█████████████████████████████████████████████| 2/2 [00:01<00:00,  1.77it/s]\u001b[A\n",
      "42it [02:35,  1.92s/it]"
     ]
    },
    {
     "name": "stdout",
     "output_type": "stream",
     "text": [
      "42\n"
     ]
    },
    {
     "name": "stderr",
     "output_type": "stream",
     "text": [
      "\n",
      "  0%|                                                     | 0/1 [00:00<?, ?it/s]\u001b[A\n",
      "100%|█████████████████████████████████████████████| 1/1 [00:00<00:00,  1.54it/s]\u001b[A\n",
      "43it [02:36,  1.75s/it]"
     ]
    },
    {
     "name": "stdout",
     "output_type": "stream",
     "text": [
      "43\n"
     ]
    },
    {
     "name": "stderr",
     "output_type": "stream",
     "text": [
      "\n",
      "  0%|                                                     | 0/1 [00:00<?, ?it/s]\u001b[A\n",
      "100%|█████████████████████████████████████████████| 1/1 [00:00<00:00,  1.70it/s]\u001b[A\n",
      "44it [02:37,  1.61s/it]"
     ]
    },
    {
     "name": "stdout",
     "output_type": "stream",
     "text": [
      "44\n"
     ]
    },
    {
     "name": "stderr",
     "output_type": "stream",
     "text": [
      "\n",
      "0it [00:00, ?it/s]\u001b[A\n",
      "45it [02:38,  1.33s/it]"
     ]
    },
    {
     "name": "stdout",
     "output_type": "stream",
     "text": [
      "45\n"
     ]
    },
    {
     "name": "stderr",
     "output_type": "stream",
     "text": [
      "\n",
      "  0%|                                                     | 0/2 [00:00<?, ?it/s]\u001b[A\n",
      " 50%|██████████████████████▌                      | 1/2 [00:00<00:00,  1.79it/s]\u001b[A\n",
      "100%|█████████████████████████████████████████████| 2/2 [00:01<00:00,  1.82it/s]\u001b[A\n",
      "46it [02:40,  1.49s/it]"
     ]
    },
    {
     "name": "stdout",
     "output_type": "stream",
     "text": [
      "46\n"
     ]
    },
    {
     "name": "stderr",
     "output_type": "stream",
     "text": [
      "\n",
      "0it [00:00, ?it/s]\u001b[A\n",
      "47it [02:41,  1.23s/it]"
     ]
    },
    {
     "name": "stdout",
     "output_type": "stream",
     "text": [
      "47\n"
     ]
    },
    {
     "name": "stderr",
     "output_type": "stream",
     "text": [
      "\n",
      "  0%|                                                     | 0/2 [00:00<?, ?it/s]\u001b[A\n",
      " 50%|██████████████████████▌                      | 1/2 [00:00<00:00,  1.55it/s]\u001b[A\n",
      "100%|█████████████████████████████████████████████| 2/2 [00:01<00:00,  1.60it/s]\u001b[A\n",
      "48it [02:43,  1.46s/it]"
     ]
    },
    {
     "name": "stdout",
     "output_type": "stream",
     "text": [
      "48\n"
     ]
    },
    {
     "name": "stderr",
     "output_type": "stream",
     "text": [
      "\n",
      "  0%|                                                     | 0/3 [00:00<?, ?it/s]\u001b[A\n",
      " 33%|███████████████                              | 1/3 [00:00<00:01,  1.43it/s]\u001b[A\n",
      " 67%|██████████████████████████████               | 2/3 [00:01<00:00,  1.56it/s]\u001b[A\n",
      "100%|█████████████████████████████████████████████| 3/3 [00:01<00:00,  1.54it/s]\u001b[A\n",
      "49it [02:45,  1.81s/it]"
     ]
    },
    {
     "name": "stdout",
     "output_type": "stream",
     "text": [
      "49\n"
     ]
    },
    {
     "name": "stderr",
     "output_type": "stream",
     "text": [
      "\n",
      "0it [00:00, ?it/s]\u001b[A\n",
      "50it [02:46,  1.45s/it]"
     ]
    },
    {
     "name": "stdout",
     "output_type": "stream",
     "text": [
      "50\n"
     ]
    },
    {
     "name": "stderr",
     "output_type": "stream",
     "text": [
      "\n",
      "  0%|                                                     | 0/4 [00:00<?, ?it/s]\u001b[A\n",
      " 25%|███████████▎                                 | 1/4 [00:00<00:01,  1.59it/s]\u001b[A\n",
      " 50%|██████████████████████▌                      | 2/4 [00:01<00:01,  1.75it/s]\u001b[A\n",
      " 75%|█████████████████████████████████▊           | 3/4 [00:01<00:00,  1.75it/s]\u001b[A\n",
      "100%|█████████████████████████████████████████████| 4/4 [00:02<00:00,  1.77it/s]\u001b[A\n",
      "51it [02:49,  1.88s/it]"
     ]
    },
    {
     "name": "stdout",
     "output_type": "stream",
     "text": [
      "51\n"
     ]
    },
    {
     "name": "stderr",
     "output_type": "stream",
     "text": [
      "\n",
      "0it [00:00, ?it/s]\u001b[A\n",
      "52it [02:49,  1.52s/it]"
     ]
    },
    {
     "name": "stdout",
     "output_type": "stream",
     "text": [
      "52\n"
     ]
    },
    {
     "name": "stderr",
     "output_type": "stream",
     "text": [
      "\n",
      "  0%|                                                    | 0/25 [00:00<?, ?it/s]\u001b[A\n",
      "  4%|█▊                                          | 1/25 [00:00<00:12,  1.89it/s]\u001b[A\n",
      "  8%|███▌                                        | 2/25 [00:01<00:13,  1.66it/s]\u001b[A\n",
      " 12%|█████▎                                      | 3/25 [00:01<00:12,  1.73it/s]\u001b[A\n",
      " 16%|███████                                     | 4/25 [00:02<00:11,  1.76it/s]\u001b[A\n",
      " 20%|████████▊                                   | 5/25 [00:02<00:11,  1.80it/s]\u001b[A\n",
      " 24%|██████████▌                                 | 6/25 [00:03<00:10,  1.81it/s]\u001b[A\n",
      " 28%|████████████▎                               | 7/25 [00:03<00:09,  1.82it/s]\u001b[A\n",
      " 32%|██████████████                              | 8/25 [00:04<00:09,  1.81it/s]\u001b[A\n",
      " 36%|███████████████▊                            | 9/25 [00:04<00:08,  1.86it/s]\u001b[A\n",
      " 40%|█████████████████▏                         | 10/25 [00:05<00:08,  1.84it/s]\u001b[A\n",
      " 44%|██████████████████▉                        | 11/25 [00:06<00:07,  1.84it/s]\u001b[A\n",
      " 48%|████████████████████▋                      | 12/25 [00:06<00:07,  1.80it/s]\u001b[A\n",
      " 52%|██████████████████████▎                    | 13/25 [00:07<00:06,  1.76it/s]\u001b[A\n",
      " 56%|████████████████████████                   | 14/25 [00:07<00:06,  1.79it/s]\u001b[A\n",
      " 60%|█████████████████████████▊                 | 15/25 [00:08<00:05,  1.84it/s]\u001b[A\n",
      " 64%|███████████████████████████▌               | 16/25 [00:08<00:04,  1.84it/s]\u001b[A\n",
      " 68%|█████████████████████████████▏             | 17/25 [00:09<00:04,  1.83it/s]\u001b[A\n",
      " 72%|██████████████████████████████▉            | 18/25 [00:10<00:03,  1.76it/s]\u001b[A\n",
      " 76%|████████████████████████████████▋          | 19/25 [00:10<00:03,  1.76it/s]\u001b[A\n",
      " 80%|██████████████████████████████████▍        | 20/25 [00:11<00:02,  1.68it/s]\u001b[A\n",
      " 84%|████████████████████████████████████       | 21/25 [00:11<00:02,  1.70it/s]\u001b[A\n",
      " 88%|█████████████████████████████████████▊     | 22/25 [00:12<00:01,  1.69it/s]\u001b[A\n",
      " 92%|███████████████████████████████████████▌   | 23/25 [00:12<00:01,  1.70it/s]\u001b[A\n",
      " 96%|█████████████████████████████████████████▎ | 24/25 [00:13<00:00,  1.76it/s]\u001b[A\n",
      "100%|███████████████████████████████████████████| 25/25 [00:14<00:00,  1.77it/s]\u001b[A\n",
      "53it [03:04,  5.49s/it]"
     ]
    },
    {
     "name": "stdout",
     "output_type": "stream",
     "text": [
      "53\n"
     ]
    },
    {
     "name": "stderr",
     "output_type": "stream",
     "text": [
      "\n",
      "  0%|                                                     | 0/1 [00:00<?, ?it/s]\u001b[A\n",
      "100%|█████████████████████████████████████████████| 1/1 [00:00<00:00,  1.45it/s]\u001b[A\n",
      "54it [03:06,  4.28s/it]"
     ]
    },
    {
     "name": "stdout",
     "output_type": "stream",
     "text": [
      "54\n"
     ]
    },
    {
     "name": "stderr",
     "output_type": "stream",
     "text": [
      "\n",
      "  0%|                                                     | 0/2 [00:00<?, ?it/s]\u001b[A\n",
      " 50%|██████████████████████▌                      | 1/2 [00:00<00:00,  1.73it/s]\u001b[A\n",
      "100%|█████████████████████████████████████████████| 2/2 [00:01<00:00,  1.68it/s]\u001b[A\n",
      "55it [03:07,  3.54s/it]"
     ]
    },
    {
     "name": "stdout",
     "output_type": "stream",
     "text": [
      "55\n"
     ]
    },
    {
     "name": "stderr",
     "output_type": "stream",
     "text": [
      "\n",
      "  0%|                                                    | 0/15 [00:00<?, ?it/s]\u001b[A\n",
      "  7%|██▉                                         | 1/15 [00:00<00:07,  1.79it/s]\u001b[A\n",
      " 13%|█████▊                                      | 2/15 [00:01<00:07,  1.81it/s]\u001b[A\n",
      " 20%|████████▊                                   | 3/15 [00:01<00:06,  1.80it/s]\u001b[A\n",
      " 27%|███████████▋                                | 4/15 [00:02<00:06,  1.83it/s]\u001b[A\n",
      " 33%|██████████████▋                             | 5/15 [00:02<00:05,  1.84it/s]\u001b[A\n",
      " 40%|█████████████████▌                          | 6/15 [00:03<00:04,  1.85it/s]\u001b[A\n",
      " 47%|████████████████████▌                       | 7/15 [00:03<00:04,  1.79it/s]\u001b[A\n",
      " 53%|███████████████████████▍                    | 8/15 [00:04<00:04,  1.69it/s]\u001b[A\n",
      " 60%|██████████████████████████▍                 | 9/15 [00:05<00:03,  1.74it/s]\u001b[A\n",
      " 67%|████████████████████████████▋              | 10/15 [00:05<00:02,  1.75it/s]\u001b[A\n",
      " 73%|███████████████████████████████▌           | 11/15 [00:06<00:02,  1.72it/s]\u001b[A\n",
      " 80%|██████████████████████████████████▍        | 12/15 [00:06<00:01,  1.74it/s]\u001b[A\n",
      " 87%|█████████████████████████████████████▎     | 13/15 [00:07<00:01,  1.58it/s]\u001b[A\n",
      " 93%|████████████████████████████████████████▏  | 14/15 [00:08<00:00,  1.59it/s]\u001b[A\n",
      "100%|███████████████████████████████████████████| 15/15 [00:08<00:00,  1.69it/s]\u001b[A\n",
      "56it [03:17,  5.31s/it]"
     ]
    },
    {
     "name": "stdout",
     "output_type": "stream",
     "text": [
      "56\n"
     ]
    },
    {
     "name": "stderr",
     "output_type": "stream",
     "text": [
      "\n",
      "0it [00:00, ?it/s]\u001b[A\n",
      "57it [03:17,  3.92s/it]"
     ]
    },
    {
     "name": "stdout",
     "output_type": "stream",
     "text": [
      "57\n"
     ]
    },
    {
     "name": "stderr",
     "output_type": "stream",
     "text": [
      "\n",
      "0it [00:00, ?it/s]\u001b[A\n",
      "58it [03:18,  2.93s/it]"
     ]
    },
    {
     "name": "stdout",
     "output_type": "stream",
     "text": [
      "58\n"
     ]
    },
    {
     "name": "stderr",
     "output_type": "stream",
     "text": [
      "\n",
      "0it [00:00, ?it/s]\u001b[A\n",
      "59it [03:19,  2.23s/it]"
     ]
    },
    {
     "name": "stdout",
     "output_type": "stream",
     "text": [
      "59\n"
     ]
    },
    {
     "name": "stderr",
     "output_type": "stream",
     "text": [
      "\n",
      "  0%|                                                    | 0/13 [00:00<?, ?it/s]\u001b[A\n",
      "  8%|███▍                                        | 1/13 [00:00<00:06,  1.91it/s]\u001b[A\n",
      " 15%|██████▊                                     | 2/13 [00:01<00:05,  1.87it/s]\u001b[A\n",
      " 23%|██████████▏                                 | 3/13 [00:01<00:05,  1.80it/s]\u001b[A\n",
      " 31%|█████████████▌                              | 4/13 [00:02<00:05,  1.74it/s]\u001b[A\n",
      " 38%|████████████████▉                           | 5/13 [00:02<00:04,  1.73it/s]\u001b[A\n",
      " 46%|████████████████████▎                       | 6/13 [00:03<00:04,  1.75it/s]\u001b[A\n",
      " 54%|███████████████████████▋                    | 7/13 [00:03<00:03,  1.80it/s]\u001b[A\n",
      " 62%|███████████████████████████                 | 8/13 [00:04<00:02,  1.77it/s]\u001b[A\n",
      " 69%|██████████████████████████████▍             | 9/13 [00:05<00:02,  1.78it/s]\u001b[A\n",
      " 77%|█████████████████████████████████          | 10/13 [00:05<00:01,  1.80it/s]\u001b[A\n",
      " 85%|████████████████████████████████████▍      | 11/13 [00:06<00:01,  1.70it/s]\u001b[A\n",
      " 92%|███████████████████████████████████████▋   | 12/13 [00:06<00:00,  1.76it/s]\u001b[A\n",
      "100%|███████████████████████████████████████████| 13/13 [00:07<00:00,  1.75it/s]\u001b[A\n",
      "60it [03:27,  3.98s/it]"
     ]
    },
    {
     "name": "stdout",
     "output_type": "stream",
     "text": [
      "60\n"
     ]
    },
    {
     "name": "stderr",
     "output_type": "stream",
     "text": [
      "\n",
      "  0%|                                                     | 0/3 [00:00<?, ?it/s]\u001b[A\n",
      " 33%|███████████████                              | 1/3 [00:00<00:01,  1.70it/s]\u001b[A\n",
      " 67%|██████████████████████████████               | 2/3 [00:01<00:00,  1.65it/s]\u001b[A\n",
      "100%|█████████████████████████████████████████████| 3/3 [00:01<00:00,  1.73it/s]\u001b[A\n",
      "61it [03:29,  3.51s/it]"
     ]
    },
    {
     "name": "stdout",
     "output_type": "stream",
     "text": [
      "61\n"
     ]
    },
    {
     "name": "stderr",
     "output_type": "stream",
     "text": [
      "\n",
      "  0%|                                                    | 0/10 [00:00<?, ?it/s]\u001b[A\n",
      " 10%|████▍                                       | 1/10 [00:00<00:05,  1.68it/s]\u001b[A\n",
      " 20%|████████▊                                   | 2/10 [00:01<00:04,  1.74it/s]\u001b[A\n",
      " 30%|█████████████▏                              | 3/10 [00:01<00:04,  1.62it/s]\u001b[A\n",
      " 40%|█████████████████▌                          | 4/10 [00:02<00:03,  1.69it/s]\u001b[A\n",
      " 50%|██████████████████████                      | 5/10 [00:02<00:02,  1.70it/s]\u001b[A\n",
      " 60%|██████████████████████████▍                 | 6/10 [00:03<00:02,  1.76it/s]\u001b[A\n",
      " 70%|██████████████████████████████▊             | 7/10 [00:03<00:01,  1.82it/s]\u001b[A\n",
      " 80%|███████████████████████████████████▏        | 8/10 [00:04<00:01,  1.73it/s]\u001b[A\n",
      " 90%|███████████████████████████████████████▌    | 9/10 [00:05<00:00,  1.77it/s]\u001b[A\n",
      "100%|███████████████████████████████████████████| 10/10 [00:05<00:00,  1.75it/s]\u001b[A\n",
      "62it [03:36,  4.52s/it]"
     ]
    },
    {
     "name": "stdout",
     "output_type": "stream",
     "text": [
      "62\n"
     ]
    },
    {
     "name": "stderr",
     "output_type": "stream",
     "text": [
      "\n",
      "0it [00:00, ?it/s]\u001b[A\n",
      "63it [03:37,  3.38s/it]"
     ]
    },
    {
     "name": "stdout",
     "output_type": "stream",
     "text": [
      "63\n"
     ]
    },
    {
     "name": "stderr",
     "output_type": "stream",
     "text": [
      "\n",
      "  0%|                                                     | 0/6 [00:00<?, ?it/s]\u001b[A\n",
      " 17%|███████▌                                     | 1/6 [00:00<00:02,  1.70it/s]\u001b[A\n",
      " 33%|███████████████                              | 2/6 [00:01<00:02,  1.81it/s]\u001b[A\n",
      " 50%|██████████████████████▌                      | 3/6 [00:01<00:01,  1.75it/s]\u001b[A\n",
      " 67%|██████████████████████████████               | 4/6 [00:02<00:01,  1.63it/s]\u001b[A\n",
      " 83%|█████████████████████████████████████▌       | 5/6 [00:03<00:00,  1.53it/s]\u001b[A\n",
      "100%|█████████████████████████████████████████████| 6/6 [00:03<00:00,  1.63it/s]\u001b[A\n",
      "64it [03:41,  3.73s/it]"
     ]
    },
    {
     "name": "stdout",
     "output_type": "stream",
     "text": [
      "64\n"
     ]
    },
    {
     "name": "stderr",
     "output_type": "stream",
     "text": [
      "\n",
      "0it [00:00, ?it/s]\u001b[A\n",
      "65it [03:42,  2.81s/it]"
     ]
    },
    {
     "name": "stdout",
     "output_type": "stream",
     "text": [
      "65\n"
     ]
    },
    {
     "name": "stderr",
     "output_type": "stream",
     "text": [
      "\n",
      "  0%|                                                     | 0/5 [00:00<?, ?it/s]\u001b[A\n",
      " 20%|█████████                                    | 1/5 [00:00<00:02,  1.67it/s]\u001b[A\n",
      " 40%|██████████████████                           | 2/5 [00:01<00:01,  1.54it/s]\u001b[A\n",
      " 60%|███████████████████████████                  | 3/5 [00:02<00:01,  1.43it/s]\u001b[A\n",
      " 80%|████████████████████████████████████         | 4/5 [00:02<00:00,  1.55it/s]\u001b[A\n",
      "100%|█████████████████████████████████████████████| 5/5 [00:03<00:00,  1.53it/s]\u001b[A\n",
      "66it [03:46,  3.17s/it]"
     ]
    },
    {
     "name": "stdout",
     "output_type": "stream",
     "text": [
      "66\n"
     ]
    },
    {
     "name": "stderr",
     "output_type": "stream",
     "text": [
      "\n",
      "  0%|                                                     | 0/7 [00:00<?, ?it/s]\u001b[A\n",
      " 14%|██████▍                                      | 1/7 [00:00<00:03,  1.89it/s]\u001b[A\n",
      " 29%|████████████▊                                | 2/7 [00:01<00:02,  1.85it/s]\u001b[A\n",
      " 43%|███████████████████▎                         | 3/7 [00:01<00:02,  1.86it/s]\u001b[A\n",
      " 57%|█████████████████████████▋                   | 4/7 [00:02<00:01,  1.84it/s]\u001b[A\n",
      " 71%|████████████████████████████████▏            | 5/7 [00:02<00:01,  1.87it/s]\u001b[A\n",
      " 86%|██████████████████████████████████████▌      | 6/7 [00:03<00:00,  1.87it/s]\u001b[A\n",
      "100%|█████████████████████████████████████████████| 7/7 [00:03<00:00,  1.85it/s]\u001b[A\n",
      "67it [03:51,  3.58s/it]"
     ]
    },
    {
     "name": "stdout",
     "output_type": "stream",
     "text": [
      "67\n"
     ]
    },
    {
     "name": "stderr",
     "output_type": "stream",
     "text": [
      "\n",
      "0it [00:00, ?it/s]\u001b[A\n",
      "68it [03:51,  2.69s/it]"
     ]
    },
    {
     "name": "stdout",
     "output_type": "stream",
     "text": [
      "68\n"
     ]
    },
    {
     "name": "stderr",
     "output_type": "stream",
     "text": [
      "\n",
      "  0%|                                                     | 0/8 [00:00<?, ?it/s]\u001b[A\n",
      " 12%|█████▋                                       | 1/8 [00:00<00:03,  1.88it/s]\u001b[A\n",
      " 25%|███████████▎                                 | 2/8 [00:01<00:03,  1.92it/s]\u001b[A\n",
      " 38%|████████████████▉                            | 3/8 [00:01<00:02,  1.82it/s]\u001b[A\n",
      " 50%|██████████████████████▌                      | 4/8 [00:02<00:02,  1.78it/s]\u001b[A\n",
      " 62%|████████████████████████████▏                | 5/8 [00:02<00:01,  1.77it/s]\u001b[A\n",
      " 75%|█████████████████████████████████▊           | 6/8 [00:03<00:01,  1.68it/s]\u001b[A\n",
      " 88%|███████████████████████████████████████▍     | 7/8 [00:03<00:00,  1.73it/s]\u001b[A\n",
      "100%|█████████████████████████████████████████████| 8/8 [00:04<00:00,  1.72it/s]\u001b[A\n",
      "69it [03:56,  3.47s/it]"
     ]
    },
    {
     "name": "stdout",
     "output_type": "stream",
     "text": [
      "69\n"
     ]
    },
    {
     "name": "stderr",
     "output_type": "stream",
     "text": [
      "\n",
      "  0%|                                                    | 0/35 [00:00<?, ?it/s]\u001b[A\n",
      "  3%|█▎                                          | 1/35 [00:00<00:23,  1.46it/s]\u001b[A\n",
      "  6%|██▌                                         | 2/35 [00:01<00:21,  1.51it/s]\u001b[A\n",
      "  9%|███▊                                        | 3/35 [00:01<00:19,  1.61it/s]\u001b[A\n",
      " 11%|█████                                       | 4/35 [00:02<00:19,  1.58it/s]\u001b[A\n",
      " 14%|██████▎                                     | 5/35 [00:03<00:18,  1.65it/s]\u001b[A\n",
      " 17%|███████▌                                    | 6/35 [00:03<00:17,  1.71it/s]\u001b[A\n",
      " 20%|████████▊                                   | 7/35 [00:04<00:15,  1.78it/s]\u001b[A\n",
      " 23%|██████████                                  | 8/35 [00:04<00:15,  1.73it/s]\u001b[A\n",
      " 26%|███████████▎                                | 9/35 [00:05<00:14,  1.74it/s]\u001b[A\n",
      " 29%|████████████▎                              | 10/35 [00:05<00:13,  1.80it/s]\u001b[A\n",
      " 31%|█████████████▌                             | 11/35 [00:06<00:13,  1.82it/s]\u001b[A\n",
      " 34%|██████████████▋                            | 12/35 [00:06<00:12,  1.86it/s]\u001b[A\n",
      " 37%|███████████████▉                           | 13/35 [00:07<00:12,  1.74it/s]\u001b[A\n",
      " 40%|█████████████████▏                         | 14/35 [00:08<00:12,  1.68it/s]\u001b[A\n",
      " 43%|██████████████████▍                        | 15/35 [00:08<00:11,  1.67it/s]\u001b[A\n",
      " 46%|███████████████████▋                       | 16/35 [00:09<00:11,  1.61it/s]\u001b[A\n",
      " 49%|████████████████████▉                      | 17/35 [00:10<00:10,  1.67it/s]\u001b[A\n",
      " 51%|██████████████████████                     | 18/35 [00:10<00:10,  1.69it/s]\u001b[A\n",
      " 54%|███████████████████████▎                   | 19/35 [00:11<00:09,  1.72it/s]\u001b[A\n",
      " 57%|████████████████████████▌                  | 20/35 [00:11<00:08,  1.71it/s]\u001b[A\n",
      " 60%|█████████████████████████▊                 | 21/35 [00:12<00:07,  1.75it/s]\u001b[A\n",
      " 63%|███████████████████████████                | 22/35 [00:12<00:07,  1.75it/s]\u001b[A\n",
      " 66%|████████████████████████████▎              | 23/35 [00:13<00:06,  1.76it/s]\u001b[A\n",
      " 69%|█████████████████████████████▍             | 24/35 [00:14<00:06,  1.69it/s]\u001b[A\n",
      " 71%|██████████████████████████████▋            | 25/35 [00:14<00:05,  1.70it/s]\u001b[A\n",
      " 74%|███████████████████████████████▉           | 26/35 [00:15<00:05,  1.69it/s]\u001b[A\n",
      " 77%|█████████████████████████████████▏         | 27/35 [00:15<00:04,  1.63it/s]\u001b[A\n",
      " 80%|██████████████████████████████████▍        | 28/35 [00:16<00:04,  1.71it/s]\u001b[A\n",
      " 83%|███████████████████████████████████▋       | 29/35 [00:17<00:03,  1.71it/s]\u001b[A\n",
      " 86%|████████████████████████████████████▊      | 30/35 [00:17<00:02,  1.75it/s]\u001b[A\n",
      " 89%|██████████████████████████████████████     | 31/35 [00:18<00:02,  1.64it/s]\u001b[A\n",
      " 91%|███████████████████████████████████████▎   | 32/35 [00:18<00:01,  1.66it/s]\u001b[A\n",
      " 94%|████████████████████████████████████████▌  | 33/35 [00:19<00:01,  1.60it/s]\u001b[A\n",
      " 97%|█████████████████████████████████████████▊ | 34/35 [00:20<00:00,  1.63it/s]\u001b[A\n",
      "100%|███████████████████████████████████████████| 35/35 [00:20<00:00,  1.69it/s]\u001b[A\n",
      "70it [04:18,  8.83s/it]"
     ]
    },
    {
     "name": "stdout",
     "output_type": "stream",
     "text": [
      "70\n"
     ]
    },
    {
     "name": "stderr",
     "output_type": "stream",
     "text": [
      "\n",
      "  0%|                                                    | 0/12 [00:00<?, ?it/s]\u001b[A\n",
      "  8%|███▋                                        | 1/12 [00:00<00:05,  1.84it/s]\u001b[A\n",
      " 17%|███████▎                                    | 2/12 [00:01<00:05,  1.76it/s]\u001b[A\n",
      " 25%|███████████                                 | 3/12 [00:01<00:05,  1.74it/s]\u001b[A\n",
      " 33%|██████████████▋                             | 4/12 [00:02<00:04,  1.68it/s]\u001b[A\n",
      " 42%|██████████████████▎                         | 5/12 [00:02<00:04,  1.70it/s]\u001b[A\n",
      " 50%|██████████████████████                      | 6/12 [00:03<00:03,  1.75it/s]\u001b[A\n",
      " 58%|█████████████████████████▋                  | 7/12 [00:04<00:02,  1.70it/s]\u001b[A\n",
      " 67%|█████████████████████████████▎              | 8/12 [00:04<00:02,  1.64it/s]\u001b[A\n",
      " 75%|█████████████████████████████████           | 9/12 [00:05<00:01,  1.71it/s]\u001b[A\n",
      " 83%|███████████████████████████████████▊       | 10/12 [00:05<00:01,  1.68it/s]\u001b[A\n",
      " 92%|███████████████████████████████████████▍   | 11/12 [00:06<00:00,  1.73it/s]\u001b[A\n",
      "100%|███████████████████████████████████████████| 12/12 [00:06<00:00,  1.72it/s]\u001b[A\n",
      "71it [04:25,  8.48s/it]"
     ]
    },
    {
     "name": "stdout",
     "output_type": "stream",
     "text": [
      "71\n"
     ]
    },
    {
     "name": "stderr",
     "output_type": "stream",
     "text": [
      "\n",
      "0it [00:00, ?it/s]\u001b[A\n",
      "72it [04:26,  6.11s/it]"
     ]
    },
    {
     "name": "stdout",
     "output_type": "stream",
     "text": [
      "72\n"
     ]
    },
    {
     "name": "stderr",
     "output_type": "stream",
     "text": [
      "\n",
      "  0%|                                                    | 0/26 [00:00<?, ?it/s]\u001b[A\n",
      "  4%|█▋                                          | 1/26 [00:00<00:13,  1.80it/s]\u001b[A\n",
      "  8%|███▍                                        | 2/26 [00:01<00:13,  1.83it/s]\u001b[A\n",
      " 12%|█████                                       | 3/26 [00:01<00:12,  1.81it/s]\u001b[A\n",
      " 15%|██████▊                                     | 4/26 [00:02<00:12,  1.79it/s]\u001b[A\n",
      " 19%|████████▍                                   | 5/26 [00:02<00:11,  1.76it/s]\u001b[A\n",
      " 23%|██████████▏                                 | 6/26 [00:03<00:11,  1.78it/s]\u001b[A\n",
      " 27%|███████████▊                                | 7/26 [00:03<00:10,  1.78it/s]\u001b[A\n",
      " 31%|█████████████▌                              | 8/26 [00:04<00:10,  1.73it/s]\u001b[A\n",
      " 35%|███████████████▏                            | 9/26 [00:05<00:10,  1.61it/s]\u001b[A\n",
      " 38%|████████████████▌                          | 10/26 [00:05<00:09,  1.69it/s]\u001b[A\n",
      " 42%|██████████████████▏                        | 11/26 [00:06<00:10,  1.46it/s]\u001b[A\n",
      " 46%|███████████████████▊                       | 12/26 [00:07<00:09,  1.51it/s]\u001b[A\n",
      " 50%|█████████████████████▌                     | 13/26 [00:07<00:08,  1.58it/s]\u001b[A\n",
      " 54%|███████████████████████▏                   | 14/26 [00:08<00:07,  1.64it/s]\u001b[A\n",
      " 58%|████████████████████████▊                  | 15/26 [00:08<00:06,  1.70it/s]\u001b[A\n",
      " 62%|██████████████████████████▍                | 16/26 [00:09<00:05,  1.68it/s]\u001b[A\n",
      " 65%|████████████████████████████               | 17/26 [00:10<00:05,  1.68it/s]\u001b[A\n",
      " 69%|█████████████████████████████▊             | 18/26 [00:10<00:04,  1.72it/s]\u001b[A\n",
      " 73%|███████████████████████████████▍           | 19/26 [00:11<00:04,  1.75it/s]\u001b[A\n",
      " 77%|█████████████████████████████████          | 20/26 [00:11<00:03,  1.77it/s]\u001b[A\n",
      " 81%|██████████████████████████████████▋        | 21/26 [00:12<00:02,  1.84it/s]\u001b[A\n",
      " 85%|████████████████████████████████████▍      | 22/26 [00:12<00:02,  1.70it/s]\u001b[A\n",
      " 88%|██████████████████████████████████████     | 23/26 [00:13<00:01,  1.67it/s]\u001b[A\n",
      " 92%|███████████████████████████████████████▋   | 24/26 [00:14<00:01,  1.71it/s]\u001b[A\n",
      " 96%|█████████████████████████████████████████▎ | 25/26 [00:14<00:00,  1.73it/s]\u001b[A\n",
      "100%|███████████████████████████████████████████| 26/26 [00:15<00:00,  1.70it/s]\u001b[A\n",
      "73it [04:42,  9.04s/it]"
     ]
    },
    {
     "name": "stdout",
     "output_type": "stream",
     "text": [
      "73\n"
     ]
    },
    {
     "name": "stderr",
     "output_type": "stream",
     "text": [
      "\n",
      "0it [00:00, ?it/s]\u001b[A\n",
      "74it [04:43,  6.53s/it]"
     ]
    },
    {
     "name": "stdout",
     "output_type": "stream",
     "text": [
      "74\n"
     ]
    },
    {
     "name": "stderr",
     "output_type": "stream",
     "text": [
      "\n",
      "  0%|                                                     | 0/3 [00:00<?, ?it/s]\u001b[A\n",
      " 33%|███████████████                              | 1/3 [00:00<00:01,  1.46it/s]\u001b[A\n",
      " 67%|██████████████████████████████               | 2/3 [00:01<00:00,  1.58it/s]\u001b[A\n",
      "100%|█████████████████████████████████████████████| 3/3 [00:01<00:00,  1.61it/s]\u001b[A\n",
      "75it [04:45,  5.34s/it]"
     ]
    },
    {
     "name": "stdout",
     "output_type": "stream",
     "text": [
      "75\n"
     ]
    },
    {
     "name": "stderr",
     "output_type": "stream",
     "text": [
      "\n",
      "0it [00:00, ?it/s]\u001b[A\n",
      "76it [04:46,  3.94s/it]"
     ]
    },
    {
     "name": "stdout",
     "output_type": "stream",
     "text": [
      "76\n"
     ]
    },
    {
     "name": "stderr",
     "output_type": "stream",
     "text": [
      "\n",
      "0it [00:00, ?it/s]\u001b[A\n",
      "77it [04:46,  2.95s/it]"
     ]
    },
    {
     "name": "stdout",
     "output_type": "stream",
     "text": [
      "77\n"
     ]
    },
    {
     "name": "stderr",
     "output_type": "stream",
     "text": [
      "\n",
      "  0%|                                                     | 0/5 [00:00<?, ?it/s]\u001b[A\n",
      " 20%|█████████                                    | 1/5 [00:00<00:02,  1.87it/s]\u001b[A\n",
      " 40%|██████████████████                           | 2/5 [00:01<00:01,  1.80it/s]\u001b[A\n",
      " 60%|███████████████████████████                  | 3/5 [00:01<00:01,  1.81it/s]\u001b[A\n",
      " 80%|████████████████████████████████████         | 4/5 [00:02<00:00,  1.78it/s]\u001b[A\n",
      "100%|█████████████████████████████████████████████| 5/5 [00:02<00:00,  1.77it/s]\u001b[A\n",
      "78it [04:50,  3.21s/it]"
     ]
    },
    {
     "name": "stdout",
     "output_type": "stream",
     "text": [
      "78\n"
     ]
    },
    {
     "name": "stderr",
     "output_type": "stream",
     "text": [
      "\n",
      "0it [00:00, ?it/s]\u001b[A\n",
      "79it [04:51,  2.44s/it]"
     ]
    },
    {
     "name": "stdout",
     "output_type": "stream",
     "text": [
      "79\n"
     ]
    },
    {
     "name": "stderr",
     "output_type": "stream",
     "text": [
      "\n",
      "  0%|                                                     | 0/2 [00:00<?, ?it/s]\u001b[A\n",
      " 50%|██████████████████████▌                      | 1/2 [00:00<00:00,  1.88it/s]\u001b[A\n",
      "100%|█████████████████████████████████████████████| 2/2 [00:01<00:00,  1.89it/s]\u001b[A\n",
      "80it [04:53,  2.24s/it]"
     ]
    },
    {
     "name": "stdout",
     "output_type": "stream",
     "text": [
      "80\n"
     ]
    },
    {
     "name": "stderr",
     "output_type": "stream",
     "text": [
      "\n",
      "  0%|                                                     | 0/1 [00:00<?, ?it/s]\u001b[A\n",
      "100%|█████████████████████████████████████████████| 1/1 [00:00<00:00,  1.67it/s]\u001b[A\n",
      "81it [04:54,  1.96s/it]"
     ]
    },
    {
     "name": "stdout",
     "output_type": "stream",
     "text": [
      "81\n"
     ]
    },
    {
     "name": "stderr",
     "output_type": "stream",
     "text": [
      "\n",
      "  0%|                                                    | 0/60 [00:00<?, ?it/s]\u001b[A\n",
      "  2%|▋                                           | 1/60 [00:00<00:30,  1.93it/s]\u001b[A\n",
      "  3%|█▍                                          | 2/60 [00:01<00:30,  1.90it/s]\u001b[A\n",
      "  5%|██▏                                         | 3/60 [00:01<00:31,  1.83it/s]\u001b[A\n",
      "  7%|██▉                                         | 4/60 [00:02<00:30,  1.81it/s]\u001b[A\n",
      "  8%|███▋                                        | 5/60 [00:02<00:30,  1.82it/s]\u001b[A\n",
      " 10%|████▍                                       | 6/60 [00:03<00:29,  1.82it/s]\u001b[A\n",
      " 12%|█████▏                                      | 7/60 [00:03<00:29,  1.77it/s]\u001b[A\n",
      " 13%|█████▊                                      | 8/60 [00:04<00:29,  1.79it/s]\u001b[A\n",
      " 15%|██████▌                                     | 9/60 [00:04<00:27,  1.84it/s]\u001b[A\n",
      " 17%|███████▏                                   | 10/60 [00:05<00:27,  1.85it/s]\u001b[A\n",
      " 18%|███████▉                                   | 11/60 [00:05<00:26,  1.87it/s]\u001b[A\n",
      " 20%|████████▌                                  | 12/60 [00:06<00:26,  1.84it/s]\u001b[A\n",
      " 22%|█████████▎                                 | 13/60 [00:07<00:26,  1.80it/s]\u001b[A\n",
      " 23%|██████████                                 | 14/60 [00:07<00:26,  1.72it/s]\u001b[A\n",
      " 25%|██████████▊                                | 15/60 [00:08<00:25,  1.78it/s]\u001b[A\n",
      " 27%|███████████▍                               | 16/60 [00:08<00:24,  1.76it/s]\u001b[A\n",
      " 28%|████████████▏                              | 17/60 [00:09<00:24,  1.73it/s]\u001b[A\n",
      " 30%|████████████▉                              | 18/60 [00:10<00:24,  1.75it/s]\u001b[A\n",
      " 32%|█████████████▌                             | 19/60 [00:10<00:22,  1.79it/s]\u001b[A\n",
      " 33%|██████████████▎                            | 20/60 [00:11<00:23,  1.72it/s]\u001b[A\n",
      " 35%|███████████████                            | 21/60 [00:11<00:23,  1.67it/s]\u001b[A\n",
      " 37%|███████████████▊                           | 22/60 [00:12<00:22,  1.69it/s]\u001b[A\n",
      " 38%|████████████████▍                          | 23/60 [00:13<00:22,  1.63it/s]\u001b[A\n",
      " 40%|█████████████████▏                         | 24/60 [00:13<00:21,  1.65it/s]\u001b[A\n",
      " 42%|█████████████████▉                         | 25/60 [00:14<00:20,  1.69it/s]\u001b[A\n",
      " 43%|██████████████████▋                        | 26/60 [00:14<00:19,  1.72it/s]\u001b[A\n",
      " 45%|███████████████████▎                       | 27/60 [00:15<00:18,  1.74it/s]\u001b[A\n",
      " 47%|████████████████████                       | 28/60 [00:15<00:18,  1.76it/s]\u001b[A\n",
      " 48%|████████████████████▊                      | 29/60 [00:16<00:18,  1.71it/s]\u001b[A\n",
      " 50%|█████████████████████▌                     | 30/60 [00:17<00:17,  1.73it/s]\u001b[A\n",
      " 52%|██████████████████████▏                    | 31/60 [00:17<00:17,  1.70it/s]\u001b[A\n",
      " 53%|██████████████████████▉                    | 32/60 [00:18<00:16,  1.72it/s]\u001b[A\n",
      " 55%|███████████████████████▋                   | 33/60 [00:18<00:15,  1.74it/s]\u001b[A\n",
      " 57%|████████████████████████▎                  | 34/60 [00:19<00:14,  1.78it/s]\u001b[A\n",
      " 58%|█████████████████████████                  | 35/60 [00:19<00:13,  1.82it/s]\u001b[A\n",
      " 60%|█████████████████████████▊                 | 36/60 [00:20<00:13,  1.72it/s]\u001b[A\n",
      " 62%|██████████████████████████▌                | 37/60 [00:21<00:13,  1.73it/s]\u001b[A\n",
      " 63%|███████████████████████████▏               | 38/60 [00:21<00:12,  1.79it/s]\u001b[A\n",
      " 65%|███████████████████████████▉               | 39/60 [00:22<00:12,  1.72it/s]\u001b[A\n",
      " 67%|████████████████████████████▋              | 40/60 [00:22<00:11,  1.78it/s]\u001b[A\n",
      " 68%|█████████████████████████████▍             | 41/60 [00:23<00:10,  1.75it/s]\u001b[A\n",
      " 70%|██████████████████████████████             | 42/60 [00:24<00:11,  1.51it/s]\u001b[A\n",
      " 72%|██████████████████████████████▊            | 43/60 [00:24<00:10,  1.56it/s]\u001b[A\n",
      " 73%|███████████████████████████████▌           | 44/60 [00:25<00:09,  1.64it/s]\u001b[A\n",
      " 75%|████████████████████████████████▎          | 45/60 [00:25<00:09,  1.64it/s]\u001b[A\n",
      " 77%|████████████████████████████████▉          | 46/60 [00:26<00:08,  1.61it/s]\u001b[A\n",
      " 78%|█████████████████████████████████▋         | 47/60 [00:27<00:08,  1.59it/s]\u001b[A\n",
      " 80%|██████████████████████████████████▍        | 48/60 [00:28<00:08,  1.39it/s]\u001b[A\n",
      " 82%|███████████████████████████████████        | 49/60 [00:28<00:07,  1.42it/s]\u001b[A\n",
      " 83%|███████████████████████████████████▊       | 50/60 [00:29<00:07,  1.42it/s]\u001b[A\n",
      " 85%|████████████████████████████████████▌      | 51/60 [00:30<00:06,  1.49it/s]\u001b[A\n",
      " 87%|█████████████████████████████████████▎     | 52/60 [00:30<00:05,  1.57it/s]\u001b[A\n",
      " 88%|█████████████████████████████████████▉     | 53/60 [00:31<00:04,  1.61it/s]\u001b[A\n",
      " 90%|██████████████████████████████████████▋    | 54/60 [00:31<00:03,  1.60it/s]\u001b[A\n",
      " 92%|███████████████████████████████████████▍   | 55/60 [00:32<00:02,  1.68it/s]\u001b[A\n",
      " 93%|████████████████████████████████████████▏  | 56/60 [00:33<00:02,  1.71it/s]\u001b[A\n",
      " 95%|████████████████████████████████████████▊  | 57/60 [00:33<00:01,  1.70it/s]\u001b[A\n",
      " 97%|█████████████████████████████████████████▌ | 58/60 [00:34<00:01,  1.75it/s]\u001b[A\n",
      " 98%|██████████████████████████████████████████▎| 59/60 [00:34<00:00,  1.72it/s]\u001b[A\n",
      "100%|███████████████████████████████████████████| 60/60 [00:35<00:00,  1.70it/s]\u001b[A\n",
      "82it [05:30, 12.14s/it]"
     ]
    },
    {
     "name": "stdout",
     "output_type": "stream",
     "text": [
      "82\n"
     ]
    },
    {
     "name": "stderr",
     "output_type": "stream",
     "text": [
      "\n",
      "  0%|                                                     | 0/4 [00:00<?, ?it/s]\u001b[A\n",
      " 25%|███████████▎                                 | 1/4 [00:00<00:01,  1.88it/s]\u001b[A\n",
      " 50%|██████████████████████▌                      | 2/4 [00:01<00:01,  1.80it/s]\u001b[A\n",
      " 75%|█████████████████████████████████▊           | 3/4 [00:01<00:00,  1.82it/s]\u001b[A\n",
      "100%|█████████████████████████████████████████████| 4/4 [00:02<00:00,  1.82it/s]\u001b[A\n",
      "83it [05:33,  9.35s/it]"
     ]
    },
    {
     "name": "stdout",
     "output_type": "stream",
     "text": [
      "83\n"
     ]
    },
    {
     "name": "stderr",
     "output_type": "stream",
     "text": [
      "\n",
      "0it [00:00, ?it/s]\u001b[A\n",
      "84it [05:33,  6.72s/it]"
     ]
    },
    {
     "name": "stdout",
     "output_type": "stream",
     "text": [
      "84\n"
     ]
    },
    {
     "name": "stderr",
     "output_type": "stream",
     "text": [
      "\n",
      "  0%|                                                     | 0/3 [00:00<?, ?it/s]\u001b[A\n",
      " 33%|███████████████                              | 1/3 [00:00<00:01,  1.89it/s]\u001b[A\n",
      " 67%|██████████████████████████████               | 2/3 [00:01<00:00,  1.81it/s]\u001b[A\n",
      "100%|█████████████████████████████████████████████| 3/3 [00:01<00:00,  1.79it/s]\u001b[A\n",
      "85it [05:36,  5.39s/it]"
     ]
    },
    {
     "name": "stdout",
     "output_type": "stream",
     "text": [
      "85\n"
     ]
    },
    {
     "name": "stderr",
     "output_type": "stream",
     "text": [
      "\n",
      "  0%|                                                     | 0/1 [00:00<?, ?it/s]\u001b[A\n",
      "100%|█████████████████████████████████████████████| 1/1 [00:00<00:00,  1.59it/s]\u001b[A\n",
      "86it [05:37,  4.19s/it]"
     ]
    },
    {
     "name": "stdout",
     "output_type": "stream",
     "text": [
      "86\n"
     ]
    },
    {
     "name": "stderr",
     "output_type": "stream",
     "text": [
      "\n",
      "  0%|                                                     | 0/1 [00:00<?, ?it/s]\u001b[A\n",
      "100%|█████████████████████████████████████████████| 1/1 [00:00<00:00,  1.76it/s]\u001b[A\n",
      "87it [05:38,  3.32s/it]"
     ]
    },
    {
     "name": "stdout",
     "output_type": "stream",
     "text": [
      "87\n"
     ]
    },
    {
     "name": "stderr",
     "output_type": "stream",
     "text": [
      "\n",
      "  0%|                                                     | 0/3 [00:00<?, ?it/s]\u001b[A\n",
      " 33%|███████████████                              | 1/3 [00:00<00:01,  1.79it/s]\u001b[A\n",
      " 67%|██████████████████████████████               | 2/3 [00:01<00:00,  1.70it/s]\u001b[A\n",
      "100%|█████████████████████████████████████████████| 3/3 [00:01<00:00,  1.68it/s]\u001b[A\n",
      "88it [05:41,  3.09s/it]"
     ]
    },
    {
     "name": "stdout",
     "output_type": "stream",
     "text": [
      "88\n"
     ]
    },
    {
     "name": "stderr",
     "output_type": "stream",
     "text": [
      "\n",
      "  0%|                                                     | 0/2 [00:00<?, ?it/s]\u001b[A\n",
      " 50%|██████████████████████▌                      | 1/2 [00:00<00:00,  1.73it/s]\u001b[A\n",
      "100%|█████████████████████████████████████████████| 2/2 [00:01<00:00,  1.74it/s]\u001b[A\n",
      "89it [05:43,  2.77s/it]"
     ]
    },
    {
     "name": "stdout",
     "output_type": "stream",
     "text": [
      "89\n"
     ]
    },
    {
     "name": "stderr",
     "output_type": "stream",
     "text": [
      "\n",
      "0it [00:00, ?it/s]\u001b[A\n",
      "90it [05:43,  2.12s/it]"
     ]
    },
    {
     "name": "stdout",
     "output_type": "stream",
     "text": [
      "90\n"
     ]
    },
    {
     "name": "stderr",
     "output_type": "stream",
     "text": [
      "\n",
      "  0%|                                                     | 0/5 [00:00<?, ?it/s]\u001b[A\n",
      " 20%|█████████                                    | 1/5 [00:00<00:02,  1.71it/s]\u001b[A\n",
      " 40%|██████████████████                           | 2/5 [00:01<00:01,  1.79it/s]\u001b[A\n",
      " 60%|███████████████████████████                  | 3/5 [00:01<00:01,  1.66it/s]\u001b[A\n",
      " 80%|████████████████████████████████████         | 4/5 [00:02<00:00,  1.66it/s]\u001b[A\n",
      "100%|█████████████████████████████████████████████| 5/5 [00:03<00:00,  1.66it/s]\u001b[A\n",
      "91it [05:47,  2.58s/it]"
     ]
    },
    {
     "name": "stdout",
     "output_type": "stream",
     "text": [
      "91\n"
     ]
    },
    {
     "name": "stderr",
     "output_type": "stream",
     "text": [
      "\n",
      "0it [00:00, ?it/s]\u001b[A\n",
      "92it [05:48,  2.00s/it]"
     ]
    },
    {
     "name": "stdout",
     "output_type": "stream",
     "text": [
      "92\n"
     ]
    },
    {
     "name": "stderr",
     "output_type": "stream",
     "text": [
      "\n",
      "  0%|                                                     | 0/1 [00:00<?, ?it/s]\u001b[A\n",
      "100%|█████████████████████████████████████████████| 1/1 [00:00<00:00,  1.47it/s]\u001b[A\n",
      "93it [05:49,  1.80s/it]"
     ]
    },
    {
     "name": "stdout",
     "output_type": "stream",
     "text": [
      "93\n"
     ]
    },
    {
     "name": "stderr",
     "output_type": "stream",
     "text": [
      "\n",
      "0it [00:00, ?it/s]\u001b[A\n",
      "94it [05:50,  1.46s/it]"
     ]
    },
    {
     "name": "stdout",
     "output_type": "stream",
     "text": [
      "94\n"
     ]
    },
    {
     "name": "stderr",
     "output_type": "stream",
     "text": [
      "\n",
      "0it [00:00, ?it/s]\u001b[A\n",
      "95it [05:51,  1.26s/it]"
     ]
    },
    {
     "name": "stdout",
     "output_type": "stream",
     "text": [
      "95\n"
     ]
    },
    {
     "name": "stderr",
     "output_type": "stream",
     "text": [
      "\n",
      "  0%|                                                    | 0/12 [00:00<?, ?it/s]\u001b[A\n",
      "  8%|███▋                                        | 1/12 [00:00<00:07,  1.57it/s]\u001b[A\n",
      " 17%|███████▎                                    | 2/12 [00:01<00:05,  1.72it/s]\u001b[A\n",
      " 25%|███████████                                 | 3/12 [00:01<00:05,  1.70it/s]\u001b[A\n",
      " 33%|██████████████▋                             | 4/12 [00:02<00:04,  1.72it/s]\u001b[A\n",
      " 42%|██████████████████▎                         | 5/12 [00:03<00:04,  1.62it/s]\u001b[A\n",
      " 50%|██████████████████████                      | 6/12 [00:03<00:03,  1.55it/s]\u001b[A\n",
      " 58%|█████████████████████████▋                  | 7/12 [00:04<00:03,  1.60it/s]\u001b[A\n",
      " 67%|█████████████████████████████▎              | 8/12 [00:05<00:02,  1.48it/s]\u001b[A\n",
      " 75%|█████████████████████████████████           | 9/12 [00:05<00:02,  1.44it/s]\u001b[A\n",
      " 83%|███████████████████████████████████▊       | 10/12 [00:06<00:01,  1.49it/s]\u001b[A\n",
      " 92%|███████████████████████████████████████▍   | 11/12 [00:07<00:00,  1.50it/s]\u001b[A\n",
      "100%|███████████████████████████████████████████| 12/12 [00:07<00:00,  1.57it/s]\u001b[A\n",
      "96it [05:59,  3.37s/it]"
     ]
    },
    {
     "name": "stdout",
     "output_type": "stream",
     "text": [
      "96\n"
     ]
    },
    {
     "name": "stderr",
     "output_type": "stream",
     "text": [
      "\n",
      "0it [00:00, ?it/s]\u001b[A\n",
      "97it [05:59,  2.54s/it]"
     ]
    },
    {
     "name": "stdout",
     "output_type": "stream",
     "text": [
      "97\n"
     ]
    },
    {
     "name": "stderr",
     "output_type": "stream",
     "text": [
      "\n",
      "  0%|                                                     | 0/9 [00:00<?, ?it/s]\u001b[A\n",
      " 11%|█████                                        | 1/9 [00:00<00:04,  1.89it/s]\u001b[A\n",
      " 22%|██████████                                   | 2/9 [00:01<00:04,  1.62it/s]\u001b[A\n",
      " 33%|███████████████                              | 3/9 [00:01<00:03,  1.72it/s]\u001b[A\n",
      " 44%|████████████████████                         | 4/9 [00:02<00:03,  1.58it/s]\u001b[A\n",
      " 56%|█████████████████████████                    | 5/9 [00:03<00:02,  1.57it/s]\u001b[A\n",
      " 67%|██████████████████████████████               | 6/9 [00:03<00:01,  1.61it/s]\u001b[A\n",
      " 78%|███████████████████████████████████          | 7/9 [00:04<00:01,  1.55it/s]\u001b[A\n",
      " 89%|████████████████████████████████████████     | 8/9 [00:04<00:00,  1.59it/s]\u001b[A\n",
      "100%|█████████████████████████████████████████████| 9/9 [00:05<00:00,  1.63it/s]\u001b[A\n",
      "98it [06:06,  3.64s/it]"
     ]
    },
    {
     "name": "stdout",
     "output_type": "stream",
     "text": [
      "98\n"
     ]
    },
    {
     "name": "stderr",
     "output_type": "stream",
     "text": [
      "\n",
      "  0%|                                                     | 0/5 [00:00<?, ?it/s]\u001b[A\n",
      " 20%|█████████                                    | 1/5 [00:00<00:02,  1.65it/s]\u001b[A\n",
      " 40%|██████████████████                           | 2/5 [00:01<00:01,  1.80it/s]\u001b[A\n",
      " 60%|███████████████████████████                  | 3/5 [00:01<00:01,  1.86it/s]\u001b[A\n",
      " 80%|████████████████████████████████████         | 4/5 [00:02<00:00,  1.88it/s]\u001b[A\n",
      "100%|█████████████████████████████████████████████| 5/5 [00:02<00:00,  1.84it/s]\u001b[A\n",
      "99it [06:09,  3.56s/it]"
     ]
    },
    {
     "name": "stdout",
     "output_type": "stream",
     "text": [
      "99\n"
     ]
    },
    {
     "name": "stderr",
     "output_type": "stream",
     "text": [
      "\n",
      "  0%|                                                    | 0/88 [00:00<?, ?it/s]\u001b[A\n",
      "  1%|▌                                           | 1/88 [00:00<00:45,  1.92it/s]\u001b[A\n",
      "  2%|█                                           | 2/88 [00:01<00:47,  1.80it/s]\u001b[A\n",
      "  3%|█▌                                          | 3/88 [00:01<00:47,  1.81it/s]\u001b[A\n",
      "  5%|██                                          | 4/88 [00:02<00:48,  1.74it/s]\u001b[A\n",
      "  6%|██▌                                         | 5/88 [00:02<00:49,  1.67it/s]\u001b[A\n",
      "  7%|███                                         | 6/88 [00:03<00:48,  1.69it/s]\u001b[A\n",
      "  8%|███▌                                        | 7/88 [00:04<00:49,  1.65it/s]\u001b[A\n",
      "  9%|████                                        | 8/88 [00:04<00:48,  1.63it/s]\u001b[A\n",
      " 10%|████▌                                       | 9/88 [00:05<00:46,  1.72it/s]\u001b[A\n",
      " 11%|████▉                                      | 10/88 [00:05<00:46,  1.67it/s]\u001b[A\n",
      " 12%|█████▍                                     | 11/88 [00:06<00:47,  1.62it/s]\u001b[A\n",
      " 14%|█████▊                                     | 12/88 [00:07<00:47,  1.60it/s]\u001b[A\n",
      " 15%|██████▎                                    | 13/88 [00:07<00:45,  1.65it/s]\u001b[A\n",
      " 16%|██████▊                                    | 14/88 [00:08<00:43,  1.71it/s]\u001b[A\n",
      " 17%|███████▎                                   | 15/88 [00:08<00:41,  1.78it/s]\u001b[A\n",
      " 18%|███████▊                                   | 16/88 [00:09<00:43,  1.67it/s]\u001b[A\n",
      " 19%|████████▎                                  | 17/88 [00:09<00:40,  1.76it/s]\u001b[A\n",
      " 20%|████████▊                                  | 18/88 [00:10<00:38,  1.83it/s]\u001b[A\n",
      " 22%|█████████▎                                 | 19/88 [00:11<00:39,  1.73it/s]\u001b[A\n",
      " 23%|█████████▊                                 | 20/88 [00:11<00:38,  1.77it/s]\u001b[A\n",
      " 24%|██████████▎                                | 21/88 [00:12<00:37,  1.81it/s]\u001b[A\n",
      " 25%|██████████▊                                | 22/88 [00:12<00:35,  1.85it/s]\u001b[A\n",
      " 26%|███████████▏                               | 23/88 [00:13<00:35,  1.84it/s]\u001b[A\n",
      " 27%|███████████▋                               | 24/88 [00:13<00:35,  1.79it/s]\u001b[A\n",
      " 28%|████████████▏                              | 25/88 [00:14<00:35,  1.80it/s]\u001b[A\n",
      " 30%|████████████▋                              | 26/88 [00:14<00:33,  1.85it/s]\u001b[A\n",
      " 31%|█████████████▏                             | 27/88 [00:15<00:33,  1.81it/s]\u001b[A\n",
      " 32%|█████████████▋                             | 28/88 [00:16<00:33,  1.80it/s]\u001b[A\n",
      " 33%|██████████████▏                            | 29/88 [00:16<00:32,  1.83it/s]\u001b[A\n",
      " 34%|██████████████▋                            | 30/88 [00:17<00:33,  1.76it/s]\u001b[A\n",
      " 35%|███████████████▏                           | 31/88 [00:17<00:31,  1.79it/s]\u001b[A\n",
      " 36%|███████████████▋                           | 32/88 [00:18<00:33,  1.69it/s]\u001b[A\n",
      " 38%|████████████████▏                          | 33/88 [00:19<00:32,  1.67it/s]\u001b[A\n",
      " 39%|████████████████▌                          | 34/88 [00:19<00:31,  1.70it/s]\u001b[A\n",
      " 40%|█████████████████                          | 35/88 [00:20<00:30,  1.73it/s]\u001b[A\n",
      " 41%|█████████████████▌                         | 36/88 [00:20<00:29,  1.78it/s]\u001b[A\n",
      " 42%|██████████████████                         | 37/88 [00:21<00:28,  1.81it/s]\u001b[A\n",
      " 43%|██████████████████▌                        | 38/88 [00:21<00:26,  1.86it/s]\u001b[A\n",
      " 44%|███████████████████                        | 39/88 [00:22<00:29,  1.68it/s]\u001b[A\n",
      " 45%|███████████████████▌                       | 40/88 [00:23<00:29,  1.61it/s]\u001b[A\n",
      " 47%|████████████████████                       | 41/88 [00:23<00:28,  1.65it/s]\u001b[A\n",
      " 48%|████████████████████▌                      | 42/88 [00:24<00:27,  1.67it/s]\u001b[A\n",
      " 49%|█████████████████████                      | 43/88 [00:24<00:26,  1.69it/s]\u001b[A\n",
      " 50%|█████████████████████▌                     | 44/88 [00:25<00:25,  1.71it/s]\u001b[A\n",
      " 51%|█████████████████████▉                     | 45/88 [00:25<00:24,  1.76it/s]\u001b[A\n",
      " 52%|██████████████████████▍                    | 46/88 [00:26<00:24,  1.72it/s]\u001b[A\n",
      " 53%|██████████████████████▉                    | 47/88 [00:27<00:23,  1.73it/s]\u001b[A\n",
      " 55%|███████████████████████▍                   | 48/88 [00:27<00:22,  1.74it/s]\u001b[A\n",
      " 56%|███████████████████████▉                   | 49/88 [00:28<00:22,  1.77it/s]\u001b[A\n",
      " 57%|████████████████████████▍                  | 50/88 [00:28<00:22,  1.71it/s]\u001b[A\n",
      " 58%|████████████████████████▉                  | 51/88 [00:29<00:23,  1.61it/s]\u001b[A\n",
      " 59%|█████████████████████████▍                 | 52/88 [00:30<00:22,  1.63it/s]\u001b[A\n",
      " 60%|█████████████████████████▉                 | 53/88 [00:30<00:20,  1.72it/s]\u001b[A\n",
      " 61%|██████████████████████████▍                | 54/88 [00:31<00:19,  1.70it/s]\u001b[A\n",
      " 62%|██████████████████████████▉                | 55/88 [00:31<00:19,  1.66it/s]\u001b[A\n",
      " 64%|███████████████████████████▎               | 56/88 [00:32<00:18,  1.73it/s]\u001b[A\n",
      " 65%|███████████████████████████▊               | 57/88 [00:33<00:18,  1.64it/s]\u001b[A\n",
      " 66%|████████████████████████████▎              | 58/88 [00:33<00:17,  1.69it/s]\u001b[A\n",
      " 67%|████████████████████████████▊              | 59/88 [00:34<00:17,  1.61it/s]\u001b[A\n",
      " 68%|█████████████████████████████▎             | 60/88 [00:34<00:16,  1.70it/s]\u001b[A\n",
      " 69%|█████████████████████████████▊             | 61/88 [00:35<00:16,  1.67it/s]\u001b[A\n",
      " 70%|██████████████████████████████▎            | 62/88 [00:36<00:15,  1.64it/s]\u001b[A\n",
      " 72%|██████████████████████████████▊            | 63/88 [00:36<00:15,  1.66it/s]\u001b[A\n",
      " 73%|███████████████████████████████▎           | 64/88 [00:37<00:14,  1.70it/s]\u001b[A\n",
      " 74%|███████████████████████████████▊           | 65/88 [00:37<00:13,  1.66it/s]\u001b[A\n",
      " 75%|████████████████████████████████▎          | 66/88 [00:38<00:13,  1.66it/s]\u001b[A\n",
      " 76%|████████████████████████████████▋          | 67/88 [00:39<00:12,  1.68it/s]\u001b[A\n",
      " 77%|█████████████████████████████████▏         | 68/88 [00:39<00:12,  1.54it/s]\u001b[A\n",
      " 78%|█████████████████████████████████▋         | 69/88 [00:40<00:11,  1.60it/s]\u001b[A\n",
      " 80%|██████████████████████████████████▏        | 70/88 [00:40<00:10,  1.66it/s]\u001b[A\n",
      " 81%|██████████████████████████████████▋        | 71/88 [00:41<00:11,  1.54it/s]\u001b[A\n",
      " 82%|███████████████████████████████████▏       | 72/88 [00:42<00:10,  1.55it/s]\u001b[A\n",
      " 83%|███████████████████████████████████▋       | 73/88 [00:42<00:09,  1.60it/s]\u001b[A\n",
      " 84%|████████████████████████████████████▏      | 74/88 [00:43<00:08,  1.65it/s]\u001b[A\n",
      " 85%|████████████████████████████████████▋      | 75/88 [00:44<00:07,  1.66it/s]\u001b[A\n",
      " 86%|█████████████████████████████████████▏     | 76/88 [00:44<00:07,  1.69it/s]\u001b[A\n",
      " 88%|█████████████████████████████████████▋     | 77/88 [00:45<00:06,  1.72it/s]\u001b[A\n",
      " 89%|██████████████████████████████████████     | 78/88 [00:45<00:05,  1.74it/s]\u001b[A\n",
      " 90%|██████████████████████████████████████▌    | 79/88 [00:46<00:05,  1.68it/s]\u001b[A\n",
      " 91%|███████████████████████████████████████    | 80/88 [00:46<00:04,  1.71it/s]\u001b[A\n",
      " 92%|███████████████████████████████████████▌   | 81/88 [00:47<00:04,  1.65it/s]\u001b[A\n",
      " 93%|████████████████████████████████████████   | 82/88 [00:48<00:03,  1.69it/s]\u001b[A\n",
      " 94%|████████████████████████████████████████▌  | 83/88 [00:48<00:03,  1.62it/s]\u001b[A\n",
      " 95%|█████████████████████████████████████████  | 84/88 [00:49<00:02,  1.61it/s]\u001b[A\n",
      " 97%|█████████████████████████████████████████▌ | 85/88 [00:50<00:01,  1.62it/s]\u001b[A\n",
      " 98%|██████████████████████████████████████████ | 86/88 [00:50<00:01,  1.61it/s]\u001b[A\n",
      " 99%|██████████████████████████████████████████▌| 87/88 [00:51<00:00,  1.61it/s]\u001b[A\n",
      "100%|███████████████████████████████████████████| 88/88 [00:51<00:00,  1.70it/s]\u001b[A\n",
      "100it [07:02, 18.30s/it]"
     ]
    },
    {
     "name": "stdout",
     "output_type": "stream",
     "text": [
      "100\n"
     ]
    },
    {
     "name": "stderr",
     "output_type": "stream",
     "text": [
      "\n",
      "  0%|                                                    | 0/14 [00:00<?, ?it/s]\u001b[A\n",
      "  7%|███▏                                        | 1/14 [00:00<00:08,  1.57it/s]\u001b[A\n",
      " 14%|██████▎                                     | 2/14 [00:01<00:06,  1.74it/s]\u001b[A\n",
      " 21%|█████████▍                                  | 3/14 [00:01<00:06,  1.70it/s]\u001b[A\n",
      " 29%|████████████▌                               | 4/14 [00:02<00:06,  1.62it/s]\u001b[A\n",
      " 36%|███████████████▋                            | 5/14 [00:03<00:05,  1.66it/s]\u001b[A\n",
      " 43%|██████████████████▊                         | 6/14 [00:03<00:04,  1.66it/s]\u001b[A\n",
      " 50%|██████████████████████                      | 7/14 [00:04<00:04,  1.68it/s]\u001b[A\n",
      " 57%|█████████████████████████▏                  | 8/14 [00:04<00:03,  1.68it/s]\u001b[A\n",
      " 64%|████████████████████████████▎               | 9/14 [00:05<00:02,  1.71it/s]\u001b[A\n",
      " 71%|██████████████████████████████▋            | 10/14 [00:05<00:02,  1.68it/s]\u001b[A\n",
      " 79%|█████████████████████████████████▊         | 11/14 [00:06<00:01,  1.71it/s]\u001b[A\n",
      " 86%|████████████████████████████████████▊      | 12/14 [00:07<00:01,  1.73it/s]\u001b[A\n",
      " 93%|███████████████████████████████████████▉   | 13/14 [00:07<00:00,  1.67it/s]\u001b[A\n",
      "100%|███████████████████████████████████████████| 14/14 [00:08<00:00,  1.68it/s]\u001b[A\n",
      "101it [07:11, 15.56s/it]"
     ]
    },
    {
     "name": "stdout",
     "output_type": "stream",
     "text": [
      "101\n"
     ]
    },
    {
     "name": "stderr",
     "output_type": "stream",
     "text": [
      "\n",
      "  0%|                                                     | 0/4 [00:00<?, ?it/s]\u001b[A\n",
      " 25%|███████████▎                                 | 1/4 [00:00<00:01,  1.90it/s]\u001b[A\n",
      " 50%|██████████████████████▌                      | 2/4 [00:01<00:01,  1.93it/s]\u001b[A\n",
      " 75%|█████████████████████████████████▊           | 3/4 [00:01<00:00,  1.91it/s]\u001b[A\n",
      "100%|█████████████████████████████████████████████| 4/4 [00:02<00:00,  1.90it/s]\u001b[A\n",
      "102it [07:14, 11.72s/it]"
     ]
    },
    {
     "name": "stdout",
     "output_type": "stream",
     "text": [
      "102\n"
     ]
    },
    {
     "name": "stderr",
     "output_type": "stream",
     "text": [
      "\n",
      "  0%|                                                     | 0/3 [00:00<?, ?it/s]\u001b[A\n",
      " 33%|███████████████                              | 1/3 [00:00<00:01,  1.89it/s]\u001b[A\n",
      " 67%|██████████████████████████████               | 2/3 [00:01<00:00,  1.88it/s]\u001b[A\n",
      "100%|█████████████████████████████████████████████| 3/3 [00:01<00:00,  1.92it/s]\u001b[A\n",
      "103it [07:16,  8.88s/it]"
     ]
    },
    {
     "name": "stdout",
     "output_type": "stream",
     "text": [
      "103\n"
     ]
    },
    {
     "name": "stderr",
     "output_type": "stream",
     "text": [
      "\n",
      "  0%|                                                     | 0/3 [00:00<?, ?it/s]\u001b[A\n",
      " 33%|███████████████                              | 1/3 [00:00<00:00,  2.03it/s]\u001b[A\n",
      " 67%|██████████████████████████████               | 2/3 [00:01<00:00,  1.91it/s]\u001b[A\n",
      "100%|█████████████████████████████████████████████| 3/3 [00:01<00:00,  1.93it/s]\u001b[A\n",
      "104it [07:18,  6.89s/it]"
     ]
    },
    {
     "name": "stdout",
     "output_type": "stream",
     "text": [
      "104\n"
     ]
    },
    {
     "name": "stderr",
     "output_type": "stream",
     "text": [
      "\n",
      "  0%|                                                    | 0/12 [00:00<?, ?it/s]\u001b[A\n",
      "  8%|███▋                                        | 1/12 [00:00<00:07,  1.54it/s]\u001b[A\n",
      " 17%|███████▎                                    | 2/12 [00:01<00:06,  1.54it/s]\u001b[A\n",
      " 25%|███████████                                 | 3/12 [00:01<00:05,  1.64it/s]\u001b[A\n",
      " 33%|██████████████▋                             | 4/12 [00:02<00:05,  1.56it/s]\u001b[A\n",
      " 42%|██████████████████▎                         | 5/12 [00:03<00:04,  1.43it/s]\u001b[A\n",
      " 50%|██████████████████████                      | 6/12 [00:03<00:03,  1.53it/s]\u001b[A\n",
      " 58%|█████████████████████████▋                  | 7/12 [00:04<00:03,  1.56it/s]\u001b[A\n",
      " 67%|█████████████████████████████▎              | 8/12 [00:05<00:02,  1.61it/s]\u001b[A\n",
      " 75%|█████████████████████████████████           | 9/12 [00:05<00:01,  1.61it/s]\u001b[A\n",
      " 83%|███████████████████████████████████▊       | 10/12 [00:06<00:01,  1.65it/s]\u001b[A\n",
      " 92%|███████████████████████████████████████▍   | 11/12 [00:06<00:00,  1.69it/s]\u001b[A\n",
      "100%|███████████████████████████████████████████| 12/12 [00:07<00:00,  1.62it/s]\u001b[A\n",
      "105it [07:26,  7.27s/it]"
     ]
    },
    {
     "name": "stdout",
     "output_type": "stream",
     "text": [
      "105\n"
     ]
    },
    {
     "name": "stderr",
     "output_type": "stream",
     "text": [
      "\n",
      "  0%|                                                     | 0/2 [00:00<?, ?it/s]\u001b[A\n",
      " 50%|██████████████████████▌                      | 1/2 [00:00<00:00,  1.75it/s]\u001b[A\n",
      "100%|█████████████████████████████████████████████| 2/2 [00:01<00:00,  1.75it/s]\u001b[A\n",
      "106it [07:28,  5.64s/it]"
     ]
    },
    {
     "name": "stdout",
     "output_type": "stream",
     "text": [
      "106\n"
     ]
    },
    {
     "name": "stderr",
     "output_type": "stream",
     "text": [
      "\n",
      "  0%|                                                     | 0/2 [00:00<?, ?it/s]\u001b[A\n",
      " 50%|██████████████████████▌                      | 1/2 [00:00<00:00,  1.57it/s]\u001b[A\n",
      "100%|█████████████████████████████████████████████| 2/2 [00:01<00:00,  1.63it/s]\u001b[A\n",
      "107it [07:30,  4.52s/it]"
     ]
    },
    {
     "name": "stdout",
     "output_type": "stream",
     "text": [
      "107\n"
     ]
    },
    {
     "name": "stderr",
     "output_type": "stream",
     "text": [
      "\n",
      "  0%|                                                     | 0/2 [00:00<?, ?it/s]\u001b[A\n",
      " 50%|██████████████████████▌                      | 1/2 [00:00<00:00,  1.90it/s]\u001b[A\n",
      "100%|█████████████████████████████████████████████| 2/2 [00:01<00:00,  1.83it/s]\u001b[A\n",
      "108it [07:32,  3.70s/it]"
     ]
    },
    {
     "name": "stdout",
     "output_type": "stream",
     "text": [
      "108\n"
     ]
    },
    {
     "name": "stderr",
     "output_type": "stream",
     "text": [
      "\n",
      "  0%|                                                     | 0/8 [00:00<?, ?it/s]\u001b[A\n",
      " 12%|█████▋                                       | 1/8 [00:00<00:03,  1.80it/s]\u001b[A\n",
      " 25%|███████████▎                                 | 2/8 [00:01<00:03,  1.70it/s]\u001b[A\n",
      " 38%|████████████████▉                            | 3/8 [00:01<00:02,  1.79it/s]\u001b[A\n",
      " 50%|██████████████████████▌                      | 4/8 [00:02<00:02,  1.82it/s]\u001b[A\n",
      " 62%|████████████████████████████▏                | 5/8 [00:02<00:01,  1.76it/s]\u001b[A\n",
      " 75%|█████████████████████████████████▊           | 6/8 [00:03<00:01,  1.80it/s]\u001b[A\n",
      " 88%|███████████████████████████████████████▍     | 7/8 [00:03<00:00,  1.82it/s]\u001b[A\n",
      "100%|█████████████████████████████████████████████| 8/8 [00:04<00:00,  1.78it/s]\u001b[A\n",
      "109it [07:37,  4.15s/it]"
     ]
    },
    {
     "name": "stdout",
     "output_type": "stream",
     "text": [
      "109\n"
     ]
    },
    {
     "name": "stderr",
     "output_type": "stream",
     "text": [
      "\n",
      "  0%|                                                    | 0/19 [00:00<?, ?it/s]\u001b[A\n",
      "  5%|██▎                                         | 1/19 [00:00<00:10,  1.73it/s]\u001b[A\n",
      " 11%|████▋                                       | 2/19 [00:01<00:09,  1.76it/s]\u001b[A\n",
      " 16%|██████▉                                     | 3/19 [00:01<00:09,  1.72it/s]\u001b[A\n",
      " 21%|█████████▎                                  | 4/19 [00:02<00:08,  1.74it/s]\u001b[A\n",
      " 26%|███████████▌                                | 5/19 [00:02<00:07,  1.78it/s]\u001b[A\n",
      " 32%|█████████████▉                              | 6/19 [00:03<00:07,  1.82it/s]\u001b[A\n",
      " 37%|████████████████▏                           | 7/19 [00:03<00:06,  1.86it/s]\u001b[A\n",
      " 42%|██████████████████▌                         | 8/19 [00:04<00:06,  1.70it/s]\u001b[A\n",
      " 47%|████████████████████▊                       | 9/19 [00:05<00:05,  1.73it/s]\u001b[A\n",
      " 53%|██████████████████████▋                    | 10/19 [00:05<00:05,  1.74it/s]\u001b[A\n",
      " 58%|████████████████████████▉                  | 11/19 [00:06<00:04,  1.65it/s]\u001b[A\n",
      " 63%|███████████████████████████▏               | 12/19 [00:06<00:04,  1.66it/s]\u001b[A\n",
      " 68%|█████████████████████████████▍             | 13/19 [00:07<00:03,  1.68it/s]\u001b[A\n",
      " 74%|███████████████████████████████▋           | 14/19 [00:08<00:02,  1.74it/s]\u001b[A\n",
      " 79%|█████████████████████████████████▉         | 15/19 [00:08<00:02,  1.78it/s]\u001b[A\n",
      " 84%|████████████████████████████████████▏      | 16/19 [00:09<00:01,  1.81it/s]\u001b[A\n",
      " 89%|██████████████████████████████████████▍    | 17/19 [00:09<00:01,  1.87it/s]\u001b[A\n",
      " 95%|████████████████████████████████████████▋  | 18/19 [00:10<00:00,  1.83it/s]\u001b[A\n",
      "100%|███████████████████████████████████████████| 19/19 [00:10<00:00,  1.75it/s]\u001b[A\n",
      "110it [07:48,  6.34s/it]"
     ]
    },
    {
     "name": "stdout",
     "output_type": "stream",
     "text": [
      "110\n"
     ]
    },
    {
     "name": "stderr",
     "output_type": "stream",
     "text": [
      "\n",
      "  0%|                                                     | 0/3 [00:00<?, ?it/s]\u001b[A\n",
      " 33%|███████████████                              | 1/3 [00:00<00:01,  1.97it/s]\u001b[A\n",
      " 67%|██████████████████████████████               | 2/3 [00:01<00:00,  1.88it/s]\u001b[A\n",
      "100%|█████████████████████████████████████████████| 3/3 [00:01<00:00,  1.89it/s]\u001b[A\n",
      "111it [07:51,  5.12s/it]"
     ]
    },
    {
     "name": "stdout",
     "output_type": "stream",
     "text": [
      "111\n"
     ]
    },
    {
     "name": "stderr",
     "output_type": "stream",
     "text": [
      "\n",
      "  0%|                                                     | 0/1 [00:00<?, ?it/s]\u001b[A\n",
      "100%|█████████████████████████████████████████████| 1/1 [00:00<00:00,  1.83it/s]\u001b[A\n",
      "112it [07:52,  3.95s/it]"
     ]
    },
    {
     "name": "stdout",
     "output_type": "stream",
     "text": [
      "112\n"
     ]
    },
    {
     "name": "stderr",
     "output_type": "stream",
     "text": [
      "\n",
      "  0%|                                                    | 0/18 [00:00<?, ?it/s]\u001b[A\n",
      "  6%|██▍                                         | 1/18 [00:00<00:08,  1.89it/s]\u001b[A\n",
      " 11%|████▉                                       | 2/18 [00:01<00:08,  1.81it/s]\u001b[A\n",
      " 17%|███████▎                                    | 3/18 [00:01<00:08,  1.86it/s]\u001b[A\n",
      " 22%|█████████▊                                  | 4/18 [00:02<00:07,  1.87it/s]\u001b[A\n",
      " 28%|████████████▏                               | 5/18 [00:02<00:07,  1.73it/s]\u001b[A\n",
      " 33%|██████████████▋                             | 6/18 [00:03<00:07,  1.66it/s]\u001b[A\n",
      " 39%|█████████████████                           | 7/18 [00:04<00:06,  1.64it/s]\u001b[A\n",
      " 44%|███████████████████▌                        | 8/18 [00:04<00:05,  1.71it/s]\u001b[A\n",
      " 50%|██████████████████████                      | 9/18 [00:05<00:05,  1.65it/s]\u001b[A\n",
      " 56%|███████████████████████▉                   | 10/18 [00:05<00:04,  1.71it/s]\u001b[A\n",
      " 61%|██████████████████████████▎                | 11/18 [00:06<00:04,  1.71it/s]\u001b[A\n",
      " 67%|████████████████████████████▋              | 12/18 [00:06<00:03,  1.68it/s]\u001b[A\n",
      " 72%|███████████████████████████████            | 13/18 [00:07<00:02,  1.74it/s]\u001b[A\n",
      " 78%|█████████████████████████████████▍         | 14/18 [00:08<00:02,  1.70it/s]\u001b[A\n",
      " 83%|███████████████████████████████████▊       | 15/18 [00:08<00:01,  1.79it/s]\u001b[A\n",
      " 89%|██████████████████████████████████████▏    | 16/18 [00:09<00:01,  1.73it/s]\u001b[A\n",
      " 94%|████████████████████████████████████████▌  | 17/18 [00:09<00:00,  1.74it/s]\u001b[A\n",
      "100%|███████████████████████████████████████████| 18/18 [00:10<00:00,  1.73it/s]\u001b[A\n",
      "113it [08:03,  6.09s/it]"
     ]
    },
    {
     "name": "stdout",
     "output_type": "stream",
     "text": [
      "113\n"
     ]
    },
    {
     "name": "stderr",
     "output_type": "stream",
     "text": [
      "\n",
      "  0%|                                                     | 0/7 [00:00<?, ?it/s]\u001b[A\n",
      " 14%|██████▍                                      | 1/7 [00:00<00:03,  1.82it/s]\u001b[A\n",
      " 29%|████████████▊                                | 2/7 [00:01<00:02,  1.77it/s]\u001b[A\n",
      " 43%|███████████████████▎                         | 3/7 [00:01<00:02,  1.74it/s]\u001b[A\n",
      " 57%|█████████████████████████▋                   | 4/7 [00:02<00:01,  1.68it/s]\u001b[A\n",
      " 71%|████████████████████████████████▏            | 5/7 [00:02<00:01,  1.78it/s]\u001b[A\n",
      " 86%|██████████████████████████████████████▌      | 6/7 [00:03<00:00,  1.81it/s]\u001b[A\n",
      "100%|█████████████████████████████████████████████| 7/7 [00:04<00:00,  1.72it/s]\u001b[A\n",
      "114it [08:08,  5.67s/it]"
     ]
    },
    {
     "name": "stdout",
     "output_type": "stream",
     "text": [
      "114\n"
     ]
    },
    {
     "name": "stderr",
     "output_type": "stream",
     "text": [
      "\n",
      "0it [00:00, ?it/s]\u001b[A\n",
      "115it [08:08,  4.14s/it]"
     ]
    },
    {
     "name": "stdout",
     "output_type": "stream",
     "text": [
      "115\n"
     ]
    },
    {
     "name": "stderr",
     "output_type": "stream",
     "text": [
      "\n",
      "  0%|                                                     | 0/4 [00:00<?, ?it/s]\u001b[A\n",
      " 25%|███████████▎                                 | 1/4 [00:00<00:01,  1.83it/s]\u001b[A\n",
      " 50%|██████████████████████▌                      | 2/4 [00:01<00:01,  1.80it/s]\u001b[A\n",
      " 75%|█████████████████████████████████▊           | 3/4 [00:01<00:00,  1.78it/s]\u001b[A\n",
      "100%|█████████████████████████████████████████████| 4/4 [00:02<00:00,  1.79it/s]\u001b[A\n",
      "116it [08:11,  3.76s/it]"
     ]
    },
    {
     "name": "stdout",
     "output_type": "stream",
     "text": [
      "116\n"
     ]
    },
    {
     "name": "stderr",
     "output_type": "stream",
     "text": [
      "\n",
      "0it [00:00, ?it/s]\u001b[A\n",
      "117it [08:12,  2.82s/it]"
     ]
    },
    {
     "name": "stdout",
     "output_type": "stream",
     "text": [
      "117\n"
     ]
    },
    {
     "name": "stderr",
     "output_type": "stream",
     "text": [
      "\n",
      "  0%|                                                     | 0/3 [00:00<?, ?it/s]\u001b[A\n",
      " 33%|███████████████                              | 1/3 [00:00<00:01,  1.89it/s]\u001b[A\n",
      " 67%|██████████████████████████████               | 2/3 [00:01<00:00,  1.75it/s]\u001b[A\n",
      "100%|█████████████████████████████████████████████| 3/3 [00:01<00:00,  1.80it/s]\u001b[A\n",
      "118it [08:14,  2.68s/it]"
     ]
    },
    {
     "name": "stdout",
     "output_type": "stream",
     "text": [
      "118\n"
     ]
    },
    {
     "name": "stderr",
     "output_type": "stream",
     "text": [
      "\n",
      "0it [00:00, ?it/s]\u001b[A\n",
      "119it [08:15,  2.07s/it]"
     ]
    },
    {
     "name": "stdout",
     "output_type": "stream",
     "text": [
      "119\n"
     ]
    },
    {
     "name": "stderr",
     "output_type": "stream",
     "text": [
      "\n",
      "  0%|                                                    | 0/16 [00:00<?, ?it/s]\u001b[A\n",
      "  6%|██▊                                         | 1/16 [00:00<00:08,  1.67it/s]\u001b[A\n",
      " 12%|█████▌                                      | 2/16 [00:01<00:08,  1.56it/s]\u001b[A\n",
      " 19%|████████▎                                   | 3/16 [00:01<00:07,  1.71it/s]\u001b[A\n",
      " 25%|███████████                                 | 4/16 [00:02<00:06,  1.78it/s]\u001b[A\n",
      " 31%|█████████████▊                              | 5/16 [00:02<00:06,  1.80it/s]\u001b[A\n",
      " 38%|████████████████▌                           | 6/16 [00:03<00:05,  1.68it/s]\u001b[A\n",
      " 44%|███████████████████▎                        | 7/16 [00:04<00:05,  1.69it/s]\u001b[A\n",
      " 50%|██████████████████████                      | 8/16 [00:04<00:04,  1.70it/s]\u001b[A\n",
      " 56%|████████████████████████▊                   | 9/16 [00:05<00:03,  1.75it/s]\u001b[A\n",
      " 62%|██████████████████████████▉                | 10/16 [00:05<00:03,  1.77it/s]\u001b[A\n",
      " 69%|█████████████████████████████▌             | 11/16 [00:06<00:02,  1.74it/s]\u001b[A\n",
      " 75%|████████████████████████████████▎          | 12/16 [00:06<00:02,  1.83it/s]\u001b[A\n",
      " 81%|██████████████████████████████████▉        | 13/16 [00:07<00:01,  1.83it/s]\u001b[A\n",
      " 88%|█████████████████████████████████████▋     | 14/16 [00:08<00:01,  1.70it/s]\u001b[A\n",
      " 94%|████████████████████████████████████████▎  | 15/16 [00:08<00:00,  1.63it/s]\u001b[A\n",
      "100%|███████████████████████████████████████████| 16/16 [00:09<00:00,  1.71it/s]\u001b[A\n",
      "120it [08:25,  4.44s/it]"
     ]
    },
    {
     "name": "stdout",
     "output_type": "stream",
     "text": [
      "120\n"
     ]
    },
    {
     "name": "stderr",
     "output_type": "stream",
     "text": [
      "\n",
      "0it [00:00, ?it/s]\u001b[A\n",
      "121it [08:25,  3.31s/it]"
     ]
    },
    {
     "name": "stdout",
     "output_type": "stream",
     "text": [
      "121\n"
     ]
    },
    {
     "name": "stderr",
     "output_type": "stream",
     "text": [
      "\n",
      "  0%|                                                    | 0/11 [00:00<?, ?it/s]\u001b[A\n",
      "  9%|████                                        | 1/11 [00:00<00:05,  1.70it/s]\u001b[A\n",
      " 18%|████████                                    | 2/11 [00:01<00:05,  1.80it/s]\u001b[A\n",
      " 27%|████████████                                | 3/11 [00:01<00:04,  1.74it/s]\u001b[A\n",
      " 36%|████████████████                            | 4/11 [00:02<00:03,  1.78it/s]\u001b[A\n",
      " 45%|████████████████████                        | 5/11 [00:02<00:03,  1.83it/s]\u001b[A\n",
      " 55%|████████████████████████                    | 6/11 [00:03<00:02,  1.83it/s]\u001b[A\n",
      " 64%|████████████████████████████                | 7/11 [00:03<00:02,  1.81it/s]\u001b[A\n",
      " 73%|████████████████████████████████            | 8/11 [00:04<00:01,  1.84it/s]\u001b[A\n",
      " 82%|████████████████████████████████████        | 9/11 [00:04<00:01,  1.81it/s]\u001b[A\n",
      " 91%|███████████████████████████████████████    | 10/11 [00:05<00:00,  1.85it/s]\u001b[A\n",
      "100%|███████████████████████████████████████████| 11/11 [00:06<00:00,  1.83it/s]\u001b[A\n",
      "122it [08:32,  4.30s/it]"
     ]
    },
    {
     "name": "stdout",
     "output_type": "stream",
     "text": [
      "122\n"
     ]
    },
    {
     "name": "stderr",
     "output_type": "stream",
     "text": [
      "\n",
      "0it [00:00, ?it/s]\u001b[A\n",
      "123it [08:33,  3.19s/it]"
     ]
    },
    {
     "name": "stdout",
     "output_type": "stream",
     "text": [
      "123\n"
     ]
    },
    {
     "name": "stderr",
     "output_type": "stream",
     "text": [
      "\n",
      "0it [00:00, ?it/s]\u001b[A\n",
      "124it [08:33,  2.43s/it]"
     ]
    },
    {
     "name": "stdout",
     "output_type": "stream",
     "text": [
      "124\n"
     ]
    },
    {
     "name": "stderr",
     "output_type": "stream",
     "text": [
      "\n",
      "0it [00:00, ?it/s]\u001b[A\n",
      "125it [08:34,  1.87s/it]"
     ]
    },
    {
     "name": "stdout",
     "output_type": "stream",
     "text": [
      "125\n"
     ]
    },
    {
     "name": "stderr",
     "output_type": "stream",
     "text": [
      "\n",
      "0it [00:00, ?it/s]\u001b[A\n",
      "126it [08:35,  1.50s/it]"
     ]
    },
    {
     "name": "stdout",
     "output_type": "stream",
     "text": [
      "126\n"
     ]
    },
    {
     "name": "stderr",
     "output_type": "stream",
     "text": [
      "\n",
      "  0%|                                                     | 0/1 [00:00<?, ?it/s]\u001b[A\n",
      "100%|█████████████████████████████████████████████| 1/1 [00:00<00:00,  1.80it/s]\u001b[A\n",
      "127it [08:36,  1.44s/it]"
     ]
    },
    {
     "name": "stdout",
     "output_type": "stream",
     "text": [
      "127\n"
     ]
    },
    {
     "name": "stderr",
     "output_type": "stream",
     "text": [
      "\n",
      "0it [00:00, ?it/s]\u001b[A\n",
      "128it [08:37,  1.21s/it]"
     ]
    },
    {
     "name": "stdout",
     "output_type": "stream",
     "text": [
      "128\n"
     ]
    },
    {
     "name": "stderr",
     "output_type": "stream",
     "text": [
      "\n",
      "0it [00:00, ?it/s]\u001b[A\n",
      "129it [08:37,  1.05s/it]"
     ]
    },
    {
     "name": "stdout",
     "output_type": "stream",
     "text": [
      "129\n"
     ]
    },
    {
     "name": "stderr",
     "output_type": "stream",
     "text": [
      "\n",
      "0it [00:00, ?it/s]\u001b[A\n",
      "130it [08:38,  1.09it/s]"
     ]
    },
    {
     "name": "stdout",
     "output_type": "stream",
     "text": [
      "130\n"
     ]
    },
    {
     "name": "stderr",
     "output_type": "stream",
     "text": [
      "\n",
      "  0%|                                                    | 0/44 [00:00<?, ?it/s]\u001b[A\n",
      "  2%|█                                           | 1/44 [00:00<00:22,  1.92it/s]\u001b[A\n",
      "  5%|██                                          | 2/44 [00:01<00:22,  1.85it/s]\u001b[A\n",
      "  7%|███                                         | 3/44 [00:01<00:22,  1.85it/s]\u001b[A\n",
      "  9%|████                                        | 4/44 [00:02<00:21,  1.85it/s]\u001b[A\n",
      " 11%|█████                                       | 5/44 [00:02<00:21,  1.82it/s]\u001b[A\n",
      " 14%|██████                                      | 6/44 [00:03<00:22,  1.68it/s]\u001b[A\n",
      " 16%|███████                                     | 7/44 [00:03<00:21,  1.69it/s]\u001b[A\n",
      " 18%|████████                                    | 8/44 [00:04<00:21,  1.65it/s]\u001b[A\n",
      " 20%|█████████                                   | 9/44 [00:05<00:21,  1.67it/s]\u001b[A\n",
      " 23%|█████████▊                                 | 10/44 [00:05<00:19,  1.73it/s]\u001b[A\n",
      " 25%|██████████▊                                | 11/44 [00:06<00:24,  1.37it/s]\u001b[A\n",
      " 27%|███████████▋                               | 12/44 [00:07<00:22,  1.45it/s]\u001b[A\n",
      " 30%|████████████▋                              | 13/44 [00:08<00:20,  1.48it/s]\u001b[A\n",
      " 32%|█████████████▋                             | 14/44 [00:08<00:19,  1.54it/s]\u001b[A\n",
      " 34%|██████████████▋                            | 15/44 [00:09<00:18,  1.56it/s]\u001b[A\n",
      " 36%|███████████████▋                           | 16/44 [00:09<00:17,  1.61it/s]\u001b[A\n",
      " 39%|████████████████▌                          | 17/44 [00:10<00:17,  1.56it/s]\u001b[A\n",
      " 41%|█████████████████▌                         | 18/44 [00:11<00:17,  1.51it/s]\u001b[A\n",
      " 43%|██████████████████▌                        | 19/44 [00:11<00:15,  1.57it/s]\u001b[A\n",
      " 45%|███████████████████▌                       | 20/44 [00:12<00:14,  1.62it/s]\u001b[A\n",
      " 48%|████████████████████▌                      | 21/44 [00:12<00:13,  1.67it/s]\u001b[A\n",
      " 50%|█████████████████████▌                     | 22/44 [00:13<00:13,  1.64it/s]\u001b[A\n",
      " 52%|██████████████████████▍                    | 23/44 [00:14<00:12,  1.65it/s]\u001b[A\n",
      " 55%|███████████████████████▍                   | 24/44 [00:14<00:12,  1.65it/s]\u001b[A\n",
      " 57%|████████████████████████▍                  | 25/44 [00:15<00:11,  1.63it/s]\u001b[A\n",
      " 59%|█████████████████████████▍                 | 26/44 [00:15<00:10,  1.66it/s]\u001b[A\n",
      " 61%|██████████████████████████▍                | 27/44 [00:16<00:10,  1.61it/s]\u001b[A\n",
      " 64%|███████████████████████████▎               | 28/44 [00:17<00:10,  1.55it/s]\u001b[A\n",
      " 66%|████████████████████████████▎              | 29/44 [00:17<00:09,  1.61it/s]\u001b[A\n",
      " 68%|█████████████████████████████▎             | 30/44 [00:18<00:08,  1.61it/s]\u001b[A\n",
      " 70%|██████████████████████████████▎            | 31/44 [00:19<00:07,  1.65it/s]\u001b[A\n",
      " 73%|███████████████████████████████▎           | 32/44 [00:19<00:07,  1.69it/s]\u001b[A\n",
      " 75%|████████████████████████████████▎          | 33/44 [00:20<00:06,  1.72it/s]\u001b[A\n",
      " 77%|█████████████████████████████████▏         | 34/44 [00:20<00:05,  1.69it/s]\u001b[A\n",
      " 80%|██████████████████████████████████▏        | 35/44 [00:21<00:05,  1.72it/s]\u001b[A\n",
      " 82%|███████████████████████████████████▏       | 36/44 [00:21<00:04,  1.74it/s]\u001b[A\n",
      " 84%|████████████████████████████████████▏      | 37/44 [00:22<00:03,  1.76it/s]\u001b[A\n",
      " 86%|█████████████████████████████████████▏     | 38/44 [00:23<00:03,  1.76it/s]\u001b[A\n",
      " 89%|██████████████████████████████████████     | 39/44 [00:23<00:02,  1.67it/s]\u001b[A\n",
      " 91%|███████████████████████████████████████    | 40/44 [00:24<00:02,  1.70it/s]\u001b[A\n",
      " 93%|████████████████████████████████████████   | 41/44 [00:24<00:01,  1.73it/s]\u001b[A\n",
      " 95%|█████████████████████████████████████████  | 42/44 [00:25<00:01,  1.70it/s]\u001b[A\n",
      " 98%|██████████████████████████████████████████ | 43/44 [00:26<00:00,  1.67it/s]\u001b[A\n",
      "100%|███████████████████████████████████████████| 44/44 [00:26<00:00,  1.65it/s]\u001b[A\n",
      "131it [09:05,  8.88s/it]"
     ]
    },
    {
     "name": "stdout",
     "output_type": "stream",
     "text": [
      "131\n"
     ]
    },
    {
     "name": "stderr",
     "output_type": "stream",
     "text": [
      "\n",
      "0it [00:00, ?it/s]\u001b[A\n",
      "132it [09:06,  6.40s/it]"
     ]
    },
    {
     "name": "stdout",
     "output_type": "stream",
     "text": [
      "132\n"
     ]
    },
    {
     "name": "stderr",
     "output_type": "stream",
     "text": [
      "\n",
      "  0%|                                                     | 0/1 [00:00<?, ?it/s]\u001b[A\n",
      "100%|█████████████████████████████████████████████| 1/1 [00:00<00:00,  1.81it/s]\u001b[A\n",
      "133it [09:07,  4.88s/it]"
     ]
    },
    {
     "name": "stdout",
     "output_type": "stream",
     "text": [
      "133\n"
     ]
    },
    {
     "name": "stderr",
     "output_type": "stream",
     "text": [
      "\n",
      "  0%|                                                     | 0/3 [00:00<?, ?it/s]\u001b[A\n",
      " 33%|███████████████                              | 1/3 [00:00<00:01,  1.81it/s]\u001b[A\n",
      " 67%|██████████████████████████████               | 2/3 [00:01<00:00,  1.67it/s]\u001b[A\n",
      "100%|█████████████████████████████████████████████| 3/3 [00:01<00:00,  1.61it/s]\u001b[A\n",
      "134it [09:10,  4.17s/it]"
     ]
    },
    {
     "name": "stdout",
     "output_type": "stream",
     "text": [
      "134\n"
     ]
    },
    {
     "name": "stderr",
     "output_type": "stream",
     "text": [
      "\n",
      "  0%|                                                     | 0/1 [00:00<?, ?it/s]\u001b[A\n",
      "100%|█████████████████████████████████████████████| 1/1 [00:00<00:00,  1.51it/s]\u001b[A\n",
      "135it [09:11,  3.31s/it]"
     ]
    },
    {
     "name": "stdout",
     "output_type": "stream",
     "text": [
      "135\n"
     ]
    },
    {
     "name": "stderr",
     "output_type": "stream",
     "text": [
      "\n",
      "0it [00:00, ?it/s]\u001b[A\n",
      "136it [09:12,  2.53s/it]"
     ]
    },
    {
     "name": "stdout",
     "output_type": "stream",
     "text": [
      "136\n"
     ]
    },
    {
     "name": "stderr",
     "output_type": "stream",
     "text": [
      "\n",
      "  0%|                                                     | 0/6 [00:00<?, ?it/s]\u001b[A\n",
      " 17%|███████▌                                     | 1/6 [00:00<00:02,  1.70it/s]\u001b[A\n",
      " 33%|███████████████                              | 2/6 [00:01<00:02,  1.70it/s]\u001b[A\n",
      " 50%|██████████████████████▌                      | 3/6 [00:01<00:01,  1.78it/s]\u001b[A\n",
      " 67%|██████████████████████████████               | 4/6 [00:02<00:01,  1.80it/s]\u001b[A\n",
      " 83%|█████████████████████████████████████▌       | 5/6 [00:02<00:00,  1.82it/s]\u001b[A\n",
      "100%|█████████████████████████████████████████████| 6/6 [00:03<00:00,  1.78it/s]\u001b[A\n",
      "137it [09:16,  2.98s/it]"
     ]
    },
    {
     "name": "stdout",
     "output_type": "stream",
     "text": [
      "137\n"
     ]
    },
    {
     "name": "stderr",
     "output_type": "stream",
     "text": [
      "\n",
      "  0%|                                                     | 0/9 [00:00<?, ?it/s]\u001b[A\n",
      " 11%|█████                                        | 1/9 [00:00<00:04,  1.76it/s]\u001b[A\n",
      " 22%|██████████                                   | 2/9 [00:01<00:03,  1.86it/s]\u001b[A\n",
      " 33%|███████████████                              | 3/9 [00:01<00:03,  1.73it/s]\u001b[A\n",
      " 44%|████████████████████                         | 4/9 [00:02<00:02,  1.78it/s]\u001b[A\n",
      " 56%|█████████████████████████                    | 5/9 [00:02<00:02,  1.73it/s]\u001b[A\n",
      " 67%|██████████████████████████████               | 6/9 [00:03<00:01,  1.68it/s]\u001b[A\n",
      " 78%|███████████████████████████████████          | 7/9 [00:04<00:01,  1.71it/s]\u001b[A\n",
      " 89%|████████████████████████████████████████     | 8/9 [00:04<00:00,  1.70it/s]\u001b[A\n",
      "100%|█████████████████████████████████████████████| 9/9 [00:05<00:00,  1.72it/s]\u001b[A\n",
      "138it [09:22,  3.87s/it]"
     ]
    },
    {
     "name": "stdout",
     "output_type": "stream",
     "text": [
      "138\n"
     ]
    },
    {
     "name": "stderr",
     "output_type": "stream",
     "text": [
      "\n",
      "0it [00:00, ?it/s]\u001b[A\n",
      "139it [09:22,  2.92s/it]"
     ]
    },
    {
     "name": "stdout",
     "output_type": "stream",
     "text": [
      "139\n"
     ]
    },
    {
     "name": "stderr",
     "output_type": "stream",
     "text": [
      "\n",
      "  0%|                                                     | 0/9 [00:00<?, ?it/s]\u001b[A\n",
      " 11%|█████                                        | 1/9 [00:00<00:04,  1.95it/s]\u001b[A\n",
      " 22%|██████████                                   | 2/9 [00:01<00:03,  1.76it/s]\u001b[A\n",
      " 33%|███████████████                              | 3/9 [00:01<00:03,  1.84it/s]\u001b[A\n",
      " 44%|████████████████████                         | 4/9 [00:02<00:02,  1.68it/s]\u001b[A\n",
      " 56%|█████████████████████████                    | 5/9 [00:02<00:02,  1.67it/s]\u001b[A\n",
      " 67%|██████████████████████████████               | 6/9 [00:03<00:01,  1.63it/s]\u001b[A\n",
      " 78%|███████████████████████████████████          | 7/9 [00:04<00:01,  1.56it/s]\u001b[A\n",
      " 89%|████████████████████████████████████████     | 8/9 [00:04<00:00,  1.58it/s]\u001b[A\n",
      "100%|█████████████████████████████████████████████| 9/9 [00:05<00:00,  1.63it/s]\u001b[A\n",
      "140it [09:29,  3.94s/it]"
     ]
    },
    {
     "name": "stdout",
     "output_type": "stream",
     "text": [
      "140\n"
     ]
    },
    {
     "name": "stderr",
     "output_type": "stream",
     "text": [
      "\n",
      "0it [00:00, ?it/s]\u001b[A\n",
      "141it [09:29,  2.94s/it]"
     ]
    },
    {
     "name": "stdout",
     "output_type": "stream",
     "text": [
      "141\n"
     ]
    },
    {
     "name": "stderr",
     "output_type": "stream",
     "text": [
      "\n",
      "  0%|                                                     | 0/2 [00:00<?, ?it/s]\u001b[A\n",
      " 50%|██████████████████████▌                      | 1/2 [00:00<00:00,  1.79it/s]\u001b[A\n",
      "100%|█████████████████████████████████████████████| 2/2 [00:01<00:00,  1.73it/s]\u001b[A\n",
      "142it [09:31,  2.63s/it]"
     ]
    },
    {
     "name": "stdout",
     "output_type": "stream",
     "text": [
      "142\n"
     ]
    },
    {
     "name": "stderr",
     "output_type": "stream",
     "text": [
      "\n",
      "  0%|                                                     | 0/1 [00:00<?, ?it/s]\u001b[A\n",
      "100%|█████████████████████████████████████████████| 1/1 [00:00<00:00,  1.67it/s]\u001b[A\n",
      "143it [09:33,  2.25s/it]"
     ]
    },
    {
     "name": "stdout",
     "output_type": "stream",
     "text": [
      "143\n"
     ]
    },
    {
     "name": "stderr",
     "output_type": "stream",
     "text": [
      "\n",
      "  0%|                                                     | 0/2 [00:00<?, ?it/s]\u001b[A\n",
      " 50%|██████████████████████▌                      | 1/2 [00:00<00:00,  1.71it/s]\u001b[A\n",
      "100%|█████████████████████████████████████████████| 2/2 [00:01<00:00,  1.56it/s]\u001b[A\n",
      "144it [09:35,  2.16s/it]"
     ]
    },
    {
     "name": "stdout",
     "output_type": "stream",
     "text": [
      "144\n"
     ]
    },
    {
     "name": "stderr",
     "output_type": "stream",
     "text": [
      "\n",
      "  0%|                                                    | 0/23 [00:00<?, ?it/s]\u001b[A\n",
      "  4%|█▉                                          | 1/23 [00:00<00:12,  1.76it/s]\u001b[A\n",
      "  9%|███▊                                        | 2/23 [00:01<00:12,  1.74it/s]\u001b[A\n",
      " 13%|█████▋                                      | 3/23 [00:01<00:11,  1.70it/s]\u001b[A\n",
      " 17%|███████▋                                    | 4/23 [00:02<00:10,  1.73it/s]\u001b[A\n",
      " 22%|█████████▌                                  | 5/23 [00:02<00:10,  1.74it/s]\u001b[A\n",
      " 26%|███████████▍                                | 6/23 [00:03<00:09,  1.75it/s]\u001b[A\n",
      " 30%|█████████████▍                              | 7/23 [00:04<00:09,  1.66it/s]\u001b[A\n",
      " 35%|███████████████▎                            | 8/23 [00:04<00:09,  1.64it/s]\u001b[A\n",
      " 39%|█████████████████▏                          | 9/23 [00:05<00:08,  1.61it/s]\u001b[A\n",
      " 43%|██████████████████▋                        | 10/23 [00:05<00:07,  1.64it/s]\u001b[A\n",
      " 48%|████████████████████▌                      | 11/23 [00:06<00:07,  1.68it/s]\u001b[A\n",
      " 52%|██████████████████████▍                    | 12/23 [00:07<00:06,  1.68it/s]\u001b[A\n",
      " 57%|████████████████████████▎                  | 13/23 [00:07<00:05,  1.68it/s]\u001b[A\n",
      " 61%|██████████████████████████▏                | 14/23 [00:08<00:05,  1.64it/s]\u001b[A\n",
      " 65%|████████████████████████████               | 15/23 [00:08<00:04,  1.63it/s]\u001b[A\n",
      " 70%|█████████████████████████████▉             | 16/23 [00:09<00:04,  1.61it/s]\u001b[A\n",
      " 74%|███████████████████████████████▊           | 17/23 [00:10<00:03,  1.65it/s]\u001b[A\n",
      " 78%|█████████████████████████████████▋         | 18/23 [00:10<00:02,  1.70it/s]\u001b[A\n",
      " 83%|███████████████████████████████████▌       | 19/23 [00:11<00:02,  1.74it/s]\u001b[A\n",
      " 87%|█████████████████████████████████████▍     | 20/23 [00:11<00:01,  1.76it/s]\u001b[A\n",
      " 91%|███████████████████████████████████████▎   | 21/23 [00:12<00:01,  1.79it/s]\u001b[A\n",
      " 96%|█████████████████████████████████████████▏ | 22/23 [00:13<00:00,  1.57it/s]\u001b[A\n",
      "100%|███████████████████████████████████████████| 23/23 [00:13<00:00,  1.68it/s]\u001b[A\n",
      "145it [09:49,  5.81s/it]"
     ]
    },
    {
     "name": "stdout",
     "output_type": "stream",
     "text": [
      "145\n"
     ]
    },
    {
     "name": "stderr",
     "output_type": "stream",
     "text": [
      "\n",
      "  0%|                                                     | 0/1 [00:00<?, ?it/s]\u001b[A\n",
      "100%|█████████████████████████████████████████████| 1/1 [00:00<00:00,  1.67it/s]\u001b[A\n",
      "146it [09:50,  4.45s/it]"
     ]
    },
    {
     "name": "stdout",
     "output_type": "stream",
     "text": [
      "146\n"
     ]
    },
    {
     "name": "stderr",
     "output_type": "stream",
     "text": [
      "\n",
      "0it [00:00, ?it/s]\u001b[A\n",
      "147it [09:51,  3.40s/it]"
     ]
    },
    {
     "name": "stdout",
     "output_type": "stream",
     "text": [
      "147\n"
     ]
    },
    {
     "name": "stderr",
     "output_type": "stream",
     "text": [
      "\n",
      "  0%|                                                     | 0/2 [00:00<?, ?it/s]\u001b[A\n",
      " 50%|██████████████████████▌                      | 1/2 [00:00<00:00,  1.77it/s]\u001b[A\n",
      "100%|█████████████████████████████████████████████| 2/2 [00:01<00:00,  1.69it/s]\u001b[A\n",
      "148it [09:53,  2.93s/it]"
     ]
    },
    {
     "name": "stdout",
     "output_type": "stream",
     "text": [
      "148\n"
     ]
    },
    {
     "name": "stderr",
     "output_type": "stream",
     "text": [
      "\n",
      "  0%|                                                     | 0/2 [00:00<?, ?it/s]\u001b[A\n",
      " 50%|██████████████████████▌                      | 1/2 [00:00<00:00,  1.65it/s]\u001b[A\n",
      "100%|█████████████████████████████████████████████| 2/2 [00:01<00:00,  1.68it/s]\u001b[A\n",
      "149it [09:55,  2.60s/it]"
     ]
    },
    {
     "name": "stdout",
     "output_type": "stream",
     "text": [
      "149\n"
     ]
    },
    {
     "name": "stderr",
     "output_type": "stream",
     "text": [
      "\n",
      "  0%|                                                     | 0/3 [00:00<?, ?it/s]\u001b[A\n",
      " 33%|███████████████                              | 1/3 [00:00<00:01,  1.82it/s]\u001b[A\n",
      " 67%|██████████████████████████████               | 2/3 [00:01<00:00,  1.76it/s]\u001b[A\n",
      "100%|█████████████████████████████████████████████| 3/3 [00:01<00:00,  1.59it/s]\u001b[A\n",
      "150it [09:57,  2.60s/it]"
     ]
    },
    {
     "name": "stdout",
     "output_type": "stream",
     "text": [
      "150\n"
     ]
    },
    {
     "name": "stderr",
     "output_type": "stream",
     "text": [
      "\n",
      "0it [00:00, ?it/s]\u001b[A\n",
      "151it [09:58,  2.07s/it]"
     ]
    },
    {
     "name": "stdout",
     "output_type": "stream",
     "text": [
      "151\n"
     ]
    },
    {
     "name": "stderr",
     "output_type": "stream",
     "text": [
      "\n",
      "  0%|                                                     | 0/3 [00:00<?, ?it/s]\u001b[A\n",
      " 33%|███████████████                              | 1/3 [00:00<00:01,  1.75it/s]\u001b[A\n",
      " 67%|██████████████████████████████               | 2/3 [00:01<00:00,  1.63it/s]\u001b[A\n",
      "100%|█████████████████████████████████████████████| 3/3 [00:01<00:00,  1.71it/s]\u001b[A\n",
      "152it [10:01,  2.20s/it]"
     ]
    },
    {
     "name": "stdout",
     "output_type": "stream",
     "text": [
      "152\n"
     ]
    },
    {
     "name": "stderr",
     "output_type": "stream",
     "text": [
      "\n",
      "  0%|                                                     | 0/1 [00:00<?, ?it/s]\u001b[A\n",
      "100%|█████████████████████████████████████████████| 1/1 [00:00<00:00,  1.54it/s]\u001b[A\n",
      "153it [10:02,  1.93s/it]"
     ]
    },
    {
     "name": "stdout",
     "output_type": "stream",
     "text": [
      "153\n"
     ]
    },
    {
     "name": "stderr",
     "output_type": "stream",
     "text": [
      "\n",
      "0it [00:00, ?it/s]\u001b[A\n",
      "154it [10:03,  1.57s/it]"
     ]
    },
    {
     "name": "stdout",
     "output_type": "stream",
     "text": [
      "154\n"
     ]
    },
    {
     "name": "stderr",
     "output_type": "stream",
     "text": [
      "\n",
      "  0%|                                                     | 0/1 [00:00<?, ?it/s]\u001b[A\n",
      "100%|█████████████████████████████████████████████| 1/1 [00:00<00:00,  1.85it/s]\u001b[A\n",
      "155it [10:04,  1.48s/it]"
     ]
    },
    {
     "name": "stdout",
     "output_type": "stream",
     "text": [
      "155\n"
     ]
    },
    {
     "name": "stderr",
     "output_type": "stream",
     "text": [
      "\n",
      "  0%|                                                     | 0/1 [00:00<?, ?it/s]\u001b[A\n",
      "100%|█████████████████████████████████████████████| 1/1 [00:00<00:00,  1.58it/s]\u001b[A\n",
      "156it [10:05,  1.41s/it]"
     ]
    },
    {
     "name": "stdout",
     "output_type": "stream",
     "text": [
      "156\n"
     ]
    },
    {
     "name": "stderr",
     "output_type": "stream",
     "text": [
      "\n",
      "  0%|                                                    | 0/15 [00:00<?, ?it/s]\u001b[A\n",
      "  7%|██▉                                         | 1/15 [00:00<00:09,  1.50it/s]\u001b[A\n",
      " 13%|█████▊                                      | 2/15 [00:01<00:08,  1.62it/s]\u001b[A\n",
      " 20%|████████▊                                   | 3/15 [00:01<00:07,  1.71it/s]\u001b[A\n",
      " 27%|███████████▋                                | 4/15 [00:02<00:06,  1.75it/s]\u001b[A\n",
      " 33%|██████████████▋                             | 5/15 [00:03<00:06,  1.59it/s]\u001b[A\n",
      " 40%|█████████████████▌                          | 6/15 [00:03<00:05,  1.66it/s]\u001b[A\n",
      " 47%|████████████████████▌                       | 7/15 [00:04<00:04,  1.61it/s]\u001b[A\n",
      " 53%|███████████████████████▍                    | 8/15 [00:04<00:04,  1.67it/s]\u001b[A\n",
      " 60%|██████████████████████████▍                 | 9/15 [00:05<00:03,  1.69it/s]\u001b[A\n",
      " 67%|████████████████████████████▋              | 10/15 [00:05<00:02,  1.74it/s]\u001b[A\n",
      " 73%|███████████████████████████████▌           | 11/15 [00:06<00:02,  1.70it/s]\u001b[A\n",
      " 80%|██████████████████████████████████▍        | 12/15 [00:07<00:01,  1.74it/s]\u001b[A\n",
      " 87%|█████████████████████████████████████▎     | 13/15 [00:07<00:01,  1.75it/s]\u001b[A\n",
      " 93%|████████████████████████████████████████▏  | 14/15 [00:08<00:00,  1.70it/s]\u001b[A\n",
      "100%|███████████████████████████████████████████| 15/15 [00:08<00:00,  1.70it/s]\u001b[A\n",
      "157it [10:15,  3.83s/it]"
     ]
    },
    {
     "name": "stdout",
     "output_type": "stream",
     "text": [
      "157\n"
     ]
    },
    {
     "name": "stderr",
     "output_type": "stream",
     "text": [
      "\n",
      "  0%|                                                     | 0/2 [00:00<?, ?it/s]\u001b[A\n",
      " 50%|██████████████████████▌                      | 1/2 [00:00<00:00,  1.75it/s]\u001b[A\n",
      "100%|█████████████████████████████████████████████| 2/2 [00:01<00:00,  1.67it/s]\u001b[A\n",
      "158it [10:17,  3.25s/it]"
     ]
    },
    {
     "name": "stdout",
     "output_type": "stream",
     "text": [
      "158\n"
     ]
    },
    {
     "name": "stderr",
     "output_type": "stream",
     "text": [
      "\n",
      "  0%|                                                    | 0/13 [00:00<?, ?it/s]\u001b[A\n",
      "  8%|███▍                                        | 1/13 [00:00<00:07,  1.64it/s]\u001b[A\n",
      " 15%|██████▊                                     | 2/13 [00:01<00:06,  1.61it/s]\u001b[A\n",
      " 23%|██████████▏                                 | 3/13 [00:01<00:05,  1.71it/s]\u001b[A\n",
      " 31%|█████████████▌                              | 4/13 [00:02<00:05,  1.74it/s]\u001b[A\n",
      " 38%|████████████████▉                           | 5/13 [00:02<00:04,  1.73it/s]\u001b[A\n",
      " 46%|████████████████████▎                       | 6/13 [00:03<00:04,  1.67it/s]\u001b[A\n",
      " 54%|███████████████████████▋                    | 7/13 [00:04<00:03,  1.73it/s]\u001b[A\n",
      " 62%|███████████████████████████                 | 8/13 [00:04<00:02,  1.72it/s]\u001b[A\n",
      " 69%|██████████████████████████████▍             | 9/13 [00:05<00:02,  1.74it/s]\u001b[A\n",
      " 77%|█████████████████████████████████          | 10/13 [00:05<00:01,  1.73it/s]\u001b[A\n",
      " 85%|████████████████████████████████████▍      | 11/13 [00:06<00:01,  1.75it/s]\u001b[A\n",
      " 92%|███████████████████████████████████████▋   | 12/13 [00:06<00:00,  1.77it/s]\u001b[A\n",
      "100%|███████████████████████████████████████████| 13/13 [00:07<00:00,  1.73it/s]\u001b[A\n",
      "159it [10:25,  4.74s/it]"
     ]
    },
    {
     "name": "stdout",
     "output_type": "stream",
     "text": [
      "159\n"
     ]
    },
    {
     "name": "stderr",
     "output_type": "stream",
     "text": [
      "\n",
      "  0%|                                                   | 0/100 [00:00<?, ?it/s]\u001b[A\n",
      "  1%|▍                                          | 1/100 [00:00<00:54,  1.83it/s]\u001b[A\n",
      "  2%|▊                                          | 2/100 [00:01<00:51,  1.88it/s]\u001b[A\n",
      "  3%|█▎                                         | 3/100 [00:01<00:51,  1.88it/s]\u001b[A\n",
      "  4%|█▋                                         | 4/100 [00:02<00:57,  1.67it/s]\u001b[A\n",
      "  5%|██▏                                        | 5/100 [00:02<00:54,  1.73it/s]\u001b[A\n",
      "  6%|██▌                                        | 6/100 [00:03<00:52,  1.81it/s]\u001b[A\n",
      "  7%|███                                        | 7/100 [00:04<00:58,  1.58it/s]\u001b[A\n",
      "  8%|███▍                                       | 8/100 [00:04<00:58,  1.58it/s]\u001b[A\n",
      "  9%|███▊                                       | 9/100 [00:05<00:55,  1.63it/s]\u001b[A\n",
      " 10%|████▏                                     | 10/100 [00:06<00:56,  1.58it/s]\u001b[A\n",
      " 11%|████▌                                     | 11/100 [00:06<00:56,  1.57it/s]\u001b[A\n",
      " 12%|█████                                     | 12/100 [00:07<00:55,  1.59it/s]\u001b[A\n",
      " 13%|█████▍                                    | 13/100 [00:07<00:54,  1.60it/s]\u001b[A\n",
      " 14%|█████▉                                    | 14/100 [00:08<00:53,  1.60it/s]\u001b[A\n",
      " 15%|██████▎                                   | 15/100 [00:09<00:52,  1.63it/s]\u001b[A\n",
      " 16%|██████▋                                   | 16/100 [00:09<00:52,  1.59it/s]\u001b[A\n",
      " 17%|███████▏                                  | 17/100 [00:10<00:51,  1.60it/s]\u001b[A\n",
      " 18%|███████▌                                  | 18/100 [00:10<00:49,  1.64it/s]\u001b[A\n",
      " 19%|███████▉                                  | 19/100 [00:11<00:48,  1.67it/s]\u001b[A\n",
      " 20%|████████▍                                 | 20/100 [00:12<00:47,  1.68it/s]\u001b[A\n",
      " 21%|████████▊                                 | 21/100 [00:12<00:46,  1.71it/s]\u001b[A\n",
      " 22%|█████████▏                                | 22/100 [00:13<00:46,  1.68it/s]\u001b[A\n",
      " 23%|█████████▋                                | 23/100 [00:13<00:45,  1.69it/s]\u001b[A\n",
      " 24%|██████████                                | 24/100 [00:14<00:44,  1.73it/s]\u001b[A\n",
      " 25%|██████████▌                               | 25/100 [00:15<00:43,  1.73it/s]\u001b[A\n",
      " 26%|██████████▉                               | 26/100 [00:15<00:43,  1.70it/s]\u001b[A\n",
      " 27%|███████████▎                              | 27/100 [00:16<00:43,  1.67it/s]\u001b[A\n",
      " 28%|███████████▊                              | 28/100 [00:16<00:42,  1.69it/s]\u001b[A\n",
      " 29%|████████████▏                             | 29/100 [00:17<00:40,  1.75it/s]\u001b[A\n",
      " 30%|████████████▌                             | 30/100 [00:17<00:38,  1.80it/s]\u001b[A\n",
      " 31%|█████████████                             | 31/100 [00:18<00:38,  1.81it/s]\u001b[A\n",
      " 32%|█████████████▍                            | 32/100 [00:18<00:37,  1.82it/s]\u001b[A\n",
      " 33%|█████████████▊                            | 33/100 [00:19<00:37,  1.80it/s]\u001b[A\n",
      " 34%|██████████████▎                           | 34/100 [00:20<00:36,  1.79it/s]\u001b[A\n",
      " 35%|██████████████▋                           | 35/100 [00:20<00:36,  1.77it/s]\u001b[A\n",
      " 36%|███████████████                           | 36/100 [00:21<00:37,  1.71it/s]\u001b[A\n",
      " 37%|███████████████▌                          | 37/100 [00:21<00:36,  1.71it/s]\u001b[A\n",
      " 38%|███████████████▉                          | 38/100 [00:23<00:50,  1.24it/s]\u001b[A\n",
      " 39%|████████████████▍                         | 39/100 [00:23<00:45,  1.35it/s]\u001b[A\n",
      " 40%|████████████████▊                         | 40/100 [00:24<00:42,  1.41it/s]\u001b[A\n",
      " 41%|█████████████████▏                        | 41/100 [00:25<00:41,  1.42it/s]\u001b[A\n",
      " 42%|█████████████████▋                        | 42/100 [00:25<00:41,  1.40it/s]\u001b[A\n",
      " 43%|██████████████████                        | 43/100 [00:26<00:38,  1.47it/s]\u001b[A\n",
      " 44%|██████████████████▍                       | 44/100 [00:27<00:36,  1.55it/s]\u001b[A\n",
      " 45%|██████████████████▉                       | 45/100 [00:27<00:34,  1.60it/s]\u001b[A\n",
      " 46%|███████████████████▎                      | 46/100 [00:28<00:33,  1.62it/s]\u001b[A\n",
      " 47%|███████████████████▋                      | 47/100 [00:28<00:32,  1.63it/s]\u001b[A\n",
      " 48%|████████████████████▏                     | 48/100 [00:29<00:31,  1.66it/s]\u001b[A\n",
      " 49%|████████████████████▌                     | 49/100 [00:29<00:30,  1.68it/s]\u001b[A\n",
      " 50%|█████████████████████                     | 50/100 [00:30<00:29,  1.69it/s]\u001b[A\n",
      " 51%|█████████████████████▍                    | 51/100 [00:31<00:29,  1.66it/s]\u001b[A\n",
      " 52%|█████████████████████▊                    | 52/100 [00:31<00:29,  1.63it/s]\u001b[A\n",
      " 53%|██████████████████████▎                   | 53/100 [00:32<00:27,  1.68it/s]\u001b[A\n",
      " 54%|██████████████████████▋                   | 54/100 [00:32<00:26,  1.71it/s]\u001b[A\n",
      " 55%|███████████████████████                   | 55/100 [00:33<00:28,  1.59it/s]\u001b[A\n",
      " 56%|███████████████████████▌                  | 56/100 [00:34<00:27,  1.59it/s]\u001b[A\n",
      " 57%|███████████████████████▉                  | 57/100 [00:34<00:26,  1.63it/s]\u001b[A\n",
      " 58%|████████████████████████▎                 | 58/100 [00:35<00:27,  1.53it/s]\u001b[A\n",
      " 59%|████████████████████████▊                 | 59/100 [00:36<00:26,  1.57it/s]\u001b[A\n",
      " 60%|█████████████████████████▏                | 60/100 [00:36<00:25,  1.58it/s]\u001b[A\n",
      " 61%|█████████████████████████▌                | 61/100 [00:37<00:23,  1.65it/s]\u001b[A\n",
      " 62%|██████████████████████████                | 62/100 [00:37<00:23,  1.63it/s]\u001b[A\n",
      " 63%|██████████████████████████▍               | 63/100 [00:38<00:22,  1.64it/s]\u001b[A\n",
      " 64%|██████████████████████████▉               | 64/100 [00:39<00:21,  1.65it/s]\u001b[A\n",
      " 65%|███████████████████████████▎              | 65/100 [00:39<00:21,  1.65it/s]\u001b[A\n",
      " 66%|███████████████████████████▋              | 66/100 [00:40<00:20,  1.66it/s]\u001b[A\n",
      " 67%|████████████████████████████▏             | 67/100 [00:41<00:20,  1.61it/s]\u001b[A\n",
      " 68%|████████████████████████████▌             | 68/100 [00:41<00:19,  1.65it/s]\u001b[A\n",
      " 69%|████████████████████████████▉             | 69/100 [00:42<00:18,  1.67it/s]\u001b[A\n",
      " 70%|█████████████████████████████▍            | 70/100 [00:42<00:17,  1.68it/s]\u001b[A\n",
      " 71%|█████████████████████████████▊            | 71/100 [00:43<00:16,  1.73it/s]\u001b[A\n",
      " 72%|██████████████████████████████▏           | 72/100 [00:43<00:16,  1.73it/s]\u001b[A\n",
      " 73%|██████████████████████████████▋           | 73/100 [00:44<00:15,  1.74it/s]\u001b[A\n",
      " 74%|███████████████████████████████           | 74/100 [00:45<00:14,  1.76it/s]\u001b[A\n",
      " 75%|███████████████████████████████▌          | 75/100 [00:45<00:13,  1.84it/s]\u001b[A\n",
      " 76%|███████████████████████████████▉          | 76/100 [00:46<00:12,  1.88it/s]\u001b[A\n",
      " 77%|████████████████████████████████▎         | 77/100 [00:46<00:12,  1.90it/s]\u001b[A\n",
      " 78%|████████████████████████████████▊         | 78/100 [00:47<00:12,  1.83it/s]\u001b[A\n",
      " 79%|█████████████████████████████████▏        | 79/100 [00:47<00:11,  1.85it/s]\u001b[A\n",
      " 80%|█████████████████████████████████▌        | 80/100 [00:48<00:10,  1.85it/s]\u001b[A\n",
      " 81%|██████████████████████████████████        | 81/100 [00:48<00:10,  1.75it/s]\u001b[A\n",
      " 82%|██████████████████████████████████▍       | 82/100 [00:49<00:10,  1.75it/s]\u001b[A\n",
      " 83%|██████████████████████████████████▊       | 83/100 [00:50<00:10,  1.62it/s]\u001b[A\n",
      " 84%|███████████████████████████████████▎      | 84/100 [00:50<00:09,  1.66it/s]\u001b[A\n",
      " 85%|███████████████████████████████████▋      | 85/100 [00:51<00:08,  1.67it/s]\u001b[A\n",
      " 86%|████████████████████████████████████      | 86/100 [00:51<00:08,  1.67it/s]\u001b[A\n",
      " 87%|████████████████████████████████████▌     | 87/100 [00:52<00:07,  1.68it/s]\u001b[A\n",
      " 88%|████████████████████████████████████▉     | 88/100 [00:53<00:07,  1.69it/s]\u001b[A\n",
      " 89%|█████████████████████████████████████▍    | 89/100 [00:53<00:06,  1.73it/s]\u001b[A\n",
      " 90%|█████████████████████████████████████▊    | 90/100 [00:54<00:05,  1.72it/s]\u001b[A\n",
      " 91%|██████████████████████████████████████▏   | 91/100 [00:54<00:05,  1.80it/s]\u001b[A\n",
      " 92%|██████████████████████████████████████▋   | 92/100 [00:55<00:04,  1.71it/s]\u001b[A\n",
      " 93%|███████████████████████████████████████   | 93/100 [00:55<00:04,  1.67it/s]\u001b[A\n",
      " 94%|███████████████████████████████████████▍  | 94/100 [00:56<00:03,  1.73it/s]\u001b[A\n",
      " 95%|███████████████████████████████████████▉  | 95/100 [00:57<00:02,  1.71it/s]\u001b[A\n",
      " 96%|████████████████████████████████████████▎ | 96/100 [00:57<00:02,  1.70it/s]\u001b[A\n"
     ]
    },
    {
     "name": "stderr",
     "output_type": "stream",
     "text": [
      " 97%|████████████████████████████████████████▋ | 97/100 [00:58<00:01,  1.74it/s]\u001b[A\n",
      " 98%|█████████████████████████████████████████▏| 98/100 [00:58<00:01,  1.72it/s]\u001b[A\n",
      " 99%|█████████████████████████████████████████▌| 99/100 [00:59<00:00,  1.70it/s]\u001b[A\n",
      "100%|█████████████████████████████████████████| 100/100 [01:00<00:00,  1.67it/s]\u001b[A\n",
      "160it [11:25, 21.51s/it]"
     ]
    },
    {
     "name": "stdout",
     "output_type": "stream",
     "text": [
      "160\n"
     ]
    },
    {
     "name": "stderr",
     "output_type": "stream",
     "text": [
      "\n",
      "  0%|                                                     | 0/2 [00:00<?, ?it/s]\u001b[A\n",
      " 50%|██████████████████████▌                      | 1/2 [00:00<00:00,  1.82it/s]\u001b[A\n",
      "100%|█████████████████████████████████████████████| 2/2 [00:01<00:00,  1.85it/s]\u001b[A\n",
      "161it [11:27, 15.59s/it]"
     ]
    },
    {
     "name": "stdout",
     "output_type": "stream",
     "text": [
      "161\n"
     ]
    },
    {
     "name": "stderr",
     "output_type": "stream",
     "text": [
      "\n",
      "0it [00:00, ?it/s]\u001b[A\n",
      "162it [11:28, 11.13s/it]"
     ]
    },
    {
     "name": "stdout",
     "output_type": "stream",
     "text": [
      "162\n"
     ]
    },
    {
     "name": "stderr",
     "output_type": "stream",
     "text": [
      "\n",
      "  0%|                                                     | 0/1 [00:00<?, ?it/s]\u001b[A\n",
      "100%|█████████████████████████████████████████████| 1/1 [00:00<00:00,  1.36it/s]\u001b[A\n",
      "163it [11:29,  8.20s/it]"
     ]
    },
    {
     "name": "stdout",
     "output_type": "stream",
     "text": [
      "163\n"
     ]
    },
    {
     "name": "stderr",
     "output_type": "stream",
     "text": [
      "\n",
      "  0%|                                                    | 0/25 [00:00<?, ?it/s]\u001b[A\n",
      "  4%|█▊                                          | 1/25 [00:00<00:13,  1.74it/s]\u001b[A\n",
      "  8%|███▌                                        | 2/25 [00:01<00:12,  1.81it/s]\u001b[A\n",
      " 12%|█████▎                                      | 3/25 [00:01<00:12,  1.82it/s]\u001b[A\n",
      " 16%|███████                                     | 4/25 [00:02<00:12,  1.64it/s]\u001b[A\n",
      " 20%|████████▊                                   | 5/25 [00:02<00:12,  1.64it/s]\u001b[A\n",
      " 24%|██████████▌                                 | 6/25 [00:03<00:11,  1.68it/s]\u001b[A\n",
      " 28%|████████████▎                               | 7/25 [00:04<00:10,  1.73it/s]\u001b[A\n",
      " 32%|██████████████                              | 8/25 [00:04<00:10,  1.68it/s]\u001b[A\n",
      " 36%|███████████████▊                            | 9/25 [00:05<00:09,  1.66it/s]\u001b[A\n",
      " 40%|█████████████████▏                         | 10/25 [00:05<00:09,  1.66it/s]\u001b[A\n",
      " 44%|██████████████████▉                        | 11/25 [00:06<00:08,  1.70it/s]\u001b[A\n",
      " 48%|████████████████████▋                      | 12/25 [00:07<00:07,  1.64it/s]\u001b[A\n",
      " 52%|██████████████████████▎                    | 13/25 [00:07<00:07,  1.68it/s]\u001b[A\n",
      " 56%|████████████████████████                   | 14/25 [00:08<00:06,  1.67it/s]\u001b[A\n",
      " 60%|█████████████████████████▊                 | 15/25 [00:08<00:05,  1.74it/s]\u001b[A\n",
      " 64%|███████████████████████████▌               | 16/25 [00:09<00:05,  1.70it/s]\u001b[A\n",
      " 68%|█████████████████████████████▏             | 17/25 [00:10<00:04,  1.73it/s]\u001b[A\n",
      " 72%|██████████████████████████████▉            | 18/25 [00:10<00:04,  1.69it/s]\u001b[A\n",
      " 76%|████████████████████████████████▋          | 19/25 [00:11<00:03,  1.62it/s]\u001b[A\n",
      " 80%|██████████████████████████████████▍        | 20/25 [00:11<00:03,  1.61it/s]\u001b[A\n",
      " 84%|████████████████████████████████████       | 21/25 [00:12<00:02,  1.63it/s]\u001b[A\n",
      " 88%|█████████████████████████████████████▊     | 22/25 [00:13<00:01,  1.72it/s]\u001b[A\n",
      " 92%|███████████████████████████████████████▌   | 23/25 [00:13<00:01,  1.75it/s]\u001b[A\n",
      " 96%|█████████████████████████████████████████▎ | 24/25 [00:14<00:00,  1.78it/s]\u001b[A\n",
      "100%|███████████████████████████████████████████| 25/25 [00:14<00:00,  1.70it/s]\u001b[A\n",
      "164it [11:45, 10.34s/it]"
     ]
    },
    {
     "name": "stdout",
     "output_type": "stream",
     "text": [
      "164\n"
     ]
    },
    {
     "name": "stderr",
     "output_type": "stream",
     "text": [
      "\n",
      "  0%|                                                     | 0/1 [00:00<?, ?it/s]\u001b[A\n",
      "100%|█████████████████████████████████████████████| 1/1 [00:00<00:00,  1.84it/s]\u001b[A\n",
      "165it [11:46,  7.59s/it]"
     ]
    },
    {
     "name": "stdout",
     "output_type": "stream",
     "text": [
      "165\n"
     ]
    },
    {
     "name": "stderr",
     "output_type": "stream",
     "text": [
      "\n",
      "  0%|                                                     | 0/1 [00:00<?, ?it/s]\u001b[A\n",
      "100%|█████████████████████████████████████████████| 1/1 [00:00<00:00,  1.96it/s]\u001b[A\n",
      "166it [11:47,  5.69s/it]"
     ]
    },
    {
     "name": "stdout",
     "output_type": "stream",
     "text": [
      "166\n"
     ]
    },
    {
     "name": "stderr",
     "output_type": "stream",
     "text": [
      "\n",
      "  0%|                                                     | 0/2 [00:00<?, ?it/s]\u001b[A\n",
      " 50%|██████████████████████▌                      | 1/2 [00:00<00:00,  1.78it/s]\u001b[A\n",
      "100%|█████████████████████████████████████████████| 2/2 [00:01<00:00,  1.87it/s]\u001b[A\n",
      "167it [11:49,  4.50s/it]"
     ]
    },
    {
     "name": "stdout",
     "output_type": "stream",
     "text": [
      "167\n"
     ]
    },
    {
     "name": "stderr",
     "output_type": "stream",
     "text": [
      "\n",
      "0it [00:00, ?it/s]\u001b[A\n",
      "168it [11:49,  3.32s/it]"
     ]
    },
    {
     "name": "stdout",
     "output_type": "stream",
     "text": [
      "168\n"
     ]
    },
    {
     "name": "stderr",
     "output_type": "stream",
     "text": [
      "\n",
      "0it [00:00, ?it/s]\u001b[A\n",
      "169it [11:50,  2.52s/it]"
     ]
    },
    {
     "name": "stdout",
     "output_type": "stream",
     "text": [
      "169\n"
     ]
    },
    {
     "name": "stderr",
     "output_type": "stream",
     "text": [
      "\n",
      "0it [00:00, ?it/s]\u001b[A\n",
      "170it [11:51,  1.95s/it]"
     ]
    },
    {
     "name": "stdout",
     "output_type": "stream",
     "text": [
      "170\n"
     ]
    },
    {
     "name": "stderr",
     "output_type": "stream",
     "text": [
      "\n",
      "  0%|                                                     | 0/2 [00:00<?, ?it/s]\u001b[A\n",
      " 50%|██████████████████████▌                      | 1/2 [00:00<00:00,  1.70it/s]\u001b[A\n",
      "100%|█████████████████████████████████████████████| 2/2 [00:01<00:00,  1.70it/s]\u001b[A\n",
      "171it [11:52,  1.90s/it]"
     ]
    },
    {
     "name": "stdout",
     "output_type": "stream",
     "text": [
      "171\n"
     ]
    },
    {
     "name": "stderr",
     "output_type": "stream",
     "text": [
      "\n",
      "0it [00:00, ?it/s]\u001b[A\n",
      "172it [11:53,  1.51s/it]"
     ]
    },
    {
     "name": "stdout",
     "output_type": "stream",
     "text": [
      "172\n"
     ]
    },
    {
     "name": "stderr",
     "output_type": "stream",
     "text": [
      "\n",
      "  0%|                                                     | 0/1 [00:00<?, ?it/s]\u001b[A\n",
      "100%|█████████████████████████████████████████████| 1/1 [00:00<00:00,  1.92it/s]\u001b[A\n",
      "173it [11:54,  1.41s/it]"
     ]
    },
    {
     "name": "stdout",
     "output_type": "stream",
     "text": [
      "173\n"
     ]
    },
    {
     "name": "stderr",
     "output_type": "stream",
     "text": [
      "\n",
      "  0%|                                                     | 0/3 [00:00<?, ?it/s]\u001b[A\n",
      " 33%|███████████████                              | 1/3 [00:00<00:01,  1.68it/s]\u001b[A\n",
      " 67%|██████████████████████████████               | 2/3 [00:01<00:00,  1.58it/s]\u001b[A\n",
      "100%|█████████████████████████████████████████████| 3/3 [00:01<00:00,  1.68it/s]\u001b[A\n",
      "174it [11:57,  1.73s/it]"
     ]
    },
    {
     "name": "stdout",
     "output_type": "stream",
     "text": [
      "174\n"
     ]
    },
    {
     "name": "stderr",
     "output_type": "stream",
     "text": [
      "\n",
      "  0%|                                                     | 0/3 [00:00<?, ?it/s]\u001b[A\n",
      " 33%|███████████████                              | 1/3 [00:00<00:01,  1.87it/s]\u001b[A\n",
      " 67%|██████████████████████████████               | 2/3 [00:01<00:00,  1.88it/s]\u001b[A\n",
      "100%|█████████████████████████████████████████████| 3/3 [00:01<00:00,  1.85it/s]\u001b[A\n",
      "175it [11:59,  1.93s/it]"
     ]
    },
    {
     "name": "stdout",
     "output_type": "stream",
     "text": [
      "175\n"
     ]
    },
    {
     "name": "stderr",
     "output_type": "stream",
     "text": [
      "\n",
      "0it [00:00, ?it/s]\u001b[A\n",
      "176it [12:00,  1.52s/it]"
     ]
    },
    {
     "name": "stdout",
     "output_type": "stream",
     "text": [
      "176\n"
     ]
    },
    {
     "name": "stderr",
     "output_type": "stream",
     "text": [
      "\n",
      "0it [00:00, ?it/s]\u001b[A\n",
      "177it [12:00,  1.24s/it]"
     ]
    },
    {
     "name": "stdout",
     "output_type": "stream",
     "text": [
      "177\n"
     ]
    },
    {
     "name": "stderr",
     "output_type": "stream",
     "text": [
      "\n",
      "  0%|                                                     | 0/3 [00:00<?, ?it/s]\u001b[A\n",
      " 33%|███████████████                              | 1/3 [00:00<00:01,  1.94it/s]\u001b[A\n",
      " 67%|██████████████████████████████               | 2/3 [00:01<00:00,  1.82it/s]\u001b[A\n",
      "100%|█████████████████████████████████████████████| 3/3 [00:01<00:00,  1.67it/s]\u001b[A\n",
      "178it [12:03,  1.63s/it]"
     ]
    },
    {
     "name": "stdout",
     "output_type": "stream",
     "text": [
      "178\n"
     ]
    },
    {
     "name": "stderr",
     "output_type": "stream",
     "text": [
      "\n",
      "  0%|                                                     | 0/1 [00:00<?, ?it/s]\u001b[A\n",
      "100%|█████████████████████████████████████████████| 1/1 [00:00<00:00,  1.72it/s]\u001b[A\n",
      "179it [12:04,  1.51s/it]"
     ]
    },
    {
     "name": "stdout",
     "output_type": "stream",
     "text": [
      "179\n"
     ]
    },
    {
     "name": "stderr",
     "output_type": "stream",
     "text": [
      "\n",
      "0it [00:00, ?it/s]\u001b[A\n",
      "180it [12:05,  1.25s/it]"
     ]
    },
    {
     "name": "stdout",
     "output_type": "stream",
     "text": [
      "180\n"
     ]
    },
    {
     "name": "stderr",
     "output_type": "stream",
     "text": [
      "\n",
      "  0%|                                                     | 0/2 [00:00<?, ?it/s]\u001b[A\n",
      " 50%|██████████████████████▌                      | 1/2 [00:00<00:00,  1.56it/s]\u001b[A\n",
      "100%|█████████████████████████████████████████████| 2/2 [00:01<00:00,  1.60it/s]\u001b[A\n",
      "181it [12:07,  1.44s/it]"
     ]
    },
    {
     "name": "stdout",
     "output_type": "stream",
     "text": [
      "181\n"
     ]
    },
    {
     "name": "stderr",
     "output_type": "stream",
     "text": [
      "\n",
      "  0%|                                                    | 0/20 [00:00<?, ?it/s]\u001b[A\n",
      "  5%|██▏                                         | 1/20 [00:00<00:11,  1.70it/s]\u001b[A\n",
      " 10%|████▍                                       | 2/20 [00:01<00:11,  1.61it/s]\u001b[A\n",
      " 15%|██████▌                                     | 3/20 [00:01<00:10,  1.63it/s]\u001b[A\n",
      " 20%|████████▊                                   | 4/20 [00:02<00:09,  1.70it/s]\u001b[A\n",
      " 25%|███████████                                 | 5/20 [00:03<00:09,  1.64it/s]\u001b[A\n",
      " 30%|█████████████▏                              | 6/20 [00:03<00:08,  1.69it/s]\u001b[A\n",
      " 35%|███████████████▍                            | 7/20 [00:04<00:07,  1.75it/s]\u001b[A\n",
      " 40%|█████████████████▌                          | 8/20 [00:04<00:06,  1.78it/s]\u001b[A\n",
      " 45%|███████████████████▊                        | 9/20 [00:05<00:06,  1.79it/s]\u001b[A\n",
      " 50%|█████████████████████▌                     | 10/20 [00:05<00:05,  1.77it/s]\u001b[A\n",
      " 55%|███████████████████████▋                   | 11/20 [00:06<00:05,  1.80it/s]\u001b[A\n",
      " 60%|█████████████████████████▊                 | 12/20 [00:06<00:04,  1.78it/s]\u001b[A\n",
      " 65%|███████████████████████████▉               | 13/20 [00:07<00:04,  1.68it/s]\u001b[A\n",
      " 70%|██████████████████████████████             | 14/20 [00:08<00:03,  1.73it/s]\u001b[A\n",
      " 75%|████████████████████████████████▎          | 15/20 [00:08<00:02,  1.77it/s]\u001b[A\n",
      " 80%|██████████████████████████████████▍        | 16/20 [00:09<00:02,  1.83it/s]\u001b[A\n",
      " 85%|████████████████████████████████████▌      | 17/20 [00:09<00:01,  1.88it/s]\u001b[A\n",
      " 90%|██████████████████████████████████████▋    | 18/20 [00:10<00:01,  1.90it/s]\u001b[A\n",
      " 95%|████████████████████████████████████████▊  | 19/20 [00:10<00:00,  1.93it/s]\u001b[A\n",
      "100%|███████████████████████████████████████████| 20/20 [00:11<00:00,  1.78it/s]\u001b[A\n",
      "182it [12:18,  4.58s/it]"
     ]
    },
    {
     "name": "stdout",
     "output_type": "stream",
     "text": [
      "182\n"
     ]
    },
    {
     "name": "stderr",
     "output_type": "stream",
     "text": [
      "\n",
      "  0%|                                                    | 0/13 [00:00<?, ?it/s]\u001b[A\n",
      "  8%|███▍                                        | 1/13 [00:00<00:06,  1.88it/s]\u001b[A\n",
      " 15%|██████▊                                     | 2/13 [00:01<00:06,  1.79it/s]\u001b[A\n",
      " 23%|██████████▏                                 | 3/13 [00:01<00:05,  1.88it/s]\u001b[A\n",
      " 31%|█████████████▌                              | 4/13 [00:02<00:04,  1.91it/s]\u001b[A\n",
      " 38%|████████████████▉                           | 5/13 [00:02<00:04,  1.91it/s]\u001b[A\n",
      " 46%|████████████████████▎                       | 6/13 [00:03<00:03,  1.87it/s]\u001b[A\n",
      " 54%|███████████████████████▋                    | 7/13 [00:03<00:03,  1.85it/s]\u001b[A\n",
      " 62%|███████████████████████████                 | 8/13 [00:04<00:02,  1.83it/s]\u001b[A\n",
      " 69%|██████████████████████████████▍             | 9/13 [00:04<00:02,  1.88it/s]\u001b[A\n",
      " 77%|█████████████████████████████████          | 10/13 [00:05<00:01,  1.93it/s]\u001b[A\n",
      " 85%|████████████████████████████████████▍      | 11/13 [00:05<00:01,  1.94it/s]\u001b[A\n",
      " 92%|███████████████████████████████████████▋   | 12/13 [00:06<00:00,  1.85it/s]\u001b[A\n",
      "100%|███████████████████████████████████████████| 13/13 [00:07<00:00,  1.85it/s]\u001b[A\n",
      "183it [12:26,  5.50s/it]"
     ]
    },
    {
     "name": "stdout",
     "output_type": "stream",
     "text": [
      "183\n"
     ]
    },
    {
     "name": "stderr",
     "output_type": "stream",
     "text": [
      "\n",
      "  0%|                                                    | 0/17 [00:00<?, ?it/s]\u001b[A\n",
      "  6%|██▌                                         | 1/17 [00:00<00:07,  2.00it/s]\u001b[A\n",
      " 12%|█████▏                                      | 2/17 [00:00<00:07,  2.03it/s]\u001b[A\n",
      " 18%|███████▊                                    | 3/17 [00:01<00:07,  1.76it/s]\u001b[A\n",
      " 24%|██████████▎                                 | 4/17 [00:02<00:07,  1.75it/s]\u001b[A\n",
      " 29%|████████████▉                               | 5/17 [00:02<00:06,  1.85it/s]\u001b[A\n",
      " 35%|███████████████▌                            | 6/17 [00:03<00:05,  1.92it/s]\u001b[A\n",
      " 41%|██████████████████                          | 7/17 [00:03<00:05,  1.87it/s]\u001b[A\n",
      " 47%|████████████████████▋                       | 8/17 [00:04<00:04,  1.91it/s]\u001b[A\n",
      " 53%|███████████████████████▎                    | 9/17 [00:04<00:04,  1.91it/s]\u001b[A\n",
      " 59%|█████████████████████████▎                 | 10/17 [00:05<00:03,  1.78it/s]\u001b[A\n",
      " 65%|███████████████████████████▊               | 11/17 [00:06<00:03,  1.73it/s]\u001b[A\n",
      " 71%|██████████████████████████████▎            | 12/17 [00:06<00:02,  1.81it/s]\u001b[A\n",
      " 76%|████████████████████████████████▉          | 13/17 [00:07<00:02,  1.83it/s]\u001b[A\n",
      " 82%|███████████████████████████████████▍       | 14/17 [00:07<00:01,  1.74it/s]\u001b[A\n",
      " 88%|█████████████████████████████████████▉     | 15/17 [00:08<00:01,  1.75it/s]\u001b[A\n",
      " 94%|████████████████████████████████████████▍  | 16/17 [00:08<00:00,  1.68it/s]\u001b[A\n",
      "100%|███████████████████████████████████████████| 17/17 [00:09<00:00,  1.80it/s]\u001b[A\n",
      "184it [12:36,  6.86s/it]"
     ]
    },
    {
     "name": "stdout",
     "output_type": "stream",
     "text": [
      "184\n"
     ]
    },
    {
     "name": "stderr",
     "output_type": "stream",
     "text": [
      "\n",
      "  0%|                                                   | 0/144 [00:00<?, ?it/s]\u001b[A\n",
      "  1%|▎                                          | 1/144 [00:00<01:25,  1.66it/s]\u001b[A\n",
      "  1%|▌                                          | 2/144 [00:01<01:19,  1.79it/s]\u001b[A\n",
      "  2%|▉                                          | 3/144 [00:01<01:20,  1.75it/s]\u001b[A\n",
      "  3%|█▏                                         | 4/144 [00:02<01:16,  1.83it/s]\u001b[A\n",
      "  3%|█▍                                         | 5/144 [00:02<01:14,  1.86it/s]\u001b[A\n",
      "  4%|█▊                                         | 6/144 [00:03<01:14,  1.84it/s]\u001b[A\n",
      "  5%|██                                         | 7/144 [00:03<01:14,  1.85it/s]\u001b[A\n",
      "  6%|██▍                                        | 8/144 [00:04<01:18,  1.74it/s]\u001b[A\n",
      "  6%|██▋                                        | 9/144 [00:04<01:14,  1.81it/s]\u001b[A\n",
      "  7%|██▉                                       | 10/144 [00:05<01:13,  1.82it/s]\u001b[A\n",
      "  8%|███▏                                      | 11/144 [00:06<01:15,  1.76it/s]\u001b[A\n",
      "  8%|███▌                                      | 12/144 [00:06<01:12,  1.83it/s]\u001b[A\n",
      "  9%|███▊                                      | 13/144 [00:07<01:14,  1.76it/s]\u001b[A\n",
      " 10%|████                                      | 14/144 [00:07<01:12,  1.80it/s]\u001b[A\n",
      " 10%|████▍                                     | 15/144 [00:08<01:11,  1.79it/s]\u001b[A\n",
      " 11%|████▋                                     | 16/144 [00:08<01:11,  1.78it/s]\u001b[A\n",
      " 12%|████▉                                     | 17/144 [00:09<01:09,  1.82it/s]\u001b[A\n",
      " 12%|█████▎                                    | 18/144 [00:09<01:07,  1.85it/s]\u001b[A\n",
      " 13%|█████▌                                    | 19/144 [00:10<01:09,  1.81it/s]\u001b[A\n",
      " 14%|█████▊                                    | 20/144 [00:11<01:10,  1.76it/s]\u001b[A\n",
      " 15%|██████▏                                   | 21/144 [00:11<01:08,  1.81it/s]\u001b[A\n",
      " 15%|██████▍                                   | 22/144 [00:12<01:08,  1.78it/s]\u001b[A\n",
      " 16%|██████▋                                   | 23/144 [00:12<01:09,  1.75it/s]\u001b[A\n",
      " 17%|███████                                   | 24/144 [00:13<01:07,  1.78it/s]\u001b[A\n",
      " 17%|███████▎                                  | 25/144 [00:13<01:05,  1.81it/s]\u001b[A\n",
      " 18%|███████▌                                  | 26/144 [00:14<01:03,  1.85it/s]\u001b[A\n",
      " 19%|███████▉                                  | 27/144 [00:14<01:01,  1.89it/s]\u001b[A\n",
      " 19%|████████▏                                 | 28/144 [00:15<01:03,  1.83it/s]\u001b[A\n",
      " 20%|████████▍                                 | 29/144 [00:16<01:02,  1.85it/s]\u001b[A\n",
      " 21%|████████▊                                 | 30/144 [00:16<00:59,  1.92it/s]\u001b[A\n",
      " 22%|█████████                                 | 31/144 [00:17<01:02,  1.80it/s]\u001b[A\n",
      " 22%|█████████▎                                | 32/144 [00:17<01:04,  1.74it/s]\u001b[A\n",
      " 23%|█████████▋                                | 33/144 [00:18<01:03,  1.75it/s]\u001b[A\n",
      " 24%|█████████▉                                | 34/144 [00:18<01:00,  1.81it/s]\u001b[A\n",
      " 24%|██████████▏                               | 35/144 [00:19<01:02,  1.75it/s]\u001b[A\n",
      " 25%|██████████▌                               | 36/144 [00:20<01:14,  1.44it/s]\u001b[A\n",
      " 26%|██████████▊                               | 37/144 [00:20<01:07,  1.58it/s]\u001b[A\n",
      " 26%|███████████                               | 38/144 [00:21<01:03,  1.66it/s]\u001b[A\n",
      " 27%|███████████▍                              | 39/144 [00:21<00:59,  1.75it/s]\u001b[A\n",
      " 28%|███████████▋                              | 40/144 [00:22<00:58,  1.78it/s]\u001b[A\n",
      " 28%|███████████▉                              | 41/144 [00:23<00:57,  1.78it/s]\u001b[A\n",
      " 29%|████████████▎                             | 42/144 [00:23<00:55,  1.82it/s]\u001b[A\n",
      " 30%|████████████▌                             | 43/144 [00:24<00:54,  1.87it/s]\u001b[A\n",
      " 31%|████████████▊                             | 44/144 [00:24<00:54,  1.84it/s]\u001b[A\n",
      " 31%|█████████████▏                            | 45/144 [00:25<00:53,  1.86it/s]\u001b[A\n",
      " 32%|█████████████▍                            | 46/144 [00:25<00:52,  1.85it/s]\u001b[A\n",
      " 33%|█████████████▋                            | 47/144 [00:26<00:53,  1.82it/s]\u001b[A\n",
      " 33%|██████████████                            | 48/144 [00:26<00:54,  1.76it/s]\u001b[A\n",
      " 34%|██████████████▎                           | 49/144 [00:27<00:54,  1.76it/s]\u001b[A\n",
      " 35%|██████████████▌                           | 50/144 [00:27<00:52,  1.79it/s]\u001b[A\n",
      " 35%|██████████████▉                           | 51/144 [00:28<00:50,  1.83it/s]\u001b[A\n",
      " 36%|███████████████▏                          | 52/144 [00:29<00:52,  1.76it/s]\u001b[A\n",
      " 37%|███████████████▍                          | 53/144 [00:29<00:52,  1.73it/s]\u001b[A\n",
      " 38%|███████████████▊                          | 54/144 [00:30<00:53,  1.68it/s]\u001b[A\n",
      " 38%|████████████████                          | 55/144 [00:30<00:53,  1.67it/s]\u001b[A\n",
      " 39%|████████████████▎                         | 56/144 [00:31<00:50,  1.74it/s]\u001b[A\n",
      " 40%|████████████████▋                         | 57/144 [00:31<00:48,  1.81it/s]\u001b[A\n",
      " 40%|████████████████▉                         | 58/144 [00:32<00:46,  1.86it/s]\u001b[A\n",
      " 41%|█████████████████▏                        | 59/144 [00:33<00:49,  1.73it/s]\u001b[A\n",
      " 42%|█████████████████▌                        | 60/144 [00:33<00:47,  1.78it/s]\u001b[A\n",
      " 42%|█████████████████▊                        | 61/144 [00:34<00:45,  1.84it/s]\u001b[A\n",
      " 43%|██████████████████                        | 62/144 [00:34<00:46,  1.77it/s]\u001b[A\n",
      " 44%|██████████████████▍                       | 63/144 [00:35<00:44,  1.81it/s]\u001b[A\n",
      " 44%|██████████████████▋                       | 64/144 [00:35<00:42,  1.89it/s]\u001b[A\n",
      " 45%|██████████████████▉                       | 65/144 [00:36<00:43,  1.84it/s]\u001b[A\n",
      " 46%|███████████████████▎                      | 66/144 [00:36<00:43,  1.80it/s]\u001b[A\n",
      " 47%|███████████████████▌                      | 67/144 [00:37<00:41,  1.84it/s]\u001b[A\n",
      " 47%|███████████████████▊                      | 68/144 [00:37<00:40,  1.87it/s]\u001b[A\n",
      " 48%|████████████████████▏                     | 69/144 [00:38<00:39,  1.89it/s]\u001b[A\n",
      " 49%|████████████████████▍                     | 70/144 [00:39<00:38,  1.90it/s]\u001b[A\n",
      " 49%|████████████████████▋                     | 71/144 [00:39<00:38,  1.92it/s]\u001b[A\n",
      " 50%|█████████████████████                     | 72/144 [00:40<00:39,  1.83it/s]\u001b[A\n",
      " 51%|█████████████████████▎                    | 73/144 [00:40<00:38,  1.83it/s]\u001b[A\n",
      " 51%|█████████████████████▌                    | 74/144 [00:41<00:39,  1.75it/s]\u001b[A\n",
      " 52%|█████████████████████▉                    | 75/144 [00:41<00:38,  1.79it/s]\u001b[A\n",
      " 53%|██████████████████████▏                   | 76/144 [00:42<00:37,  1.82it/s]\u001b[A\n",
      " 53%|██████████████████████▍                   | 77/144 [00:42<00:36,  1.82it/s]\u001b[A\n",
      " 54%|██████████████████████▊                   | 78/144 [00:43<00:35,  1.84it/s]\u001b[A\n",
      " 55%|███████████████████████                   | 79/144 [00:44<00:36,  1.78it/s]\u001b[A\n",
      " 56%|███████████████████████▎                  | 80/144 [00:44<00:35,  1.79it/s]\u001b[A\n",
      " 56%|███████████████████████▋                  | 81/144 [00:45<00:35,  1.78it/s]\u001b[A\n",
      " 57%|███████████████████████▉                  | 82/144 [00:45<00:34,  1.81it/s]\u001b[A\n",
      " 58%|████████████████████████▏                 | 83/144 [00:46<00:32,  1.87it/s]\u001b[A\n",
      " 58%|████████████████████████▌                 | 84/144 [00:46<00:32,  1.87it/s]\u001b[A\n",
      " 59%|████████████████████████▊                 | 85/144 [00:47<00:33,  1.78it/s]\u001b[A\n",
      " 60%|█████████████████████████                 | 86/144 [00:47<00:31,  1.83it/s]\u001b[A\n",
      " 60%|█████████████████████████▍                | 87/144 [00:48<00:30,  1.84it/s]\u001b[A\n",
      " 61%|█████████████████████████▋                | 88/144 [00:48<00:29,  1.88it/s]\u001b[A\n",
      " 62%|█████████████████████████▉                | 89/144 [00:49<00:28,  1.92it/s]\u001b[A\n",
      " 62%|██████████████████████████▎               | 90/144 [00:50<00:30,  1.79it/s]\u001b[A\n",
      " 63%|██████████████████████████▌               | 91/144 [00:50<00:30,  1.75it/s]\u001b[A\n",
      " 64%|██████████████████████████▊               | 92/144 [00:51<00:29,  1.75it/s]\u001b[A\n",
      " 65%|███████████████████████████▏              | 93/144 [00:51<00:28,  1.81it/s]\u001b[A\n",
      " 65%|███████████████████████████▍              | 94/144 [00:52<00:28,  1.76it/s]\u001b[A\n",
      " 66%|███████████████████████████▋              | 95/144 [00:52<00:27,  1.81it/s]\u001b[A\n",
      " 67%|████████████████████████████              | 96/144 [00:53<00:26,  1.84it/s]\u001b[A\n"
     ]
    },
    {
     "name": "stderr",
     "output_type": "stream",
     "text": [
      " 67%|████████████████████████████▎             | 97/144 [00:53<00:25,  1.88it/s]\u001b[A\n",
      " 68%|████████████████████████████▌             | 98/144 [00:54<00:25,  1.83it/s]\u001b[A\n",
      " 69%|████████████████████████████▉             | 99/144 [00:55<00:25,  1.80it/s]\u001b[A\n",
      " 69%|████████████████████████████▍            | 100/144 [00:55<00:24,  1.78it/s]\u001b[A\n",
      " 70%|████████████████████████████▊            | 101/144 [00:56<00:24,  1.78it/s]\u001b[A\n",
      " 71%|█████████████████████████████            | 102/144 [00:56<00:24,  1.73it/s]\u001b[A\n",
      " 72%|█████████████████████████████▎           | 103/144 [00:57<00:23,  1.77it/s]\u001b[A\n",
      " 72%|█████████████████████████████▌           | 104/144 [00:57<00:22,  1.77it/s]\u001b[A\n",
      " 73%|█████████████████████████████▉           | 105/144 [00:58<00:24,  1.61it/s]\u001b[A\n",
      " 74%|██████████████████████████████▏          | 106/144 [00:59<00:22,  1.67it/s]\u001b[A\n",
      " 74%|██████████████████████████████▍          | 107/144 [00:59<00:21,  1.75it/s]\u001b[A\n",
      " 75%|██████████████████████████████▊          | 108/144 [01:00<00:19,  1.84it/s]\u001b[A\n",
      " 76%|███████████████████████████████          | 109/144 [01:00<00:21,  1.64it/s]\u001b[A\n",
      " 76%|███████████████████████████████▎         | 110/144 [01:01<00:20,  1.65it/s]\u001b[A\n",
      " 77%|███████████████████████████████▌         | 111/144 [01:02<00:19,  1.70it/s]\u001b[A\n",
      " 78%|███████████████████████████████▉         | 112/144 [01:02<00:18,  1.72it/s]\u001b[A\n",
      " 78%|████████████████████████████████▏        | 113/144 [01:03<00:18,  1.69it/s]\u001b[A\n",
      " 79%|████████████████████████████████▍        | 114/144 [01:03<00:17,  1.74it/s]\u001b[A\n",
      " 80%|████████████████████████████████▋        | 115/144 [01:04<00:15,  1.83it/s]\u001b[A\n",
      " 81%|█████████████████████████████████        | 116/144 [01:04<00:14,  1.88it/s]\u001b[A\n",
      " 81%|█████████████████████████████████▎       | 117/144 [01:05<00:14,  1.83it/s]\u001b[A\n",
      " 82%|█████████████████████████████████▌       | 118/144 [01:05<00:14,  1.85it/s]\u001b[A\n",
      " 83%|█████████████████████████████████▉       | 119/144 [01:06<00:13,  1.84it/s]\u001b[A\n",
      " 83%|██████████████████████████████████▏      | 120/144 [01:06<00:13,  1.83it/s]\u001b[A\n",
      " 84%|██████████████████████████████████▍      | 121/144 [01:07<00:12,  1.86it/s]\u001b[A\n",
      " 85%|██████████████████████████████████▋      | 122/144 [01:08<00:12,  1.80it/s]\u001b[A\n",
      " 85%|███████████████████████████████████      | 123/144 [01:08<00:11,  1.77it/s]\u001b[A\n",
      " 86%|███████████████████████████████████▎     | 124/144 [01:09<00:11,  1.81it/s]\u001b[A\n",
      " 87%|███████████████████████████████████▌     | 125/144 [01:09<00:10,  1.85it/s]\u001b[A\n",
      " 88%|███████████████████████████████████▉     | 126/144 [01:10<00:10,  1.75it/s]\u001b[A\n",
      " 88%|████████████████████████████████████▏    | 127/144 [01:10<00:09,  1.82it/s]\u001b[A\n",
      " 89%|████████████████████████████████████▍    | 128/144 [01:11<00:08,  1.88it/s]\u001b[A\n",
      " 90%|████████████████████████████████████▋    | 129/144 [01:11<00:07,  1.92it/s]\u001b[A\n",
      " 90%|█████████████████████████████████████    | 130/144 [01:12<00:07,  1.87it/s]\u001b[A\n",
      " 91%|█████████████████████████████████████▎   | 131/144 [01:13<00:07,  1.80it/s]\u001b[A\n",
      " 92%|█████████████████████████████████████▌   | 132/144 [01:13<00:06,  1.82it/s]\u001b[A\n",
      " 92%|█████████████████████████████████████▊   | 133/144 [01:14<00:05,  1.84it/s]\u001b[A\n",
      " 93%|██████████████████████████████████████▏  | 134/144 [01:14<00:05,  1.87it/s]\u001b[A\n",
      " 94%|██████████████████████████████████████▍  | 135/144 [01:15<00:04,  1.89it/s]\u001b[A\n",
      " 94%|██████████████████████████████████████▋  | 136/144 [01:15<00:04,  1.80it/s]\u001b[A\n",
      " 95%|███████████████████████████████████████  | 137/144 [01:16<00:03,  1.79it/s]\u001b[A\n",
      " 96%|███████████████████████████████████████▎ | 138/144 [01:16<00:03,  1.82it/s]\u001b[A\n",
      " 97%|███████████████████████████████████████▌ | 139/144 [01:17<00:02,  1.84it/s]\u001b[A\n",
      " 97%|███████████████████████████████████████▊ | 140/144 [01:17<00:02,  1.88it/s]\u001b[A\n",
      " 98%|████████████████████████████████████████▏| 141/144 [01:18<00:01,  1.92it/s]\u001b[A\n",
      " 99%|████████████████████████████████████████▍| 142/144 [01:18<00:01,  1.97it/s]\u001b[A\n",
      " 99%|████████████████████████████████████████▋| 143/144 [01:19<00:00,  1.98it/s]\u001b[A\n",
      "100%|█████████████████████████████████████████| 144/144 [01:19<00:00,  1.80it/s]\u001b[A\n",
      "185it [13:57, 28.96s/it]"
     ]
    },
    {
     "name": "stdout",
     "output_type": "stream",
     "text": [
      "185\n"
     ]
    },
    {
     "name": "stderr",
     "output_type": "stream",
     "text": [
      "\n",
      "  0%|                                                     | 0/1 [00:00<?, ?it/s]\u001b[A\n",
      "100%|█████████████████████████████████████████████| 1/1 [00:00<00:00,  1.46it/s]\u001b[A\n",
      "186it [13:58, 20.71s/it]"
     ]
    },
    {
     "name": "stdout",
     "output_type": "stream",
     "text": [
      "186\n"
     ]
    },
    {
     "name": "stderr",
     "output_type": "stream",
     "text": [
      "\n",
      "  0%|                                                     | 0/3 [00:00<?, ?it/s]\u001b[A\n",
      " 33%|███████████████                              | 1/3 [00:00<00:01,  1.48it/s]\u001b[A\n",
      " 67%|██████████████████████████████               | 2/3 [00:01<00:00,  1.24it/s]\u001b[A\n",
      "100%|█████████████████████████████████████████████| 3/3 [00:02<00:00,  1.29it/s]\u001b[A\n",
      "187it [14:01, 15.39s/it]"
     ]
    },
    {
     "name": "stdout",
     "output_type": "stream",
     "text": [
      "187\n"
     ]
    },
    {
     "name": "stderr",
     "output_type": "stream",
     "text": [
      "\n",
      "  0%|                                                     | 0/4 [00:00<?, ?it/s]\u001b[A\n",
      " 25%|███████████▎                                 | 1/4 [00:00<00:01,  1.60it/s]\u001b[A\n",
      " 50%|██████████████████████▌                      | 2/4 [00:01<00:01,  1.48it/s]\u001b[A\n",
      " 75%|█████████████████████████████████▊           | 3/4 [00:01<00:00,  1.51it/s]\u001b[A\n",
      "100%|█████████████████████████████████████████████| 4/4 [00:02<00:00,  1.53it/s]\u001b[A\n",
      "188it [14:04, 11.75s/it]"
     ]
    },
    {
     "name": "stdout",
     "output_type": "stream",
     "text": [
      "188\n"
     ]
    },
    {
     "name": "stderr",
     "output_type": "stream",
     "text": [
      "\n",
      "0it [00:00, ?it/s]\u001b[A\n",
      "189it [14:05,  8.44s/it]"
     ]
    },
    {
     "name": "stdout",
     "output_type": "stream",
     "text": [
      "189\n"
     ]
    },
    {
     "name": "stderr",
     "output_type": "stream",
     "text": [
      "\n",
      "0it [00:00, ?it/s]\u001b[A\n",
      "190it [14:06,  6.15s/it]"
     ]
    },
    {
     "name": "stdout",
     "output_type": "stream",
     "text": [
      "190\n"
     ]
    },
    {
     "name": "stderr",
     "output_type": "stream",
     "text": [
      "\n",
      "  0%|                                                     | 0/2 [00:00<?, ?it/s]\u001b[A\n",
      " 50%|██████████████████████▌                      | 1/2 [00:00<00:00,  1.43it/s]\u001b[A\n",
      "100%|█████████████████████████████████████████████| 2/2 [00:01<00:00,  1.37it/s]\u001b[A\n",
      "191it [14:08,  4.96s/it]"
     ]
    },
    {
     "name": "stdout",
     "output_type": "stream",
     "text": [
      "191\n"
     ]
    },
    {
     "name": "stderr",
     "output_type": "stream",
     "text": [
      "\n",
      "  0%|                                                    | 0/14 [00:00<?, ?it/s]\u001b[A\n",
      "  7%|███▏                                        | 1/14 [00:01<00:15,  1.19s/it]\u001b[A\n",
      " 14%|██████▎                                     | 2/14 [00:02<00:12,  1.07s/it]\u001b[A\n",
      " 21%|█████████▍                                  | 3/14 [00:02<00:10,  1.09it/s]\u001b[A\n",
      " 29%|████████████▌                               | 4/14 [00:03<00:08,  1.19it/s]\u001b[A\n",
      " 36%|███████████████▋                            | 5/14 [00:04<00:06,  1.34it/s]\u001b[A\n",
      " 43%|██████████████████▊                         | 6/14 [00:04<00:05,  1.44it/s]\u001b[A\n",
      " 50%|██████████████████████                      | 7/14 [00:05<00:04,  1.48it/s]\u001b[A\n",
      " 57%|█████████████████████████▏                  | 8/14 [00:06<00:04,  1.45it/s]\u001b[A\n",
      " 64%|████████████████████████████▎               | 9/14 [00:06<00:03,  1.49it/s]\u001b[A\n",
      " 71%|██████████████████████████████▋            | 10/14 [00:07<00:02,  1.58it/s]\u001b[A\n",
      " 79%|█████████████████████████████████▊         | 11/14 [00:08<00:01,  1.50it/s]\u001b[A\n",
      " 86%|████████████████████████████████████▊      | 12/14 [00:08<00:01,  1.47it/s]\u001b[A\n",
      " 93%|███████████████████████████████████████▉   | 13/14 [00:09<00:00,  1.56it/s]\u001b[A\n",
      "100%|███████████████████████████████████████████| 14/14 [00:09<00:00,  1.42it/s]\u001b[A\n",
      "192it [14:19,  6.83s/it]"
     ]
    },
    {
     "name": "stdout",
     "output_type": "stream",
     "text": [
      "192\n"
     ]
    },
    {
     "name": "stderr",
     "output_type": "stream",
     "text": [
      "\n",
      "  0%|                                                     | 0/5 [00:00<?, ?it/s]\u001b[A\n",
      " 20%|█████████                                    | 1/5 [00:00<00:02,  1.78it/s]\u001b[A\n",
      " 40%|██████████████████                           | 2/5 [00:01<00:01,  1.84it/s]\u001b[A\n",
      " 60%|███████████████████████████                  | 3/5 [00:01<00:01,  1.87it/s]\u001b[A\n",
      " 80%|████████████████████████████████████         | 4/5 [00:02<00:00,  1.87it/s]\u001b[A\n",
      "100%|█████████████████████████████████████████████| 5/5 [00:02<00:00,  1.81it/s]\u001b[A\n",
      "193it [14:23,  5.84s/it]"
     ]
    },
    {
     "name": "stdout",
     "output_type": "stream",
     "text": [
      "193\n"
     ]
    },
    {
     "name": "stderr",
     "output_type": "stream",
     "text": [
      "\n",
      "  0%|                                                     | 0/8 [00:00<?, ?it/s]\u001b[A\n",
      " 12%|█████▋                                       | 1/8 [00:00<00:03,  1.97it/s]\u001b[A\n",
      " 25%|███████████▎                                 | 2/8 [00:01<00:03,  1.81it/s]\u001b[A\n",
      " 38%|████████████████▉                            | 3/8 [00:01<00:02,  1.84it/s]\u001b[A\n",
      " 50%|██████████████████████▌                      | 4/8 [00:02<00:02,  1.81it/s]\u001b[A\n",
      " 62%|████████████████████████████▏                | 5/8 [00:02<00:01,  1.75it/s]\u001b[A\n",
      " 75%|█████████████████████████████████▊           | 6/8 [00:03<00:01,  1.75it/s]\u001b[A\n",
      " 88%|███████████████████████████████████████▍     | 7/8 [00:03<00:00,  1.82it/s]\u001b[A\n",
      "100%|█████████████████████████████████████████████| 8/8 [00:04<00:00,  1.81it/s]\u001b[A\n",
      "194it [14:28,  5.59s/it]"
     ]
    },
    {
     "name": "stdout",
     "output_type": "stream",
     "text": [
      "194\n"
     ]
    },
    {
     "name": "stderr",
     "output_type": "stream",
     "text": [
      "\n",
      "0it [00:00, ?it/s]\u001b[A\n",
      "195it [14:28,  4.09s/it]"
     ]
    },
    {
     "name": "stdout",
     "output_type": "stream",
     "text": [
      "195\n"
     ]
    },
    {
     "name": "stderr",
     "output_type": "stream",
     "text": [
      "\n",
      "  0%|                                                     | 0/5 [00:00<?, ?it/s]\u001b[A\n",
      " 20%|█████████                                    | 1/5 [00:00<00:02,  1.75it/s]\u001b[A\n",
      " 40%|██████████████████                           | 2/5 [00:01<00:01,  1.58it/s]\u001b[A\n",
      " 60%|███████████████████████████                  | 3/5 [00:01<00:01,  1.60it/s]\u001b[A\n",
      " 80%|████████████████████████████████████         | 4/5 [00:02<00:00,  1.72it/s]\u001b[A\n",
      "100%|█████████████████████████████████████████████| 5/5 [00:02<00:00,  1.69it/s]\u001b[A\n",
      "196it [14:32,  3.96s/it]"
     ]
    },
    {
     "name": "stdout",
     "output_type": "stream",
     "text": [
      "196\n"
     ]
    },
    {
     "name": "stderr",
     "output_type": "stream",
     "text": [
      "\n",
      "0it [00:00, ?it/s]\u001b[A\n",
      "197it [14:33,  2.94s/it]"
     ]
    },
    {
     "name": "stdout",
     "output_type": "stream",
     "text": [
      "197\n"
     ]
    },
    {
     "name": "stderr",
     "output_type": "stream",
     "text": [
      "\n",
      "0it [00:00, ?it/s]\u001b[A\n",
      "198it [14:33,  2.24s/it]"
     ]
    },
    {
     "name": "stdout",
     "output_type": "stream",
     "text": [
      "198\n"
     ]
    },
    {
     "name": "stderr",
     "output_type": "stream",
     "text": [
      "\n",
      "  0%|                                                    | 0/10 [00:00<?, ?it/s]\u001b[A\n",
      " 10%|████▍                                       | 1/10 [00:00<00:05,  1.80it/s]\u001b[A\n",
      " 20%|████████▊                                   | 2/10 [00:01<00:04,  1.69it/s]\u001b[A\n",
      " 30%|█████████████▏                              | 3/10 [00:01<00:04,  1.51it/s]\u001b[A\n",
      " 40%|█████████████████▌                          | 4/10 [00:02<00:03,  1.53it/s]\u001b[A\n",
      " 50%|██████████████████████                      | 5/10 [00:03<00:03,  1.57it/s]\u001b[A\n",
      " 60%|██████████████████████████▍                 | 6/10 [00:04<00:03,  1.24it/s]\u001b[A\n",
      " 70%|██████████████████████████████▊             | 7/10 [00:05<00:02,  1.28it/s]\u001b[A\n",
      " 80%|███████████████████████████████████▏        | 8/10 [00:05<00:01,  1.35it/s]\u001b[A\n",
      " 90%|███████████████████████████████████████▌    | 9/10 [00:06<00:00,  1.41it/s]\u001b[A\n",
      "100%|███████████████████████████████████████████| 10/10 [00:06<00:00,  1.44it/s]\u001b[A\n",
      "199it [14:41,  3.82s/it]"
     ]
    },
    {
     "name": "stdout",
     "output_type": "stream",
     "text": [
      "199\n"
     ]
    },
    {
     "name": "stderr",
     "output_type": "stream",
     "text": [
      "\n",
      "0it [00:00, ?it/s]\u001b[A\n",
      "200it [14:42,  2.94s/it]"
     ]
    },
    {
     "name": "stdout",
     "output_type": "stream",
     "text": [
      "200\n"
     ]
    },
    {
     "name": "stderr",
     "output_type": "stream",
     "text": [
      "\n",
      "  0%|                                                     | 0/3 [00:00<?, ?it/s]\u001b[A\n",
      " 33%|███████████████                              | 1/3 [00:00<00:01,  1.71it/s]\u001b[A\n",
      " 67%|██████████████████████████████               | 2/3 [00:01<00:00,  1.68it/s]\u001b[A\n",
      "100%|█████████████████████████████████████████████| 3/3 [00:01<00:00,  1.73it/s]\u001b[A\n",
      "201it [14:44,  2.84s/it]"
     ]
    },
    {
     "name": "stdout",
     "output_type": "stream",
     "text": [
      "201\n"
     ]
    },
    {
     "name": "stderr",
     "output_type": "stream",
     "text": [
      "\n",
      "  0%|                                                    | 0/12 [00:00<?, ?it/s]\u001b[A\n",
      "  8%|███▋                                        | 1/12 [00:00<00:08,  1.36it/s]\u001b[A\n",
      " 17%|███████▎                                    | 2/12 [00:01<00:06,  1.50it/s]\u001b[A\n",
      " 25%|███████████                                 | 3/12 [00:02<00:06,  1.34it/s]\u001b[A\n",
      " 33%|██████████████▋                             | 4/12 [00:02<00:05,  1.42it/s]\u001b[A\n",
      " 42%|██████████████████▎                         | 5/12 [00:03<00:04,  1.46it/s]\u001b[A\n",
      " 50%|██████████████████████                      | 6/12 [00:04<00:04,  1.47it/s]\u001b[A\n",
      " 58%|█████████████████████████▋                  | 7/12 [00:04<00:03,  1.48it/s]\u001b[A\n",
      " 67%|█████████████████████████████▎              | 8/12 [00:05<00:02,  1.45it/s]\u001b[A\n",
      " 75%|█████████████████████████████████           | 9/12 [00:06<00:02,  1.38it/s]\u001b[A\n",
      " 83%|███████████████████████████████████▊       | 10/12 [00:06<00:01,  1.49it/s]\u001b[A\n",
      " 92%|███████████████████████████████████████▍   | 11/12 [00:07<00:00,  1.50it/s]\u001b[A\n",
      "100%|███████████████████████████████████████████| 12/12 [00:08<00:00,  1.47it/s]\u001b[A\n",
      "202it [14:53,  4.62s/it]"
     ]
    },
    {
     "name": "stdout",
     "output_type": "stream",
     "text": [
      "202\n"
     ]
    },
    {
     "name": "stderr",
     "output_type": "stream",
     "text": [
      "\n",
      "0it [00:00, ?it/s]\u001b[A\n",
      "203it [14:54,  3.43s/it]"
     ]
    },
    {
     "name": "stdout",
     "output_type": "stream",
     "text": [
      "203\n"
     ]
    },
    {
     "name": "stderr",
     "output_type": "stream",
     "text": [
      "\n",
      "0it [00:00, ?it/s]\u001b[A\n",
      "204it [14:54,  2.60s/it]"
     ]
    },
    {
     "name": "stdout",
     "output_type": "stream",
     "text": [
      "204\n"
     ]
    },
    {
     "name": "stderr",
     "output_type": "stream",
     "text": [
      "\n",
      "  0%|                                                     | 0/1 [00:00<?, ?it/s]\u001b[A\n",
      "100%|█████████████████████████████████████████████| 1/1 [00:00<00:00,  2.01it/s]\u001b[A\n",
      "205it [14:55,  2.16s/it]"
     ]
    },
    {
     "name": "stdout",
     "output_type": "stream",
     "text": [
      "205\n"
     ]
    },
    {
     "name": "stderr",
     "output_type": "stream",
     "text": [
      "\n",
      "  0%|                                                     | 0/1 [00:00<?, ?it/s]\u001b[A\n",
      "100%|█████████████████████████████████████████████| 1/1 [00:00<00:00,  1.89it/s]\u001b[A\n",
      "206it [14:57,  1.85s/it]"
     ]
    },
    {
     "name": "stdout",
     "output_type": "stream",
     "text": [
      "206\n"
     ]
    },
    {
     "name": "stderr",
     "output_type": "stream",
     "text": [
      "\n",
      "0it [00:00, ?it/s]\u001b[A\n",
      "207it [14:57,  1.48s/it]"
     ]
    },
    {
     "name": "stdout",
     "output_type": "stream",
     "text": [
      "207\n"
     ]
    },
    {
     "name": "stderr",
     "output_type": "stream",
     "text": [
      "\n",
      "  0%|                                                     | 0/1 [00:00<?, ?it/s]\u001b[A\n",
      "100%|█████████████████████████████████████████████| 1/1 [00:00<00:00,  1.66it/s]\u001b[A\n",
      "208it [14:58,  1.40s/it]"
     ]
    },
    {
     "name": "stdout",
     "output_type": "stream",
     "text": [
      "208\n"
     ]
    },
    {
     "name": "stderr",
     "output_type": "stream",
     "text": [
      "\n",
      "  0%|                                                     | 0/8 [00:00<?, ?it/s]\u001b[A\n",
      " 12%|█████▋                                       | 1/8 [00:00<00:04,  1.60it/s]\u001b[A\n",
      " 25%|███████████▎                                 | 2/8 [00:01<00:03,  1.71it/s]\u001b[A\n",
      " 38%|████████████████▉                            | 3/8 [00:01<00:02,  1.79it/s]\u001b[A\n",
      " 50%|██████████████████████▌                      | 4/8 [00:02<00:02,  1.86it/s]\u001b[A\n",
      " 62%|████████████████████████████▏                | 5/8 [00:02<00:01,  1.87it/s]\u001b[A\n",
      " 75%|█████████████████████████████████▊           | 6/8 [00:03<00:01,  1.86it/s]\u001b[A\n",
      " 88%|███████████████████████████████████████▍     | 7/8 [00:04<00:00,  1.54it/s]\u001b[A\n",
      "100%|█████████████████████████████████████████████| 8/8 [00:04<00:00,  1.72it/s]\u001b[A\n",
      "209it [15:04,  2.57s/it]"
     ]
    },
    {
     "name": "stdout",
     "output_type": "stream",
     "text": [
      "209\n"
     ]
    },
    {
     "name": "stderr",
     "output_type": "stream",
     "text": [
      "\n",
      "  0%|                                                     | 0/2 [00:00<?, ?it/s]\u001b[A\n",
      " 50%|██████████████████████▌                      | 1/2 [00:00<00:00,  1.77it/s]\u001b[A\n",
      "100%|█████████████████████████████████████████████| 2/2 [00:01<00:00,  1.64it/s]\u001b[A\n",
      "210it [15:06,  2.36s/it]"
     ]
    },
    {
     "name": "stdout",
     "output_type": "stream",
     "text": [
      "210\n"
     ]
    },
    {
     "name": "stderr",
     "output_type": "stream",
     "text": [
      "\n",
      "0it [00:00, ?it/s]\u001b[A\n",
      "211it [15:06,  1.82s/it]"
     ]
    },
    {
     "name": "stdout",
     "output_type": "stream",
     "text": [
      "211\n"
     ]
    },
    {
     "name": "stderr",
     "output_type": "stream",
     "text": [
      "\n",
      "  0%|                                                    | 0/35 [00:00<?, ?it/s]\u001b[A\n",
      "  3%|█▎                                          | 1/35 [00:00<00:16,  2.02it/s]\u001b[A\n",
      "  6%|██▌                                         | 2/35 [00:01<00:16,  1.96it/s]\u001b[A\n",
      "  9%|███▊                                        | 3/35 [00:01<00:16,  1.96it/s]\u001b[A\n",
      " 11%|█████                                       | 4/35 [00:02<00:16,  1.84it/s]\u001b[A\n",
      " 14%|██████▎                                     | 5/35 [00:02<00:19,  1.52it/s]\u001b[A\n",
      " 17%|███████▌                                    | 6/35 [00:03<00:18,  1.55it/s]\u001b[A\n",
      " 20%|████████▊                                   | 7/35 [00:04<00:17,  1.61it/s]\u001b[A\n",
      " 23%|██████████                                  | 8/35 [00:04<00:16,  1.68it/s]\u001b[A\n",
      " 26%|███████████▎                                | 9/35 [00:05<00:14,  1.76it/s]\u001b[A\n",
      " 29%|████████████▎                              | 10/35 [00:05<00:14,  1.69it/s]\u001b[A\n",
      " 31%|█████████████▌                             | 11/35 [00:06<00:13,  1.75it/s]\u001b[A\n",
      " 34%|██████████████▋                            | 12/35 [00:06<00:12,  1.78it/s]\u001b[A\n",
      " 37%|███████████████▉                           | 13/35 [00:07<00:12,  1.81it/s]\u001b[A\n",
      " 40%|█████████████████▏                         | 14/35 [00:07<00:11,  1.85it/s]\u001b[A\n",
      " 43%|██████████████████▍                        | 15/35 [00:08<00:10,  1.89it/s]\u001b[A\n",
      " 46%|███████████████████▋                       | 16/35 [00:09<00:10,  1.90it/s]\u001b[A\n",
      " 49%|████████████████████▉                      | 17/35 [00:09<00:09,  1.87it/s]\u001b[A\n",
      " 51%|██████████████████████                     | 18/35 [00:10<00:09,  1.82it/s]\u001b[A\n",
      " 54%|███████████████████████▎                   | 19/35 [00:10<00:09,  1.72it/s]\u001b[A\n",
      " 57%|████████████████████████▌                  | 20/35 [00:11<00:08,  1.76it/s]\u001b[A\n",
      " 60%|█████████████████████████▊                 | 21/35 [00:11<00:08,  1.72it/s]\u001b[A\n",
      " 63%|███████████████████████████                | 22/35 [00:12<00:07,  1.73it/s]\u001b[A\n",
      " 66%|████████████████████████████▎              | 23/35 [00:13<00:06,  1.77it/s]\u001b[A\n",
      " 69%|█████████████████████████████▍             | 24/35 [00:13<00:06,  1.81it/s]\u001b[A\n",
      " 71%|██████████████████████████████▋            | 25/35 [00:14<00:05,  1.85it/s]\u001b[A\n",
      " 74%|███████████████████████████████▉           | 26/35 [00:14<00:04,  1.83it/s]\u001b[A\n",
      " 77%|█████████████████████████████████▏         | 27/35 [00:15<00:04,  1.83it/s]\u001b[A\n",
      " 80%|██████████████████████████████████▍        | 28/35 [00:15<00:03,  1.79it/s]\u001b[A\n",
      " 83%|███████████████████████████████████▋       | 29/35 [00:16<00:03,  1.84it/s]\u001b[A\n",
      " 86%|████████████████████████████████████▊      | 30/35 [00:16<00:02,  1.85it/s]\u001b[A\n",
      " 89%|██████████████████████████████████████     | 31/35 [00:17<00:02,  1.83it/s]\u001b[A\n",
      " 91%|███████████████████████████████████████▎   | 32/35 [00:18<00:01,  1.74it/s]\u001b[A\n",
      " 94%|████████████████████████████████████████▌  | 33/35 [00:18<00:01,  1.77it/s]\u001b[A\n",
      " 97%|█████████████████████████████████████████▊ | 34/35 [00:19<00:00,  1.73it/s]\u001b[A\n",
      "100%|███████████████████████████████████████████| 35/35 [00:19<00:00,  1.78it/s]\u001b[A\n",
      "212it [15:26,  7.35s/it]"
     ]
    },
    {
     "name": "stdout",
     "output_type": "stream",
     "text": [
      "212\n"
     ]
    },
    {
     "name": "stderr",
     "output_type": "stream",
     "text": [
      "\n",
      "0it [00:00, ?it/s]\u001b[A\n",
      "213it [15:27,  5.36s/it]"
     ]
    },
    {
     "name": "stdout",
     "output_type": "stream",
     "text": [
      "213\n"
     ]
    },
    {
     "name": "stderr",
     "output_type": "stream",
     "text": [
      "\n",
      "  0%|                                                     | 0/1 [00:00<?, ?it/s]\u001b[A\n",
      "100%|█████████████████████████████████████████████| 1/1 [00:00<00:00,  1.86it/s]\u001b[A\n",
      "214it [15:28,  4.12s/it]"
     ]
    },
    {
     "name": "stdout",
     "output_type": "stream",
     "text": [
      "214\n"
     ]
    },
    {
     "name": "stderr",
     "output_type": "stream",
     "text": [
      "\n",
      "  0%|                                                     | 0/4 [00:00<?, ?it/s]\u001b[A\n",
      " 25%|███████████▎                                 | 1/4 [00:00<00:01,  1.57it/s]\u001b[A\n",
      " 50%|██████████████████████▌                      | 2/4 [00:01<00:01,  1.59it/s]\u001b[A\n",
      " 75%|█████████████████████████████████▊           | 3/4 [00:01<00:00,  1.66it/s]\u001b[A\n",
      "100%|█████████████████████████████████████████████| 4/4 [00:02<00:00,  1.66it/s]\u001b[A\n",
      "215it [15:31,  3.79s/it]"
     ]
    },
    {
     "name": "stdout",
     "output_type": "stream",
     "text": [
      "215\n"
     ]
    },
    {
     "name": "stderr",
     "output_type": "stream",
     "text": [
      "\n",
      "  0%|                                                     | 0/2 [00:00<?, ?it/s]\u001b[A\n",
      " 50%|██████████████████████▌                      | 1/2 [00:00<00:00,  1.61it/s]\u001b[A\n",
      "100%|█████████████████████████████████████████████| 2/2 [00:01<00:00,  1.69it/s]\u001b[A\n",
      "216it [15:33,  3.23s/it]"
     ]
    },
    {
     "name": "stdout",
     "output_type": "stream",
     "text": [
      "216\n"
     ]
    },
    {
     "name": "stderr",
     "output_type": "stream",
     "text": [
      "\n",
      "  0%|                                                     | 0/8 [00:00<?, ?it/s]\u001b[A\n",
      " 12%|█████▋                                       | 1/8 [00:00<00:04,  1.57it/s]\u001b[A\n",
      " 25%|███████████▎                                 | 2/8 [00:01<00:03,  1.60it/s]\u001b[A\n",
      " 38%|████████████████▉                            | 3/8 [00:01<00:02,  1.75it/s]\u001b[A\n",
      " 50%|██████████████████████▌                      | 4/8 [00:02<00:02,  1.80it/s]\u001b[A\n",
      " 62%|████████████████████████████▏                | 5/8 [00:02<00:01,  1.84it/s]\u001b[A\n",
      " 75%|█████████████████████████████████▊           | 6/8 [00:03<00:01,  1.79it/s]\u001b[A\n",
      " 88%|███████████████████████████████████████▍     | 7/8 [00:04<00:00,  1.74it/s]\u001b[A\n",
      "100%|█████████████████████████████████████████████| 8/8 [00:04<00:00,  1.73it/s]\u001b[A\n",
      "217it [15:39,  3.83s/it]"
     ]
    },
    {
     "name": "stdout",
     "output_type": "stream",
     "text": [
      "217\n"
     ]
    },
    {
     "name": "stderr",
     "output_type": "stream",
     "text": [
      "\n",
      "0it [00:00, ?it/s]\u001b[A\n",
      "218it [15:39,  2.90s/it]"
     ]
    },
    {
     "name": "stdout",
     "output_type": "stream",
     "text": [
      "218\n"
     ]
    },
    {
     "name": "stderr",
     "output_type": "stream",
     "text": [
      "\n",
      "0it [00:00, ?it/s]\u001b[A\n",
      "219it [15:40,  2.21s/it]"
     ]
    },
    {
     "name": "stdout",
     "output_type": "stream",
     "text": [
      "219\n"
     ]
    },
    {
     "name": "stderr",
     "output_type": "stream",
     "text": [
      "\n",
      "  0%|                                                     | 0/5 [00:00<?, ?it/s]\u001b[A\n",
      " 20%|█████████                                    | 1/5 [00:00<00:02,  1.48it/s]\u001b[A\n",
      " 40%|██████████████████                           | 2/5 [00:01<00:01,  1.67it/s]\u001b[A\n",
      " 60%|███████████████████████████                  | 3/5 [00:01<00:01,  1.77it/s]\u001b[A\n",
      " 80%|████████████████████████████████████         | 4/5 [00:02<00:00,  1.59it/s]\u001b[A\n",
      "100%|█████████████████████████████████████████████| 5/5 [00:03<00:00,  1.63it/s]\u001b[A\n",
      "220it [15:44,  2.66s/it]"
     ]
    },
    {
     "name": "stdout",
     "output_type": "stream",
     "text": [
      "220\n"
     ]
    },
    {
     "name": "stderr",
     "output_type": "stream",
     "text": [
      "\n",
      "  0%|                                                     | 0/1 [00:00<?, ?it/s]\u001b[A\n",
      "100%|█████████████████████████████████████████████| 1/1 [00:00<00:00,  1.72it/s]\u001b[A\n",
      "221it [15:45,  2.27s/it]"
     ]
    },
    {
     "name": "stdout",
     "output_type": "stream",
     "text": [
      "221\n"
     ]
    },
    {
     "name": "stderr",
     "output_type": "stream",
     "text": [
      "\n",
      "  0%|                                                     | 0/2 [00:00<?, ?it/s]\u001b[A\n",
      " 50%|██████████████████████▌                      | 1/2 [00:00<00:00,  1.96it/s]\u001b[A\n",
      "100%|█████████████████████████████████████████████| 2/2 [00:01<00:00,  1.95it/s]\u001b[A\n",
      "222it [15:46,  2.06s/it]"
     ]
    },
    {
     "name": "stdout",
     "output_type": "stream",
     "text": [
      "222\n"
     ]
    },
    {
     "name": "stderr",
     "output_type": "stream",
     "text": [
      "\n",
      "  0%|                                                     | 0/6 [00:00<?, ?it/s]\u001b[A\n",
      " 17%|███████▌                                     | 1/6 [00:00<00:02,  1.80it/s]\u001b[A\n",
      " 33%|███████████████                              | 2/6 [00:01<00:02,  1.77it/s]\u001b[A\n",
      " 50%|██████████████████████▌                      | 3/6 [00:01<00:01,  1.86it/s]\u001b[A\n",
      " 67%|██████████████████████████████               | 4/6 [00:02<00:01,  1.90it/s]\u001b[A\n",
      " 83%|█████████████████████████████████████▌       | 5/6 [00:02<00:00,  1.87it/s]\u001b[A\n",
      "100%|█████████████████████████████████████████████| 6/6 [00:03<00:00,  1.85it/s]\u001b[A\n",
      "223it [15:50,  2.60s/it]"
     ]
    },
    {
     "name": "stdout",
     "output_type": "stream",
     "text": [
      "223\n"
     ]
    },
    {
     "name": "stderr",
     "output_type": "stream",
     "text": [
      "\n",
      "0it [00:00, ?it/s]\u001b[A\n",
      "224it [15:51,  2.01s/it]"
     ]
    },
    {
     "name": "stdout",
     "output_type": "stream",
     "text": [
      "224\n"
     ]
    },
    {
     "name": "stderr",
     "output_type": "stream",
     "text": [
      "\n",
      "0it [00:00, ?it/s]\u001b[A\n",
      "225it [15:52,  1.59s/it]"
     ]
    },
    {
     "name": "stdout",
     "output_type": "stream",
     "text": [
      "225\n"
     ]
    },
    {
     "name": "stderr",
     "output_type": "stream",
     "text": [
      "\n",
      "0it [00:00, ?it/s]\u001b[A\n",
      "226it [15:52,  1.31s/it]"
     ]
    },
    {
     "name": "stdout",
     "output_type": "stream",
     "text": [
      "226\n"
     ]
    },
    {
     "name": "stderr",
     "output_type": "stream",
     "text": [
      "\n",
      "  0%|                                                    | 0/23 [00:00<?, ?it/s]\u001b[A\n",
      "  4%|█▉                                          | 1/23 [00:00<00:11,  1.97it/s]\u001b[A\n",
      "  9%|███▊                                        | 2/23 [00:01<00:11,  1.88it/s]\u001b[A\n",
      " 13%|█████▋                                      | 3/23 [00:01<00:11,  1.79it/s]\u001b[A\n",
      " 17%|███████▋                                    | 4/23 [00:02<00:10,  1.85it/s]\u001b[A\n",
      " 22%|█████████▌                                  | 5/23 [00:02<00:09,  1.88it/s]\u001b[A\n",
      " 26%|███████████▍                                | 6/23 [00:03<00:08,  1.89it/s]\u001b[A\n",
      " 30%|█████████████▍                              | 7/23 [00:03<00:08,  1.88it/s]\u001b[A\n",
      " 35%|███████████████▎                            | 8/23 [00:04<00:08,  1.83it/s]\u001b[A\n",
      " 39%|█████████████████▏                          | 9/23 [00:04<00:07,  1.84it/s]\u001b[A\n",
      " 43%|██████████████████▋                        | 10/23 [00:05<00:08,  1.62it/s]\u001b[A\n",
      " 48%|████████████████████▌                      | 11/23 [00:06<00:06,  1.72it/s]\u001b[A\n",
      " 52%|██████████████████████▍                    | 12/23 [00:06<00:06,  1.70it/s]\u001b[A\n",
      " 57%|████████████████████████▎                  | 13/23 [00:07<00:05,  1.74it/s]\u001b[A\n",
      " 61%|██████████████████████████▏                | 14/23 [00:08<00:07,  1.23it/s]\u001b[A\n",
      " 65%|████████████████████████████               | 15/23 [00:09<00:05,  1.40it/s]\u001b[A\n",
      " 70%|█████████████████████████████▉             | 16/23 [00:09<00:04,  1.52it/s]\u001b[A\n",
      " 74%|███████████████████████████████▊           | 17/23 [00:10<00:03,  1.61it/s]\u001b[A\n",
      " 78%|█████████████████████████████████▋         | 18/23 [00:10<00:02,  1.70it/s]\u001b[A\n",
      " 83%|███████████████████████████████████▌       | 19/23 [00:11<00:02,  1.74it/s]\u001b[A\n",
      " 87%|█████████████████████████████████████▍     | 20/23 [00:11<00:01,  1.73it/s]\u001b[A\n",
      " 91%|███████████████████████████████████████▎   | 21/23 [00:12<00:01,  1.78it/s]\u001b[A\n",
      " 96%|█████████████████████████████████████████▏ | 22/23 [00:12<00:00,  1.75it/s]\u001b[A\n",
      "100%|███████████████████████████████████████████| 23/23 [00:13<00:00,  1.71it/s]\u001b[A\n",
      "227it [16:06,  5.14s/it]"
     ]
    },
    {
     "name": "stdout",
     "output_type": "stream",
     "text": [
      "227\n"
     ]
    },
    {
     "name": "stderr",
     "output_type": "stream",
     "text": [
      "\n",
      "  0%|                                                     | 0/2 [00:00<?, ?it/s]\u001b[A\n",
      " 50%|██████████████████████▌                      | 1/2 [00:00<00:00,  1.80it/s]\u001b[A\n",
      "100%|█████████████████████████████████████████████| 2/2 [00:01<00:00,  1.76it/s]\u001b[A\n",
      "228it [16:08,  4.11s/it]"
     ]
    },
    {
     "name": "stdout",
     "output_type": "stream",
     "text": [
      "228\n"
     ]
    },
    {
     "name": "stderr",
     "output_type": "stream",
     "text": [
      "\n",
      "  0%|                                                     | 0/2 [00:00<?, ?it/s]\u001b[A\n",
      " 50%|██████████████████████▌                      | 1/2 [00:00<00:00,  1.84it/s]\u001b[A\n",
      "100%|█████████████████████████████████████████████| 2/2 [00:01<00:00,  1.88it/s]\u001b[A\n",
      "229it [16:10,  3.40s/it]"
     ]
    },
    {
     "name": "stdout",
     "output_type": "stream",
     "text": [
      "229\n"
     ]
    },
    {
     "name": "stderr",
     "output_type": "stream",
     "text": [
      "\n",
      "  0%|                                                    | 0/10 [00:00<?, ?it/s]\u001b[A\n",
      " 10%|████▍                                       | 1/10 [00:00<00:05,  1.76it/s]\u001b[A\n",
      " 20%|████████▊                                   | 2/10 [00:01<00:04,  1.85it/s]\u001b[A\n",
      " 30%|█████████████▏                              | 3/10 [00:01<00:03,  1.84it/s]\u001b[A\n",
      " 40%|█████████████████▌                          | 4/10 [00:02<00:03,  1.64it/s]\u001b[A\n",
      " 50%|██████████████████████                      | 5/10 [00:02<00:02,  1.68it/s]\u001b[A\n",
      " 60%|██████████████████████████▍                 | 6/10 [00:03<00:02,  1.68it/s]\u001b[A\n",
      " 70%|██████████████████████████████▊             | 7/10 [00:04<00:01,  1.62it/s]\u001b[A\n",
      " 80%|███████████████████████████████████▏        | 8/10 [00:04<00:01,  1.71it/s]\u001b[A\n",
      " 90%|███████████████████████████████████████▌    | 9/10 [00:05<00:00,  1.72it/s]\u001b[A\n",
      "100%|███████████████████████████████████████████| 10/10 [00:05<00:00,  1.73it/s]\u001b[A\n",
      "230it [16:16,  4.33s/it]"
     ]
    },
    {
     "name": "stdout",
     "output_type": "stream",
     "text": [
      "230\n"
     ]
    },
    {
     "name": "stderr",
     "output_type": "stream",
     "text": [
      "\n",
      "  0%|                                                     | 0/4 [00:00<?, ?it/s]\u001b[A\n",
      " 25%|███████████▎                                 | 1/4 [00:00<00:01,  1.83it/s]\u001b[A\n",
      " 50%|██████████████████████▌                      | 2/4 [00:01<00:01,  1.93it/s]\u001b[A\n",
      " 75%|█████████████████████████████████▊           | 3/4 [00:01<00:00,  1.89it/s]\u001b[A\n",
      "100%|█████████████████████████████████████████████| 4/4 [00:02<00:00,  1.91it/s]\u001b[A\n",
      "231it [16:19,  3.84s/it]"
     ]
    },
    {
     "name": "stdout",
     "output_type": "stream",
     "text": [
      "231\n"
     ]
    },
    {
     "name": "stderr",
     "output_type": "stream",
     "text": [
      "\n",
      "  0%|                                                    | 0/31 [00:00<?, ?it/s]\u001b[A\n",
      "  3%|█▍                                          | 1/31 [00:00<00:14,  2.01it/s]\u001b[A\n",
      "  6%|██▊                                         | 2/31 [00:01<00:14,  1.98it/s]\u001b[A\n",
      " 10%|████▎                                       | 3/31 [00:01<00:15,  1.84it/s]\u001b[A\n",
      " 13%|█████▋                                      | 4/31 [00:02<00:14,  1.91it/s]\u001b[A\n",
      " 16%|███████                                     | 5/31 [00:02<00:13,  1.91it/s]\u001b[A\n",
      " 19%|████████▌                                   | 6/31 [00:03<00:13,  1.88it/s]\u001b[A\n",
      " 23%|█████████▉                                  | 7/31 [00:03<00:12,  1.90it/s]\u001b[A\n",
      " 26%|███████████▎                                | 8/31 [00:04<00:12,  1.84it/s]\u001b[A\n",
      " 29%|████████████▊                               | 9/31 [00:04<00:12,  1.80it/s]\u001b[A\n",
      " 32%|█████████████▊                             | 10/31 [00:05<00:11,  1.85it/s]\u001b[A\n",
      " 35%|███████████████▎                           | 11/31 [00:05<00:10,  1.89it/s]\u001b[A\n",
      " 39%|████████████████▋                          | 12/31 [00:06<00:10,  1.88it/s]\u001b[A\n",
      " 42%|██████████████████                         | 13/31 [00:06<00:09,  1.85it/s]\u001b[A\n",
      " 45%|███████████████████▍                       | 14/31 [00:07<00:09,  1.77it/s]\u001b[A\n",
      " 48%|████████████████████▊                      | 15/31 [00:08<00:08,  1.83it/s]\u001b[A\n",
      " 52%|██████████████████████▏                    | 16/31 [00:08<00:08,  1.86it/s]\u001b[A\n",
      " 55%|███████████████████████▌                   | 17/31 [00:09<00:07,  1.78it/s]\u001b[A\n",
      " 58%|████████████████████████▉                  | 18/31 [00:09<00:07,  1.83it/s]\u001b[A\n",
      " 61%|██████████████████████████▎                | 19/31 [00:10<00:06,  1.88it/s]\u001b[A\n",
      " 65%|███████████████████████████▋               | 20/31 [00:10<00:05,  1.87it/s]\u001b[A\n",
      " 68%|█████████████████████████████▏             | 21/31 [00:11<00:05,  1.88it/s]\u001b[A\n",
      " 71%|██████████████████████████████▌            | 22/31 [00:11<00:04,  1.84it/s]\u001b[A\n",
      " 74%|███████████████████████████████▉           | 23/31 [00:12<00:04,  1.90it/s]\u001b[A\n",
      " 77%|█████████████████████████████████▎         | 24/31 [00:12<00:03,  1.86it/s]\u001b[A\n",
      " 81%|██████████████████████████████████▋        | 25/31 [00:13<00:03,  1.72it/s]\u001b[A\n",
      " 84%|████████████████████████████████████       | 26/31 [00:14<00:02,  1.77it/s]\u001b[A\n",
      " 87%|█████████████████████████████████████▍     | 27/31 [00:14<00:02,  1.71it/s]\u001b[A\n",
      " 90%|██████████████████████████████████████▊    | 28/31 [00:15<00:01,  1.78it/s]\u001b[A\n",
      " 94%|████████████████████████████████████████▏  | 29/31 [00:15<00:01,  1.84it/s]\u001b[A\n",
      " 97%|█████████████████████████████████████████▌ | 30/31 [00:16<00:00,  1.84it/s]\u001b[A\n",
      "100%|███████████████████████████████████████████| 31/31 [00:16<00:00,  1.84it/s]\u001b[A\n",
      "232it [16:37,  7.96s/it]"
     ]
    },
    {
     "name": "stdout",
     "output_type": "stream",
     "text": [
      "232\n"
     ]
    },
    {
     "name": "stderr",
     "output_type": "stream",
     "text": [
      "\n",
      "  0%|                                                     | 0/6 [00:00<?, ?it/s]\u001b[A\n",
      " 17%|███████▌                                     | 1/6 [00:00<00:02,  1.85it/s]\u001b[A\n",
      " 33%|███████████████                              | 2/6 [00:01<00:02,  1.78it/s]\u001b[A\n",
      " 50%|██████████████████████▌                      | 3/6 [00:01<00:01,  1.85it/s]\u001b[A\n",
      " 67%|██████████████████████████████               | 4/6 [00:02<00:01,  1.84it/s]\u001b[A\n",
      " 83%|█████████████████████████████████████▌       | 5/6 [00:02<00:00,  1.84it/s]\u001b[A\n",
      "100%|█████████████████████████████████████████████| 6/6 [00:03<00:00,  1.86it/s]\u001b[A\n",
      "233it [16:40,  6.72s/it]"
     ]
    },
    {
     "name": "stdout",
     "output_type": "stream",
     "text": [
      "233\n"
     ]
    },
    {
     "name": "stderr",
     "output_type": "stream",
     "text": [
      "\n",
      "  0%|                                                     | 0/1 [00:00<?, ?it/s]\u001b[A\n",
      "100%|█████████████████████████████████████████████| 1/1 [00:00<00:00,  1.60it/s]\u001b[A\n",
      "234it [16:42,  5.08s/it]"
     ]
    },
    {
     "name": "stdout",
     "output_type": "stream",
     "text": [
      "234\n"
     ]
    },
    {
     "name": "stderr",
     "output_type": "stream",
     "text": [
      "\n",
      "  0%|                                                     | 0/1 [00:00<?, ?it/s]\u001b[A\n",
      "100%|█████████████████████████████████████████████| 1/1 [00:00<00:00,  1.70it/s]\u001b[A\n",
      "235it [16:43,  3.92s/it]"
     ]
    },
    {
     "name": "stdout",
     "output_type": "stream",
     "text": [
      "235\n"
     ]
    },
    {
     "name": "stderr",
     "output_type": "stream",
     "text": [
      "\n",
      "  0%|                                                     | 0/2 [00:00<?, ?it/s]\u001b[A\n",
      " 50%|██████████████████████▌                      | 1/2 [00:00<00:00,  1.47it/s]\u001b[A\n",
      "100%|█████████████████████████████████████████████| 2/2 [00:01<00:00,  1.62it/s]\u001b[A\n",
      "236it [16:45,  3.30s/it]"
     ]
    },
    {
     "name": "stdout",
     "output_type": "stream",
     "text": [
      "236\n"
     ]
    },
    {
     "name": "stderr",
     "output_type": "stream",
     "text": [
      "\n",
      "  0%|                                                     | 0/2 [00:00<?, ?it/s]\u001b[A\n",
      " 50%|██████████████████████▌                      | 1/2 [00:00<00:00,  1.58it/s]\u001b[A\n",
      "100%|█████████████████████████████████████████████| 2/2 [00:01<00:00,  1.60it/s]\u001b[A\n",
      "237it [16:47,  2.86s/it]"
     ]
    },
    {
     "name": "stdout",
     "output_type": "stream",
     "text": [
      "237\n"
     ]
    },
    {
     "name": "stderr",
     "output_type": "stream",
     "text": [
      "\n",
      "  0%|                                                     | 0/4 [00:00<?, ?it/s]\u001b[A\n",
      " 25%|███████████▎                                 | 1/4 [00:00<00:01,  1.79it/s]\u001b[A\n",
      " 50%|██████████████████████▌                      | 2/4 [00:01<00:01,  1.90it/s]\u001b[A\n",
      " 75%|█████████████████████████████████▊           | 3/4 [00:01<00:00,  1.77it/s]\u001b[A\n",
      "100%|█████████████████████████████████████████████| 4/4 [00:02<00:00,  1.82it/s]\u001b[A\n",
      "238it [16:49,  2.84s/it]"
     ]
    },
    {
     "name": "stdout",
     "output_type": "stream",
     "text": [
      "238\n"
     ]
    },
    {
     "name": "stderr",
     "output_type": "stream",
     "text": [
      "\n",
      "0it [00:00, ?it/s]\u001b[A\n",
      "239it [16:50,  2.20s/it]"
     ]
    },
    {
     "name": "stdout",
     "output_type": "stream",
     "text": [
      "239\n"
     ]
    },
    {
     "name": "stderr",
     "output_type": "stream",
     "text": [
      "\n",
      "  0%|                                                     | 0/4 [00:00<?, ?it/s]\u001b[A\n",
      " 25%|███████████▎                                 | 1/4 [00:00<00:01,  1.64it/s]\u001b[A\n",
      " 50%|██████████████████████▌                      | 2/4 [00:01<00:01,  1.74it/s]\u001b[A\n",
      " 75%|█████████████████████████████████▊           | 3/4 [00:01<00:00,  1.65it/s]\u001b[A\n",
      "100%|█████████████████████████████████████████████| 4/4 [00:02<00:00,  1.69it/s]\u001b[A\n",
      "240it [16:53,  2.42s/it]"
     ]
    },
    {
     "name": "stdout",
     "output_type": "stream",
     "text": [
      "240\n"
     ]
    },
    {
     "name": "stderr",
     "output_type": "stream",
     "text": [
      "\n",
      "  0%|                                                     | 0/1 [00:00<?, ?it/s]\u001b[A\n",
      "100%|█████████████████████████████████████████████| 1/1 [00:00<00:00,  1.35it/s]\u001b[A\n",
      "241it [16:54,  2.14s/it]"
     ]
    },
    {
     "name": "stdout",
     "output_type": "stream",
     "text": [
      "241\n"
     ]
    },
    {
     "name": "stderr",
     "output_type": "stream",
     "text": [
      "\n",
      "  0%|                                                     | 0/2 [00:00<?, ?it/s]\u001b[A\n",
      " 50%|██████████████████████▌                      | 1/2 [00:00<00:00,  1.66it/s]\u001b[A\n",
      "100%|█████████████████████████████████████████████| 2/2 [00:01<00:00,  1.79it/s]\u001b[A\n",
      "242it [16:57,  2.23s/it]"
     ]
    },
    {
     "name": "stdout",
     "output_type": "stream",
     "text": [
      "242\n"
     ]
    },
    {
     "name": "stderr",
     "output_type": "stream",
     "text": [
      "\n",
      "  0%|                                                     | 0/2 [00:00<?, ?it/s]\u001b[A\n",
      " 50%|██████████████████████▌                      | 1/2 [00:00<00:00,  1.79it/s]\u001b[A\n",
      "100%|█████████████████████████████████████████████| 2/2 [00:01<00:00,  1.70it/s]\u001b[A\n",
      "243it [16:59,  2.12s/it]"
     ]
    },
    {
     "name": "stdout",
     "output_type": "stream",
     "text": [
      "243\n"
     ]
    },
    {
     "name": "stderr",
     "output_type": "stream",
     "text": [
      "\n",
      "  0%|                                                     | 0/1 [00:00<?, ?it/s]\u001b[A\n",
      "100%|█████████████████████████████████████████████| 1/1 [00:00<00:00,  1.84it/s]\u001b[A\n",
      "244it [17:00,  1.86s/it]"
     ]
    },
    {
     "name": "stdout",
     "output_type": "stream",
     "text": [
      "244\n"
     ]
    },
    {
     "name": "stderr",
     "output_type": "stream",
     "text": [
      "\n",
      "  0%|                                                     | 0/4 [00:00<?, ?it/s]\u001b[A\n",
      " 25%|███████████▎                                 | 1/4 [00:00<00:01,  1.62it/s]\u001b[A\n",
      " 50%|██████████████████████▌                      | 2/4 [00:01<00:01,  1.75it/s]\u001b[A\n",
      " 75%|█████████████████████████████████▊           | 3/4 [00:01<00:00,  1.68it/s]\u001b[A\n",
      "100%|█████████████████████████████████████████████| 4/4 [00:02<00:00,  1.73it/s]\u001b[A\n",
      "245it [17:03,  2.20s/it]"
     ]
    },
    {
     "name": "stdout",
     "output_type": "stream",
     "text": [
      "245\n"
     ]
    },
    {
     "name": "stderr",
     "output_type": "stream",
     "text": [
      "\n",
      "0it [00:00, ?it/s]\u001b[A\n",
      "246it [17:04,  1.71s/it]"
     ]
    },
    {
     "name": "stdout",
     "output_type": "stream",
     "text": [
      "246\n"
     ]
    },
    {
     "name": "stderr",
     "output_type": "stream",
     "text": [
      "\n",
      "  0%|                                                     | 0/1 [00:00<?, ?it/s]\u001b[A\n",
      "100%|█████████████████████████████████████████████| 1/1 [00:00<00:00,  1.96it/s]\u001b[A\n",
      "247it [17:05,  1.55s/it]"
     ]
    },
    {
     "name": "stdout",
     "output_type": "stream",
     "text": [
      "247\n"
     ]
    },
    {
     "name": "stderr",
     "output_type": "stream",
     "text": [
      "\n",
      "0it [00:00, ?it/s]\u001b[A\n",
      "248it [17:05,  1.26s/it]"
     ]
    },
    {
     "name": "stdout",
     "output_type": "stream",
     "text": [
      "248\n"
     ]
    },
    {
     "name": "stderr",
     "output_type": "stream",
     "text": [
      "\n",
      "  0%|                                                     | 0/2 [00:00<?, ?it/s]\u001b[A\n",
      " 50%|██████████████████████▌                      | 1/2 [00:00<00:00,  1.64it/s]\u001b[A\n",
      "100%|█████████████████████████████████████████████| 2/2 [00:01<00:00,  1.65it/s]\u001b[A\n",
      "249it [17:07,  1.43s/it]"
     ]
    },
    {
     "name": "stdout",
     "output_type": "stream",
     "text": [
      "249\n"
     ]
    },
    {
     "name": "stderr",
     "output_type": "stream",
     "text": [
      "\n",
      "0it [00:00, ?it/s]\u001b[A\n",
      "250it [17:08,  1.20s/it]"
     ]
    },
    {
     "name": "stdout",
     "output_type": "stream",
     "text": [
      "250\n"
     ]
    },
    {
     "name": "stderr",
     "output_type": "stream",
     "text": [
      "\n",
      "  0%|                                                     | 0/3 [00:00<?, ?it/s]\u001b[A\n",
      " 33%|███████████████                              | 1/3 [00:00<00:01,  1.20it/s]\u001b[A\n",
      " 67%|██████████████████████████████               | 2/3 [00:01<00:00,  1.57it/s]\u001b[A\n",
      "100%|█████████████████████████████████████████████| 3/3 [00:01<00:00,  1.53it/s]\u001b[A\n",
      "251it [17:10,  1.62s/it]"
     ]
    },
    {
     "name": "stdout",
     "output_type": "stream",
     "text": [
      "251\n"
     ]
    },
    {
     "name": "stderr",
     "output_type": "stream",
     "text": [
      "\n",
      "0it [00:00, ?it/s]\u001b[A\n",
      "252it [17:11,  1.32s/it]"
     ]
    },
    {
     "name": "stdout",
     "output_type": "stream",
     "text": [
      "252\n"
     ]
    },
    {
     "name": "stderr",
     "output_type": "stream",
     "text": [
      "\n",
      "  0%|                                                     | 0/8 [00:00<?, ?it/s]\u001b[A\n",
      " 12%|█████▋                                       | 1/8 [00:00<00:04,  1.63it/s]\u001b[A\n",
      " 25%|███████████▎                                 | 2/8 [00:01<00:03,  1.68it/s]\u001b[A\n",
      " 38%|████████████████▉                            | 3/8 [00:01<00:02,  1.69it/s]\u001b[A\n",
      " 50%|██████████████████████▌                      | 4/8 [00:02<00:02,  1.74it/s]\u001b[A\n",
      " 62%|████████████████████████████▏                | 5/8 [00:03<00:01,  1.58it/s]\u001b[A\n",
      " 75%|█████████████████████████████████▊           | 6/8 [00:03<00:01,  1.62it/s]\u001b[A\n",
      " 88%|███████████████████████████████████████▍     | 7/8 [00:04<00:00,  1.69it/s]\u001b[A\n",
      "100%|█████████████████████████████████████████████| 8/8 [00:04<00:00,  1.67it/s]\u001b[A\n",
      "253it [17:16,  2.54s/it]"
     ]
    },
    {
     "name": "stdout",
     "output_type": "stream",
     "text": [
      "253\n"
     ]
    },
    {
     "name": "stderr",
     "output_type": "stream",
     "text": [
      "\n",
      "  0%|                                                     | 0/4 [00:00<?, ?it/s]\u001b[A\n",
      " 25%|███████████▎                                 | 1/4 [00:00<00:01,  1.62it/s]\u001b[A\n",
      " 50%|██████████████████████▌                      | 2/4 [00:01<00:01,  1.82it/s]\u001b[A\n",
      " 75%|█████████████████████████████████▊           | 3/4 [00:01<00:00,  1.82it/s]\u001b[A\n",
      "100%|█████████████████████████████████████████████| 4/4 [00:02<00:00,  1.84it/s]\u001b[A\n",
      "254it [17:19,  2.61s/it]"
     ]
    },
    {
     "name": "stdout",
     "output_type": "stream",
     "text": [
      "254\n"
     ]
    },
    {
     "name": "stderr",
     "output_type": "stream",
     "text": [
      "\n",
      "  0%|                                                    | 0/11 [00:00<?, ?it/s]\u001b[A\n",
      "  9%|████                                        | 1/11 [00:00<00:05,  1.80it/s]\u001b[A\n",
      " 18%|████████                                    | 2/11 [00:01<00:04,  1.82it/s]\u001b[A\n",
      " 27%|████████████                                | 3/11 [00:01<00:04,  1.77it/s]\u001b[A\n",
      " 36%|████████████████                            | 4/11 [00:02<00:04,  1.74it/s]\u001b[A\n",
      " 45%|████████████████████                        | 5/11 [00:02<00:03,  1.71it/s]\u001b[A\n",
      " 55%|████████████████████████                    | 6/11 [00:03<00:02,  1.79it/s]\u001b[A\n",
      " 64%|████████████████████████████                | 7/11 [00:03<00:02,  1.79it/s]\u001b[A\n",
      " 73%|████████████████████████████████            | 8/11 [00:04<00:01,  1.83it/s]\u001b[A\n",
      " 82%|████████████████████████████████████        | 9/11 [00:04<00:01,  1.85it/s]\u001b[A\n",
      " 91%|███████████████████████████████████████    | 10/11 [00:05<00:00,  1.88it/s]\u001b[A\n",
      "100%|███████████████████████████████████████████| 11/11 [00:06<00:00,  1.82it/s]\u001b[A\n",
      "255it [17:26,  3.83s/it]"
     ]
    },
    {
     "name": "stdout",
     "output_type": "stream",
     "text": [
      "255\n"
     ]
    },
    {
     "name": "stderr",
     "output_type": "stream",
     "text": [
      "\n",
      "  0%|                                                     | 0/7 [00:00<?, ?it/s]\u001b[A\n",
      " 14%|██████▍                                      | 1/7 [00:00<00:03,  1.91it/s]\u001b[A\n",
      " 29%|████████████▊                                | 2/7 [00:01<00:02,  1.75it/s]\u001b[A\n",
      " 43%|███████████████████▎                         | 3/7 [00:01<00:02,  1.75it/s]\u001b[A\n",
      " 57%|█████████████████████████▋                   | 4/7 [00:02<00:01,  1.80it/s]\u001b[A\n",
      " 71%|████████████████████████████████▏            | 5/7 [00:02<00:01,  1.87it/s]\u001b[A\n",
      " 86%|██████████████████████████████████████▌      | 6/7 [00:03<00:00,  1.89it/s]\u001b[A\n",
      "100%|█████████████████████████████████████████████| 7/7 [00:03<00:00,  1.85it/s]\u001b[A\n",
      "256it [17:30,  4.00s/it]"
     ]
    },
    {
     "name": "stdout",
     "output_type": "stream",
     "text": [
      "256\n"
     ]
    },
    {
     "name": "stderr",
     "output_type": "stream",
     "text": [
      "\n",
      "  0%|                                                     | 0/2 [00:00<?, ?it/s]\u001b[A\n",
      " 50%|██████████████████████▌                      | 1/2 [00:00<00:00,  1.76it/s]\u001b[A\n",
      "100%|█████████████████████████████████████████████| 2/2 [00:01<00:00,  1.58it/s]\u001b[A\n",
      "257it [17:32,  3.35s/it]"
     ]
    },
    {
     "name": "stdout",
     "output_type": "stream",
     "text": [
      "257\n"
     ]
    },
    {
     "name": "stderr",
     "output_type": "stream",
     "text": [
      "\n",
      "  0%|                                                     | 0/6 [00:00<?, ?it/s]\u001b[A\n",
      " 17%|███████▌                                     | 1/6 [00:00<00:03,  1.53it/s]\u001b[A\n",
      " 33%|███████████████                              | 2/6 [00:01<00:02,  1.61it/s]\u001b[A\n",
      " 50%|██████████████████████▌                      | 3/6 [00:01<00:01,  1.73it/s]\u001b[A\n",
      " 67%|██████████████████████████████               | 4/6 [00:02<00:01,  1.71it/s]\u001b[A\n",
      " 83%|█████████████████████████████████████▌       | 5/6 [00:02<00:00,  1.81it/s]\u001b[A\n",
      "100%|█████████████████████████████████████████████| 6/6 [00:03<00:00,  1.76it/s]\u001b[A\n",
      "258it [17:36,  3.55s/it]"
     ]
    },
    {
     "name": "stdout",
     "output_type": "stream",
     "text": [
      "258\n"
     ]
    },
    {
     "name": "stderr",
     "output_type": "stream",
     "text": [
      "\n",
      "0it [00:00, ?it/s]\u001b[A\n",
      "259it [17:37,  2.68s/it]"
     ]
    },
    {
     "name": "stdout",
     "output_type": "stream",
     "text": [
      "259\n"
     ]
    },
    {
     "name": "stderr",
     "output_type": "stream",
     "text": [
      "\n",
      "  0%|                                                    | 0/11 [00:00<?, ?it/s]\u001b[A\n",
      "  9%|████                                        | 1/11 [00:00<00:05,  1.79it/s]\u001b[A\n",
      " 18%|████████                                    | 2/11 [00:01<00:04,  1.83it/s]\u001b[A\n",
      " 27%|████████████                                | 3/11 [00:01<00:04,  1.91it/s]\u001b[A\n",
      " 36%|████████████████                            | 4/11 [00:02<00:03,  1.89it/s]\u001b[A\n",
      " 45%|████████████████████                        | 5/11 [00:02<00:03,  1.92it/s]\u001b[A\n",
      " 55%|████████████████████████                    | 6/11 [00:03<00:02,  1.92it/s]\u001b[A\n",
      " 64%|████████████████████████████                | 7/11 [00:03<00:02,  1.90it/s]\u001b[A\n",
      " 73%|████████████████████████████████            | 8/11 [00:04<00:01,  1.87it/s]\u001b[A\n",
      " 82%|████████████████████████████████████        | 9/11 [00:04<00:01,  1.87it/s]\u001b[A\n",
      " 91%|███████████████████████████████████████    | 10/11 [00:05<00:00,  1.88it/s]\u001b[A\n",
      "100%|███████████████████████████████████████████| 11/11 [00:05<00:00,  1.86it/s]\u001b[A\n",
      "260it [17:43,  3.84s/it]"
     ]
    },
    {
     "name": "stdout",
     "output_type": "stream",
     "text": [
      "260\n"
     ]
    },
    {
     "name": "stderr",
     "output_type": "stream",
     "text": [
      "\n",
      "  0%|                                                    | 0/10 [00:00<?, ?it/s]\u001b[A\n",
      " 10%|████▍                                       | 1/10 [00:00<00:04,  1.88it/s]\u001b[A\n",
      " 20%|████████▊                                   | 2/10 [00:01<00:05,  1.48it/s]\u001b[A\n",
      " 30%|█████████████▏                              | 3/10 [00:01<00:04,  1.67it/s]\u001b[A\n",
      " 40%|█████████████████▌                          | 4/10 [00:02<00:03,  1.76it/s]\u001b[A\n",
      " 50%|██████████████████████                      | 5/10 [00:02<00:02,  1.71it/s]\u001b[A\n",
      " 60%|██████████████████████████▍                 | 6/10 [00:03<00:02,  1.82it/s]\u001b[A\n",
      " 70%|██████████████████████████████▊             | 7/10 [00:04<00:01,  1.71it/s]\u001b[A\n",
      " 80%|███████████████████████████████████▏        | 8/10 [00:04<00:01,  1.74it/s]\u001b[A\n",
      " 90%|███████████████████████████████████████▌    | 9/10 [00:05<00:00,  1.76it/s]\u001b[A\n",
      "100%|███████████████████████████████████████████| 10/10 [00:05<00:00,  1.73it/s]\u001b[A\n",
      "261it [17:50,  4.61s/it]"
     ]
    },
    {
     "name": "stdout",
     "output_type": "stream",
     "text": [
      "261\n"
     ]
    },
    {
     "name": "stderr",
     "output_type": "stream",
     "text": [
      "\n",
      "  0%|                                                    | 0/10 [00:00<?, ?it/s]\u001b[A\n",
      " 10%|████▍                                       | 1/10 [00:00<00:04,  1.84it/s]\u001b[A\n",
      " 20%|████████▊                                   | 2/10 [00:01<00:04,  1.87it/s]\u001b[A\n",
      " 30%|█████████████▏                              | 3/10 [00:01<00:03,  1.82it/s]\u001b[A\n",
      " 40%|█████████████████▌                          | 4/10 [00:02<00:03,  1.88it/s]\u001b[A\n",
      " 50%|██████████████████████                      | 5/10 [00:02<00:02,  1.82it/s]\u001b[A\n",
      " 60%|██████████████████████████▍                 | 6/10 [00:03<00:02,  1.81it/s]\u001b[A\n",
      " 70%|██████████████████████████████▊             | 7/10 [00:03<00:01,  1.78it/s]\u001b[A\n",
      " 80%|███████████████████████████████████▏        | 8/10 [00:04<00:01,  1.72it/s]\u001b[A\n",
      " 90%|███████████████████████████████████████▌    | 9/10 [00:05<00:00,  1.69it/s]\u001b[A\n",
      "100%|███████████████████████████████████████████| 10/10 [00:05<00:00,  1.78it/s]\u001b[A\n",
      "262it [17:56,  5.09s/it]"
     ]
    },
    {
     "name": "stdout",
     "output_type": "stream",
     "text": [
      "262\n"
     ]
    },
    {
     "name": "stderr",
     "output_type": "stream",
     "text": [
      "\n",
      "  0%|                                                     | 0/3 [00:00<?, ?it/s]\u001b[A\n",
      " 33%|███████████████                              | 1/3 [00:00<00:01,  1.61it/s]\u001b[A\n",
      " 67%|██████████████████████████████               | 2/3 [00:01<00:00,  1.62it/s]\u001b[A\n",
      "100%|█████████████████████████████████████████████| 3/3 [00:01<00:00,  1.71it/s]\u001b[A\n",
      "263it [17:58,  4.28s/it]"
     ]
    },
    {
     "name": "stdout",
     "output_type": "stream",
     "text": [
      "263\n"
     ]
    },
    {
     "name": "stderr",
     "output_type": "stream",
     "text": [
      "\n",
      "  0%|                                                     | 0/1 [00:00<?, ?it/s]\u001b[A\n",
      "100%|█████████████████████████████████████████████| 1/1 [00:00<00:00,  1.99it/s]\u001b[A\n",
      "264it [17:59,  3.32s/it]"
     ]
    },
    {
     "name": "stdout",
     "output_type": "stream",
     "text": [
      "264\n"
     ]
    },
    {
     "name": "stderr",
     "output_type": "stream",
     "text": [
      "\n",
      "  0%|                                                    | 0/13 [00:00<?, ?it/s]\u001b[A\n",
      "  8%|███▍                                        | 1/13 [00:00<00:06,  1.93it/s]\u001b[A\n",
      " 15%|██████▊                                     | 2/13 [00:01<00:06,  1.76it/s]\u001b[A\n",
      " 23%|██████████▏                                 | 3/13 [00:01<00:05,  1.80it/s]\u001b[A\n",
      " 31%|█████████████▌                              | 4/13 [00:02<00:05,  1.73it/s]\u001b[A\n",
      " 38%|████████████████▉                           | 5/13 [00:02<00:04,  1.76it/s]\u001b[A\n",
      " 46%|████████████████████▎                       | 6/13 [00:03<00:03,  1.83it/s]\u001b[A\n",
      " 54%|███████████████████████▋                    | 7/13 [00:03<00:03,  1.75it/s]\u001b[A\n",
      " 62%|███████████████████████████                 | 8/13 [00:04<00:02,  1.72it/s]\u001b[A\n",
      " 69%|██████████████████████████████▍             | 9/13 [00:05<00:02,  1.78it/s]\u001b[A\n",
      " 77%|█████████████████████████████████          | 10/13 [00:05<00:01,  1.85it/s]\u001b[A\n",
      " 85%|████████████████████████████████████▍      | 11/13 [00:06<00:01,  1.87it/s]\u001b[A\n",
      " 92%|███████████████████████████████████████▋   | 12/13 [00:06<00:00,  1.92it/s]\u001b[A\n",
      "100%|███████████████████████████████████████████| 13/13 [00:07<00:00,  1.83it/s]\u001b[A\n",
      "265it [18:07,  4.63s/it]"
     ]
    },
    {
     "name": "stdout",
     "output_type": "stream",
     "text": [
      "265\n"
     ]
    },
    {
     "name": "stderr",
     "output_type": "stream",
     "text": [
      "\n",
      "  0%|                                                    | 0/33 [00:00<?, ?it/s]\u001b[A\n",
      "  3%|█▎                                          | 1/33 [00:00<00:15,  2.05it/s]\u001b[A\n",
      "  6%|██▋                                         | 2/33 [00:00<00:15,  2.02it/s]\u001b[A\n",
      "  9%|████                                        | 3/33 [00:01<00:15,  1.93it/s]\u001b[A\n",
      " 12%|█████▎                                      | 4/33 [00:02<00:14,  1.95it/s]\u001b[A\n",
      " 15%|██████▋                                     | 5/33 [00:02<00:14,  1.95it/s]\u001b[A\n",
      " 18%|████████                                    | 6/33 [00:03<00:14,  1.83it/s]\u001b[A\n",
      " 21%|█████████▎                                  | 7/33 [00:03<00:13,  1.88it/s]\u001b[A\n",
      " 24%|██████████▋                                 | 8/33 [00:04<00:16,  1.48it/s]\u001b[A\n",
      " 27%|████████████                                | 9/33 [00:05<00:15,  1.59it/s]\u001b[A\n",
      " 30%|█████████████                              | 10/33 [00:05<00:14,  1.61it/s]\u001b[A\n",
      " 33%|██████████████▎                            | 11/33 [00:06<00:12,  1.70it/s]\u001b[A\n",
      " 36%|███████████████▋                           | 12/33 [00:06<00:11,  1.80it/s]\u001b[A\n",
      " 39%|████████████████▉                          | 13/33 [00:07<00:10,  1.83it/s]\u001b[A\n",
      " 42%|██████████████████▏                        | 14/33 [00:07<00:10,  1.76it/s]\u001b[A\n",
      " 45%|███████████████████▌                       | 15/33 [00:08<00:10,  1.72it/s]\u001b[A\n",
      " 48%|████████████████████▊                      | 16/33 [00:09<00:09,  1.72it/s]\u001b[A\n",
      " 52%|██████████████████████▏                    | 17/33 [00:09<00:10,  1.56it/s]\u001b[A\n",
      " 55%|███████████████████████▍                   | 18/33 [00:10<00:09,  1.51it/s]\u001b[A\n",
      " 58%|████████████████████████▊                  | 19/33 [00:11<00:08,  1.61it/s]\u001b[A\n",
      " 61%|██████████████████████████                 | 20/33 [00:11<00:07,  1.64it/s]\u001b[A\n",
      " 64%|███████████████████████████▎               | 21/33 [00:12<00:06,  1.74it/s]\u001b[A\n",
      " 67%|████████████████████████████▋              | 22/33 [00:12<00:06,  1.76it/s]\u001b[A\n",
      " 70%|█████████████████████████████▉             | 23/33 [00:13<00:05,  1.77it/s]\u001b[A\n",
      " 73%|███████████████████████████████▎           | 24/33 [00:13<00:05,  1.76it/s]\u001b[A\n",
      " 76%|████████████████████████████████▌          | 25/33 [00:14<00:04,  1.79it/s]\u001b[A\n",
      " 79%|█████████████████████████████████▉         | 26/33 [00:14<00:03,  1.82it/s]\u001b[A\n",
      " 82%|███████████████████████████████████▏       | 27/33 [00:15<00:03,  1.85it/s]\u001b[A\n",
      " 85%|████████████████████████████████████▍      | 28/33 [00:16<00:02,  1.79it/s]\u001b[A\n",
      " 88%|█████████████████████████████████████▊     | 29/33 [00:16<00:02,  1.84it/s]\u001b[A\n",
      " 91%|███████████████████████████████████████    | 30/33 [00:17<00:01,  1.82it/s]\u001b[A\n",
      " 94%|████████████████████████████████████████▍  | 31/33 [00:17<00:01,  1.84it/s]\u001b[A\n",
      " 97%|█████████████████████████████████████████▋ | 32/33 [00:18<00:00,  1.87it/s]\u001b[A\n",
      "100%|███████████████████████████████████████████| 33/33 [00:18<00:00,  1.76it/s]\u001b[A\n",
      "266it [18:26,  9.04s/it]"
     ]
    },
    {
     "name": "stdout",
     "output_type": "stream",
     "text": [
      "266\n"
     ]
    },
    {
     "name": "stderr",
     "output_type": "stream",
     "text": [
      "\n",
      "  0%|                                                    | 0/16 [00:00<?, ?it/s]\u001b[A\n",
      "  6%|██▊                                         | 1/16 [00:00<00:07,  1.96it/s]\u001b[A\n",
      " 12%|█████▌                                      | 2/16 [00:01<00:07,  1.94it/s]\u001b[A\n",
      " 19%|████████▎                                   | 3/16 [00:01<00:07,  1.83it/s]\u001b[A\n",
      " 25%|███████████                                 | 4/16 [00:02<00:06,  1.83it/s]\u001b[A\n",
      " 31%|█████████████▊                              | 5/16 [00:02<00:06,  1.77it/s]\u001b[A\n",
      " 38%|████████████████▌                           | 6/16 [00:03<00:05,  1.78it/s]\u001b[A\n",
      " 44%|███████████████████▎                        | 7/16 [00:03<00:05,  1.79it/s]\u001b[A\n",
      " 50%|██████████████████████                      | 8/16 [00:04<00:04,  1.76it/s]\u001b[A\n",
      " 56%|████████████████████████▊                   | 9/16 [00:05<00:03,  1.78it/s]\u001b[A\n",
      " 62%|██████████████████████████▉                | 10/16 [00:05<00:03,  1.77it/s]\u001b[A\n",
      " 69%|█████████████████████████████▌             | 11/16 [00:06<00:02,  1.84it/s]\u001b[A\n",
      " 75%|████████████████████████████████▎          | 12/16 [00:06<00:02,  1.88it/s]\u001b[A\n",
      " 81%|██████████████████████████████████▉        | 13/16 [00:07<00:01,  1.91it/s]\u001b[A\n",
      " 88%|█████████████████████████████████████▋     | 14/16 [00:07<00:01,  1.93it/s]\u001b[A\n",
      " 94%|████████████████████████████████████████▎  | 15/16 [00:08<00:00,  1.81it/s]\u001b[A\n",
      "100%|███████████████████████████████████████████| 16/16 [00:08<00:00,  1.82it/s]\u001b[A\n",
      "267it [18:36,  9.17s/it]"
     ]
    },
    {
     "name": "stdout",
     "output_type": "stream",
     "text": [
      "267\n"
     ]
    },
    {
     "name": "stderr",
     "output_type": "stream",
     "text": [
      "\n",
      "  0%|                                                     | 0/7 [00:00<?, ?it/s]\u001b[A\n",
      " 14%|██████▍                                      | 1/7 [00:00<00:03,  1.78it/s]\u001b[A\n",
      " 29%|████████████▊                                | 2/7 [00:01<00:02,  1.82it/s]\u001b[A\n",
      " 43%|███████████████████▎                         | 3/7 [00:01<00:02,  1.74it/s]\u001b[A\n",
      " 57%|█████████████████████████▋                   | 4/7 [00:02<00:01,  1.60it/s]\u001b[A\n",
      " 71%|████████████████████████████████▏            | 5/7 [00:02<00:01,  1.64it/s]\u001b[A\n",
      " 86%|██████████████████████████████████████▌      | 6/7 [00:03<00:00,  1.52it/s]\u001b[A\n",
      "100%|█████████████████████████████████████████████| 7/7 [00:04<00:00,  1.61it/s]\u001b[A\n",
      "268it [18:41,  7.92s/it]"
     ]
    },
    {
     "name": "stdout",
     "output_type": "stream",
     "text": [
      "268\n"
     ]
    },
    {
     "name": "stderr",
     "output_type": "stream",
     "text": [
      "\n",
      "  0%|                                                     | 0/9 [00:00<?, ?it/s]\u001b[A\n",
      " 11%|█████                                        | 1/9 [00:00<00:04,  1.85it/s]\u001b[A\n",
      " 22%|██████████                                   | 2/9 [00:01<00:04,  1.74it/s]\u001b[A\n",
      " 33%|███████████████                              | 3/9 [00:01<00:03,  1.72it/s]\u001b[A\n",
      " 44%|████████████████████                         | 4/9 [00:02<00:02,  1.68it/s]\u001b[A\n",
      " 56%|█████████████████████████                    | 5/9 [00:02<00:02,  1.70it/s]\u001b[A\n",
      " 67%|██████████████████████████████               | 6/9 [00:03<00:01,  1.69it/s]\u001b[A\n",
      " 78%|███████████████████████████████████          | 7/9 [00:04<00:01,  1.69it/s]\u001b[A\n",
      " 89%|████████████████████████████████████████     | 8/9 [00:04<00:00,  1.70it/s]\u001b[A\n",
      "100%|█████████████████████████████████████████████| 9/9 [00:05<00:00,  1.68it/s]\u001b[A\n",
      "269it [18:47,  7.36s/it]"
     ]
    },
    {
     "name": "stdout",
     "output_type": "stream",
     "text": [
      "269\n"
     ]
    },
    {
     "name": "stderr",
     "output_type": "stream",
     "text": [
      "\n",
      "  0%|                                                     | 0/2 [00:00<?, ?it/s]\u001b[A\n",
      " 50%|██████████████████████▌                      | 1/2 [00:00<00:00,  1.44it/s]\u001b[A\n",
      "100%|█████████████████████████████████████████████| 2/2 [00:01<00:00,  1.46it/s]\u001b[A\n",
      "270it [18:49,  5.78s/it]"
     ]
    },
    {
     "name": "stdout",
     "output_type": "stream",
     "text": [
      "270\n"
     ]
    },
    {
     "name": "stderr",
     "output_type": "stream",
     "text": [
      "\n",
      "0it [00:00, ?it/s]\u001b[A\n",
      "271it [18:50,  4.24s/it]"
     ]
    },
    {
     "name": "stdout",
     "output_type": "stream",
     "text": [
      "271\n"
     ]
    },
    {
     "name": "stderr",
     "output_type": "stream",
     "text": [
      "\n",
      "0it [00:00, ?it/s]\u001b[A\n",
      "272it [18:50,  3.14s/it]"
     ]
    },
    {
     "name": "stdout",
     "output_type": "stream",
     "text": [
      "272\n"
     ]
    },
    {
     "name": "stderr",
     "output_type": "stream",
     "text": [
      "\n",
      "0it [00:00, ?it/s]\u001b[A\n",
      "273it [18:51,  2.39s/it]"
     ]
    },
    {
     "name": "stdout",
     "output_type": "stream",
     "text": [
      "273\n"
     ]
    },
    {
     "name": "stderr",
     "output_type": "stream",
     "text": [
      "\n",
      "  0%|                                                     | 0/2 [00:00<?, ?it/s]\u001b[A\n",
      " 50%|██████████████████████▌                      | 1/2 [00:00<00:00,  1.74it/s]\u001b[A\n",
      "100%|█████████████████████████████████████████████| 2/2 [00:01<00:00,  1.62it/s]\u001b[A\n",
      "274it [18:53,  2.31s/it]"
     ]
    },
    {
     "name": "stdout",
     "output_type": "stream",
     "text": [
      "274\n"
     ]
    },
    {
     "name": "stderr",
     "output_type": "stream",
     "text": [
      "\n",
      "0it [00:00, ?it/s]\u001b[A\n",
      "275it [18:54,  1.79s/it]"
     ]
    },
    {
     "name": "stdout",
     "output_type": "stream",
     "text": [
      "275\n"
     ]
    },
    {
     "name": "stderr",
     "output_type": "stream",
     "text": [
      "\n",
      "  0%|                                                     | 0/2 [00:00<?, ?it/s]\u001b[A\n",
      " 50%|██████████████████████▌                      | 1/2 [00:00<00:00,  2.04it/s]\u001b[A\n",
      "100%|█████████████████████████████████████████████| 2/2 [00:01<00:00,  1.73it/s]\u001b[A\n",
      "276it [18:55,  1.82s/it]"
     ]
    },
    {
     "name": "stdout",
     "output_type": "stream",
     "text": [
      "276\n"
     ]
    },
    {
     "name": "stderr",
     "output_type": "stream",
     "text": [
      "\n",
      "  0%|                                                     | 0/5 [00:00<?, ?it/s]\u001b[A\n",
      " 20%|█████████                                    | 1/5 [00:00<00:02,  1.80it/s]\u001b[A\n",
      " 40%|██████████████████                           | 2/5 [00:01<00:01,  1.79it/s]\u001b[A\n",
      " 60%|███████████████████████████                  | 3/5 [00:01<00:01,  1.78it/s]\u001b[A\n",
      " 80%|████████████████████████████████████         | 4/5 [00:02<00:00,  1.79it/s]\u001b[A\n",
      "100%|█████████████████████████████████████████████| 5/5 [00:02<00:00,  1.76it/s]\u001b[A\n",
      "277it [18:59,  2.34s/it]"
     ]
    },
    {
     "name": "stdout",
     "output_type": "stream",
     "text": [
      "277\n"
     ]
    },
    {
     "name": "stderr",
     "output_type": "stream",
     "text": [
      "\n",
      "0it [00:00, ?it/s]\u001b[A\n",
      "278it [19:00,  1.85s/it]"
     ]
    },
    {
     "name": "stdout",
     "output_type": "stream",
     "text": [
      "278\n"
     ]
    },
    {
     "name": "stderr",
     "output_type": "stream",
     "text": [
      "\n",
      "  0%|                                                     | 0/3 [00:00<?, ?it/s]\u001b[A\n",
      " 33%|███████████████                              | 1/3 [00:00<00:01,  1.47it/s]\u001b[A\n",
      " 67%|██████████████████████████████               | 2/3 [00:01<00:00,  1.42it/s]\u001b[A\n",
      "100%|█████████████████████████████████████████████| 3/3 [00:02<00:00,  1.34it/s]\u001b[A\n",
      "279it [19:03,  2.16s/it]"
     ]
    },
    {
     "name": "stdout",
     "output_type": "stream",
     "text": [
      "279\n"
     ]
    },
    {
     "name": "stderr",
     "output_type": "stream",
     "text": [
      "\n",
      "  0%|                                                    | 0/26 [00:00<?, ?it/s]\u001b[A\n",
      "  4%|█▋                                          | 1/26 [00:00<00:16,  1.53it/s]\u001b[A\n",
      "  8%|███▍                                        | 2/26 [00:01<00:14,  1.66it/s]\u001b[A\n",
      " 12%|█████                                       | 3/26 [00:01<00:13,  1.76it/s]\u001b[A\n",
      " 15%|██████▊                                     | 4/26 [00:02<00:18,  1.22it/s]\u001b[A\n",
      " 19%|████████▍                                   | 5/26 [00:03<00:18,  1.16it/s]\u001b[A\n",
      " 23%|██████████▏                                 | 6/26 [00:04<00:15,  1.28it/s]\u001b[A\n",
      " 27%|███████████▊                                | 7/26 [00:05<00:14,  1.35it/s]\u001b[A\n",
      " 31%|█████████████▌                              | 8/26 [00:05<00:13,  1.38it/s]\u001b[A\n",
      " 35%|███████████████▏                            | 9/26 [00:06<00:11,  1.46it/s]\u001b[A\n",
      " 38%|████████████████▌                          | 10/26 [00:07<00:10,  1.45it/s]\u001b[A\n",
      " 42%|██████████████████▏                        | 11/26 [00:07<00:09,  1.58it/s]\u001b[A\n",
      " 46%|███████████████████▊                       | 12/26 [00:08<00:08,  1.63it/s]\u001b[A\n",
      " 50%|█████████████████████▌                     | 13/26 [00:08<00:07,  1.69it/s]\u001b[A\n",
      " 54%|███████████████████████▏                   | 14/26 [00:09<00:06,  1.76it/s]\u001b[A\n",
      " 58%|████████████████████████▊                  | 15/26 [00:09<00:06,  1.82it/s]\u001b[A\n",
      " 62%|██████████████████████████▍                | 16/26 [00:10<00:05,  1.87it/s]\u001b[A\n",
      " 65%|████████████████████████████               | 17/26 [00:10<00:05,  1.79it/s]\u001b[A\n",
      " 69%|█████████████████████████████▊             | 18/26 [00:12<00:05,  1.38it/s]\u001b[A\n",
      " 73%|███████████████████████████████▍           | 19/26 [00:12<00:04,  1.47it/s]\u001b[A\n",
      " 77%|█████████████████████████████████          | 20/26 [00:13<00:03,  1.59it/s]\u001b[A\n",
      " 81%|██████████████████████████████████▋        | 21/26 [00:13<00:03,  1.65it/s]\u001b[A\n",
      " 85%|████████████████████████████████████▍      | 22/26 [00:14<00:02,  1.58it/s]\u001b[A\n",
      " 88%|██████████████████████████████████████     | 23/26 [00:14<00:01,  1.69it/s]\u001b[A\n",
      " 92%|███████████████████████████████████████▋   | 24/26 [00:15<00:01,  1.64it/s]\u001b[A\n",
      " 96%|█████████████████████████████████████████▎ | 25/26 [00:16<00:00,  1.60it/s]\u001b[A\n",
      "100%|███████████████████████████████████████████| 26/26 [00:16<00:00,  1.55it/s]\u001b[A\n",
      "280it [19:20,  6.72s/it]"
     ]
    },
    {
     "name": "stdout",
     "output_type": "stream",
     "text": [
      "280\n"
     ]
    },
    {
     "name": "stderr",
     "output_type": "stream",
     "text": [
      "\n",
      "0it [00:00, ?it/s]\u001b[A\n",
      "281it [19:21,  4.89s/it]"
     ]
    },
    {
     "name": "stdout",
     "output_type": "stream",
     "text": [
      "281\n"
     ]
    },
    {
     "name": "stderr",
     "output_type": "stream",
     "text": [
      "\n",
      "  0%|                                                    | 0/24 [00:00<?, ?it/s]\u001b[A\n",
      "  4%|█▊                                          | 1/24 [00:00<00:12,  1.90it/s]\u001b[A\n",
      "  8%|███▋                                        | 2/24 [00:01<00:13,  1.67it/s]\u001b[A\n",
      " 12%|█████▌                                      | 3/24 [00:01<00:12,  1.66it/s]\u001b[A\n",
      " 17%|███████▎                                    | 4/24 [00:02<00:11,  1.70it/s]\u001b[A\n",
      " 21%|█████████▏                                  | 5/24 [00:02<00:10,  1.79it/s]\u001b[A\n",
      " 25%|███████████                                 | 6/24 [00:03<00:09,  1.83it/s]\u001b[A\n",
      " 29%|████████████▊                               | 7/24 [00:03<00:09,  1.83it/s]\u001b[A\n",
      " 33%|██████████████▋                             | 8/24 [00:04<00:08,  1.84it/s]\u001b[A\n",
      " 38%|████████████████▌                           | 9/24 [00:05<00:08,  1.80it/s]\u001b[A\n",
      " 42%|█████████████████▉                         | 10/24 [00:05<00:07,  1.76it/s]\u001b[A\n",
      " 46%|███████████████████▋                       | 11/24 [00:06<00:07,  1.70it/s]\u001b[A\n",
      " 50%|█████████████████████▌                     | 12/24 [00:06<00:06,  1.76it/s]\u001b[A\n",
      " 54%|███████████████████████▎                   | 13/24 [00:07<00:06,  1.71it/s]\u001b[A\n",
      " 58%|█████████████████████████                  | 14/24 [00:07<00:05,  1.75it/s]\u001b[A\n",
      " 62%|██████████████████████████▉                | 15/24 [00:08<00:05,  1.74it/s]\u001b[A\n",
      " 67%|████████████████████████████▋              | 16/24 [00:09<00:04,  1.72it/s]\u001b[A\n",
      " 71%|██████████████████████████████▍            | 17/24 [00:09<00:03,  1.75it/s]\u001b[A\n",
      " 75%|████████████████████████████████▎          | 18/24 [00:10<00:03,  1.74it/s]\u001b[A\n",
      " 79%|██████████████████████████████████         | 19/24 [00:10<00:02,  1.75it/s]\u001b[A\n",
      " 83%|███████████████████████████████████▊       | 20/24 [00:11<00:02,  1.73it/s]\u001b[A\n",
      " 88%|█████████████████████████████████████▋     | 21/24 [00:11<00:01,  1.78it/s]\u001b[A\n",
      " 92%|███████████████████████████████████████▍   | 22/24 [00:12<00:01,  1.72it/s]\u001b[A\n",
      " 96%|█████████████████████████████████████████▏ | 23/24 [00:13<00:00,  1.78it/s]\u001b[A\n",
      "100%|███████████████████████████████████████████| 24/24 [00:14<00:00,  1.70it/s]\u001b[A\n",
      "282it [19:35,  7.82s/it]"
     ]
    },
    {
     "name": "stdout",
     "output_type": "stream",
     "text": [
      "282\n"
     ]
    },
    {
     "name": "stderr",
     "output_type": "stream",
     "text": [
      "\n",
      "  0%|                                                     | 0/1 [00:00<?, ?it/s]\u001b[A\n",
      "100%|█████████████████████████████████████████████| 1/1 [00:00<00:00,  1.86it/s]\u001b[A\n",
      "283it [19:36,  5.82s/it]"
     ]
    },
    {
     "name": "stdout",
     "output_type": "stream",
     "text": [
      "283\n"
     ]
    },
    {
     "name": "stderr",
     "output_type": "stream",
     "text": [
      "\n",
      "0it [00:00, ?it/s]\u001b[A\n",
      "284it [19:37,  4.28s/it]"
     ]
    },
    {
     "name": "stdout",
     "output_type": "stream",
     "text": [
      "284\n"
     ]
    },
    {
     "name": "stderr",
     "output_type": "stream",
     "text": [
      "\n",
      "  0%|                                                     | 0/3 [00:00<?, ?it/s]\u001b[A\n",
      " 33%|███████████████                              | 1/3 [00:00<00:01,  1.92it/s]\u001b[A\n",
      " 67%|██████████████████████████████               | 2/3 [00:01<00:00,  1.80it/s]\u001b[A\n",
      "100%|█████████████████████████████████████████████| 3/3 [00:01<00:00,  1.80it/s]\u001b[A\n",
      "285it [19:40,  3.73s/it]"
     ]
    },
    {
     "name": "stdout",
     "output_type": "stream",
     "text": [
      "285\n"
     ]
    },
    {
     "name": "stderr",
     "output_type": "stream",
     "text": [
      "\n",
      "  0%|                                                    | 0/53 [00:00<?, ?it/s]\u001b[A\n",
      "  2%|▊                                           | 1/53 [00:00<00:29,  1.74it/s]\u001b[A\n",
      "  4%|█▋                                          | 2/53 [00:01<00:27,  1.84it/s]\u001b[A\n",
      "  6%|██▍                                         | 3/53 [00:01<00:27,  1.80it/s]\u001b[A\n",
      "  8%|███▎                                        | 4/53 [00:02<00:27,  1.77it/s]\u001b[A\n",
      "  9%|████▏                                       | 5/53 [00:02<00:25,  1.85it/s]\u001b[A\n",
      " 11%|████▉                                       | 6/53 [00:03<00:24,  1.89it/s]\u001b[A\n",
      " 13%|█████▊                                      | 7/53 [00:03<00:24,  1.90it/s]\u001b[A\n",
      " 15%|██████▋                                     | 8/53 [00:04<00:26,  1.73it/s]\u001b[A\n",
      " 17%|███████▍                                    | 9/53 [00:04<00:24,  1.82it/s]\u001b[A\n",
      " 19%|████████                                   | 10/53 [00:05<00:23,  1.87it/s]\u001b[A\n",
      " 21%|████████▉                                  | 11/53 [00:06<00:23,  1.81it/s]\u001b[A\n",
      " 23%|█████████▋                                 | 12/53 [00:06<00:22,  1.86it/s]\u001b[A\n",
      " 25%|██████████▌                                | 13/53 [00:07<00:21,  1.84it/s]\u001b[A\n",
      " 26%|███████████▎                               | 14/53 [00:08<00:26,  1.47it/s]\u001b[A\n",
      " 28%|████████████▏                              | 15/53 [00:08<00:23,  1.58it/s]\u001b[A\n",
      " 30%|████████████▉                              | 16/53 [00:09<00:22,  1.62it/s]\u001b[A\n",
      " 32%|█████████████▊                             | 17/53 [00:09<00:22,  1.57it/s]\u001b[A\n",
      " 34%|██████████████▌                            | 18/53 [00:10<00:21,  1.66it/s]\u001b[A\n",
      " 36%|███████████████▍                           | 19/53 [00:10<00:19,  1.74it/s]\u001b[A\n",
      " 38%|████████████████▏                          | 20/53 [00:11<00:18,  1.79it/s]\u001b[A\n",
      " 40%|█████████████████                          | 21/53 [00:11<00:17,  1.83it/s]\u001b[A\n",
      " 42%|█████████████████▊                         | 22/53 [00:12<00:17,  1.77it/s]\u001b[A\n",
      " 43%|██████████████████▋                        | 23/53 [00:13<00:17,  1.76it/s]\u001b[A\n",
      " 45%|███████████████████▍                       | 24/53 [00:13<00:16,  1.72it/s]\u001b[A\n",
      " 47%|████████████████████▎                      | 25/53 [00:14<00:15,  1.80it/s]\u001b[A\n",
      " 49%|█████████████████████                      | 26/53 [00:14<00:14,  1.84it/s]\u001b[A\n",
      " 51%|█████████████████████▉                     | 27/53 [00:15<00:18,  1.37it/s]\u001b[A\n",
      " 53%|██████████████████████▋                    | 28/53 [00:16<00:16,  1.47it/s]\u001b[A\n",
      " 55%|███████████████████████▌                   | 29/53 [00:17<00:15,  1.56it/s]\u001b[A\n",
      " 57%|████████████████████████▎                  | 30/53 [00:17<00:13,  1.67it/s]\u001b[A\n",
      " 58%|█████████████████████████▏                 | 31/53 [00:18<00:12,  1.76it/s]\u001b[A\n",
      " 60%|█████████████████████████▉                 | 32/53 [00:18<00:12,  1.74it/s]\u001b[A\n",
      " 62%|██████████████████████████▊                | 33/53 [00:19<00:11,  1.79it/s]\u001b[A\n",
      " 64%|███████████████████████████▌               | 34/53 [00:19<00:10,  1.84it/s]\u001b[A\n",
      " 66%|████████████████████████████▍              | 35/53 [00:20<00:09,  1.86it/s]\u001b[A\n",
      " 68%|█████████████████████████████▏             | 36/53 [00:20<00:09,  1.86it/s]\u001b[A\n",
      " 70%|██████████████████████████████             | 37/53 [00:21<00:08,  1.90it/s]\u001b[A\n",
      " 72%|██████████████████████████████▊            | 38/53 [00:21<00:07,  1.93it/s]\u001b[A\n",
      " 74%|███████████████████████████████▋           | 39/53 [00:22<00:07,  1.91it/s]\u001b[A\n",
      " 75%|████████████████████████████████▍          | 40/53 [00:22<00:06,  1.93it/s]\u001b[A\n",
      " 77%|█████████████████████████████████▎         | 41/53 [00:23<00:06,  1.94it/s]\u001b[A\n",
      " 79%|██████████████████████████████████         | 42/53 [00:23<00:05,  1.97it/s]\u001b[A\n",
      " 81%|██████████████████████████████████▉        | 43/53 [00:24<00:05,  1.98it/s]\u001b[A\n",
      " 83%|███████████████████████████████████▋       | 44/53 [00:24<00:04,  1.97it/s]\u001b[A\n",
      " 85%|████████████████████████████████████▌      | 45/53 [00:25<00:04,  1.84it/s]\u001b[A\n",
      " 87%|█████████████████████████████████████▎     | 46/53 [00:25<00:03,  1.87it/s]\u001b[A\n",
      " 89%|██████████████████████████████████████▏    | 47/53 [00:26<00:03,  1.91it/s]\u001b[A\n",
      " 91%|██████████████████████████████████████▉    | 48/53 [00:26<00:02,  1.88it/s]\u001b[A\n",
      " 92%|███████████████████████████████████████▊   | 49/53 [00:27<00:02,  1.80it/s]\u001b[A\n",
      " 94%|████████████████████████████████████████▌  | 50/53 [00:28<00:01,  1.76it/s]\u001b[A\n",
      " 96%|█████████████████████████████████████████▍ | 51/53 [00:28<00:01,  1.75it/s]\u001b[A\n",
      " 98%|██████████████████████████████████████████▏| 52/53 [00:29<00:00,  1.80it/s]\u001b[A\n",
      "100%|███████████████████████████████████████████| 53/53 [00:29<00:00,  1.78it/s]\u001b[A\n",
      "286it [20:10, 11.73s/it]"
     ]
    },
    {
     "name": "stdout",
     "output_type": "stream",
     "text": [
      "286\n"
     ]
    },
    {
     "name": "stderr",
     "output_type": "stream",
     "text": [
      "\n",
      "  0%|                                                     | 0/3 [00:00<?, ?it/s]\u001b[A\n",
      " 33%|███████████████                              | 1/3 [00:00<00:01,  1.84it/s]\u001b[A\n",
      " 67%|██████████████████████████████               | 2/3 [00:01<00:00,  1.91it/s]\u001b[A\n",
      "100%|█████████████████████████████████████████████| 3/3 [00:01<00:00,  1.89it/s]\u001b[A\n",
      "287it [20:12,  8.87s/it]"
     ]
    },
    {
     "name": "stdout",
     "output_type": "stream",
     "text": [
      "287\n"
     ]
    },
    {
     "name": "stderr",
     "output_type": "stream",
     "text": [
      "\n",
      "0it [00:00, ?it/s]\u001b[A\n",
      "288it [20:13,  6.39s/it]"
     ]
    },
    {
     "name": "stdout",
     "output_type": "stream",
     "text": [
      "288\n"
     ]
    },
    {
     "name": "stderr",
     "output_type": "stream",
     "text": [
      "\n",
      "0it [00:00, ?it/s]\u001b[A\n",
      "289it [20:13,  4.64s/it]"
     ]
    },
    {
     "name": "stdout",
     "output_type": "stream",
     "text": [
      "289\n"
     ]
    },
    {
     "name": "stderr",
     "output_type": "stream",
     "text": [
      "\n",
      "0it [00:00, ?it/s]\u001b[A\n",
      "290it [20:14,  3.44s/it]"
     ]
    },
    {
     "name": "stdout",
     "output_type": "stream",
     "text": [
      "290\n"
     ]
    },
    {
     "name": "stderr",
     "output_type": "stream",
     "text": [
      "\n",
      "  0%|                                                     | 0/1 [00:00<?, ?it/s]\u001b[A\n",
      "100%|█████████████████████████████████████████████| 1/1 [00:00<00:00,  1.64it/s]\u001b[A\n",
      "291it [20:15,  2.78s/it]"
     ]
    },
    {
     "name": "stdout",
     "output_type": "stream",
     "text": [
      "291\n"
     ]
    },
    {
     "name": "stderr",
     "output_type": "stream",
     "text": [
      "\n",
      "0it [00:00, ?it/s]\u001b[A\n",
      "292it [20:16,  2.11s/it]"
     ]
    },
    {
     "name": "stdout",
     "output_type": "stream",
     "text": [
      "292\n"
     ]
    },
    {
     "name": "stderr",
     "output_type": "stream",
     "text": [
      "\n",
      "  0%|                                                     | 0/2 [00:00<?, ?it/s]\u001b[A\n",
      " 50%|██████████████████████▌                      | 1/2 [00:00<00:00,  2.07it/s]\u001b[A\n",
      "100%|█████████████████████████████████████████████| 2/2 [00:00<00:00,  2.07it/s]\u001b[A\n",
      "293it [20:17,  1.95s/it]"
     ]
    },
    {
     "name": "stdout",
     "output_type": "stream",
     "text": [
      "293\n"
     ]
    },
    {
     "name": "stderr",
     "output_type": "stream",
     "text": [
      "\n",
      "0it [00:00, ?it/s]\u001b[A\n",
      "294it [20:18,  1.68s/it]"
     ]
    },
    {
     "name": "stdout",
     "output_type": "stream",
     "text": [
      "294\n"
     ]
    },
    {
     "name": "stderr",
     "output_type": "stream",
     "text": [
      "\n",
      "0it [00:00, ?it/s]\u001b[A\n",
      "295it [20:19,  1.39s/it]"
     ]
    },
    {
     "name": "stdout",
     "output_type": "stream",
     "text": [
      "295\n"
     ]
    },
    {
     "name": "stderr",
     "output_type": "stream",
     "text": [
      "\n",
      "0it [00:00, ?it/s]\u001b[A\n",
      "296it [20:20,  1.16s/it]"
     ]
    },
    {
     "name": "stdout",
     "output_type": "stream",
     "text": [
      "296\n"
     ]
    },
    {
     "name": "stderr",
     "output_type": "stream",
     "text": [
      "\n",
      "0it [00:00, ?it/s]\u001b[A\n",
      "297it [20:20,  1.02it/s]"
     ]
    },
    {
     "name": "stdout",
     "output_type": "stream",
     "text": [
      "297\n"
     ]
    },
    {
     "name": "stderr",
     "output_type": "stream",
     "text": [
      "\n",
      "0it [00:00, ?it/s]\u001b[A\n",
      "298it [20:21,  1.17it/s]"
     ]
    },
    {
     "name": "stdout",
     "output_type": "stream",
     "text": [
      "298\n"
     ]
    },
    {
     "name": "stderr",
     "output_type": "stream",
     "text": [
      "\n",
      "  0%|                                                     | 0/1 [00:00<?, ?it/s]\u001b[A\n",
      "100%|█████████████████████████████████████████████| 1/1 [00:00<00:00,  1.91it/s]\u001b[A\n",
      "299it [20:22,  1.02it/s]"
     ]
    },
    {
     "name": "stdout",
     "output_type": "stream",
     "text": [
      "299\n"
     ]
    },
    {
     "name": "stderr",
     "output_type": "stream",
     "text": [
      "\n",
      "0it [00:00, ?it/s]\u001b[A\n",
      "300it [20:23,  1.08it/s]"
     ]
    },
    {
     "name": "stdout",
     "output_type": "stream",
     "text": [
      "300\n"
     ]
    },
    {
     "name": "stderr",
     "output_type": "stream",
     "text": [
      "\n",
      "  0%|                                                     | 0/3 [00:00<?, ?it/s]\u001b[A\n",
      " 33%|███████████████                              | 1/3 [00:01<00:02,  1.31s/it]\u001b[A\n",
      " 67%|██████████████████████████████               | 2/3 [00:03<00:01,  1.73s/it]\u001b[A\n",
      "100%|█████████████████████████████████████████████| 3/3 [00:03<00:00,  1.33s/it]\u001b[A\n",
      "301it [20:27,  2.02s/it]"
     ]
    },
    {
     "name": "stdout",
     "output_type": "stream",
     "text": [
      "301\n"
     ]
    },
    {
     "name": "stderr",
     "output_type": "stream",
     "text": [
      "\n",
      "  0%|                                                     | 0/1 [00:00<?, ?it/s]\u001b[A\n",
      "100%|█████████████████████████████████████████████| 1/1 [00:00<00:00,  1.87it/s]\u001b[A\n",
      "302it [20:29,  1.77s/it]"
     ]
    },
    {
     "name": "stdout",
     "output_type": "stream",
     "text": [
      "302\n"
     ]
    },
    {
     "name": "stderr",
     "output_type": "stream",
     "text": [
      "\n",
      "0it [00:00, ?it/s]\u001b[A\n",
      "303it [20:29,  1.43s/it]"
     ]
    },
    {
     "name": "stdout",
     "output_type": "stream",
     "text": [
      "303\n"
     ]
    },
    {
     "name": "stderr",
     "output_type": "stream",
     "text": [
      "\n",
      "0it [00:00, ?it/s]\u001b[A\n",
      "304it [20:30,  1.21s/it]"
     ]
    },
    {
     "name": "stdout",
     "output_type": "stream",
     "text": [
      "304\n"
     ]
    },
    {
     "name": "stderr",
     "output_type": "stream",
     "text": [
      "\n",
      "0it [00:00, ?it/s]\u001b[A\n",
      "305it [20:31,  1.02s/it]"
     ]
    },
    {
     "name": "stdout",
     "output_type": "stream",
     "text": [
      "305\n"
     ]
    },
    {
     "name": "stderr",
     "output_type": "stream",
     "text": [
      "\n",
      "  0%|                                                     | 0/3 [00:00<?, ?it/s]\u001b[A\n",
      " 33%|███████████████                              | 1/3 [00:00<00:01,  1.65it/s]\u001b[A\n",
      " 67%|██████████████████████████████               | 2/3 [00:01<00:00,  1.49it/s]\u001b[A\n",
      "100%|█████████████████████████████████████████████| 3/3 [00:01<00:00,  1.59it/s]\u001b[A\n",
      "306it [20:33,  1.47s/it]"
     ]
    },
    {
     "name": "stdout",
     "output_type": "stream",
     "text": [
      "306\n"
     ]
    },
    {
     "name": "stderr",
     "output_type": "stream",
     "text": [
      "\n",
      "  0%|                                                     | 0/4 [00:00<?, ?it/s]\u001b[A\n",
      " 25%|███████████▎                                 | 1/4 [00:00<00:01,  1.89it/s]\u001b[A\n",
      " 50%|██████████████████████▌                      | 2/4 [00:01<00:01,  1.84it/s]\u001b[A\n",
      " 75%|█████████████████████████████████▊           | 3/4 [00:01<00:00,  1.80it/s]\u001b[A\n",
      "100%|█████████████████████████████████████████████| 4/4 [00:02<00:00,  1.84it/s]\u001b[A\n",
      "307it [20:36,  1.86s/it]"
     ]
    },
    {
     "name": "stdout",
     "output_type": "stream",
     "text": [
      "307\n"
     ]
    },
    {
     "name": "stderr",
     "output_type": "stream",
     "text": [
      "\n",
      "  0%|                                                     | 0/1 [00:00<?, ?it/s]\u001b[A\n",
      "100%|█████████████████████████████████████████████| 1/1 [00:00<00:00,  1.58it/s]\u001b[A\n",
      "308it [20:37,  1.74s/it]"
     ]
    },
    {
     "name": "stdout",
     "output_type": "stream",
     "text": [
      "308\n"
     ]
    },
    {
     "name": "stderr",
     "output_type": "stream",
     "text": [
      "\n",
      "  0%|                                                     | 0/3 [00:00<?, ?it/s]\u001b[A\n",
      " 33%|███████████████                              | 1/3 [00:00<00:01,  1.39it/s]\u001b[A\n",
      " 67%|██████████████████████████████               | 2/3 [00:01<00:00,  1.42it/s]\u001b[A\n",
      "100%|█████████████████████████████████████████████| 3/3 [00:01<00:00,  1.52it/s]\u001b[A\n",
      "309it [20:40,  2.06s/it]"
     ]
    },
    {
     "name": "stdout",
     "output_type": "stream",
     "text": [
      "309\n"
     ]
    },
    {
     "name": "stderr",
     "output_type": "stream",
     "text": [
      "\n",
      "  0%|                                                     | 0/1 [00:00<?, ?it/s]\u001b[A\n",
      "100%|█████████████████████████████████████████████| 1/1 [00:00<00:00,  1.99it/s]\u001b[A\n",
      "310it [20:41,  1.80s/it]"
     ]
    },
    {
     "name": "stdout",
     "output_type": "stream",
     "text": [
      "310\n"
     ]
    },
    {
     "name": "stderr",
     "output_type": "stream",
     "text": [
      "\n",
      "0it [00:00, ?it/s]\u001b[A\n",
      "311it [20:42,  1.44s/it]"
     ]
    },
    {
     "name": "stdout",
     "output_type": "stream",
     "text": [
      "311\n"
     ]
    },
    {
     "name": "stderr",
     "output_type": "stream",
     "text": [
      "\n",
      "  0%|                                                     | 0/3 [00:00<?, ?it/s]\u001b[A\n",
      " 33%|███████████████                              | 1/3 [00:00<00:01,  1.89it/s]\u001b[A\n",
      " 67%|██████████████████████████████               | 2/3 [00:01<00:00,  1.98it/s]\u001b[A\n",
      "100%|█████████████████████████████████████████████| 3/3 [00:01<00:00,  1.91it/s]\u001b[A\n",
      "312it [20:44,  1.66s/it]"
     ]
    },
    {
     "name": "stdout",
     "output_type": "stream",
     "text": [
      "312\n"
     ]
    },
    {
     "name": "stderr",
     "output_type": "stream",
     "text": [
      "\n",
      "  0%|                                                     | 0/2 [00:00<?, ?it/s]\u001b[A\n",
      " 50%|██████████████████████▌                      | 1/2 [00:00<00:00,  1.86it/s]\u001b[A\n",
      "100%|█████████████████████████████████████████████| 2/2 [00:01<00:00,  1.92it/s]\u001b[A\n",
      "313it [20:46,  1.66s/it]"
     ]
    },
    {
     "name": "stdout",
     "output_type": "stream",
     "text": [
      "313\n"
     ]
    },
    {
     "name": "stderr",
     "output_type": "stream",
     "text": [
      "\n",
      "  0%|                                                     | 0/5 [00:00<?, ?it/s]\u001b[A\n",
      " 20%|█████████                                    | 1/5 [00:00<00:02,  1.80it/s]\u001b[A\n",
      " 40%|██████████████████                           | 2/5 [00:01<00:01,  1.88it/s]\u001b[A\n",
      " 60%|███████████████████████████                  | 3/5 [00:01<00:01,  1.90it/s]\u001b[A\n",
      " 80%|████████████████████████████████████         | 4/5 [00:02<00:00,  1.85it/s]\u001b[A\n",
      "100%|█████████████████████████████████████████████| 5/5 [00:02<00:00,  1.87it/s]\u001b[A\n",
      "314it [20:49,  2.14s/it]"
     ]
    },
    {
     "name": "stdout",
     "output_type": "stream",
     "text": [
      "314\n"
     ]
    },
    {
     "name": "stderr",
     "output_type": "stream",
     "text": [
      "\n",
      "  0%|                                                   | 0/390 [00:00<?, ?it/s]\u001b[A\n",
      "  0%|                                           | 1/390 [00:00<03:34,  1.81it/s]\u001b[A\n",
      "  1%|▏                                          | 2/390 [00:01<03:31,  1.83it/s]\u001b[A\n",
      "  1%|▎                                          | 3/390 [00:01<03:26,  1.87it/s]\u001b[A\n",
      "  1%|▍                                          | 4/390 [00:02<03:29,  1.84it/s]\u001b[A\n",
      "  1%|▌                                          | 5/390 [00:02<03:23,  1.90it/s]\u001b[A\n",
      "  2%|▋                                          | 6/390 [00:03<03:31,  1.82it/s]\u001b[A\n",
      "  2%|▊                                          | 7/390 [00:03<03:29,  1.83it/s]\u001b[A\n",
      "  2%|▉                                          | 8/390 [00:04<03:35,  1.77it/s]\u001b[A\n",
      "  2%|▉                                          | 9/390 [00:04<03:36,  1.76it/s]\u001b[A\n",
      "  3%|█                                         | 10/390 [00:05<03:28,  1.83it/s]\u001b[A\n",
      "  3%|█▏                                        | 11/390 [00:05<03:22,  1.87it/s]\u001b[A\n",
      "  3%|█▎                                        | 12/390 [00:06<03:17,  1.92it/s]\u001b[A\n",
      "  3%|█▍                                        | 13/390 [00:06<03:12,  1.96it/s]\u001b[A\n",
      "  4%|█▌                                        | 14/390 [00:07<03:22,  1.86it/s]\u001b[A\n",
      "  4%|█▌                                        | 15/390 [00:08<03:27,  1.81it/s]\u001b[A\n",
      "  4%|█▋                                        | 16/390 [00:08<03:29,  1.79it/s]\u001b[A\n",
      "  4%|█▊                                        | 17/390 [00:09<03:24,  1.83it/s]\u001b[A\n",
      "  5%|█▉                                        | 18/390 [00:09<03:23,  1.83it/s]\u001b[A\n",
      "  5%|██                                        | 19/390 [00:10<03:29,  1.77it/s]\u001b[A\n",
      "  5%|██▏                                       | 20/390 [00:10<03:28,  1.77it/s]\u001b[A\n",
      "  5%|██▎                                       | 21/390 [00:11<03:25,  1.79it/s]\u001b[A\n",
      "  6%|██▎                                       | 22/390 [00:12<03:22,  1.82it/s]\u001b[A\n",
      "  6%|██▍                                       | 23/390 [00:12<03:18,  1.85it/s]\u001b[A\n",
      "  6%|██▌                                       | 24/390 [00:13<03:24,  1.79it/s]\u001b[A\n",
      "  6%|██▋                                       | 25/390 [00:13<03:29,  1.74it/s]\u001b[A\n",
      "  7%|██▊                                       | 26/390 [00:14<03:33,  1.70it/s]\u001b[A\n",
      "  7%|██▉                                       | 27/390 [00:14<03:25,  1.77it/s]\u001b[A\n",
      "  7%|███                                       | 28/390 [00:15<03:33,  1.70it/s]\u001b[A\n",
      "  7%|███                                       | 29/390 [00:16<03:34,  1.69it/s]\u001b[A\n",
      "  8%|███▏                                      | 30/390 [00:16<03:34,  1.68it/s]\u001b[A\n",
      "  8%|███▎                                      | 31/390 [00:17<03:39,  1.64it/s]\u001b[A\n",
      "  8%|███▍                                      | 32/390 [00:17<03:33,  1.68it/s]\u001b[A\n",
      "  8%|███▌                                      | 33/390 [00:18<03:39,  1.62it/s]\u001b[A\n",
      "  9%|███▋                                      | 34/390 [00:19<03:36,  1.65it/s]\u001b[A\n",
      "  9%|███▊                                      | 35/390 [00:19<03:37,  1.64it/s]\u001b[A\n",
      "  9%|███▉                                      | 36/390 [00:20<03:25,  1.72it/s]\u001b[A\n",
      "  9%|███▉                                      | 37/390 [00:20<03:23,  1.73it/s]\u001b[A\n",
      " 10%|████                                      | 38/390 [00:21<03:17,  1.78it/s]\u001b[A\n",
      " 10%|████▏                                     | 39/390 [00:21<03:12,  1.82it/s]\u001b[A\n",
      " 10%|████▎                                     | 40/390 [00:22<03:13,  1.81it/s]\u001b[A\n",
      " 11%|████▍                                     | 41/390 [00:22<03:06,  1.88it/s]\u001b[A\n",
      " 11%|████▌                                     | 42/390 [00:23<03:09,  1.83it/s]\u001b[A\n",
      " 11%|████▋                                     | 43/390 [00:24<03:06,  1.86it/s]\u001b[A\n",
      " 11%|████▋                                     | 44/390 [00:24<03:12,  1.80it/s]\u001b[A\n",
      " 12%|████▊                                     | 45/390 [00:25<03:14,  1.77it/s]\u001b[A\n",
      " 12%|████▉                                     | 46/390 [00:25<03:12,  1.79it/s]\u001b[A\n",
      " 12%|█████                                     | 47/390 [00:26<03:17,  1.74it/s]\u001b[A\n",
      " 12%|█████▏                                    | 48/390 [00:26<03:12,  1.78it/s]\u001b[A\n",
      " 13%|█████▎                                    | 49/390 [00:27<03:07,  1.82it/s]\u001b[A\n",
      " 13%|█████▍                                    | 50/390 [00:28<03:16,  1.73it/s]\u001b[A\n",
      " 13%|█████▍                                    | 51/390 [00:28<03:15,  1.74it/s]\u001b[A\n",
      " 13%|█████▌                                    | 52/390 [00:29<03:16,  1.72it/s]\u001b[A\n",
      " 14%|█████▋                                    | 53/390 [00:29<03:18,  1.70it/s]\u001b[A\n",
      " 14%|█████▊                                    | 54/390 [00:30<03:21,  1.66it/s]\u001b[A\n",
      " 14%|█████▉                                    | 55/390 [00:31<03:14,  1.72it/s]\u001b[A\n",
      " 14%|██████                                    | 56/390 [00:31<03:20,  1.67it/s]\u001b[A\n",
      " 15%|██████▏                                   | 57/390 [00:32<03:08,  1.76it/s]\u001b[A\n",
      " 15%|██████▏                                   | 58/390 [00:32<03:04,  1.80it/s]\u001b[A\n",
      " 15%|██████▎                                   | 59/390 [00:33<03:00,  1.84it/s]\u001b[A\n",
      " 15%|██████▍                                   | 60/390 [00:33<03:09,  1.74it/s]\u001b[A\n",
      " 16%|██████▌                                   | 61/390 [00:34<03:18,  1.66it/s]\u001b[A\n",
      " 16%|██████▋                                   | 62/390 [00:35<03:14,  1.69it/s]\u001b[A\n",
      " 16%|██████▊                                   | 63/390 [00:35<03:21,  1.63it/s]\u001b[A\n",
      " 16%|██████▉                                   | 64/390 [00:36<03:08,  1.73it/s]\u001b[A\n",
      " 17%|███████                                   | 65/390 [00:36<03:03,  1.77it/s]\u001b[A\n",
      " 17%|███████                                   | 66/390 [00:37<02:56,  1.84it/s]\u001b[A\n",
      " 17%|███████▏                                  | 67/390 [00:37<02:51,  1.89it/s]\u001b[A\n",
      " 17%|███████▎                                  | 68/390 [00:38<02:57,  1.82it/s]\u001b[A\n",
      " 18%|███████▍                                  | 69/390 [00:38<02:55,  1.83it/s]\u001b[A\n",
      " 18%|███████▌                                  | 70/390 [00:39<02:50,  1.88it/s]\u001b[A\n",
      " 18%|███████▋                                  | 71/390 [00:40<02:57,  1.80it/s]\u001b[A\n",
      " 18%|███████▊                                  | 72/390 [00:40<03:00,  1.76it/s]\u001b[A\n",
      " 19%|███████▊                                  | 73/390 [00:41<02:59,  1.77it/s]\u001b[A\n",
      " 19%|███████▉                                  | 74/390 [00:41<02:53,  1.82it/s]\u001b[A\n",
      " 19%|████████                                  | 75/390 [00:42<02:47,  1.88it/s]\u001b[A\n",
      " 19%|████████▏                                 | 76/390 [00:42<02:42,  1.93it/s]\u001b[A\n",
      " 20%|████████▎                                 | 77/390 [00:43<02:48,  1.86it/s]\u001b[A\n",
      " 20%|████████▍                                 | 78/390 [00:43<02:46,  1.88it/s]\u001b[A\n",
      " 20%|████████▌                                 | 79/390 [00:44<02:42,  1.91it/s]\u001b[A\n",
      " 21%|████████▌                                 | 80/390 [00:44<02:40,  1.93it/s]\u001b[A\n",
      " 21%|████████▋                                 | 81/390 [00:45<02:37,  1.96it/s]\u001b[A\n",
      " 21%|████████▊                                 | 82/390 [00:45<02:50,  1.80it/s]\u001b[A\n",
      " 21%|████████▉                                 | 83/390 [00:46<02:58,  1.72it/s]\u001b[A\n",
      " 22%|█████████                                 | 84/390 [00:47<03:04,  1.66it/s]\u001b[A\n",
      " 22%|█████████▏                                | 85/390 [00:47<03:03,  1.66it/s]\u001b[A\n",
      " 22%|█████████▎                                | 86/390 [00:48<03:01,  1.68it/s]\u001b[A\n",
      " 22%|█████████▎                                | 87/390 [00:49<03:04,  1.64it/s]\u001b[A\n",
      " 23%|█████████▍                                | 88/390 [00:49<03:04,  1.63it/s]\u001b[A\n",
      " 23%|█████████▌                                | 89/390 [00:50<02:59,  1.68it/s]\u001b[A\n",
      " 23%|█████████▋                                | 90/390 [00:50<02:56,  1.70it/s]\u001b[A\n",
      " 23%|█████████▊                                | 91/390 [00:51<02:59,  1.66it/s]\u001b[A\n",
      " 24%|█████████▉                                | 92/390 [00:52<03:01,  1.64it/s]\u001b[A\n",
      " 24%|██████████                                | 93/390 [00:52<02:57,  1.67it/s]\u001b[A\n",
      " 24%|██████████                                | 94/390 [00:53<03:06,  1.59it/s]\u001b[A\n",
      " 24%|██████████▏                               | 95/390 [00:54<03:08,  1.57it/s]\u001b[A\n",
      " 25%|██████████▎                               | 96/390 [00:54<03:05,  1.58it/s]\u001b[A\n"
     ]
    },
    {
     "name": "stderr",
     "output_type": "stream",
     "text": [
      " 25%|██████████▍                               | 97/390 [00:55<02:58,  1.64it/s]\u001b[A\n",
      " 25%|██████████▌                               | 98/390 [00:55<02:56,  1.65it/s]\u001b[A\n",
      " 25%|██████████▋                               | 99/390 [00:56<02:48,  1.73it/s]\u001b[A\n",
      " 26%|██████████▌                              | 100/390 [00:56<02:51,  1.70it/s]\u001b[A\n",
      " 26%|██████████▌                              | 101/390 [00:57<02:53,  1.66it/s]\u001b[A\n",
      " 26%|██████████▋                              | 102/390 [00:58<02:47,  1.72it/s]\u001b[A\n",
      " 26%|██████████▊                              | 103/390 [00:58<02:54,  1.64it/s]\u001b[A\n",
      " 27%|██████████▉                              | 104/390 [00:59<02:53,  1.65it/s]\u001b[A\n",
      " 27%|███████████                              | 105/390 [00:59<02:53,  1.64it/s]\u001b[A\n",
      " 27%|███████████▏                             | 106/390 [01:00<02:54,  1.63it/s]\u001b[A\n",
      " 27%|███████████▏                             | 107/390 [01:01<02:47,  1.69it/s]\u001b[A\n",
      " 28%|███████████▎                             | 108/390 [01:01<02:45,  1.71it/s]\u001b[A\n",
      " 28%|███████████▍                             | 109/390 [01:02<02:41,  1.74it/s]\u001b[A\n",
      " 28%|███████████▌                             | 110/390 [01:02<02:47,  1.67it/s]\u001b[A\n",
      " 28%|███████████▋                             | 111/390 [01:03<02:44,  1.70it/s]\u001b[A\n",
      " 29%|███████████▊                             | 112/390 [01:04<02:45,  1.68it/s]\u001b[A\n",
      " 29%|███████████▉                             | 113/390 [01:04<02:39,  1.74it/s]\u001b[A\n",
      " 29%|███████████▉                             | 114/390 [01:05<02:44,  1.67it/s]\u001b[A\n",
      " 29%|████████████                             | 115/390 [01:05<02:39,  1.72it/s]\u001b[A\n",
      " 30%|████████████▏                            | 116/390 [01:06<02:44,  1.66it/s]\u001b[A\n",
      " 30%|████████████▎                            | 117/390 [01:07<02:53,  1.57it/s]\u001b[A\n",
      " 30%|████████████▍                            | 118/390 [01:07<02:53,  1.57it/s]\u001b[A\n",
      " 31%|████████████▌                            | 119/390 [01:08<03:01,  1.49it/s]\u001b[A\n",
      " 31%|████████████▌                            | 120/390 [01:09<03:01,  1.49it/s]\u001b[A\n",
      " 31%|████████████▋                            | 121/390 [01:09<02:56,  1.52it/s]\u001b[A\n",
      " 31%|████████████▊                            | 122/390 [01:10<02:49,  1.58it/s]\u001b[A\n",
      " 32%|████████████▉                            | 123/390 [01:11<02:46,  1.60it/s]\u001b[A\n",
      " 32%|█████████████                            | 124/390 [01:11<02:41,  1.65it/s]\u001b[A\n",
      " 32%|█████████████▏                           | 125/390 [01:12<02:37,  1.69it/s]\u001b[A\n",
      " 32%|█████████████▏                           | 126/390 [01:12<02:36,  1.69it/s]\u001b[A\n",
      " 33%|█████████████▎                           | 127/390 [01:13<02:34,  1.70it/s]\u001b[A\n",
      " 33%|█████████████▍                           | 128/390 [01:13<02:32,  1.72it/s]\u001b[A\n",
      " 33%|█████████████▌                           | 129/390 [01:14<02:29,  1.74it/s]\u001b[A\n",
      " 33%|█████████████▋                           | 130/390 [01:15<02:27,  1.76it/s]\u001b[A\n",
      " 34%|█████████████▊                           | 131/390 [01:15<02:24,  1.79it/s]\u001b[A\n",
      " 34%|█████████████▉                           | 132/390 [01:16<02:27,  1.75it/s]\u001b[A\n",
      " 34%|█████████████▉                           | 133/390 [01:16<02:25,  1.77it/s]\u001b[A\n",
      " 34%|██████████████                           | 134/390 [01:17<02:27,  1.74it/s]\u001b[A\n",
      " 35%|██████████████▏                          | 135/390 [01:18<02:40,  1.59it/s]\u001b[A\n",
      " 35%|██████████████▎                          | 136/390 [01:18<02:36,  1.63it/s]\u001b[A\n",
      " 35%|██████████████▍                          | 137/390 [01:19<02:40,  1.58it/s]\u001b[A\n",
      " 35%|██████████████▌                          | 138/390 [01:19<02:35,  1.63it/s]\u001b[A\n",
      " 36%|██████████████▌                          | 139/390 [01:20<02:31,  1.66it/s]\u001b[A\n",
      " 36%|██████████████▋                          | 140/390 [01:21<02:30,  1.66it/s]\u001b[A\n",
      " 36%|██████████████▊                          | 141/390 [01:21<02:27,  1.68it/s]\u001b[A\n",
      " 36%|██████████████▉                          | 142/390 [01:22<02:31,  1.64it/s]\u001b[A\n",
      " 37%|███████████████                          | 143/390 [01:22<02:26,  1.69it/s]\u001b[A\n",
      " 37%|███████████████▏                         | 144/390 [01:23<02:27,  1.67it/s]\u001b[A\n",
      " 37%|███████████████▏                         | 145/390 [01:24<02:24,  1.70it/s]\u001b[A\n",
      " 37%|███████████████▎                         | 146/390 [01:24<02:21,  1.72it/s]\u001b[A\n",
      " 38%|███████████████▍                         | 147/390 [01:25<02:21,  1.72it/s]\u001b[A\n",
      " 38%|███████████████▌                         | 148/390 [01:25<02:17,  1.76it/s]\u001b[A\n",
      " 38%|███████████████▋                         | 149/390 [01:26<02:34,  1.56it/s]\u001b[A\n",
      " 38%|███████████████▊                         | 150/390 [01:27<02:27,  1.62it/s]\u001b[A\n",
      " 39%|███████████████▊                         | 151/390 [01:27<02:23,  1.67it/s]\u001b[A\n",
      " 39%|███████████████▉                         | 152/390 [01:28<02:27,  1.61it/s]\u001b[A\n",
      " 39%|████████████████                         | 153/390 [01:28<02:24,  1.64it/s]\u001b[A\n",
      " 39%|████████████████▏                        | 154/390 [01:29<02:20,  1.68it/s]\u001b[A\n",
      " 40%|████████████████▎                        | 155/390 [01:30<02:19,  1.68it/s]\u001b[A\n",
      " 40%|████████████████▍                        | 156/390 [01:30<02:23,  1.63it/s]\u001b[A\n",
      " 40%|████████████████▌                        | 157/390 [01:31<02:16,  1.71it/s]\u001b[A\n",
      " 41%|████████████████▌                        | 158/390 [01:31<02:16,  1.71it/s]\u001b[A\n",
      " 41%|████████████████▋                        | 159/390 [01:32<02:20,  1.64it/s]\u001b[A\n",
      " 41%|████████████████▊                        | 160/390 [01:33<02:16,  1.68it/s]\u001b[A\n",
      " 41%|████████████████▉                        | 161/390 [01:33<02:13,  1.72it/s]\u001b[A\n",
      " 42%|█████████████████                        | 162/390 [01:34<02:48,  1.35it/s]\u001b[A\n",
      " 42%|█████████████████▏                       | 163/390 [01:35<02:34,  1.47it/s]\u001b[A\n",
      " 42%|█████████████████▏                       | 164/390 [01:35<02:35,  1.45it/s]\u001b[A\n",
      " 42%|█████████████████▎                       | 165/390 [01:36<02:32,  1.47it/s]\u001b[A\n",
      " 43%|█████████████████▍                       | 166/390 [01:37<02:25,  1.54it/s]\u001b[A\n",
      " 43%|█████████████████▌                       | 167/390 [01:37<02:29,  1.49it/s]\u001b[A\n",
      " 43%|█████████████████▋                       | 168/390 [01:38<02:23,  1.55it/s]\u001b[A\n",
      " 43%|█████████████████▊                       | 169/390 [01:39<02:24,  1.53it/s]\u001b[A\n",
      " 44%|█████████████████▊                       | 170/390 [01:39<02:18,  1.58it/s]\u001b[A\n",
      " 44%|█████████████████▉                       | 171/390 [01:40<02:17,  1.60it/s]\u001b[A\n",
      " 44%|██████████████████                       | 172/390 [01:40<02:16,  1.60it/s]\u001b[A\n",
      " 44%|██████████████████▏                      | 173/390 [01:41<02:12,  1.63it/s]\u001b[A\n",
      " 45%|██████████████████▎                      | 174/390 [01:42<02:09,  1.67it/s]\u001b[A\n",
      " 45%|██████████████████▍                      | 175/390 [01:42<02:12,  1.62it/s]\u001b[A\n",
      " 45%|██████████████████▌                      | 176/390 [01:43<02:13,  1.60it/s]\u001b[A\n",
      " 45%|██████████████████▌                      | 177/390 [01:43<02:08,  1.65it/s]\u001b[A\n",
      " 46%|██████████████████▋                      | 178/390 [01:44<02:06,  1.67it/s]\u001b[A\n",
      " 46%|██████████████████▊                      | 179/390 [01:45<02:07,  1.66it/s]\u001b[A\n",
      " 46%|██████████████████▉                      | 180/390 [01:45<02:05,  1.68it/s]\u001b[A\n",
      " 46%|███████████████████                      | 181/390 [01:46<02:02,  1.71it/s]\u001b[A\n",
      " 47%|███████████████████▏                     | 182/390 [01:46<02:00,  1.73it/s]\u001b[A\n",
      " 47%|███████████████████▏                     | 183/390 [01:47<01:58,  1.75it/s]\u001b[A\n",
      " 47%|███████████████████▎                     | 184/390 [01:47<01:55,  1.78it/s]\u001b[A\n",
      " 47%|███████████████████▍                     | 185/390 [01:48<01:55,  1.77it/s]\u001b[A\n",
      " 48%|███████████████████▌                     | 186/390 [01:49<01:59,  1.71it/s]\u001b[A\n",
      " 48%|███████████████████▋                     | 187/390 [01:49<01:59,  1.70it/s]\u001b[A\n",
      " 48%|███████████████████▊                     | 188/390 [01:50<01:55,  1.76it/s]\u001b[A\n",
      " 48%|███████████████████▊                     | 189/390 [01:50<01:54,  1.76it/s]\u001b[A\n",
      " 49%|███████████████████▉                     | 190/390 [01:51<01:52,  1.77it/s]\u001b[A\n",
      " 49%|████████████████████                     | 191/390 [01:52<01:54,  1.74it/s]\u001b[A\n",
      " 49%|████████████████████▏                    | 192/390 [01:52<01:54,  1.73it/s]\u001b[A\n",
      " 49%|████████████████████▎                    | 193/390 [01:53<01:50,  1.78it/s]\u001b[A\n"
     ]
    },
    {
     "name": "stderr",
     "output_type": "stream",
     "text": [
      " 50%|████████████████████▍                    | 194/390 [01:53<01:51,  1.75it/s]\u001b[A\n",
      " 50%|████████████████████▌                    | 195/390 [01:54<01:53,  1.72it/s]\u001b[A\n",
      " 50%|████████████████████▌                    | 196/390 [01:54<01:56,  1.67it/s]\u001b[A\n",
      " 51%|████████████████████▋                    | 197/390 [01:55<01:55,  1.68it/s]\u001b[A\n",
      " 51%|████████████████████▊                    | 198/390 [01:56<01:53,  1.69it/s]\u001b[A\n",
      " 51%|████████████████████▉                    | 199/390 [01:56<01:52,  1.70it/s]\u001b[A\n",
      " 51%|█████████████████████                    | 200/390 [01:57<01:55,  1.65it/s]\u001b[A\n",
      " 52%|█████████████████████▏                   | 201/390 [01:57<01:53,  1.66it/s]\u001b[A\n",
      " 52%|█████████████████████▏                   | 202/390 [01:58<01:49,  1.72it/s]\u001b[A\n",
      " 52%|█████████████████████▎                   | 203/390 [01:59<01:47,  1.73it/s]\u001b[A\n",
      " 52%|█████████████████████▍                   | 204/390 [01:59<01:46,  1.75it/s]\u001b[A\n",
      " 53%|█████████████████████▌                   | 205/390 [02:00<01:42,  1.80it/s]\u001b[A\n",
      " 53%|█████████████████████▋                   | 206/390 [02:00<01:46,  1.73it/s]\u001b[A\n",
      " 53%|█████████████████████▊                   | 207/390 [02:01<01:42,  1.78it/s]\u001b[A\n",
      " 53%|█████████████████████▊                   | 208/390 [02:01<01:43,  1.77it/s]\u001b[A\n",
      " 54%|█████████████████████▉                   | 209/390 [02:02<01:40,  1.80it/s]\u001b[A\n",
      " 54%|██████████████████████                   | 210/390 [02:02<01:41,  1.78it/s]\u001b[A\n",
      " 54%|██████████████████████▏                  | 211/390 [02:03<01:42,  1.74it/s]\u001b[A\n",
      " 54%|██████████████████████▎                  | 212/390 [02:04<01:45,  1.70it/s]\u001b[A\n",
      " 55%|██████████████████████▍                  | 213/390 [02:04<01:43,  1.70it/s]\u001b[A\n",
      " 55%|██████████████████████▍                  | 214/390 [02:05<01:38,  1.78it/s]\u001b[A\n",
      " 55%|██████████████████████▌                  | 215/390 [02:05<01:35,  1.83it/s]\u001b[A\n",
      " 55%|██████████████████████▋                  | 216/390 [02:06<01:34,  1.84it/s]\u001b[A\n",
      " 56%|██████████████████████▊                  | 217/390 [02:06<01:32,  1.86it/s]\u001b[A\n",
      " 56%|██████████████████████▉                  | 218/390 [02:07<01:30,  1.90it/s]\u001b[A\n",
      " 56%|███████████████████████                  | 219/390 [02:08<01:39,  1.72it/s]\u001b[A\n",
      " 56%|███████████████████████▏                 | 220/390 [02:08<01:40,  1.70it/s]\u001b[A\n",
      " 57%|███████████████████████▏                 | 221/390 [02:09<01:36,  1.75it/s]\u001b[A\n",
      " 57%|███████████████████████▎                 | 222/390 [02:09<01:40,  1.68it/s]\u001b[A\n",
      " 57%|███████████████████████▍                 | 223/390 [02:10<01:42,  1.63it/s]\u001b[A\n",
      " 57%|███████████████████████▌                 | 224/390 [02:11<01:42,  1.61it/s]\u001b[A\n",
      " 58%|███████████████████████▋                 | 225/390 [02:11<01:43,  1.60it/s]\u001b[A\n",
      " 58%|███████████████████████▊                 | 226/390 [02:12<01:42,  1.60it/s]\u001b[A\n",
      " 58%|███████████████████████▊                 | 227/390 [02:13<01:41,  1.61it/s]\u001b[A\n",
      " 58%|███████████████████████▉                 | 228/390 [02:13<01:39,  1.62it/s]\u001b[A\n",
      " 59%|████████████████████████                 | 229/390 [02:14<01:38,  1.64it/s]\u001b[A\n",
      " 59%|████████████████████████▏                | 230/390 [02:14<01:35,  1.68it/s]\u001b[A\n",
      " 59%|████████████████████████▎                | 231/390 [02:15<01:37,  1.63it/s]\u001b[A\n",
      " 59%|████████████████████████▍                | 232/390 [02:15<01:32,  1.71it/s]\u001b[A\n",
      " 60%|████████████████████████▍                | 233/390 [02:16<01:30,  1.74it/s]\u001b[A\n",
      " 60%|████████████████████████▌                | 234/390 [02:17<01:28,  1.76it/s]\u001b[A\n",
      " 60%|████████████████████████▋                | 235/390 [02:17<01:28,  1.76it/s]\u001b[A\n",
      " 61%|████████████████████████▊                | 236/390 [02:18<01:27,  1.76it/s]\u001b[A\n",
      " 61%|████████████████████████▉                | 237/390 [02:18<01:30,  1.70it/s]\u001b[A\n",
      " 61%|█████████████████████████                | 238/390 [02:19<01:31,  1.66it/s]\u001b[A\n",
      " 61%|█████████████████████████▏               | 239/390 [02:20<01:28,  1.71it/s]\u001b[A\n",
      " 62%|█████████████████████████▏               | 240/390 [02:20<01:26,  1.73it/s]\u001b[A\n",
      " 62%|█████████████████████████▎               | 241/390 [02:21<01:25,  1.75it/s]\u001b[A\n",
      " 62%|█████████████████████████▍               | 242/390 [02:21<01:23,  1.78it/s]\u001b[A\n",
      " 62%|█████████████████████████▌               | 243/390 [02:22<01:20,  1.82it/s]\u001b[A\n",
      " 63%|█████████████████████████▋               | 244/390 [02:22<01:20,  1.81it/s]\u001b[A\n",
      " 63%|█████████████████████████▊               | 245/390 [02:23<01:20,  1.81it/s]\u001b[A\n",
      " 63%|█████████████████████████▊               | 246/390 [02:23<01:18,  1.83it/s]\u001b[A\n",
      " 63%|█████████████████████████▉               | 247/390 [02:24<01:18,  1.83it/s]\u001b[A\n",
      " 64%|██████████████████████████               | 248/390 [02:24<01:18,  1.80it/s]\u001b[A\n",
      " 64%|██████████████████████████▏              | 249/390 [02:25<01:16,  1.84it/s]\u001b[A\n",
      " 64%|██████████████████████████▎              | 250/390 [02:26<01:16,  1.83it/s]\u001b[A\n",
      " 64%|██████████████████████████▍              | 251/390 [02:26<01:16,  1.83it/s]\u001b[A\n",
      " 65%|██████████████████████████▍              | 252/390 [02:27<01:16,  1.81it/s]\u001b[A\n",
      " 65%|██████████████████████████▌              | 253/390 [02:27<01:13,  1.86it/s]\u001b[A\n",
      " 65%|██████████████████████████▋              | 254/390 [02:28<01:12,  1.89it/s]\u001b[A\n",
      " 65%|██████████████████████████▊              | 255/390 [02:28<01:10,  1.92it/s]\u001b[A\n",
      " 66%|██████████████████████████▉              | 256/390 [02:29<01:13,  1.83it/s]\u001b[A\n",
      " 66%|███████████████████████████              | 257/390 [02:29<01:11,  1.86it/s]\u001b[A\n",
      " 66%|███████████████████████████              | 258/390 [02:30<01:12,  1.81it/s]\u001b[A\n",
      " 66%|███████████████████████████▏             | 259/390 [02:30<01:10,  1.85it/s]\u001b[A\n",
      " 67%|███████████████████████████▎             | 260/390 [02:31<01:09,  1.88it/s]\u001b[A\n",
      " 67%|███████████████████████████▍             | 261/390 [02:31<01:10,  1.82it/s]\u001b[A\n",
      " 67%|███████████████████████████▌             | 262/390 [02:32<01:10,  1.82it/s]\u001b[A\n",
      " 67%|███████████████████████████▋             | 263/390 [02:33<01:07,  1.87it/s]\u001b[A\n",
      " 68%|███████████████████████████▊             | 264/390 [02:33<01:08,  1.83it/s]\u001b[A\n",
      " 68%|███████████████████████████▊             | 265/390 [02:34<01:10,  1.76it/s]\u001b[A\n",
      " 68%|███████████████████████████▉             | 266/390 [02:34<01:10,  1.76it/s]\u001b[A\n",
      " 68%|████████████████████████████             | 267/390 [02:35<01:07,  1.82it/s]\u001b[A\n",
      " 69%|████████████████████████████▏            | 268/390 [02:35<01:06,  1.83it/s]\u001b[A\n",
      " 69%|████████████████████████████▎            | 269/390 [02:36<01:06,  1.83it/s]\u001b[A\n",
      " 69%|████████████████████████████▍            | 270/390 [02:36<01:06,  1.80it/s]\u001b[A\n",
      " 69%|████████████████████████████▍            | 271/390 [02:37<01:10,  1.68it/s]\u001b[A\n",
      " 70%|████████████████████████████▌            | 272/390 [02:38<01:06,  1.77it/s]\u001b[A\n",
      " 70%|████████████████████████████▋            | 273/390 [02:38<01:11,  1.64it/s]\u001b[A\n",
      " 70%|████████████████████████████▊            | 274/390 [02:39<01:07,  1.73it/s]\u001b[A\n",
      " 71%|████████████████████████████▉            | 275/390 [02:39<01:07,  1.70it/s]\u001b[A\n",
      " 71%|█████████████████████████████            | 276/390 [02:40<01:04,  1.77it/s]\u001b[A\n",
      " 71%|█████████████████████████████            | 277/390 [02:40<01:01,  1.82it/s]\u001b[A\n",
      " 71%|█████████████████████████████▏           | 278/390 [02:41<01:01,  1.81it/s]\u001b[A\n",
      " 72%|█████████████████████████████▎           | 279/390 [02:42<01:04,  1.71it/s]\u001b[A\n",
      " 72%|█████████████████████████████▍           | 280/390 [02:42<01:03,  1.73it/s]\u001b[A\n",
      " 72%|█████████████████████████████▌           | 281/390 [02:43<01:04,  1.68it/s]\u001b[A\n",
      " 72%|█████████████████████████████▋           | 282/390 [02:43<01:01,  1.76it/s]\u001b[A\n",
      " 73%|█████████████████████████████▊           | 283/390 [02:44<00:59,  1.78it/s]\u001b[A\n",
      " 73%|█████████████████████████████▊           | 284/390 [02:45<01:01,  1.74it/s]\u001b[A\n",
      " 73%|█████████████████████████████▉           | 285/390 [02:45<00:59,  1.77it/s]\u001b[A\n",
      " 73%|██████████████████████████████           | 286/390 [02:46<00:58,  1.76it/s]\u001b[A\n",
      " 74%|██████████████████████████████▏          | 287/390 [02:46<00:57,  1.79it/s]\u001b[A\n",
      " 74%|██████████████████████████████▎          | 288/390 [02:47<00:57,  1.77it/s]\u001b[A\n",
      " 74%|██████████████████████████████▍          | 289/390 [02:47<00:59,  1.70it/s]\u001b[A\n",
      " 74%|██████████████████████████████▍          | 290/390 [02:48<00:56,  1.77it/s]\u001b[A\n"
     ]
    },
    {
     "name": "stderr",
     "output_type": "stream",
     "text": [
      " 75%|██████████████████████████████▌          | 291/390 [02:49<00:59,  1.67it/s]\u001b[A\n",
      " 75%|██████████████████████████████▋          | 292/390 [02:49<00:56,  1.74it/s]\u001b[A\n",
      " 75%|██████████████████████████████▊          | 293/390 [02:50<00:56,  1.71it/s]\u001b[A\n",
      " 75%|██████████████████████████████▉          | 294/390 [02:50<00:56,  1.71it/s]\u001b[A\n",
      " 76%|███████████████████████████████          | 295/390 [02:51<00:52,  1.79it/s]\u001b[A\n",
      " 76%|███████████████████████████████          | 296/390 [02:51<00:50,  1.85it/s]\u001b[A\n",
      " 76%|███████████████████████████████▏         | 297/390 [02:52<00:48,  1.90it/s]\u001b[A\n",
      " 76%|███████████████████████████████▎         | 298/390 [02:52<00:49,  1.88it/s]\u001b[A\n",
      " 77%|███████████████████████████████▍         | 299/390 [02:53<00:48,  1.89it/s]\u001b[A\n",
      " 77%|███████████████████████████████▌         | 300/390 [02:53<00:47,  1.90it/s]\u001b[A\n",
      " 77%|███████████████████████████████▋         | 301/390 [02:54<00:46,  1.90it/s]\u001b[A\n",
      " 77%|███████████████████████████████▋         | 302/390 [02:54<00:45,  1.91it/s]\u001b[A\n",
      " 78%|███████████████████████████████▊         | 303/390 [02:55<00:46,  1.86it/s]\u001b[A\n",
      " 78%|███████████████████████████████▉         | 304/390 [02:56<00:46,  1.86it/s]\u001b[A\n",
      " 78%|████████████████████████████████         | 305/390 [02:56<00:47,  1.78it/s]\u001b[A\n",
      " 78%|████████████████████████████████▏        | 306/390 [02:57<00:46,  1.82it/s]\u001b[A\n",
      " 79%|████████████████████████████████▎        | 307/390 [02:57<00:44,  1.85it/s]\u001b[A\n",
      " 79%|████████████████████████████████▍        | 308/390 [02:58<00:43,  1.88it/s]\u001b[A\n",
      " 79%|████████████████████████████████▍        | 309/390 [02:58<00:43,  1.87it/s]\u001b[A\n",
      " 79%|████████████████████████████████▌        | 310/390 [02:59<00:42,  1.89it/s]\u001b[A\n",
      " 80%|████████████████████████████████▋        | 311/390 [02:59<00:43,  1.84it/s]\u001b[A\n",
      " 80%|████████████████████████████████▊        | 312/390 [03:01<00:58,  1.32it/s]\u001b[A\n",
      " 80%|████████████████████████████████▉        | 313/390 [03:01<00:53,  1.45it/s]\u001b[A\n",
      " 81%|█████████████████████████████████        | 314/390 [03:02<00:49,  1.52it/s]\u001b[A\n",
      " 81%|█████████████████████████████████        | 315/390 [03:02<00:48,  1.55it/s]\u001b[A\n",
      " 81%|█████████████████████████████████▏       | 316/390 [03:03<00:47,  1.55it/s]\u001b[A\n",
      " 81%|█████████████████████████████████▎       | 317/390 [03:04<00:44,  1.64it/s]\u001b[A\n",
      " 82%|█████████████████████████████████▍       | 318/390 [03:04<00:44,  1.63it/s]\u001b[A\n",
      " 82%|█████████████████████████████████▌       | 319/390 [03:05<00:42,  1.67it/s]\u001b[A\n",
      " 82%|█████████████████████████████████▋       | 320/390 [03:05<00:41,  1.69it/s]\u001b[A\n",
      " 82%|█████████████████████████████████▋       | 321/390 [03:06<00:41,  1.68it/s]\u001b[A\n",
      " 83%|█████████████████████████████████▊       | 322/390 [03:06<00:39,  1.73it/s]\u001b[A\n",
      " 83%|█████████████████████████████████▉       | 323/390 [03:07<00:37,  1.79it/s]\u001b[A\n",
      " 83%|██████████████████████████████████       | 324/390 [03:07<00:36,  1.83it/s]\u001b[A\n",
      " 83%|██████████████████████████████████▏      | 325/390 [03:08<00:35,  1.83it/s]\u001b[A\n",
      " 84%|██████████████████████████████████▎      | 326/390 [03:09<00:35,  1.80it/s]\u001b[A\n",
      " 84%|██████████████████████████████████▍      | 327/390 [03:09<00:34,  1.81it/s]\u001b[A\n",
      " 84%|██████████████████████████████████▍      | 328/390 [03:10<00:36,  1.69it/s]\u001b[A\n",
      " 84%|██████████████████████████████████▌      | 329/390 [03:10<00:35,  1.73it/s]\u001b[A\n",
      " 85%|██████████████████████████████████▋      | 330/390 [03:11<00:34,  1.74it/s]\u001b[A\n",
      " 85%|██████████████████████████████████▊      | 331/390 [03:11<00:32,  1.81it/s]\u001b[A\n",
      " 85%|██████████████████████████████████▉      | 332/390 [03:12<00:32,  1.81it/s]\u001b[A\n",
      " 85%|███████████████████████████████████      | 333/390 [03:13<00:31,  1.81it/s]\u001b[A\n",
      " 86%|███████████████████████████████████      | 334/390 [03:13<00:33,  1.69it/s]\u001b[A\n",
      " 86%|███████████████████████████████████▏     | 335/390 [03:14<00:32,  1.72it/s]\u001b[A\n",
      " 86%|███████████████████████████████████▎     | 336/390 [03:14<00:30,  1.75it/s]\u001b[A\n",
      " 86%|███████████████████████████████████▍     | 337/390 [03:15<00:31,  1.69it/s]\u001b[A\n",
      " 87%|███████████████████████████████████▌     | 338/390 [03:16<00:30,  1.73it/s]\u001b[A\n",
      " 87%|███████████████████████████████████▋     | 339/390 [03:16<00:29,  1.74it/s]\u001b[A\n",
      " 87%|███████████████████████████████████▋     | 340/390 [03:17<00:30,  1.65it/s]\u001b[A\n",
      " 87%|███████████████████████████████████▊     | 341/390 [03:17<00:30,  1.60it/s]\u001b[A\n",
      " 88%|███████████████████████████████████▉     | 342/390 [03:18<00:29,  1.65it/s]\u001b[A\n",
      " 88%|████████████████████████████████████     | 343/390 [03:19<00:28,  1.67it/s]\u001b[A\n",
      " 88%|████████████████████████████████████▏    | 344/390 [03:19<00:28,  1.64it/s]\u001b[A\n",
      " 88%|████████████████████████████████████▎    | 345/390 [03:20<00:26,  1.69it/s]\u001b[A\n",
      " 89%|████████████████████████████████████▎    | 346/390 [03:20<00:25,  1.73it/s]\u001b[A\n",
      " 89%|████████████████████████████████████▍    | 347/390 [03:22<00:33,  1.30it/s]\u001b[A\n",
      " 89%|████████████████████████████████████▌    | 348/390 [03:22<00:30,  1.39it/s]\u001b[A\n",
      " 89%|████████████████████████████████████▋    | 349/390 [03:23<00:27,  1.47it/s]\u001b[A\n",
      " 90%|████████████████████████████████████▊    | 350/390 [03:23<00:25,  1.57it/s]\u001b[A\n",
      " 90%|████████████████████████████████████▉    | 351/390 [03:24<00:23,  1.66it/s]\u001b[A\n",
      " 90%|█████████████████████████████████████    | 352/390 [03:24<00:22,  1.72it/s]\u001b[A\n",
      " 91%|█████████████████████████████████████    | 353/390 [03:25<00:20,  1.79it/s]\u001b[A\n",
      " 91%|█████████████████████████████████████▏   | 354/390 [03:25<00:20,  1.79it/s]\u001b[A\n",
      " 91%|█████████████████████████████████████▎   | 355/390 [03:26<00:19,  1.77it/s]\u001b[A\n",
      " 91%|█████████████████████████████████████▍   | 356/390 [03:26<00:18,  1.81it/s]\u001b[A\n",
      " 92%|█████████████████████████████████████▌   | 357/390 [03:27<00:21,  1.54it/s]\u001b[A\n",
      " 92%|█████████████████████████████████████▋   | 358/390 [03:28<00:19,  1.62it/s]\u001b[A\n",
      " 92%|█████████████████████████████████████▋   | 359/390 [03:28<00:18,  1.68it/s]\u001b[A\n",
      " 92%|█████████████████████████████████████▊   | 360/390 [03:29<00:17,  1.75it/s]\u001b[A\n",
      " 93%|█████████████████████████████████████▉   | 361/390 [03:30<00:17,  1.70it/s]\u001b[A\n",
      " 93%|██████████████████████████████████████   | 362/390 [03:30<00:16,  1.71it/s]\u001b[A\n",
      " 93%|██████████████████████████████████████▏  | 363/390 [03:31<00:15,  1.78it/s]\u001b[A\n",
      " 93%|██████████████████████████████████████▎  | 364/390 [03:31<00:14,  1.80it/s]\u001b[A\n",
      " 94%|██████████████████████████████████████▎  | 365/390 [03:32<00:14,  1.78it/s]\u001b[A\n",
      " 94%|██████████████████████████████████████▍  | 366/390 [03:32<00:13,  1.77it/s]\u001b[A\n",
      " 94%|██████████████████████████████████████▌  | 367/390 [03:33<00:13,  1.76it/s]\u001b[A\n",
      " 94%|██████████████████████████████████████▋  | 368/390 [03:33<00:12,  1.80it/s]\u001b[A\n",
      " 95%|██████████████████████████████████████▊  | 369/390 [03:34<00:11,  1.79it/s]\u001b[A\n",
      " 95%|██████████████████████████████████████▉  | 370/390 [03:35<00:11,  1.78it/s]\u001b[A\n",
      " 95%|███████████████████████████████████████  | 371/390 [03:35<00:10,  1.80it/s]\u001b[A\n",
      " 95%|███████████████████████████████████████  | 372/390 [03:36<00:09,  1.81it/s]\u001b[A\n",
      " 96%|███████████████████████████████████████▏ | 373/390 [03:36<00:09,  1.73it/s]\u001b[A\n",
      " 96%|███████████████████████████████████████▎ | 374/390 [03:37<00:08,  1.78it/s]\u001b[A\n",
      " 96%|███████████████████████████████████████▍ | 375/390 [03:37<00:08,  1.83it/s]\u001b[A\n",
      " 96%|███████████████████████████████████████▌ | 376/390 [03:38<00:07,  1.88it/s]\u001b[A\n",
      " 97%|███████████████████████████████████████▋ | 377/390 [03:38<00:07,  1.84it/s]\u001b[A\n",
      " 97%|███████████████████████████████████████▋ | 378/390 [03:39<00:06,  1.83it/s]\u001b[A\n",
      " 97%|███████████████████████████████████████▊ | 379/390 [03:39<00:05,  1.85it/s]\u001b[A\n",
      " 97%|███████████████████████████████████████▉ | 380/390 [03:40<00:05,  1.74it/s]\u001b[A\n",
      " 98%|████████████████████████████████████████ | 381/390 [03:41<00:05,  1.71it/s]\u001b[A\n",
      " 98%|████████████████████████████████████████▏| 382/390 [03:41<00:04,  1.66it/s]\u001b[A\n",
      " 98%|████████████████████████████████████████▎| 383/390 [03:42<00:04,  1.74it/s]\u001b[A\n",
      " 98%|████████████████████████████████████████▎| 384/390 [03:42<00:03,  1.77it/s]\u001b[A\n",
      " 99%|████████████████████████████████████████▍| 385/390 [03:43<00:02,  1.74it/s]\u001b[A\n",
      " 99%|████████████████████████████████████████▌| 386/390 [03:44<00:02,  1.60it/s]\u001b[A\n",
      " 99%|████████████████████████████████████████▋| 387/390 [03:44<00:01,  1.62it/s]\u001b[A\n"
     ]
    },
    {
     "name": "stderr",
     "output_type": "stream",
     "text": [
      " 99%|████████████████████████████████████████▊| 388/390 [03:45<00:01,  1.67it/s]\u001b[A\n",
      "100%|████████████████████████████████████████▉| 389/390 [03:45<00:00,  1.71it/s]\u001b[A\n",
      "100%|█████████████████████████████████████████| 390/390 [03:46<00:00,  1.72it/s]\u001b[A\n",
      "315it [24:36, 69.64s/it]"
     ]
    },
    {
     "name": "stdout",
     "output_type": "stream",
     "text": [
      "315\n"
     ]
    },
    {
     "name": "stderr",
     "output_type": "stream",
     "text": [
      "\n",
      "  0%|                                                     | 0/7 [00:00<?, ?it/s]\u001b[A\n",
      " 14%|██████▍                                      | 1/7 [00:00<00:03,  1.82it/s]\u001b[A\n",
      " 29%|████████████▊                                | 2/7 [00:01<00:02,  1.88it/s]\u001b[A\n",
      " 43%|███████████████████▎                         | 3/7 [00:01<00:02,  1.78it/s]\u001b[A\n",
      " 57%|█████████████████████████▋                   | 4/7 [00:02<00:01,  1.73it/s]\u001b[A\n",
      " 71%|████████████████████████████████▏            | 5/7 [00:02<00:01,  1.79it/s]\u001b[A\n",
      " 86%|██████████████████████████████████████▌      | 6/7 [00:03<00:00,  1.78it/s]\u001b[A\n",
      "100%|█████████████████████████████████████████████| 7/7 [00:03<00:00,  1.81it/s]\u001b[A\n",
      "316it [24:41, 50.09s/it]"
     ]
    },
    {
     "name": "stdout",
     "output_type": "stream",
     "text": [
      "316\n"
     ]
    },
    {
     "name": "stderr",
     "output_type": "stream",
     "text": [
      "\n",
      "  0%|                                                    | 0/37 [00:00<?, ?it/s]\u001b[A\n",
      "  3%|█▏                                          | 1/37 [00:00<00:19,  1.88it/s]\u001b[A\n",
      "  5%|██▍                                         | 2/37 [00:01<00:18,  1.92it/s]\u001b[A\n",
      "  8%|███▌                                        | 3/37 [00:01<00:17,  1.93it/s]\u001b[A\n",
      " 11%|████▊                                       | 4/37 [00:02<00:17,  1.93it/s]\u001b[A\n",
      " 14%|█████▉                                      | 5/37 [00:02<00:16,  1.91it/s]\u001b[A\n",
      " 16%|███████▏                                    | 6/37 [00:03<00:16,  1.82it/s]\u001b[A\n",
      " 19%|████████▎                                   | 7/37 [00:03<00:15,  1.88it/s]\u001b[A\n",
      " 22%|█████████▌                                  | 8/37 [00:04<00:16,  1.81it/s]\u001b[A\n",
      " 24%|██████████▋                                 | 9/37 [00:04<00:16,  1.74it/s]\u001b[A\n",
      " 27%|███████████▌                               | 10/37 [00:05<00:14,  1.80it/s]\u001b[A\n",
      " 30%|████████████▊                              | 11/37 [00:06<00:14,  1.77it/s]\u001b[A\n",
      " 32%|█████████████▉                             | 12/37 [00:06<00:13,  1.83it/s]\u001b[A\n",
      " 35%|███████████████                            | 13/37 [00:07<00:12,  1.88it/s]\u001b[A\n",
      " 38%|████████████████▎                          | 14/37 [00:07<00:12,  1.86it/s]\u001b[A\n",
      " 41%|█████████████████▍                         | 15/37 [00:08<00:12,  1.80it/s]\u001b[A\n",
      " 43%|██████████████████▌                        | 16/37 [00:08<00:11,  1.82it/s]\u001b[A\n",
      " 46%|███████████████████▊                       | 17/37 [00:09<00:10,  1.87it/s]\u001b[A\n",
      " 49%|████████████████████▉                      | 18/37 [00:09<00:09,  1.91it/s]\u001b[A\n",
      " 51%|██████████████████████                     | 19/37 [00:10<00:09,  1.91it/s]\u001b[A\n",
      " 54%|███████████████████████▏                   | 20/37 [00:10<00:08,  1.89it/s]\u001b[A\n",
      " 57%|████████████████████████▍                  | 21/37 [00:11<00:08,  1.90it/s]\u001b[A\n",
      " 59%|█████████████████████████▌                 | 22/37 [00:11<00:07,  1.91it/s]\u001b[A\n",
      " 62%|██████████████████████████▋                | 23/37 [00:12<00:07,  1.96it/s]\u001b[A\n",
      " 65%|███████████████████████████▉               | 24/37 [00:12<00:06,  1.89it/s]\u001b[A\n",
      " 68%|█████████████████████████████              | 25/37 [00:13<00:06,  1.92it/s]\u001b[A\n",
      " 70%|██████████████████████████████▏            | 26/37 [00:13<00:05,  1.93it/s]\u001b[A\n",
      " 73%|███████████████████████████████▍           | 27/37 [00:14<00:05,  1.90it/s]\u001b[A\n",
      " 76%|████████████████████████████████▌          | 28/37 [00:14<00:04,  1.90it/s]\u001b[A\n",
      " 78%|█████████████████████████████████▋         | 29/37 [00:15<00:04,  1.83it/s]\u001b[A\n",
      " 81%|██████████████████████████████████▊        | 30/37 [00:16<00:03,  1.88it/s]\u001b[A\n",
      " 84%|████████████████████████████████████       | 31/37 [00:16<00:03,  1.85it/s]\u001b[A\n",
      " 86%|█████████████████████████████████████▏     | 32/37 [00:17<00:02,  1.87it/s]\u001b[A\n",
      " 89%|██████████████████████████████████████▎    | 33/37 [00:17<00:02,  1.82it/s]\u001b[A\n",
      " 92%|███████████████████████████████████████▌   | 34/37 [00:18<00:01,  1.73it/s]\u001b[A\n",
      " 95%|████████████████████████████████████████▋  | 35/37 [00:18<00:01,  1.73it/s]\u001b[A\n",
      " 97%|█████████████████████████████████████████▊ | 36/37 [00:19<00:00,  1.76it/s]\u001b[A\n",
      "100%|███████████████████████████████████████████| 37/37 [00:20<00:00,  1.84it/s]\u001b[A\n",
      "317it [25:01, 41.27s/it]"
     ]
    },
    {
     "name": "stdout",
     "output_type": "stream",
     "text": [
      "317\n"
     ]
    },
    {
     "name": "stderr",
     "output_type": "stream",
     "text": [
      "\n",
      "  0%|                                                    | 0/56 [00:00<?, ?it/s]\u001b[A\n",
      "  2%|▊                                           | 1/56 [00:00<00:31,  1.75it/s]\u001b[A\n",
      "  4%|█▌                                          | 2/56 [00:01<00:28,  1.88it/s]\u001b[A\n",
      "  5%|██▎                                         | 3/56 [00:01<00:27,  1.89it/s]\u001b[A\n",
      "  7%|███▏                                        | 4/56 [00:02<00:31,  1.67it/s]\u001b[A\n",
      "  9%|███▉                                        | 5/56 [00:02<00:31,  1.64it/s]\u001b[A\n",
      " 11%|████▋                                       | 6/56 [00:03<00:29,  1.68it/s]\u001b[A\n",
      " 12%|█████▌                                      | 7/56 [00:04<00:28,  1.69it/s]\u001b[A\n",
      " 14%|██████▎                                     | 8/56 [00:04<00:27,  1.75it/s]\u001b[A\n",
      " 16%|███████                                     | 9/56 [00:05<00:25,  1.81it/s]\u001b[A\n",
      " 18%|███████▋                                   | 10/56 [00:05<00:25,  1.83it/s]\u001b[A\n",
      " 20%|████████▍                                  | 11/56 [00:06<00:23,  1.89it/s]\u001b[A\n",
      " 21%|█████████▏                                 | 12/56 [00:06<00:24,  1.80it/s]\u001b[A\n",
      " 23%|█████████▉                                 | 13/56 [00:07<00:23,  1.86it/s]\u001b[A\n",
      " 25%|██████████▊                                | 14/56 [00:07<00:22,  1.90it/s]\u001b[A\n",
      " 27%|███████████▌                               | 15/56 [00:08<00:21,  1.94it/s]\u001b[A\n",
      " 29%|████████████▎                              | 16/56 [00:08<00:20,  1.92it/s]\u001b[A\n",
      " 30%|█████████████                              | 17/56 [00:09<00:21,  1.84it/s]\u001b[A\n",
      " 32%|█████████████▊                             | 18/56 [00:09<00:20,  1.82it/s]\u001b[A\n",
      " 34%|██████████████▌                            | 19/56 [00:10<00:19,  1.87it/s]\u001b[A\n",
      " 36%|███████████████▎                           | 20/56 [00:10<00:19,  1.87it/s]\u001b[A\n",
      " 38%|████████████████▏                          | 21/56 [00:11<00:19,  1.81it/s]\u001b[A\n",
      " 39%|████████████████▉                          | 22/56 [00:12<00:18,  1.87it/s]\u001b[A\n",
      " 41%|█████████████████▋                         | 23/56 [00:12<00:17,  1.84it/s]\u001b[A\n",
      " 43%|██████████████████▍                        | 24/56 [00:13<00:17,  1.86it/s]\u001b[A\n",
      " 45%|███████████████████▏                       | 25/56 [00:13<00:16,  1.90it/s]\u001b[A\n",
      " 46%|███████████████████▉                       | 26/56 [00:14<00:16,  1.86it/s]\u001b[A\n",
      " 48%|████████████████████▋                      | 27/56 [00:14<00:15,  1.88it/s]\u001b[A\n",
      " 50%|█████████████████████▌                     | 28/56 [00:15<00:15,  1.87it/s]\u001b[A\n",
      " 52%|██████████████████████▎                    | 29/56 [00:15<00:14,  1.85it/s]\u001b[A\n",
      " 54%|███████████████████████                    | 30/56 [00:16<00:14,  1.81it/s]\u001b[A\n",
      " 55%|███████████████████████▊                   | 31/56 [00:16<00:13,  1.82it/s]\u001b[A\n",
      " 57%|████████████████████████▌                  | 32/56 [00:17<00:13,  1.78it/s]\u001b[A\n",
      " 59%|█████████████████████████▎                 | 33/56 [00:18<00:13,  1.75it/s]\u001b[A\n",
      " 61%|██████████████████████████                 | 34/56 [00:18<00:12,  1.81it/s]\u001b[A\n",
      " 62%|██████████████████████████▉                | 35/56 [00:19<00:11,  1.78it/s]\u001b[A\n",
      " 64%|███████████████████████████▋               | 36/56 [00:19<00:11,  1.76it/s]\u001b[A\n",
      " 66%|████████████████████████████▍              | 37/56 [00:20<00:10,  1.83it/s]\u001b[A\n",
      " 68%|█████████████████████████████▏             | 38/56 [00:20<00:10,  1.77it/s]\u001b[A\n",
      " 70%|█████████████████████████████▉             | 39/56 [00:21<00:09,  1.79it/s]\u001b[A\n",
      " 71%|██████████████████████████████▋            | 40/56 [00:22<00:09,  1.77it/s]\u001b[A\n",
      " 73%|███████████████████████████████▍           | 41/56 [00:22<00:08,  1.83it/s]\u001b[A\n",
      " 75%|████████████████████████████████▎          | 42/56 [00:23<00:08,  1.68it/s]\u001b[A\n",
      " 77%|█████████████████████████████████          | 43/56 [00:23<00:07,  1.64it/s]\u001b[A\n",
      " 79%|█████████████████████████████████▊         | 44/56 [00:24<00:07,  1.70it/s]\u001b[A\n",
      " 80%|██████████████████████████████████▌        | 45/56 [00:24<00:06,  1.77it/s]\u001b[A\n",
      " 82%|███████████████████████████████████▎       | 46/56 [00:25<00:05,  1.81it/s]\u001b[A\n",
      " 84%|████████████████████████████████████       | 47/56 [00:26<00:05,  1.79it/s]\u001b[A\n",
      " 86%|████████████████████████████████████▊      | 48/56 [00:26<00:04,  1.75it/s]\u001b[A\n",
      " 88%|█████████████████████████████████████▋     | 49/56 [00:27<00:03,  1.75it/s]\u001b[A\n",
      " 89%|██████████████████████████████████████▍    | 50/56 [00:27<00:03,  1.80it/s]\u001b[A\n",
      " 91%|███████████████████████████████████████▏   | 51/56 [00:28<00:02,  1.81it/s]\u001b[A\n",
      " 93%|███████████████████████████████████████▉   | 52/56 [00:28<00:02,  1.84it/s]\u001b[A\n",
      " 95%|████████████████████████████████████████▋  | 53/56 [00:29<00:01,  1.89it/s]\u001b[A\n",
      " 96%|█████████████████████████████████████████▍ | 54/56 [00:29<00:01,  1.87it/s]\u001b[A\n",
      " 98%|██████████████████████████████████████████▏| 55/56 [00:30<00:00,  1.88it/s]\u001b[A\n",
      "100%|███████████████████████████████████████████| 56/56 [00:31<00:00,  1.80it/s]\u001b[A\n",
      "318it [25:33, 38.48s/it]"
     ]
    },
    {
     "name": "stdout",
     "output_type": "stream",
     "text": [
      "318\n"
     ]
    },
    {
     "name": "stderr",
     "output_type": "stream",
     "text": [
      "\n",
      "0it [00:00, ?it/s]\u001b[A\n",
      "319it [25:34, 27.13s/it]"
     ]
    },
    {
     "name": "stdout",
     "output_type": "stream",
     "text": [
      "319\n"
     ]
    },
    {
     "name": "stderr",
     "output_type": "stream",
     "text": [
      "\n",
      "0it [00:00, ?it/s]\u001b[A\n",
      "320it [25:34, 19.15s/it]"
     ]
    },
    {
     "name": "stdout",
     "output_type": "stream",
     "text": [
      "320\n"
     ]
    },
    {
     "name": "stderr",
     "output_type": "stream",
     "text": [
      "\n",
      "  0%|                                                     | 0/5 [00:00<?, ?it/s]\u001b[A\n",
      " 20%|█████████                                    | 1/5 [00:00<00:02,  1.98it/s]\u001b[A\n",
      " 40%|██████████████████                           | 2/5 [00:01<00:01,  1.73it/s]\u001b[A\n",
      " 60%|███████████████████████████                  | 3/5 [00:01<00:01,  1.53it/s]\u001b[A\n",
      " 80%|████████████████████████████████████         | 4/5 [00:02<00:00,  1.65it/s]\u001b[A\n",
      "100%|█████████████████████████████████████████████| 5/5 [00:02<00:00,  1.69it/s]\u001b[A\n",
      "321it [25:38, 14.54s/it]"
     ]
    },
    {
     "name": "stdout",
     "output_type": "stream",
     "text": [
      "321\n"
     ]
    },
    {
     "name": "stderr",
     "output_type": "stream",
     "text": [
      "\n",
      "0it [00:00, ?it/s]\u001b[A\n",
      "322it [25:39, 10.39s/it]"
     ]
    },
    {
     "name": "stdout",
     "output_type": "stream",
     "text": [
      "322\n"
     ]
    },
    {
     "name": "stderr",
     "output_type": "stream",
     "text": [
      "\n",
      "  0%|                                                     | 0/1 [00:00<?, ?it/s]\u001b[A\n",
      "100%|█████████████████████████████████████████████| 1/1 [00:00<00:00,  1.74it/s]\u001b[A\n",
      "323it [25:40,  7.66s/it]"
     ]
    },
    {
     "name": "stdout",
     "output_type": "stream",
     "text": [
      "323\n"
     ]
    },
    {
     "name": "stderr",
     "output_type": "stream",
     "text": [
      "\n",
      "  0%|                                                     | 0/5 [00:00<?, ?it/s]\u001b[A\n",
      " 20%|█████████                                    | 1/5 [00:00<00:02,  1.94it/s]\u001b[A\n",
      " 40%|██████████████████                           | 2/5 [00:01<00:01,  1.64it/s]\u001b[A\n",
      " 60%|███████████████████████████                  | 3/5 [00:01<00:01,  1.78it/s]\u001b[A\n",
      " 80%|████████████████████████████████████         | 4/5 [00:02<00:00,  1.81it/s]\u001b[A\n",
      "100%|█████████████████████████████████████████████| 5/5 [00:02<00:00,  1.78it/s]\u001b[A\n",
      "324it [25:44,  6.43s/it]"
     ]
    },
    {
     "name": "stdout",
     "output_type": "stream",
     "text": [
      "324\n"
     ]
    },
    {
     "name": "stderr",
     "output_type": "stream",
     "text": [
      "\n",
      "  0%|                                                    | 0/16 [00:00<?, ?it/s]\u001b[A\n",
      "  6%|██▊                                         | 1/16 [00:00<00:07,  2.08it/s]\u001b[A\n",
      " 12%|█████▌                                      | 2/16 [00:01<00:07,  1.78it/s]\u001b[A\n",
      " 19%|████████▎                                   | 3/16 [00:01<00:07,  1.83it/s]\u001b[A\n",
      " 25%|███████████                                 | 4/16 [00:02<00:06,  1.85it/s]\u001b[A\n",
      " 31%|█████████████▊                              | 5/16 [00:02<00:05,  1.90it/s]\u001b[A\n",
      " 38%|████████████████▌                           | 6/16 [00:03<00:05,  1.93it/s]\u001b[A\n",
      " 44%|███████████████████▎                        | 7/16 [00:03<00:04,  1.84it/s]\u001b[A\n",
      " 50%|██████████████████████                      | 8/16 [00:04<00:04,  1.84it/s]\u001b[A\n",
      " 56%|████████████████████████▊                   | 9/16 [00:04<00:03,  1.84it/s]\u001b[A\n",
      " 62%|██████████████████████████▉                | 10/16 [00:05<00:03,  1.77it/s]\u001b[A\n",
      " 69%|█████████████████████████████▌             | 11/16 [00:05<00:02,  1.81it/s]\u001b[A\n",
      " 75%|████████████████████████████████▎          | 12/16 [00:06<00:02,  1.86it/s]\u001b[A\n",
      " 81%|██████████████████████████████████▉        | 13/16 [00:07<00:01,  1.85it/s]\u001b[A\n",
      " 88%|█████████████████████████████████████▋     | 14/16 [00:07<00:01,  1.73it/s]\u001b[A\n",
      " 94%|████████████████████████████████████████▎  | 15/16 [00:08<00:00,  1.74it/s]\u001b[A\n",
      "100%|███████████████████████████████████████████| 16/16 [00:08<00:00,  1.82it/s]\u001b[A\n",
      "325it [25:53,  7.33s/it]"
     ]
    },
    {
     "name": "stdout",
     "output_type": "stream",
     "text": [
      "325\n"
     ]
    },
    {
     "name": "stderr",
     "output_type": "stream",
     "text": [
      "\n",
      "0it [00:00, ?it/s]\u001b[A\n",
      "326it [25:54,  5.33s/it]"
     ]
    },
    {
     "name": "stdout",
     "output_type": "stream",
     "text": [
      "326\n"
     ]
    },
    {
     "name": "stderr",
     "output_type": "stream",
     "text": [
      "\n",
      "0it [00:00, ?it/s]\u001b[A\n",
      "327it [25:55,  3.93s/it]"
     ]
    },
    {
     "name": "stdout",
     "output_type": "stream",
     "text": [
      "327\n"
     ]
    },
    {
     "name": "stderr",
     "output_type": "stream",
     "text": [
      "\n",
      "0it [00:00, ?it/s]\u001b[A\n",
      "328it [25:55,  2.92s/it]"
     ]
    },
    {
     "name": "stdout",
     "output_type": "stream",
     "text": [
      "328\n"
     ]
    },
    {
     "name": "stderr",
     "output_type": "stream",
     "text": [
      "\n",
      "0it [00:00, ?it/s]\u001b[A\n",
      "329it [25:56,  2.23s/it]"
     ]
    },
    {
     "name": "stdout",
     "output_type": "stream",
     "text": [
      "329\n"
     ]
    },
    {
     "name": "stderr",
     "output_type": "stream",
     "text": [
      "\n",
      "  0%|                                                     | 0/3 [00:00<?, ?it/s]\u001b[A\n",
      " 33%|███████████████                              | 1/3 [00:00<00:01,  1.94it/s]\u001b[A\n",
      " 67%|██████████████████████████████               | 2/3 [00:01<00:00,  1.99it/s]\u001b[A\n",
      "100%|█████████████████████████████████████████████| 3/3 [00:01<00:00,  1.87it/s]\u001b[A\n",
      "330it [25:58,  2.25s/it]"
     ]
    },
    {
     "name": "stdout",
     "output_type": "stream",
     "text": [
      "330\n"
     ]
    },
    {
     "name": "stderr",
     "output_type": "stream",
     "text": [
      "\n",
      "  0%|                                                     | 0/2 [00:00<?, ?it/s]\u001b[A\n",
      " 50%|██████████████████████▌                      | 1/2 [00:00<00:00,  1.87it/s]\u001b[A\n",
      "100%|█████████████████████████████████████████████| 2/2 [00:01<00:00,  1.89it/s]\u001b[A\n",
      "331it [26:00,  2.08s/it]"
     ]
    },
    {
     "name": "stdout",
     "output_type": "stream",
     "text": [
      "331\n"
     ]
    },
    {
     "name": "stderr",
     "output_type": "stream",
     "text": [
      "\n",
      "  0%|                                                     | 0/1 [00:00<?, ?it/s]\u001b[A\n",
      "100%|█████████████████████████████████████████████| 1/1 [00:00<00:00,  1.81it/s]\u001b[A\n",
      "332it [26:01,  1.83s/it]"
     ]
    },
    {
     "name": "stdout",
     "output_type": "stream",
     "text": [
      "332\n"
     ]
    },
    {
     "name": "stderr",
     "output_type": "stream",
     "text": [
      "\n",
      "  0%|                                                     | 0/1 [00:00<?, ?it/s]\u001b[A\n",
      "100%|█████████████████████████████████████████████| 1/1 [00:00<00:00,  1.67it/s]\u001b[A\n",
      "333it [26:02,  1.66s/it]"
     ]
    },
    {
     "name": "stdout",
     "output_type": "stream",
     "text": [
      "333\n"
     ]
    },
    {
     "name": "stderr",
     "output_type": "stream",
     "text": [
      "\n",
      "  0%|                                                    | 0/10 [00:00<?, ?it/s]\u001b[A\n",
      " 10%|████▍                                       | 1/10 [00:00<00:05,  1.79it/s]\u001b[A\n",
      " 20%|████████▊                                   | 2/10 [00:01<00:04,  1.71it/s]\u001b[A\n",
      " 30%|█████████████▏                              | 3/10 [00:01<00:04,  1.68it/s]\u001b[A\n",
      " 40%|█████████████████▌                          | 4/10 [00:02<00:03,  1.59it/s]\u001b[A\n",
      " 50%|██████████████████████                      | 5/10 [00:02<00:02,  1.67it/s]\u001b[A\n",
      " 60%|██████████████████████████▍                 | 6/10 [00:03<00:02,  1.71it/s]\u001b[A\n",
      " 70%|██████████████████████████████▊             | 7/10 [00:04<00:01,  1.81it/s]\u001b[A\n",
      " 80%|███████████████████████████████████▏        | 8/10 [00:04<00:01,  1.77it/s]\u001b[A\n",
      " 90%|███████████████████████████████████████▌    | 9/10 [00:05<00:00,  1.82it/s]\u001b[A\n",
      "100%|███████████████████████████████████████████| 10/10 [00:05<00:00,  1.72it/s]\u001b[A\n",
      "334it [26:09,  3.10s/it]"
     ]
    },
    {
     "name": "stdout",
     "output_type": "stream",
     "text": [
      "334\n"
     ]
    },
    {
     "name": "stderr",
     "output_type": "stream",
     "text": [
      "\n",
      "  0%|                                                     | 0/5 [00:00<?, ?it/s]\u001b[A\n",
      " 20%|█████████                                    | 1/5 [00:00<00:02,  1.86it/s]\u001b[A\n",
      " 40%|██████████████████                           | 2/5 [00:01<00:01,  1.84it/s]\u001b[A\n",
      " 60%|███████████████████████████                  | 3/5 [00:01<00:01,  1.78it/s]\u001b[A\n",
      " 80%|████████████████████████████████████         | 4/5 [00:02<00:00,  1.76it/s]\u001b[A\n",
      "100%|█████████████████████████████████████████████| 5/5 [00:02<00:00,  1.81it/s]\u001b[A\n",
      "335it [26:12,  3.20s/it]"
     ]
    },
    {
     "name": "stdout",
     "output_type": "stream",
     "text": [
      "335\n"
     ]
    },
    {
     "name": "stderr",
     "output_type": "stream",
     "text": [
      "\n",
      "0it [00:00, ?it/s]\u001b[A\n",
      "336it [26:13,  2.44s/it]"
     ]
    },
    {
     "name": "stdout",
     "output_type": "stream",
     "text": [
      "336\n"
     ]
    },
    {
     "name": "stderr",
     "output_type": "stream",
     "text": [
      "\n",
      "0it [00:00, ?it/s]\u001b[A\n",
      "337it [26:13,  1.87s/it]"
     ]
    },
    {
     "name": "stdout",
     "output_type": "stream",
     "text": [
      "337\n"
     ]
    },
    {
     "name": "stderr",
     "output_type": "stream",
     "text": [
      "\n",
      "  0%|                                                     | 0/1 [00:00<?, ?it/s]\u001b[A\n",
      "100%|█████████████████████████████████████████████| 1/1 [00:00<00:00,  1.85it/s]\u001b[A\n",
      "338it [26:15,  1.68s/it]"
     ]
    },
    {
     "name": "stdout",
     "output_type": "stream",
     "text": [
      "338\n"
     ]
    },
    {
     "name": "stderr",
     "output_type": "stream",
     "text": [
      "\n",
      "  0%|                                                     | 0/2 [00:00<?, ?it/s]\u001b[A\n",
      " 50%|██████████████████████▌                      | 1/2 [00:00<00:00,  1.64it/s]\u001b[A\n",
      "100%|█████████████████████████████████████████████| 2/2 [00:01<00:00,  1.71it/s]\u001b[A\n",
      "339it [26:16,  1.71s/it]"
     ]
    },
    {
     "name": "stdout",
     "output_type": "stream",
     "text": [
      "339\n"
     ]
    },
    {
     "name": "stderr",
     "output_type": "stream",
     "text": [
      "\n",
      "0it [00:00, ?it/s]\u001b[A\n",
      "340it [26:17,  1.40s/it]"
     ]
    },
    {
     "name": "stdout",
     "output_type": "stream",
     "text": [
      "340\n"
     ]
    },
    {
     "name": "stderr",
     "output_type": "stream",
     "text": [
      "\n",
      "  0%|                                                     | 0/1 [00:00<?, ?it/s]\u001b[A\n",
      "100%|█████████████████████████████████████████████| 1/1 [00:00<00:00,  1.98it/s]\u001b[A\n",
      "341it [26:18,  1.31s/it]"
     ]
    },
    {
     "name": "stdout",
     "output_type": "stream",
     "text": [
      "341\n"
     ]
    },
    {
     "name": "stderr",
     "output_type": "stream",
     "text": [
      "\n",
      "  0%|                                                     | 0/4 [00:00<?, ?it/s]\u001b[A\n",
      " 25%|███████████▎                                 | 1/4 [00:00<00:01,  1.96it/s]\u001b[A\n",
      " 50%|██████████████████████▌                      | 2/4 [00:01<00:01,  1.95it/s]\u001b[A\n",
      " 75%|█████████████████████████████████▊           | 3/4 [00:01<00:00,  1.92it/s]\u001b[A\n",
      "100%|█████████████████████████████████████████████| 4/4 [00:02<00:00,  1.85it/s]\u001b[A\n",
      "342it [26:21,  1.79s/it]"
     ]
    },
    {
     "name": "stdout",
     "output_type": "stream",
     "text": [
      "342\n"
     ]
    },
    {
     "name": "stderr",
     "output_type": "stream",
     "text": [
      "\n",
      "0it [00:00, ?it/s]\u001b[A\n",
      "343it [26:22,  1.43s/it]"
     ]
    },
    {
     "name": "stdout",
     "output_type": "stream",
     "text": [
      "343\n"
     ]
    },
    {
     "name": "stderr",
     "output_type": "stream",
     "text": [
      "\n",
      "0it [00:00, ?it/s]\u001b[A\n",
      "344it [26:22,  1.16s/it]"
     ]
    },
    {
     "name": "stdout",
     "output_type": "stream",
     "text": [
      "344\n"
     ]
    },
    {
     "name": "stderr",
     "output_type": "stream",
     "text": [
      "\n",
      "  0%|                                                     | 0/3 [00:00<?, ?it/s]\u001b[A\n",
      " 33%|███████████████                              | 1/3 [00:00<00:01,  1.95it/s]\u001b[A\n",
      " 67%|██████████████████████████████               | 2/3 [00:01<00:00,  1.75it/s]\u001b[A\n",
      "100%|█████████████████████████████████████████████| 3/3 [00:01<00:00,  1.81it/s]\u001b[A\n",
      "345it [26:25,  1.52s/it]"
     ]
    },
    {
     "name": "stdout",
     "output_type": "stream",
     "text": [
      "345\n"
     ]
    },
    {
     "name": "stderr",
     "output_type": "stream",
     "text": [
      "\n",
      "  0%|                                                     | 0/1 [00:00<?, ?it/s]\u001b[A\n",
      "100%|█████████████████████████████████████████████| 1/1 [00:00<00:00,  1.82it/s]\u001b[A\n",
      "346it [26:26,  1.41s/it]"
     ]
    },
    {
     "name": "stdout",
     "output_type": "stream",
     "text": [
      "346\n"
     ]
    },
    {
     "name": "stderr",
     "output_type": "stream",
     "text": [
      "\n",
      "0it [00:00, ?it/s]\u001b[A\n",
      "347it [26:26,  1.15s/it]"
     ]
    },
    {
     "name": "stdout",
     "output_type": "stream",
     "text": [
      "347\n"
     ]
    },
    {
     "name": "stderr",
     "output_type": "stream",
     "text": [
      "\n",
      "  0%|                                                     | 0/4 [00:00<?, ?it/s]\u001b[A\n",
      " 25%|███████████▎                                 | 1/4 [00:00<00:01,  1.83it/s]\u001b[A\n",
      " 50%|██████████████████████▌                      | 2/4 [00:01<00:01,  1.90it/s]\u001b[A\n",
      " 75%|█████████████████████████████████▊           | 3/4 [00:01<00:00,  1.78it/s]\u001b[A\n",
      "100%|█████████████████████████████████████████████| 4/4 [00:02<00:00,  1.83it/s]\u001b[A\n",
      "348it [26:29,  1.66s/it]"
     ]
    },
    {
     "name": "stdout",
     "output_type": "stream",
     "text": [
      "348\n"
     ]
    },
    {
     "name": "stderr",
     "output_type": "stream",
     "text": [
      "\n",
      "  0%|                                                     | 0/1 [00:00<?, ?it/s]\u001b[A\n",
      "100%|█████████████████████████████████████████████| 1/1 [00:00<00:00,  1.95it/s]\u001b[A\n",
      "349it [26:30,  1.51s/it]"
     ]
    },
    {
     "name": "stdout",
     "output_type": "stream",
     "text": [
      "349\n"
     ]
    },
    {
     "name": "stderr",
     "output_type": "stream",
     "text": [
      "\n",
      "  0%|                                                    | 0/11 [00:00<?, ?it/s]\u001b[A\n",
      "  9%|████                                        | 1/11 [00:00<00:05,  1.89it/s]\u001b[A\n",
      " 18%|████████                                    | 2/11 [00:01<00:04,  1.83it/s]\u001b[A\n",
      " 27%|████████████                                | 3/11 [00:01<00:04,  1.70it/s]\u001b[A\n",
      " 36%|████████████████                            | 4/11 [00:02<00:04,  1.73it/s]\u001b[A\n",
      " 45%|████████████████████                        | 5/11 [00:02<00:03,  1.68it/s]\u001b[A\n",
      " 55%|████████████████████████                    | 6/11 [00:03<00:02,  1.67it/s]\u001b[A\n",
      " 64%|████████████████████████████                | 7/11 [00:04<00:02,  1.65it/s]\u001b[A\n",
      " 73%|████████████████████████████████            | 8/11 [00:04<00:01,  1.59it/s]\u001b[A\n",
      " 82%|████████████████████████████████████        | 9/11 [00:05<00:01,  1.54it/s]\u001b[A\n",
      " 91%|███████████████████████████████████████    | 10/11 [00:06<00:00,  1.58it/s]\u001b[A\n",
      "100%|███████████████████████████████████████████| 11/11 [00:06<00:00,  1.65it/s]\u001b[A\n",
      "350it [26:38,  3.25s/it]"
     ]
    },
    {
     "name": "stdout",
     "output_type": "stream",
     "text": [
      "350\n"
     ]
    },
    {
     "name": "stderr",
     "output_type": "stream",
     "text": [
      "\n",
      "  0%|                                                     | 0/5 [00:00<?, ?it/s]\u001b[A\n",
      " 20%|█████████                                    | 1/5 [00:00<00:02,  1.72it/s]\u001b[A\n",
      " 40%|██████████████████                           | 2/5 [00:01<00:01,  1.63it/s]\u001b[A\n",
      " 60%|███████████████████████████                  | 3/5 [00:01<00:01,  1.69it/s]\u001b[A\n",
      " 80%|████████████████████████████████████         | 4/5 [00:02<00:00,  1.62it/s]\u001b[A\n",
      "100%|█████████████████████████████████████████████| 5/5 [00:03<00:00,  1.60it/s]\u001b[A\n",
      "351it [26:41,  3.46s/it]"
     ]
    },
    {
     "name": "stdout",
     "output_type": "stream",
     "text": [
      "351\n"
     ]
    },
    {
     "name": "stderr",
     "output_type": "stream",
     "text": [
      "\n",
      "  0%|                                                     | 0/1 [00:00<?, ?it/s]\u001b[A\n",
      "100%|█████████████████████████████████████████████| 1/1 [00:00<00:00,  1.61it/s]\u001b[A\n",
      "352it [26:43,  2.80s/it]"
     ]
    },
    {
     "name": "stdout",
     "output_type": "stream",
     "text": [
      "352\n"
     ]
    },
    {
     "name": "stderr",
     "output_type": "stream",
     "text": [
      "\n",
      "0it [00:00, ?it/s]\u001b[A\n",
      "353it [26:43,  2.13s/it]"
     ]
    },
    {
     "name": "stdout",
     "output_type": "stream",
     "text": [
      "353\n"
     ]
    },
    {
     "name": "stderr",
     "output_type": "stream",
     "text": [
      "\n",
      "  0%|                                                     | 0/2 [00:00<?, ?it/s]\u001b[A\n",
      " 50%|██████████████████████▌                      | 1/2 [00:00<00:00,  1.81it/s]\u001b[A\n",
      "100%|█████████████████████████████████████████████| 2/2 [00:01<00:00,  1.73it/s]\u001b[A\n",
      "354it [26:45,  2.03s/it]"
     ]
    },
    {
     "name": "stdout",
     "output_type": "stream",
     "text": [
      "354\n"
     ]
    },
    {
     "name": "stderr",
     "output_type": "stream",
     "text": [
      "\n",
      "  0%|                                                     | 0/2 [00:00<?, ?it/s]\u001b[A\n",
      " 50%|██████████████████████▌                      | 1/2 [00:00<00:00,  1.71it/s]\u001b[A\n",
      "100%|█████████████████████████████████████████████| 2/2 [00:01<00:00,  1.82it/s]\u001b[A\n",
      "355it [26:47,  1.92s/it]"
     ]
    },
    {
     "name": "stdout",
     "output_type": "stream",
     "text": [
      "355\n"
     ]
    },
    {
     "name": "stderr",
     "output_type": "stream",
     "text": [
      "\n",
      "  0%|                                                     | 0/3 [00:00<?, ?it/s]\u001b[A\n",
      " 33%|███████████████                              | 1/3 [00:00<00:01,  1.95it/s]\u001b[A\n",
      " 67%|██████████████████████████████               | 2/3 [00:01<00:00,  1.88it/s]\u001b[A\n",
      "100%|█████████████████████████████████████████████| 3/3 [00:01<00:00,  1.82it/s]\u001b[A\n",
      "356it [26:49,  2.02s/it]"
     ]
    },
    {
     "name": "stdout",
     "output_type": "stream",
     "text": [
      "356\n"
     ]
    },
    {
     "name": "stderr",
     "output_type": "stream",
     "text": [
      "\n",
      "  0%|                                                    | 0/23 [00:00<?, ?it/s]\u001b[A\n",
      "  4%|█▉                                          | 1/23 [00:00<00:12,  1.76it/s]\u001b[A\n",
      "  9%|███▊                                        | 2/23 [00:01<00:11,  1.89it/s]\u001b[A\n",
      " 13%|█████▋                                      | 3/23 [00:01<00:10,  1.82it/s]\u001b[A\n",
      " 17%|███████▋                                    | 4/23 [00:02<00:10,  1.88it/s]\u001b[A\n",
      " 22%|█████████▌                                  | 5/23 [00:02<00:09,  1.91it/s]\u001b[A\n",
      " 26%|███████████▍                                | 6/23 [00:03<00:08,  1.93it/s]\u001b[A\n",
      " 30%|█████████████▍                              | 7/23 [00:03<00:09,  1.76it/s]\u001b[A\n",
      " 35%|███████████████▎                            | 8/23 [00:04<00:08,  1.71it/s]\u001b[A\n",
      " 39%|█████████████████▏                          | 9/23 [00:04<00:07,  1.78it/s]\u001b[A\n",
      " 43%|██████████████████▋                        | 10/23 [00:05<00:07,  1.78it/s]\u001b[A\n",
      " 48%|████████████████████▌                      | 11/23 [00:06<00:06,  1.74it/s]\u001b[A\n",
      " 52%|██████████████████████▍                    | 12/23 [00:06<00:06,  1.70it/s]\u001b[A\n",
      " 57%|████████████████████████▎                  | 13/23 [00:07<00:05,  1.73it/s]\u001b[A\n",
      " 61%|██████████████████████████▏                | 14/23 [00:07<00:04,  1.81it/s]\u001b[A\n",
      " 65%|████████████████████████████               | 15/23 [00:08<00:04,  1.83it/s]\u001b[A\n",
      " 70%|█████████████████████████████▉             | 16/23 [00:08<00:03,  1.85it/s]\u001b[A\n",
      " 74%|███████████████████████████████▊           | 17/23 [00:09<00:03,  1.86it/s]\u001b[A\n",
      " 78%|█████████████████████████████████▋         | 18/23 [00:09<00:02,  1.79it/s]\u001b[A\n",
      " 83%|███████████████████████████████████▌       | 19/23 [00:10<00:02,  1.85it/s]\u001b[A\n",
      " 87%|█████████████████████████████████████▍     | 20/23 [00:11<00:01,  1.89it/s]\u001b[A\n",
      " 91%|███████████████████████████████████████▎   | 21/23 [00:11<00:01,  1.93it/s]\u001b[A\n",
      " 96%|█████████████████████████████████████████▏ | 22/23 [00:12<00:00,  1.90it/s]\u001b[A\n",
      "100%|███████████████████████████████████████████| 23/23 [00:12<00:00,  1.84it/s]\u001b[A\n",
      "357it [27:02,  5.35s/it]"
     ]
    },
    {
     "name": "stdout",
     "output_type": "stream",
     "text": [
      "357\n"
     ]
    },
    {
     "name": "stderr",
     "output_type": "stream",
     "text": [
      "\n",
      "  0%|                                                     | 0/2 [00:00<?, ?it/s]\u001b[A\n",
      " 50%|██████████████████████▌                      | 1/2 [00:00<00:00,  1.72it/s]\u001b[A\n",
      "100%|█████████████████████████████████████████████| 2/2 [00:01<00:00,  1.75it/s]\u001b[A\n",
      "358it [27:04,  4.26s/it]"
     ]
    },
    {
     "name": "stdout",
     "output_type": "stream",
     "text": [
      "358\n"
     ]
    },
    {
     "name": "stderr",
     "output_type": "stream",
     "text": [
      "\n",
      "  0%|                                                     | 0/2 [00:00<?, ?it/s]\u001b[A\n",
      " 50%|██████████████████████▌                      | 1/2 [00:00<00:00,  1.82it/s]\u001b[A\n",
      "100%|█████████████████████████████████████████████| 2/2 [00:01<00:00,  1.85it/s]\u001b[A\n",
      "359it [27:06,  3.48s/it]"
     ]
    },
    {
     "name": "stdout",
     "output_type": "stream",
     "text": [
      "359\n"
     ]
    },
    {
     "name": "stderr",
     "output_type": "stream",
     "text": [
      "\n",
      "  0%|                                                     | 0/4 [00:00<?, ?it/s]\u001b[A\n",
      " 25%|███████████▎                                 | 1/4 [00:00<00:01,  1.96it/s]\u001b[A\n",
      " 50%|██████████████████████▌                      | 2/4 [00:01<00:01,  1.99it/s]\u001b[A\n",
      " 75%|█████████████████████████████████▊           | 3/4 [00:01<00:00,  1.89it/s]\u001b[A\n",
      "100%|█████████████████████████████████████████████| 4/4 [00:02<00:00,  1.89it/s]\u001b[A\n",
      "360it [27:08,  3.26s/it]"
     ]
    },
    {
     "name": "stdout",
     "output_type": "stream",
     "text": [
      "360\n"
     ]
    },
    {
     "name": "stderr",
     "output_type": "stream",
     "text": [
      "\n",
      "  0%|                                                     | 0/5 [00:00<?, ?it/s]\u001b[A\n",
      " 20%|█████████                                    | 1/5 [00:00<00:03,  1.29it/s]\u001b[A\n",
      " 40%|██████████████████                           | 2/5 [00:01<00:01,  1.60it/s]\u001b[A\n",
      " 60%|███████████████████████████                  | 3/5 [00:01<00:01,  1.74it/s]\u001b[A\n",
      " 80%|████████████████████████████████████         | 4/5 [00:02<00:00,  1.68it/s]\u001b[A\n",
      "100%|█████████████████████████████████████████████| 5/5 [00:03<00:00,  1.64it/s]\u001b[A\n",
      "361it [27:12,  3.40s/it]"
     ]
    },
    {
     "name": "stdout",
     "output_type": "stream",
     "text": [
      "361\n"
     ]
    },
    {
     "name": "stderr",
     "output_type": "stream",
     "text": [
      "\n",
      "  0%|                                                     | 0/4 [00:00<?, ?it/s]\u001b[A\n",
      " 25%|███████████▎                                 | 1/4 [00:00<00:01,  1.92it/s]\u001b[A\n",
      " 50%|██████████████████████▌                      | 2/4 [00:01<00:01,  1.77it/s]\u001b[A\n",
      " 75%|█████████████████████████████████▊           | 3/4 [00:01<00:00,  1.81it/s]\u001b[A\n",
      "100%|█████████████████████████████████████████████| 4/4 [00:02<00:00,  1.81it/s]\u001b[A\n",
      "362it [27:15,  3.26s/it]"
     ]
    },
    {
     "name": "stdout",
     "output_type": "stream",
     "text": [
      "362\n"
     ]
    },
    {
     "name": "stderr",
     "output_type": "stream",
     "text": [
      "\n",
      "  0%|                                                     | 0/2 [00:00<?, ?it/s]\u001b[A\n",
      " 50%|██████████████████████▌                      | 1/2 [00:00<00:00,  1.64it/s]\u001b[A\n",
      "100%|█████████████████████████████████████████████| 2/2 [00:01<00:00,  1.62it/s]\u001b[A\n",
      "363it [27:17,  2.84s/it]"
     ]
    },
    {
     "name": "stdout",
     "output_type": "stream",
     "text": [
      "363\n"
     ]
    },
    {
     "name": "stderr",
     "output_type": "stream",
     "text": [
      "\n",
      "  0%|                                                     | 0/7 [00:00<?, ?it/s]\u001b[A\n",
      " 14%|██████▍                                      | 1/7 [00:00<00:02,  2.01it/s]\u001b[A\n",
      " 29%|████████████▊                                | 2/7 [00:00<00:02,  2.03it/s]\u001b[A\n",
      " 43%|███████████████████▎                         | 3/7 [00:01<00:02,  1.84it/s]\u001b[A\n",
      " 57%|█████████████████████████▋                   | 4/7 [00:02<00:01,  1.83it/s]\u001b[A\n",
      " 71%|████████████████████████████████▏            | 5/7 [00:02<00:01,  1.90it/s]\u001b[A\n",
      " 86%|██████████████████████████████████████▌      | 6/7 [00:03<00:00,  1.80it/s]\u001b[A\n",
      "100%|█████████████████████████████████████████████| 7/7 [00:03<00:00,  1.84it/s]\u001b[A\n",
      "364it [27:21,  3.33s/it]"
     ]
    },
    {
     "name": "stdout",
     "output_type": "stream",
     "text": [
      "364\n"
     ]
    },
    {
     "name": "stderr",
     "output_type": "stream",
     "text": [
      "\n",
      "0it [00:00, ?it/s]\u001b[A\n",
      "365it [27:22,  2.52s/it]"
     ]
    },
    {
     "name": "stdout",
     "output_type": "stream",
     "text": [
      "365\n"
     ]
    },
    {
     "name": "stderr",
     "output_type": "stream",
     "text": [
      "\n",
      "  0%|                                                    | 0/10 [00:00<?, ?it/s]\u001b[A\n",
      " 10%|████▍                                       | 1/10 [00:00<00:04,  1.99it/s]\u001b[A\n",
      " 20%|████████▊                                   | 2/10 [00:01<00:04,  1.82it/s]\u001b[A\n",
      " 30%|█████████████▏                              | 3/10 [00:01<00:03,  1.79it/s]\u001b[A\n",
      " 40%|█████████████████▌                          | 4/10 [00:02<00:03,  1.79it/s]\u001b[A\n",
      " 50%|██████████████████████                      | 5/10 [00:02<00:02,  1.74it/s]\u001b[A\n",
      " 60%|██████████████████████████▍                 | 6/10 [00:03<00:02,  1.78it/s]\u001b[A\n",
      " 70%|██████████████████████████████▊             | 7/10 [00:03<00:01,  1.83it/s]\u001b[A\n",
      " 80%|███████████████████████████████████▏        | 8/10 [00:04<00:01,  1.87it/s]\u001b[A\n",
      " 90%|███████████████████████████████████████▌    | 9/10 [00:04<00:00,  1.90it/s]\u001b[A\n",
      "100%|███████████████████████████████████████████| 10/10 [00:05<00:00,  1.85it/s]\u001b[A\n",
      "366it [27:28,  3.61s/it]"
     ]
    },
    {
     "name": "stdout",
     "output_type": "stream",
     "text": [
      "366\n"
     ]
    },
    {
     "name": "stderr",
     "output_type": "stream",
     "text": [
      "\n",
      "  0%|                                                     | 0/2 [00:00<?, ?it/s]\u001b[A\n",
      " 50%|██████████████████████▌                      | 1/2 [00:00<00:00,  2.09it/s]\u001b[A\n",
      "100%|█████████████████████████████████████████████| 2/2 [00:00<00:00,  2.02it/s]\u001b[A\n",
      "367it [27:30,  3.03s/it]"
     ]
    },
    {
     "name": "stdout",
     "output_type": "stream",
     "text": [
      "367\n"
     ]
    },
    {
     "name": "stderr",
     "output_type": "stream",
     "text": [
      "\n",
      "  0%|                                                     | 0/5 [00:00<?, ?it/s]\u001b[A\n",
      " 20%|█████████                                    | 1/5 [00:00<00:02,  1.87it/s]\u001b[A\n",
      " 40%|██████████████████                           | 2/5 [00:01<00:01,  1.69it/s]\u001b[A\n",
      " 60%|███████████████████████████                  | 3/5 [00:01<00:01,  1.79it/s]\u001b[A\n",
      " 80%|████████████████████████████████████         | 4/5 [00:02<00:00,  1.78it/s]\u001b[A\n",
      "100%|█████████████████████████████████████████████| 5/5 [00:02<00:00,  1.75it/s]\u001b[A\n",
      "368it [27:33,  3.20s/it]"
     ]
    },
    {
     "name": "stdout",
     "output_type": "stream",
     "text": [
      "368\n"
     ]
    },
    {
     "name": "stderr",
     "output_type": "stream",
     "text": [
      "\n",
      "  0%|                                                     | 0/1 [00:00<?, ?it/s]\u001b[A\n",
      "100%|█████████████████████████████████████████████| 1/1 [00:00<00:00,  1.33it/s]\u001b[A\n",
      "369it [27:35,  2.71s/it]"
     ]
    },
    {
     "name": "stdout",
     "output_type": "stream",
     "text": [
      "369\n"
     ]
    },
    {
     "name": "stderr",
     "output_type": "stream",
     "text": [
      "\n",
      "  0%|                                                    | 0/16 [00:00<?, ?it/s]\u001b[A\n",
      "  6%|██▊                                         | 1/16 [00:00<00:07,  1.94it/s]\u001b[A\n",
      " 12%|█████▌                                      | 2/16 [00:01<00:07,  1.80it/s]\u001b[A\n",
      " 19%|████████▎                                   | 3/16 [00:01<00:07,  1.85it/s]\u001b[A\n",
      " 25%|███████████                                 | 4/16 [00:02<00:06,  1.81it/s]\u001b[A\n",
      " 31%|█████████████▊                              | 5/16 [00:02<00:06,  1.75it/s]\u001b[A\n",
      " 38%|████████████████▌                           | 6/16 [00:03<00:06,  1.46it/s]\u001b[A\n",
      " 44%|███████████████████▎                        | 7/16 [00:04<00:05,  1.57it/s]\u001b[A\n",
      " 50%|██████████████████████                      | 8/16 [00:04<00:05,  1.56it/s]\u001b[A\n",
      " 56%|████████████████████████▊                   | 9/16 [00:05<00:04,  1.58it/s]\u001b[A\n",
      " 62%|██████████████████████████▉                | 10/16 [00:06<00:03,  1.62it/s]\u001b[A\n",
      " 69%|█████████████████████████████▌             | 11/16 [00:06<00:02,  1.68it/s]\u001b[A\n",
      " 75%|████████████████████████████████▎          | 12/16 [00:07<00:02,  1.75it/s]\u001b[A\n",
      " 81%|██████████████████████████████████▉        | 13/16 [00:07<00:01,  1.73it/s]\u001b[A\n",
      " 88%|█████████████████████████████████████▋     | 14/16 [00:08<00:01,  1.68it/s]\u001b[A\n",
      " 94%|████████████████████████████████████████▎  | 15/16 [00:08<00:00,  1.75it/s]\u001b[A\n",
      "100%|███████████████████████████████████████████| 16/16 [00:09<00:00,  1.70it/s]\u001b[A\n",
      "370it [27:45,  4.91s/it]"
     ]
    },
    {
     "name": "stdout",
     "output_type": "stream",
     "text": [
      "370\n"
     ]
    },
    {
     "name": "stderr",
     "output_type": "stream",
     "text": [
      "\n",
      "  0%|                                                    | 0/13 [00:00<?, ?it/s]\u001b[A\n",
      "  8%|███▍                                        | 1/13 [00:00<00:07,  1.69it/s]\u001b[A\n",
      " 15%|██████▊                                     | 2/13 [00:01<00:06,  1.64it/s]\u001b[A\n",
      " 23%|██████████▏                                 | 3/13 [00:01<00:05,  1.75it/s]\u001b[A\n",
      " 31%|█████████████▌                              | 4/13 [00:02<00:05,  1.65it/s]\u001b[A\n",
      " 38%|████████████████▉                           | 5/13 [00:02<00:04,  1.77it/s]\u001b[A\n",
      " 46%|████████████████████▎                       | 6/13 [00:03<00:04,  1.74it/s]\u001b[A\n",
      " 54%|███████████████████████▋                    | 7/13 [00:03<00:03,  1.82it/s]\u001b[A\n",
      " 62%|███████████████████████████                 | 8/13 [00:04<00:03,  1.60it/s]\u001b[A\n",
      " 69%|██████████████████████████████▍             | 9/13 [00:05<00:02,  1.63it/s]\u001b[A\n",
      " 77%|█████████████████████████████████          | 10/13 [00:05<00:01,  1.71it/s]\u001b[A\n",
      " 85%|████████████████████████████████████▍      | 11/13 [00:06<00:01,  1.74it/s]\u001b[A\n",
      " 92%|███████████████████████████████████████▋   | 12/13 [00:06<00:00,  1.79it/s]\u001b[A\n",
      "100%|███████████████████████████████████████████| 13/13 [00:07<00:00,  1.72it/s]\u001b[A\n",
      "371it [27:53,  5.89s/it]"
     ]
    },
    {
     "name": "stdout",
     "output_type": "stream",
     "text": [
      "371\n"
     ]
    },
    {
     "name": "stderr",
     "output_type": "stream",
     "text": [
      "\n",
      "  0%|                                                     | 0/3 [00:00<?, ?it/s]\u001b[A\n",
      " 33%|███████████████                              | 1/3 [00:00<00:00,  2.01it/s]\u001b[A\n",
      " 67%|██████████████████████████████               | 2/3 [00:01<00:00,  1.83it/s]\u001b[A\n",
      "100%|█████████████████████████████████████████████| 3/3 [00:01<00:00,  1.79it/s]\u001b[A\n",
      "372it [27:55,  4.83s/it]"
     ]
    },
    {
     "name": "stdout",
     "output_type": "stream",
     "text": [
      "372\n"
     ]
    },
    {
     "name": "stderr",
     "output_type": "stream",
     "text": [
      "\n",
      "0it [00:00, ?it/s]\u001b[A\n",
      "373it [27:56,  3.57s/it]"
     ]
    },
    {
     "name": "stdout",
     "output_type": "stream",
     "text": [
      "373\n"
     ]
    },
    {
     "name": "stderr",
     "output_type": "stream",
     "text": [
      "\n",
      "  0%|                                                    | 0/68 [00:00<?, ?it/s]\u001b[A\n",
      "  1%|▋                                           | 1/68 [00:00<00:39,  1.71it/s]\u001b[A\n",
      "  3%|█▎                                          | 2/68 [00:01<00:35,  1.86it/s]\u001b[A\n",
      "  4%|█▉                                          | 3/68 [00:01<00:34,  1.90it/s]\u001b[A\n",
      "  6%|██▌                                         | 4/68 [00:02<00:33,  1.89it/s]\u001b[A\n",
      "  7%|███▏                                        | 5/68 [00:02<00:34,  1.80it/s]\u001b[A\n",
      "  9%|███▉                                        | 6/68 [00:03<00:33,  1.86it/s]\u001b[A\n",
      " 10%|████▌                                       | 7/68 [00:03<00:33,  1.81it/s]\u001b[A\n",
      " 12%|█████▏                                      | 8/68 [00:04<00:33,  1.79it/s]\u001b[A\n",
      " 13%|█████▊                                      | 9/68 [00:04<00:31,  1.86it/s]\u001b[A\n",
      " 15%|██████▎                                    | 10/68 [00:05<00:30,  1.88it/s]\u001b[A\n",
      " 16%|██████▉                                    | 11/68 [00:05<00:31,  1.83it/s]\u001b[A\n",
      " 18%|███████▌                                   | 12/68 [00:06<00:29,  1.87it/s]\u001b[A\n",
      " 19%|████████▏                                  | 13/68 [00:07<00:29,  1.84it/s]\u001b[A\n",
      " 21%|████████▊                                  | 14/68 [00:07<00:29,  1.85it/s]\u001b[A\n",
      " 22%|█████████▍                                 | 15/68 [00:08<00:29,  1.79it/s]\u001b[A\n",
      " 24%|██████████                                 | 16/68 [00:08<00:28,  1.83it/s]\u001b[A\n",
      " 25%|██████████▊                                | 17/68 [00:09<00:29,  1.76it/s]\u001b[A\n",
      " 26%|███████████▍                               | 18/68 [00:09<00:27,  1.79it/s]\u001b[A\n",
      " 28%|████████████                               | 19/68 [00:10<00:26,  1.83it/s]\u001b[A\n",
      " 29%|████████████▋                              | 20/68 [00:10<00:25,  1.85it/s]\u001b[A\n",
      " 31%|█████████████▎                             | 21/68 [00:11<00:26,  1.78it/s]\u001b[A\n",
      " 32%|█████████████▉                             | 22/68 [00:12<00:26,  1.75it/s]\u001b[A\n",
      " 34%|██████████████▌                            | 23/68 [00:12<00:24,  1.80it/s]\u001b[A\n",
      " 35%|███████████████▏                           | 24/68 [00:13<00:24,  1.83it/s]\u001b[A\n",
      " 37%|███████████████▊                           | 25/68 [00:13<00:23,  1.82it/s]\u001b[A\n",
      " 38%|████████████████▍                          | 26/68 [00:14<00:23,  1.82it/s]\u001b[A\n",
      " 40%|█████████████████                          | 27/68 [00:14<00:23,  1.77it/s]\u001b[A\n",
      " 41%|█████████████████▋                         | 28/68 [00:15<00:22,  1.79it/s]\u001b[A\n",
      " 43%|██████████████████▎                        | 29/68 [00:15<00:21,  1.79it/s]\u001b[A\n",
      " 44%|██████████████████▉                        | 30/68 [00:16<00:20,  1.85it/s]\u001b[A\n",
      " 46%|███████████████████▌                       | 31/68 [00:17<00:20,  1.81it/s]\u001b[A\n",
      " 47%|████████████████████▏                      | 32/68 [00:17<00:20,  1.75it/s]\u001b[A\n",
      " 49%|████████████████████▊                      | 33/68 [00:18<00:19,  1.79it/s]\u001b[A\n",
      " 50%|█████████████████████▌                     | 34/68 [00:18<00:19,  1.77it/s]\u001b[A\n",
      " 51%|██████████████████████▏                    | 35/68 [00:19<00:18,  1.83it/s]\u001b[A\n",
      " 53%|██████████████████████▊                    | 36/68 [00:19<00:17,  1.81it/s]\u001b[A\n",
      " 54%|███████████████████████▍                   | 37/68 [00:20<00:16,  1.85it/s]\u001b[A\n",
      " 56%|████████████████████████                   | 38/68 [00:20<00:16,  1.86it/s]\u001b[A\n",
      " 57%|████████████████████████▋                  | 39/68 [00:21<00:15,  1.87it/s]\u001b[A\n",
      " 59%|█████████████████████████▎                 | 40/68 [00:22<00:15,  1.78it/s]\u001b[A\n",
      " 60%|█████████████████████████▉                 | 41/68 [00:22<00:15,  1.75it/s]\u001b[A\n",
      " 62%|██████████████████████████▌                | 42/68 [00:23<00:14,  1.81it/s]\u001b[A\n",
      " 63%|███████████████████████████▏               | 43/68 [00:23<00:14,  1.74it/s]\u001b[A\n",
      " 65%|███████████████████████████▊               | 44/68 [00:24<00:13,  1.80it/s]\u001b[A\n",
      " 66%|████████████████████████████▍              | 45/68 [00:24<00:13,  1.76it/s]\u001b[A\n",
      " 68%|█████████████████████████████              | 46/68 [00:25<00:12,  1.79it/s]\u001b[A\n",
      " 69%|█████████████████████████████▋             | 47/68 [00:25<00:11,  1.77it/s]\u001b[A\n",
      " 71%|██████████████████████████████▎            | 48/68 [00:26<00:11,  1.79it/s]\u001b[A\n",
      " 72%|██████████████████████████████▉            | 49/68 [00:27<00:10,  1.82it/s]\u001b[A\n",
      " 74%|███████████████████████████████▌           | 50/68 [00:27<00:09,  1.81it/s]\u001b[A\n",
      " 75%|████████████████████████████████▎          | 51/68 [00:28<00:09,  1.85it/s]\u001b[A\n",
      " 76%|████████████████████████████████▉          | 52/68 [00:28<00:08,  1.85it/s]\u001b[A\n",
      " 78%|█████████████████████████████████▌         | 53/68 [00:29<00:07,  1.89it/s]\u001b[A\n",
      " 79%|██████████████████████████████████▏        | 54/68 [00:29<00:07,  1.87it/s]\u001b[A\n",
      " 81%|██████████████████████████████████▊        | 55/68 [00:30<00:06,  1.90it/s]\u001b[A\n",
      " 82%|███████████████████████████████████▍       | 56/68 [00:30<00:06,  1.88it/s]\u001b[A\n",
      " 84%|████████████████████████████████████       | 57/68 [00:31<00:05,  1.86it/s]\u001b[A\n",
      " 85%|████████████████████████████████████▋      | 58/68 [00:31<00:05,  1.82it/s]\u001b[A\n",
      " 87%|█████████████████████████████████████▎     | 59/68 [00:32<00:04,  1.84it/s]\u001b[A\n",
      " 88%|█████████████████████████████████████▉     | 60/68 [00:32<00:04,  1.84it/s]\u001b[A\n",
      " 90%|██████████████████████████████████████▌    | 61/68 [00:33<00:03,  1.86it/s]\u001b[A\n",
      " 91%|███████████████████████████████████████▏   | 62/68 [00:34<00:03,  1.89it/s]\u001b[A\n",
      " 93%|███████████████████████████████████████▊   | 63/68 [00:34<00:02,  1.86it/s]\u001b[A\n",
      " 94%|████████████████████████████████████████▍  | 64/68 [00:35<00:02,  1.91it/s]\u001b[A\n",
      " 96%|█████████████████████████████████████████  | 65/68 [00:35<00:01,  1.91it/s]\u001b[A\n",
      " 97%|█████████████████████████████████████████▋ | 66/68 [00:36<00:01,  1.77it/s]\u001b[A\n",
      " 99%|██████████████████████████████████████████▎| 67/68 [00:36<00:00,  1.81it/s]\u001b[A\n",
      "100%|███████████████████████████████████████████| 68/68 [00:37<00:00,  1.82it/s]\u001b[A\n",
      "374it [28:34, 13.88s/it]"
     ]
    },
    {
     "name": "stdout",
     "output_type": "stream",
     "text": [
      "374\n"
     ]
    },
    {
     "name": "stderr",
     "output_type": "stream",
     "text": [
      "\n",
      "0it [00:00, ?it/s]\u001b[A\n",
      "375it [28:35,  9.92s/it]"
     ]
    },
    {
     "name": "stdout",
     "output_type": "stream",
     "text": [
      "375\n"
     ]
    },
    {
     "name": "stderr",
     "output_type": "stream",
     "text": [
      "\n",
      "  0%|                                                    | 0/33 [00:00<?, ?it/s]\u001b[A\n",
      "  3%|█▎                                          | 1/33 [00:00<00:25,  1.27it/s]\u001b[A\n",
      "  6%|██▋                                         | 2/33 [00:01<00:20,  1.49it/s]\u001b[A\n",
      "  9%|████                                        | 3/33 [00:02<00:19,  1.52it/s]\u001b[A\n",
      " 12%|█████▎                                      | 4/33 [00:02<00:17,  1.66it/s]\u001b[A\n",
      " 15%|██████▋                                     | 5/33 [00:03<00:15,  1.76it/s]\u001b[A\n",
      " 18%|████████                                    | 6/33 [00:03<00:14,  1.83it/s]\u001b[A\n",
      " 21%|█████████▎                                  | 7/33 [00:04<00:13,  1.86it/s]\u001b[A\n",
      " 24%|██████████▋                                 | 8/33 [00:04<00:13,  1.90it/s]\u001b[A\n",
      " 27%|████████████                                | 9/33 [00:05<00:12,  1.87it/s]\u001b[A\n",
      " 30%|█████████████                              | 10/33 [00:05<00:13,  1.77it/s]\u001b[A\n",
      " 33%|██████████████▎                            | 11/33 [00:06<00:12,  1.77it/s]\u001b[A\n",
      " 36%|███████████████▋                           | 12/33 [00:06<00:11,  1.85it/s]\u001b[A\n",
      " 39%|████████████████▉                          | 13/33 [00:07<00:10,  1.87it/s]\u001b[A\n",
      " 42%|██████████████████▏                        | 14/33 [00:07<00:10,  1.88it/s]\u001b[A\n",
      " 45%|███████████████████▌                       | 15/33 [00:08<00:09,  1.88it/s]\u001b[A\n",
      " 48%|████████████████████▊                      | 16/33 [00:08<00:08,  1.90it/s]\u001b[A\n",
      " 52%|██████████████████████▏                    | 17/33 [00:09<00:08,  1.85it/s]\u001b[A\n",
      " 55%|███████████████████████▍                   | 18/33 [00:10<00:08,  1.83it/s]\u001b[A\n",
      " 58%|████████████████████████▊                  | 19/33 [00:10<00:07,  1.79it/s]\u001b[A\n",
      " 61%|██████████████████████████                 | 20/33 [00:11<00:07,  1.74it/s]\u001b[A\n",
      " 64%|███████████████████████████▎               | 21/33 [00:11<00:06,  1.80it/s]\u001b[A\n",
      " 67%|████████████████████████████▋              | 22/33 [00:12<00:06,  1.76it/s]\u001b[A\n",
      " 70%|█████████████████████████████▉             | 23/33 [00:12<00:05,  1.77it/s]\u001b[A\n",
      " 73%|███████████████████████████████▎           | 24/33 [00:13<00:05,  1.76it/s]\u001b[A\n",
      " 76%|████████████████████████████████▌          | 25/33 [00:13<00:04,  1.84it/s]\u001b[A\n",
      " 79%|█████████████████████████████████▉         | 26/33 [00:14<00:03,  1.82it/s]\u001b[A\n",
      " 82%|███████████████████████████████████▏       | 27/33 [00:15<00:03,  1.85it/s]\u001b[A\n",
      " 85%|████████████████████████████████████▍      | 28/33 [00:15<00:02,  1.86it/s]\u001b[A\n",
      " 88%|█████████████████████████████████████▊     | 29/33 [00:16<00:02,  1.78it/s]\u001b[A\n",
      " 91%|███████████████████████████████████████    | 30/33 [00:16<00:01,  1.84it/s]\u001b[A\n",
      " 94%|████████████████████████████████████████▍  | 31/33 [00:17<00:01,  1.86it/s]\u001b[A\n",
      " 97%|█████████████████████████████████████████▋ | 32/33 [00:17<00:00,  1.89it/s]\u001b[A\n",
      "100%|███████████████████████████████████████████| 33/33 [00:18<00:00,  1.80it/s]\u001b[A\n",
      "376it [28:54, 12.63s/it]"
     ]
    },
    {
     "name": "stdout",
     "output_type": "stream",
     "text": [
      "376\n"
     ]
    },
    {
     "name": "stderr",
     "output_type": "stream",
     "text": [
      "\n",
      "  0%|                                                     | 0/5 [00:00<?, ?it/s]\u001b[A\n",
      " 20%|█████████                                    | 1/5 [00:00<00:02,  1.97it/s]\u001b[A\n",
      " 40%|██████████████████                           | 2/5 [00:01<00:01,  1.94it/s]\u001b[A\n",
      " 60%|███████████████████████████                  | 3/5 [00:01<00:01,  1.93it/s]\u001b[A\n",
      " 80%|████████████████████████████████████         | 4/5 [00:02<00:00,  1.87it/s]\u001b[A\n",
      "100%|█████████████████████████████████████████████| 5/5 [00:02<00:00,  1.85it/s]\u001b[A\n",
      "377it [28:57,  9.83s/it]"
     ]
    },
    {
     "name": "stdout",
     "output_type": "stream",
     "text": [
      "377\n"
     ]
    },
    {
     "name": "stderr",
     "output_type": "stream",
     "text": [
      "\n",
      "  0%|                                                    | 0/20 [00:00<?, ?it/s]\u001b[A\n",
      "  5%|██▏                                         | 1/20 [00:00<00:10,  1.78it/s]\u001b[A\n",
      " 10%|████▍                                       | 2/20 [00:01<00:09,  1.92it/s]\u001b[A\n",
      " 15%|██████▌                                     | 3/20 [00:01<00:08,  1.93it/s]\u001b[A\n",
      " 20%|████████▊                                   | 4/20 [00:02<00:08,  1.97it/s]\u001b[A\n",
      " 25%|███████████                                 | 5/20 [00:02<00:07,  1.91it/s]\u001b[A\n",
      " 30%|█████████████▏                              | 6/20 [00:03<00:07,  1.91it/s]\u001b[A\n",
      " 35%|███████████████▍                            | 7/20 [00:03<00:06,  1.95it/s]\u001b[A\n",
      " 40%|█████████████████▌                          | 8/20 [00:04<00:06,  1.88it/s]\u001b[A\n",
      " 45%|███████████████████▊                        | 9/20 [00:04<00:05,  1.89it/s]\u001b[A\n",
      " 50%|█████████████████████▌                     | 10/20 [00:05<00:05,  1.92it/s]\u001b[A\n",
      " 55%|███████████████████████▋                   | 11/20 [00:05<00:04,  1.87it/s]\u001b[A\n",
      " 60%|█████████████████████████▊                 | 12/20 [00:06<00:04,  1.89it/s]\u001b[A\n",
      " 65%|███████████████████████████▉               | 13/20 [00:06<00:03,  1.88it/s]\u001b[A\n",
      " 70%|██████████████████████████████             | 14/20 [00:07<00:03,  1.79it/s]\u001b[A\n",
      " 75%|████████████████████████████████▎          | 15/20 [00:08<00:03,  1.38it/s]\u001b[A\n",
      " 80%|██████████████████████████████████▍        | 16/20 [00:09<00:02,  1.49it/s]\u001b[A\n",
      " 85%|████████████████████████████████████▌      | 17/20 [00:09<00:01,  1.62it/s]\u001b[A\n",
      " 90%|██████████████████████████████████████▋    | 18/20 [00:10<00:01,  1.69it/s]\u001b[A\n",
      " 95%|████████████████████████████████████████▊  | 19/20 [00:10<00:00,  1.76it/s]\u001b[A\n",
      "100%|███████████████████████████████████████████| 20/20 [00:11<00:00,  1.74it/s]\u001b[A\n",
      "378it [29:09, 10.51s/it]"
     ]
    },
    {
     "name": "stdout",
     "output_type": "stream",
     "text": [
      "378\n"
     ]
    },
    {
     "name": "stderr",
     "output_type": "stream",
     "text": [
      "\n",
      "  0%|                                                    | 0/12 [00:00<?, ?it/s]\u001b[A\n",
      "  8%|███▋                                        | 1/12 [00:00<00:05,  1.92it/s]\u001b[A\n",
      " 17%|███████▎                                    | 2/12 [00:01<00:05,  1.78it/s]\u001b[A\n",
      " 25%|███████████                                 | 3/12 [00:01<00:05,  1.76it/s]\u001b[A\n",
      " 33%|██████████████▋                             | 4/12 [00:02<00:04,  1.82it/s]\u001b[A\n",
      " 42%|██████████████████▎                         | 5/12 [00:02<00:03,  1.85it/s]\u001b[A\n",
      " 50%|██████████████████████                      | 6/12 [00:03<00:03,  1.88it/s]\u001b[A\n",
      " 58%|█████████████████████████▋                  | 7/12 [00:03<00:02,  1.83it/s]\u001b[A\n",
      " 67%|█████████████████████████████▎              | 8/12 [00:04<00:02,  1.80it/s]\u001b[A\n",
      " 75%|█████████████████████████████████           | 9/12 [00:04<00:01,  1.86it/s]\u001b[A\n",
      " 83%|███████████████████████████████████▊       | 10/12 [00:05<00:01,  1.72it/s]\u001b[A\n",
      " 92%|███████████████████████████████████████▍   | 11/12 [00:06<00:00,  1.70it/s]\u001b[A\n",
      "100%|███████████████████████████████████████████| 12/12 [00:06<00:00,  1.78it/s]\u001b[A\n",
      "379it [29:16,  9.57s/it]"
     ]
    },
    {
     "name": "stdout",
     "output_type": "stream",
     "text": [
      "379\n"
     ]
    },
    {
     "name": "stderr",
     "output_type": "stream",
     "text": [
      "\n",
      "  0%|                                                    | 0/10 [00:00<?, ?it/s]\u001b[A\n",
      " 10%|████▍                                       | 1/10 [00:00<00:05,  1.68it/s]\u001b[A\n",
      " 20%|████████▊                                   | 2/10 [00:01<00:04,  1.78it/s]\u001b[A\n",
      " 30%|█████████████▏                              | 3/10 [00:01<00:04,  1.73it/s]\u001b[A\n",
      " 40%|█████████████████▌                          | 4/10 [00:02<00:03,  1.83it/s]\u001b[A\n",
      " 50%|██████████████████████                      | 5/10 [00:02<00:02,  1.84it/s]\u001b[A\n",
      " 60%|██████████████████████████▍                 | 6/10 [00:03<00:02,  1.87it/s]\u001b[A\n",
      " 70%|██████████████████████████████▊             | 7/10 [00:03<00:01,  1.74it/s]\u001b[A\n",
      " 80%|███████████████████████████████████▏        | 8/10 [00:04<00:01,  1.79it/s]\u001b[A\n",
      " 90%|███████████████████████████████████████▌    | 9/10 [00:04<00:00,  1.84it/s]\u001b[A\n",
      "100%|███████████████████████████████████████████| 10/10 [00:05<00:00,  1.80it/s]\u001b[A\n",
      "380it [29:23,  8.54s/it]"
     ]
    },
    {
     "name": "stdout",
     "output_type": "stream",
     "text": [
      "380\n"
     ]
    },
    {
     "name": "stderr",
     "output_type": "stream",
     "text": [
      "\n",
      "0it [00:00, ?it/s]\u001b[A\n",
      "381it [29:23,  6.18s/it]"
     ]
    },
    {
     "name": "stdout",
     "output_type": "stream",
     "text": [
      "381\n"
     ]
    },
    {
     "name": "stderr",
     "output_type": "stream",
     "text": [
      "\n",
      "  0%|                                                     | 0/1 [00:00<?, ?it/s]\u001b[A\n",
      "100%|█████████████████████████████████████████████| 1/1 [00:00<00:00,  1.95it/s]\u001b[A\n",
      "382it [29:24,  4.66s/it]"
     ]
    },
    {
     "name": "stdout",
     "output_type": "stream",
     "text": [
      "382\n"
     ]
    },
    {
     "name": "stderr",
     "output_type": "stream",
     "text": [
      "\n",
      "  0%|                                                     | 0/1 [00:00<?, ?it/s]\u001b[A\n",
      "100%|█████████████████████████████████████████████| 1/1 [00:00<00:00,  1.87it/s]\u001b[A\n",
      "383it [29:26,  3.61s/it]"
     ]
    },
    {
     "name": "stdout",
     "output_type": "stream",
     "text": [
      "383\n"
     ]
    },
    {
     "name": "stderr",
     "output_type": "stream",
     "text": [
      "\n",
      "  0%|                                                    | 0/10 [00:00<?, ?it/s]\u001b[A\n",
      " 10%|████▍                                       | 1/10 [00:00<00:04,  1.96it/s]\u001b[A\n",
      " 20%|████████▊                                   | 2/10 [00:01<00:04,  1.94it/s]\u001b[A\n",
      " 30%|█████████████▏                              | 3/10 [00:01<00:03,  1.77it/s]\u001b[A\n",
      " 40%|█████████████████▌                          | 4/10 [00:02<00:03,  1.81it/s]\u001b[A\n",
      " 50%|██████████████████████                      | 5/10 [00:02<00:02,  1.87it/s]\u001b[A\n",
      " 60%|██████████████████████████▍                 | 6/10 [00:03<00:02,  1.78it/s]\u001b[A\n",
      " 70%|██████████████████████████████▊             | 7/10 [00:03<00:01,  1.74it/s]\u001b[A\n",
      " 80%|███████████████████████████████████▏        | 8/10 [00:04<00:01,  1.74it/s]\u001b[A\n",
      " 90%|███████████████████████████████████████▌    | 9/10 [00:04<00:00,  1.81it/s]\u001b[A\n",
      "100%|███████████████████████████████████████████| 10/10 [00:05<00:00,  1.81it/s]\u001b[A\n",
      "384it [29:32,  4.36s/it]"
     ]
    },
    {
     "name": "stdout",
     "output_type": "stream",
     "text": [
      "384\n"
     ]
    },
    {
     "name": "stderr",
     "output_type": "stream",
     "text": [
      "\n",
      "  0%|                                                     | 0/5 [00:00<?, ?it/s]\u001b[A\n",
      " 20%|█████████                                    | 1/5 [00:00<00:02,  1.65it/s]\u001b[A\n",
      " 40%|██████████████████                           | 2/5 [00:01<00:01,  1.78it/s]\u001b[A\n",
      " 60%|███████████████████████████                  | 3/5 [00:01<00:01,  1.77it/s]\u001b[A\n",
      " 80%|████████████████████████████████████         | 4/5 [00:02<00:00,  1.66it/s]\u001b[A\n",
      "100%|█████████████████████████████████████████████| 5/5 [00:02<00:00,  1.73it/s]\u001b[A\n",
      "385it [29:35,  4.12s/it]"
     ]
    },
    {
     "name": "stdout",
     "output_type": "stream",
     "text": [
      "385\n"
     ]
    },
    {
     "name": "stderr",
     "output_type": "stream",
     "text": [
      "\n",
      "  0%|                                                     | 0/1 [00:00<?, ?it/s]\u001b[A\n",
      "100%|█████████████████████████████████████████████| 1/1 [00:00<00:00,  1.91it/s]\u001b[A\n",
      "386it [29:36,  3.23s/it]"
     ]
    },
    {
     "name": "stdout",
     "output_type": "stream",
     "text": [
      "386\n"
     ]
    },
    {
     "name": "stderr",
     "output_type": "stream",
     "text": [
      "\n",
      "0it [00:00, ?it/s]\u001b[A\n",
      "387it [29:37,  2.45s/it]"
     ]
    },
    {
     "name": "stdout",
     "output_type": "stream",
     "text": [
      "387\n"
     ]
    },
    {
     "name": "stderr",
     "output_type": "stream",
     "text": [
      "\n",
      "0it [00:00, ?it/s]\u001b[A\n",
      "388it [29:38,  1.90s/it]"
     ]
    },
    {
     "name": "stdout",
     "output_type": "stream",
     "text": [
      "388\n"
     ]
    },
    {
     "name": "stderr",
     "output_type": "stream",
     "text": [
      "\n",
      "  0%|                                                     | 0/2 [00:00<?, ?it/s]\u001b[A\n",
      " 50%|██████████████████████▌                      | 1/2 [00:00<00:00,  1.77it/s]\u001b[A\n",
      "100%|█████████████████████████████████████████████| 2/2 [00:01<00:00,  1.84it/s]\u001b[A\n",
      "389it [29:39,  1.83s/it]"
     ]
    },
    {
     "name": "stdout",
     "output_type": "stream",
     "text": [
      "389\n"
     ]
    },
    {
     "name": "stderr",
     "output_type": "stream",
     "text": [
      "\n",
      "0it [00:00, ?it/s]\u001b[A\n",
      "390it [29:40,  1.46s/it]"
     ]
    },
    {
     "name": "stdout",
     "output_type": "stream",
     "text": [
      "390\n"
     ]
    },
    {
     "name": "stderr",
     "output_type": "stream",
     "text": [
      "\n",
      "  0%|                                                     | 0/4 [00:00<?, ?it/s]\u001b[A\n",
      " 25%|███████████▎                                 | 1/4 [00:00<00:01,  1.96it/s]\u001b[A\n",
      " 50%|██████████████████████▌                      | 2/4 [00:01<00:01,  1.64it/s]\u001b[A\n",
      " 75%|█████████████████████████████████▊           | 3/4 [00:01<00:00,  1.68it/s]\u001b[A\n",
      "100%|█████████████████████████████████████████████| 4/4 [00:02<00:00,  1.65it/s]\u001b[A\n",
      "391it [29:43,  1.96s/it]"
     ]
    },
    {
     "name": "stdout",
     "output_type": "stream",
     "text": [
      "391\n"
     ]
    },
    {
     "name": "stderr",
     "output_type": "stream",
     "text": [
      "\n",
      "  0%|                                                     | 0/2 [00:00<?, ?it/s]\u001b[A\n",
      " 50%|██████████████████████▌                      | 1/2 [00:00<00:00,  1.65it/s]\u001b[A\n",
      "100%|█████████████████████████████████████████████| 2/2 [00:01<00:00,  1.20it/s]\u001b[A\n",
      "392it [29:45,  2.06s/it]"
     ]
    },
    {
     "name": "stdout",
     "output_type": "stream",
     "text": [
      "392\n"
     ]
    },
    {
     "name": "stderr",
     "output_type": "stream",
     "text": [
      "\n",
      "0it [00:00, ?it/s]\u001b[A\n",
      "393it [29:46,  1.63s/it]"
     ]
    },
    {
     "name": "stdout",
     "output_type": "stream",
     "text": [
      "393\n"
     ]
    },
    {
     "name": "stderr",
     "output_type": "stream",
     "text": [
      "\n",
      "0it [00:00, ?it/s]\u001b[A\n",
      "394it [29:47,  1.33s/it]"
     ]
    },
    {
     "name": "stdout",
     "output_type": "stream",
     "text": [
      "394\n"
     ]
    },
    {
     "name": "stderr",
     "output_type": "stream",
     "text": [
      "\n",
      "  0%|                                                     | 0/2 [00:00<?, ?it/s]\u001b[A\n",
      " 50%|██████████████████████▌                      | 1/2 [00:00<00:00,  1.95it/s]\u001b[A\n",
      "100%|█████████████████████████████████████████████| 2/2 [00:01<00:00,  1.72it/s]\u001b[A\n",
      "395it [29:48,  1.46s/it]"
     ]
    },
    {
     "name": "stdout",
     "output_type": "stream",
     "text": [
      "395\n"
     ]
    },
    {
     "name": "stderr",
     "output_type": "stream",
     "text": [
      "\n",
      "  0%|                                                     | 0/3 [00:00<?, ?it/s]\u001b[A\n",
      " 33%|███████████████                              | 1/3 [00:00<00:01,  1.82it/s]\u001b[A\n",
      " 67%|██████████████████████████████               | 2/3 [00:01<00:00,  1.63it/s]\u001b[A\n",
      "100%|█████████████████████████████████████████████| 3/3 [00:01<00:00,  1.73it/s]\u001b[A\n",
      "396it [29:51,  1.72s/it]"
     ]
    },
    {
     "name": "stdout",
     "output_type": "stream",
     "text": [
      "396\n"
     ]
    },
    {
     "name": "stderr",
     "output_type": "stream",
     "text": [
      "\n",
      "0it [00:00, ?it/s]\u001b[A\n",
      "397it [29:51,  1.38s/it]"
     ]
    },
    {
     "name": "stdout",
     "output_type": "stream",
     "text": [
      "397\n"
     ]
    },
    {
     "name": "stderr",
     "output_type": "stream",
     "text": [
      "\n",
      "  0%|                                                    | 0/25 [00:00<?, ?it/s]\u001b[A\n",
      "  4%|█▊                                          | 1/25 [00:00<00:14,  1.69it/s]\u001b[A\n",
      "  8%|███▌                                        | 2/25 [00:01<00:12,  1.83it/s]\u001b[A\n",
      " 12%|█████▎                                      | 3/25 [00:01<00:12,  1.82it/s]\u001b[A\n",
      " 16%|███████                                     | 4/25 [00:02<00:11,  1.80it/s]\u001b[A\n",
      " 20%|████████▊                                   | 5/25 [00:02<00:10,  1.87it/s]\u001b[A\n",
      " 24%|██████████▌                                 | 6/25 [00:03<00:10,  1.77it/s]\u001b[A\n",
      " 28%|████████████▎                               | 7/25 [00:03<00:09,  1.81it/s]\u001b[A\n",
      " 32%|██████████████                              | 8/25 [00:04<00:09,  1.85it/s]\u001b[A\n",
      " 36%|███████████████▊                            | 9/25 [00:04<00:08,  1.85it/s]\u001b[A\n",
      " 40%|█████████████████▏                         | 10/25 [00:05<00:07,  1.88it/s]\u001b[A\n",
      " 44%|██████████████████▉                        | 11/25 [00:06<00:07,  1.79it/s]\u001b[A\n",
      " 48%|████████████████████▋                      | 12/25 [00:06<00:07,  1.75it/s]\u001b[A\n",
      " 52%|██████████████████████▎                    | 13/25 [00:07<00:06,  1.81it/s]\u001b[A\n",
      " 56%|████████████████████████                   | 14/25 [00:07<00:06,  1.78it/s]\u001b[A\n",
      " 60%|█████████████████████████▊                 | 15/25 [00:08<00:05,  1.84it/s]\u001b[A\n",
      " 64%|███████████████████████████▌               | 16/25 [00:08<00:04,  1.87it/s]\u001b[A\n",
      " 68%|█████████████████████████████▏             | 17/25 [00:09<00:04,  1.87it/s]\u001b[A\n",
      " 72%|██████████████████████████████▉            | 18/25 [00:09<00:03,  1.91it/s]\u001b[A\n",
      " 76%|████████████████████████████████▋          | 19/25 [00:10<00:03,  1.88it/s]\u001b[A\n",
      " 80%|██████████████████████████████████▍        | 20/25 [00:10<00:02,  1.90it/s]\u001b[A\n",
      " 84%|████████████████████████████████████       | 21/25 [00:11<00:02,  1.95it/s]\u001b[A\n",
      " 88%|█████████████████████████████████████▊     | 22/25 [00:11<00:01,  1.98it/s]\u001b[A\n",
      " 92%|███████████████████████████████████████▌   | 23/25 [00:12<00:01,  1.96it/s]\u001b[A\n",
      " 96%|█████████████████████████████████████████▎ | 24/25 [00:12<00:00,  1.97it/s]\u001b[A\n",
      "100%|███████████████████████████████████████████| 25/25 [00:13<00:00,  1.86it/s]\u001b[A\n",
      "398it [30:05,  5.22s/it]"
     ]
    },
    {
     "name": "stdout",
     "output_type": "stream",
     "text": [
      "398\n"
     ]
    },
    {
     "name": "stderr",
     "output_type": "stream",
     "text": [
      "\n",
      "  0%|                                                     | 0/8 [00:00<?, ?it/s]\u001b[A\n",
      " 12%|█████▋                                       | 1/8 [00:00<00:03,  1.83it/s]\u001b[A\n",
      " 25%|███████████▎                                 | 2/8 [00:01<00:03,  1.91it/s]\u001b[A\n",
      " 38%|████████████████▉                            | 3/8 [00:01<00:02,  1.95it/s]\u001b[A\n",
      " 50%|██████████████████████▌                      | 4/8 [00:02<00:02,  1.98it/s]\u001b[A\n",
      " 62%|████████████████████████████▏                | 5/8 [00:02<00:01,  1.96it/s]\u001b[A\n",
      " 75%|█████████████████████████████████▊           | 6/8 [00:03<00:01,  1.85it/s]\u001b[A\n",
      " 88%|███████████████████████████████████████▍     | 7/8 [00:03<00:00,  1.84it/s]\u001b[A\n",
      "100%|█████████████████████████████████████████████| 8/8 [00:04<00:00,  1.85it/s]\u001b[A\n",
      "399it [30:10,  5.14s/it]"
     ]
    },
    {
     "name": "stdout",
     "output_type": "stream",
     "text": [
      "399\n"
     ]
    },
    {
     "name": "stderr",
     "output_type": "stream",
     "text": [
      "\n",
      "0it [00:00, ?it/s]\u001b[A\n",
      "400it [30:11,  3.78s/it]"
     ]
    },
    {
     "name": "stdout",
     "output_type": "stream",
     "text": [
      "400\n"
     ]
    },
    {
     "name": "stderr",
     "output_type": "stream",
     "text": [
      "\n",
      "0it [00:00, ?it/s]\u001b[A\n",
      "401it [30:12,  2.85s/it]"
     ]
    },
    {
     "name": "stdout",
     "output_type": "stream",
     "text": [
      "401\n"
     ]
    },
    {
     "name": "stderr",
     "output_type": "stream",
     "text": [
      "\n",
      "0it [00:00, ?it/s]\u001b[A\n",
      "402it [30:12,  2.18s/it]"
     ]
    },
    {
     "name": "stdout",
     "output_type": "stream",
     "text": [
      "402\n"
     ]
    },
    {
     "name": "stderr",
     "output_type": "stream",
     "text": [
      "\n",
      "  0%|                                                     | 0/7 [00:00<?, ?it/s]\u001b[A\n",
      " 14%|██████▍                                      | 1/7 [00:00<00:03,  1.86it/s]\u001b[A\n",
      " 29%|████████████▊                                | 2/7 [00:01<00:02,  1.73it/s]\u001b[A\n",
      " 43%|███████████████████▎                         | 3/7 [00:01<00:02,  1.65it/s]\u001b[A\n",
      " 57%|█████████████████████████▋                   | 4/7 [00:02<00:01,  1.64it/s]\u001b[A\n",
      " 71%|████████████████████████████████▏            | 5/7 [00:03<00:01,  1.61it/s]\u001b[A\n",
      " 86%|██████████████████████████████████████▌      | 6/7 [00:03<00:00,  1.61it/s]\u001b[A\n",
      "100%|█████████████████████████████████████████████| 7/7 [00:04<00:00,  1.69it/s]\u001b[A\n",
      "403it [30:17,  2.99s/it]"
     ]
    },
    {
     "name": "stdout",
     "output_type": "stream",
     "text": [
      "403\n"
     ]
    },
    {
     "name": "stderr",
     "output_type": "stream",
     "text": [
      "\n",
      "  0%|                                                     | 0/3 [00:00<?, ?it/s]\u001b[A\n",
      " 33%|███████████████                              | 1/3 [00:00<00:01,  1.94it/s]\u001b[A\n",
      " 67%|██████████████████████████████               | 2/3 [00:01<00:00,  1.96it/s]\u001b[A\n",
      "100%|█████████████████████████████████████████████| 3/3 [00:01<00:00,  1.95it/s]\u001b[A\n",
      "404it [30:19,  2.75s/it]"
     ]
    },
    {
     "name": "stdout",
     "output_type": "stream",
     "text": [
      "404\n"
     ]
    },
    {
     "name": "stderr",
     "output_type": "stream",
     "text": [
      "\n",
      "  0%|                                                     | 0/2 [00:00<?, ?it/s]\u001b[A\n",
      " 50%|██████████████████████▌                      | 1/2 [00:00<00:00,  2.03it/s]\u001b[A\n",
      "100%|█████████████████████████████████████████████| 2/2 [00:01<00:00,  1.82it/s]\u001b[A\n",
      "405it [30:21,  2.44s/it]"
     ]
    },
    {
     "name": "stdout",
     "output_type": "stream",
     "text": [
      "405\n"
     ]
    },
    {
     "name": "stderr",
     "output_type": "stream",
     "text": [
      "\n",
      "0it [00:00, ?it/s]\u001b[A\n",
      "406it [30:22,  1.88s/it]"
     ]
    },
    {
     "name": "stdout",
     "output_type": "stream",
     "text": [
      "406\n"
     ]
    },
    {
     "name": "stderr",
     "output_type": "stream",
     "text": [
      "\n",
      "  0%|                                                    | 0/19 [00:00<?, ?it/s]\u001b[A\n",
      "  5%|██▎                                         | 1/19 [00:00<00:09,  1.92it/s]\u001b[A\n",
      " 11%|████▋                                       | 2/19 [00:01<00:08,  1.95it/s]\u001b[A\n",
      " 16%|██████▉                                     | 3/19 [00:01<00:08,  1.97it/s]\u001b[A\n",
      " 21%|█████████▎                                  | 4/19 [00:02<00:07,  1.89it/s]\u001b[A\n",
      " 26%|███████████▌                                | 5/19 [00:02<00:07,  1.91it/s]\u001b[A\n",
      " 32%|█████████████▉                              | 6/19 [00:03<00:06,  1.92it/s]\u001b[A\n",
      " 37%|████████████████▏                           | 7/19 [00:03<00:06,  1.87it/s]\u001b[A\n",
      " 42%|██████████████████▌                         | 8/19 [00:04<00:05,  1.92it/s]\u001b[A\n",
      " 47%|████████████████████▊                       | 9/19 [00:04<00:05,  1.88it/s]\u001b[A\n",
      " 53%|██████████████████████▋                    | 10/19 [00:05<00:04,  1.92it/s]\u001b[A\n",
      " 58%|████████████████████████▉                  | 11/19 [00:05<00:04,  1.93it/s]\u001b[A\n",
      " 63%|███████████████████████████▏               | 12/19 [00:06<00:03,  1.86it/s]\u001b[A\n",
      " 68%|█████████████████████████████▍             | 13/19 [00:06<00:03,  1.79it/s]\u001b[A\n",
      " 74%|███████████████████████████████▋           | 14/19 [00:07<00:02,  1.80it/s]\u001b[A\n",
      " 79%|█████████████████████████████████▉         | 15/19 [00:08<00:02,  1.81it/s]\u001b[A\n",
      " 84%|████████████████████████████████████▏      | 16/19 [00:08<00:01,  1.85it/s]\u001b[A\n",
      " 89%|██████████████████████████████████████▍    | 17/19 [00:09<00:01,  1.88it/s]\u001b[A\n",
      " 95%|████████████████████████████████████████▋  | 18/19 [00:09<00:00,  1.89it/s]\u001b[A\n",
      "100%|███████████████████████████████████████████| 19/19 [00:10<00:00,  1.87it/s]\u001b[A\n",
      "407it [30:32,  4.53s/it]"
     ]
    },
    {
     "name": "stdout",
     "output_type": "stream",
     "text": [
      "407\n"
     ]
    },
    {
     "name": "stderr",
     "output_type": "stream",
     "text": [
      "\n",
      "  0%|                                                     | 0/2 [00:00<?, ?it/s]\u001b[A\n",
      " 50%|██████████████████████▌                      | 1/2 [00:00<00:00,  1.88it/s]\u001b[A\n",
      "100%|█████████████████████████████████████████████| 2/2 [00:01<00:00,  1.88it/s]\u001b[A\n",
      "408it [30:34,  3.68s/it]"
     ]
    },
    {
     "name": "stdout",
     "output_type": "stream",
     "text": [
      "408\n"
     ]
    },
    {
     "name": "stderr",
     "output_type": "stream",
     "text": [
      "\n",
      "0it [00:00, ?it/s]\u001b[A\n",
      "409it [30:37,  3.36s/it]"
     ]
    },
    {
     "name": "stdout",
     "output_type": "stream",
     "text": [
      "409\n"
     ]
    },
    {
     "name": "stderr",
     "output_type": "stream",
     "text": [
      "\n",
      "0it [00:00, ?it/s]\u001b[A\n",
      "410it [30:37,  2.55s/it]"
     ]
    },
    {
     "name": "stdout",
     "output_type": "stream",
     "text": [
      "410\n"
     ]
    },
    {
     "name": "stderr",
     "output_type": "stream",
     "text": [
      "\n",
      "  0%|                                                     | 0/1 [00:00<?, ?it/s]\u001b[A\n",
      "100%|█████████████████████████████████████████████| 1/1 [00:00<00:00,  1.91it/s]\u001b[A\n",
      "411it [30:38,  2.12s/it]"
     ]
    },
    {
     "name": "stdout",
     "output_type": "stream",
     "text": [
      "411\n"
     ]
    },
    {
     "name": "stderr",
     "output_type": "stream",
     "text": [
      "\n",
      "0it [00:00, ?it/s]\u001b[A\n",
      "412it [30:39,  1.65s/it]"
     ]
    },
    {
     "name": "stdout",
     "output_type": "stream",
     "text": [
      "412\n"
     ]
    },
    {
     "name": "stderr",
     "output_type": "stream",
     "text": [
      "\n",
      "0it [00:00, ?it/s]\u001b[A\n",
      "413it [30:40,  1.33s/it]"
     ]
    },
    {
     "name": "stdout",
     "output_type": "stream",
     "text": [
      "413\n"
     ]
    },
    {
     "name": "stderr",
     "output_type": "stream",
     "text": [
      "\n",
      "0it [00:00, ?it/s]\u001b[A\n",
      "414it [30:40,  1.10s/it]"
     ]
    },
    {
     "name": "stdout",
     "output_type": "stream",
     "text": [
      "414\n"
     ]
    },
    {
     "name": "stderr",
     "output_type": "stream",
     "text": [
      "\n",
      "  0%|                                                     | 0/8 [00:00<?, ?it/s]\u001b[A\n",
      " 12%|█████▋                                       | 1/8 [00:00<00:04,  1.68it/s]\u001b[A\n",
      " 25%|███████████▎                                 | 2/8 [00:01<00:03,  1.70it/s]\u001b[A\n",
      " 38%|████████████████▉                            | 3/8 [00:01<00:02,  1.70it/s]\u001b[A\n",
      " 50%|██████████████████████▌                      | 4/8 [00:02<00:02,  1.75it/s]\u001b[A\n",
      " 62%|████████████████████████████▏                | 5/8 [00:02<00:01,  1.76it/s]\u001b[A\n",
      " 75%|█████████████████████████████████▊           | 6/8 [00:03<00:01,  1.74it/s]\u001b[A\n",
      " 88%|███████████████████████████████████████▍     | 7/8 [00:03<00:00,  1.78it/s]\u001b[A\n",
      "100%|█████████████████████████████████████████████| 8/8 [00:04<00:00,  1.72it/s]\u001b[A\n",
      "415it [30:45,  2.37s/it]"
     ]
    },
    {
     "name": "stdout",
     "output_type": "stream",
     "text": [
      "415\n"
     ]
    },
    {
     "name": "stderr",
     "output_type": "stream",
     "text": [
      "\n",
      "0it [00:00, ?it/s]\u001b[A\n",
      "416it [30:46,  1.91s/it]"
     ]
    },
    {
     "name": "stdout",
     "output_type": "stream",
     "text": [
      "416\n"
     ]
    },
    {
     "name": "stderr",
     "output_type": "stream",
     "text": [
      "\n",
      "0it [00:00, ?it/s]\u001b[A\n",
      "417it [30:47,  1.52s/it]"
     ]
    },
    {
     "name": "stdout",
     "output_type": "stream",
     "text": [
      "417\n"
     ]
    },
    {
     "name": "stderr",
     "output_type": "stream",
     "text": [
      "\n",
      "  0%|                                                     | 0/5 [00:00<?, ?it/s]\u001b[A\n",
      " 20%|█████████                                    | 1/5 [00:00<00:03,  1.22it/s]\u001b[A\n",
      " 40%|██████████████████                           | 2/5 [00:01<00:02,  1.43it/s]\u001b[A\n",
      " 60%|███████████████████████████                  | 3/5 [00:01<00:01,  1.61it/s]\u001b[A\n",
      " 80%|████████████████████████████████████         | 4/5 [00:02<00:00,  1.70it/s]\u001b[A\n",
      "100%|█████████████████████████████████████████████| 5/5 [00:03<00:00,  1.65it/s]\u001b[A\n",
      "418it [30:51,  2.15s/it]"
     ]
    },
    {
     "name": "stdout",
     "output_type": "stream",
     "text": [
      "418\n"
     ]
    },
    {
     "name": "stderr",
     "output_type": "stream",
     "text": [
      "\n",
      "  0%|                                                     | 0/3 [00:00<?, ?it/s]\u001b[A\n",
      " 33%|███████████████                              | 1/3 [00:00<00:01,  1.89it/s]\u001b[A\n",
      " 67%|██████████████████████████████               | 2/3 [00:01<00:00,  1.75it/s]\u001b[A\n",
      "100%|█████████████████████████████████████████████| 3/3 [00:01<00:00,  1.82it/s]\u001b[A\n",
      "419it [30:53,  2.18s/it]"
     ]
    },
    {
     "name": "stdout",
     "output_type": "stream",
     "text": [
      "419\n"
     ]
    },
    {
     "name": "stderr",
     "output_type": "stream",
     "text": [
      "\n",
      "  0%|                                                    | 0/17 [00:00<?, ?it/s]\u001b[A\n",
      "  6%|██▌                                         | 1/17 [00:00<00:08,  1.95it/s]\u001b[A\n",
      " 12%|█████▏                                      | 2/17 [00:01<00:08,  1.78it/s]\u001b[A\n",
      " 18%|███████▊                                    | 3/17 [00:01<00:07,  1.76it/s]\u001b[A\n",
      " 24%|██████████▎                                 | 4/17 [00:02<00:07,  1.74it/s]\u001b[A\n",
      " 29%|████████████▉                               | 5/17 [00:02<00:06,  1.75it/s]\u001b[A\n",
      " 35%|███████████████▌                            | 6/17 [00:03<00:06,  1.74it/s]\u001b[A\n",
      " 41%|██████████████████                          | 7/17 [00:03<00:05,  1.79it/s]\u001b[A\n",
      " 47%|████████████████████▋                       | 8/17 [00:04<00:04,  1.82it/s]\u001b[A\n",
      " 53%|███████████████████████▎                    | 9/17 [00:05<00:04,  1.77it/s]\u001b[A\n",
      " 59%|█████████████████████████▎                 | 10/17 [00:05<00:03,  1.83it/s]\u001b[A\n",
      " 65%|███████████████████████████▊               | 11/17 [00:06<00:03,  1.84it/s]\u001b[A\n",
      " 71%|██████████████████████████████▎            | 12/17 [00:06<00:02,  1.84it/s]\u001b[A\n",
      " 76%|████████████████████████████████▉          | 13/17 [00:07<00:02,  1.77it/s]\u001b[A\n",
      " 82%|███████████████████████████████████▍       | 14/17 [00:07<00:01,  1.82it/s]\u001b[A\n",
      " 88%|█████████████████████████████████████▉     | 15/17 [00:08<00:01,  1.87it/s]\u001b[A\n",
      " 94%|████████████████████████████████████████▍  | 16/17 [00:08<00:00,  1.82it/s]\u001b[A\n",
      "100%|███████████████████████████████████████████| 17/17 [00:09<00:00,  1.79it/s]\u001b[A\n",
      "420it [31:03,  4.57s/it]"
     ]
    },
    {
     "name": "stdout",
     "output_type": "stream",
     "text": [
      "420\n"
     ]
    },
    {
     "name": "stderr",
     "output_type": "stream",
     "text": [
      "\n",
      "  0%|                                                     | 0/6 [00:00<?, ?it/s]\u001b[A\n",
      " 17%|███████▌                                     | 1/6 [00:00<00:02,  1.97it/s]\u001b[A\n",
      " 33%|███████████████                              | 2/6 [00:01<00:02,  1.99it/s]\u001b[A\n",
      " 50%|██████████████████████▌                      | 3/6 [00:01<00:01,  1.97it/s]\u001b[A\n",
      " 67%|██████████████████████████████               | 4/6 [00:02<00:01,  1.92it/s]\u001b[A\n",
      " 83%|█████████████████████████████████████▌       | 5/6 [00:02<00:00,  1.81it/s]\u001b[A\n",
      "100%|█████████████████████████████████████████████| 6/6 [00:03<00:00,  1.84it/s]\u001b[A\n",
      "421it [31:07,  4.38s/it]"
     ]
    },
    {
     "name": "stdout",
     "output_type": "stream",
     "text": [
      "421\n"
     ]
    },
    {
     "name": "stderr",
     "output_type": "stream",
     "text": [
      "\n",
      "0it [00:00, ?it/s]\u001b[A\n",
      "422it [31:07,  3.24s/it]"
     ]
    },
    {
     "name": "stdout",
     "output_type": "stream",
     "text": [
      "422\n"
     ]
    },
    {
     "name": "stderr",
     "output_type": "stream",
     "text": [
      "\n",
      "0it [00:00, ?it/s]\u001b[A\n",
      "423it [31:08,  2.44s/it]"
     ]
    },
    {
     "name": "stdout",
     "output_type": "stream",
     "text": [
      "423\n"
     ]
    },
    {
     "name": "stderr",
     "output_type": "stream",
     "text": [
      "\n",
      "  0%|                                                     | 0/1 [00:00<?, ?it/s]\u001b[A\n",
      "100%|█████████████████████████████████████████████| 1/1 [00:00<00:00,  1.69it/s]\u001b[A\n",
      "424it [31:09,  2.07s/it]"
     ]
    },
    {
     "name": "stdout",
     "output_type": "stream",
     "text": [
      "424\n"
     ]
    },
    {
     "name": "stderr",
     "output_type": "stream",
     "text": [
      "\n",
      "0it [00:00, ?it/s]\u001b[A\n",
      "425it [31:10,  1.64s/it]"
     ]
    },
    {
     "name": "stdout",
     "output_type": "stream",
     "text": [
      "425\n"
     ]
    },
    {
     "name": "stderr",
     "output_type": "stream",
     "text": [
      "\n",
      "0it [00:00, ?it/s]\u001b[A\n",
      "426it [31:10,  1.32s/it]"
     ]
    },
    {
     "name": "stdout",
     "output_type": "stream",
     "text": [
      "426\n"
     ]
    },
    {
     "name": "stderr",
     "output_type": "stream",
     "text": [
      "\n",
      "  0%|                                                    | 0/49 [00:00<?, ?it/s]\u001b[A\n",
      "  2%|▉                                           | 1/49 [00:00<00:28,  1.67it/s]\u001b[A\n",
      "  4%|█▊                                          | 2/49 [00:01<00:28,  1.67it/s]\u001b[A\n",
      "  6%|██▋                                         | 3/49 [00:01<00:26,  1.77it/s]\u001b[A\n",
      "  8%|███▌                                        | 4/49 [00:02<00:25,  1.80it/s]\u001b[A\n",
      " 10%|████▍                                       | 5/49 [00:02<00:23,  1.87it/s]\u001b[A\n",
      " 12%|█████▍                                      | 6/49 [00:03<00:23,  1.81it/s]\u001b[A\n",
      " 14%|██████▎                                     | 7/49 [00:03<00:23,  1.79it/s]\u001b[A\n",
      " 16%|███████▏                                    | 8/49 [00:04<00:23,  1.75it/s]\u001b[A\n",
      " 18%|████████                                    | 9/49 [00:05<00:25,  1.57it/s]\u001b[A\n",
      " 20%|████████▊                                  | 10/49 [00:06<00:28,  1.35it/s]\u001b[A\n",
      " 22%|█████████▋                                 | 11/49 [00:06<00:25,  1.47it/s]\u001b[A\n",
      " 24%|██████████▌                                | 12/49 [00:07<00:23,  1.59it/s]\u001b[A\n",
      " 27%|███████████▍                               | 13/49 [00:07<00:23,  1.56it/s]\u001b[A\n",
      " 29%|████████████▎                              | 14/49 [00:08<00:22,  1.57it/s]\u001b[A\n",
      " 31%|█████████████▏                             | 15/49 [00:09<00:21,  1.58it/s]\u001b[A\n",
      " 33%|██████████████                             | 16/49 [00:09<00:19,  1.67it/s]\u001b[A\n",
      " 35%|██████████████▉                            | 17/49 [00:10<00:18,  1.69it/s]\u001b[A\n",
      " 37%|███████████████▊                           | 18/49 [00:10<00:17,  1.74it/s]\u001b[A\n",
      " 39%|████████████████▋                          | 19/49 [00:11<00:16,  1.79it/s]\u001b[A\n",
      " 41%|█████████████████▌                         | 20/49 [00:12<00:16,  1.75it/s]\u001b[A\n",
      " 43%|██████████████████▍                        | 21/49 [00:12<00:16,  1.72it/s]\u001b[A\n",
      " 45%|███████████████████▎                       | 22/49 [00:13<00:15,  1.74it/s]\u001b[A\n",
      " 47%|████████████████████▏                      | 23/49 [00:13<00:15,  1.70it/s]\u001b[A\n",
      " 49%|█████████████████████                      | 24/49 [00:14<00:14,  1.70it/s]\u001b[A\n",
      " 51%|█████████████████████▉                     | 25/49 [00:14<00:13,  1.72it/s]\u001b[A\n",
      " 53%|██████████████████████▊                    | 26/49 [00:15<00:13,  1.71it/s]\u001b[A\n",
      " 55%|███████████████████████▋                   | 27/49 [00:16<00:12,  1.76it/s]\u001b[A\n",
      " 57%|████████████████████████▌                  | 28/49 [00:16<00:11,  1.80it/s]\u001b[A\n",
      " 59%|█████████████████████████▍                 | 29/49 [00:17<00:10,  1.82it/s]\u001b[A\n",
      " 61%|██████████████████████████▎                | 30/49 [00:17<00:10,  1.75it/s]\u001b[A\n",
      " 63%|███████████████████████████▏               | 31/49 [00:18<00:10,  1.73it/s]\u001b[A\n",
      " 65%|████████████████████████████               | 32/49 [00:18<00:09,  1.77it/s]\u001b[A\n",
      " 67%|████████████████████████████▉              | 33/49 [00:19<00:09,  1.74it/s]\u001b[A\n",
      " 69%|█████████████████████████████▊             | 34/49 [00:20<00:08,  1.75it/s]\u001b[A\n",
      " 71%|██████████████████████████████▋            | 35/49 [00:20<00:07,  1.78it/s]\u001b[A\n",
      " 73%|███████████████████████████████▌           | 36/49 [00:21<00:07,  1.79it/s]\u001b[A\n",
      " 76%|████████████████████████████████▍          | 37/49 [00:21<00:06,  1.73it/s]\u001b[A\n",
      " 78%|█████████████████████████████████▎         | 38/49 [00:22<00:06,  1.74it/s]\u001b[A\n",
      " 80%|██████████████████████████████████▏        | 39/49 [00:22<00:05,  1.79it/s]\u001b[A\n",
      " 82%|███████████████████████████████████        | 40/49 [00:23<00:04,  1.85it/s]\u001b[A\n",
      " 84%|███████████████████████████████████▉       | 41/49 [00:23<00:04,  1.83it/s]\u001b[A\n",
      " 86%|████████████████████████████████████▊      | 42/49 [00:24<00:03,  1.88it/s]\u001b[A\n",
      " 88%|█████████████████████████████████████▋     | 43/49 [00:24<00:03,  1.82it/s]\u001b[A\n",
      " 90%|██████████████████████████████████████▌    | 44/49 [00:25<00:02,  1.80it/s]\u001b[A\n",
      " 92%|███████████████████████████████████████▍   | 45/49 [00:26<00:02,  1.80it/s]\u001b[A\n",
      " 94%|████████████████████████████████████████▎  | 46/49 [00:26<00:01,  1.85it/s]\u001b[A\n",
      " 96%|█████████████████████████████████████████▏ | 47/49 [00:27<00:01,  1.85it/s]\u001b[A\n",
      " 98%|██████████████████████████████████████████ | 48/49 [00:27<00:00,  1.77it/s]\u001b[A\n",
      "100%|███████████████████████████████████████████| 49/49 [00:28<00:00,  1.73it/s]\u001b[A\n",
      "427it [31:39,  9.62s/it]"
     ]
    },
    {
     "name": "stdout",
     "output_type": "stream",
     "text": [
      "427\n"
     ]
    },
    {
     "name": "stderr",
     "output_type": "stream",
     "text": [
      "\n",
      "  0%|                                                     | 0/5 [00:00<?, ?it/s]\u001b[A\n",
      " 20%|█████████                                    | 1/5 [00:00<00:02,  1.88it/s]\u001b[A\n",
      " 40%|██████████████████                           | 2/5 [00:01<00:01,  1.85it/s]\u001b[A\n",
      " 60%|███████████████████████████                  | 3/5 [00:01<00:01,  1.78it/s]\u001b[A\n",
      " 80%|████████████████████████████████████         | 4/5 [00:02<00:00,  1.73it/s]\u001b[A\n",
      "100%|█████████████████████████████████████████████| 5/5 [00:02<00:00,  1.79it/s]\u001b[A\n",
      "428it [31:43,  7.76s/it]"
     ]
    },
    {
     "name": "stdout",
     "output_type": "stream",
     "text": [
      "428\n"
     ]
    },
    {
     "name": "stderr",
     "output_type": "stream",
     "text": [
      "\n",
      "  0%|                                                     | 0/6 [00:00<?, ?it/s]\u001b[A\n",
      " 17%|███████▌                                     | 1/6 [00:00<00:02,  1.94it/s]\u001b[A\n",
      " 33%|███████████████                              | 2/6 [00:01<00:02,  1.93it/s]\u001b[A\n",
      " 50%|██████████████████████▌                      | 3/6 [00:01<00:01,  1.84it/s]\u001b[A\n",
      " 67%|██████████████████████████████               | 4/6 [00:02<00:01,  1.90it/s]\u001b[A\n",
      " 83%|█████████████████████████████████████▌       | 5/6 [00:02<00:00,  1.88it/s]\u001b[A\n",
      "100%|█████████████████████████████████████████████| 6/6 [00:03<00:00,  1.90it/s]\u001b[A\n",
      "429it [31:47,  6.55s/it]"
     ]
    },
    {
     "name": "stdout",
     "output_type": "stream",
     "text": [
      "429\n"
     ]
    },
    {
     "name": "stderr",
     "output_type": "stream",
     "text": [
      "\n",
      "  0%|                                                     | 0/7 [00:00<?, ?it/s]\u001b[A\n",
      " 14%|██████▍                                      | 1/7 [00:00<00:03,  1.90it/s]\u001b[A\n",
      " 29%|████████████▊                                | 2/7 [00:01<00:02,  1.67it/s]\u001b[A\n",
      " 43%|███████████████████▎                         | 3/7 [00:01<00:02,  1.71it/s]\u001b[A\n",
      " 57%|█████████████████████████▋                   | 4/7 [00:02<00:01,  1.69it/s]\u001b[A\n",
      " 71%|████████████████████████████████▏            | 5/7 [00:02<00:01,  1.76it/s]\u001b[A\n",
      " 86%|██████████████████████████████████████▌      | 6/7 [00:03<00:00,  1.33it/s]\u001b[A\n",
      "100%|█████████████████████████████████████████████| 7/7 [00:04<00:00,  1.56it/s]\u001b[A\n",
      "430it [31:52,  6.16s/it]"
     ]
    },
    {
     "name": "stdout",
     "output_type": "stream",
     "text": [
      "430\n"
     ]
    },
    {
     "name": "stderr",
     "output_type": "stream",
     "text": [
      "\n",
      "  0%|                                                     | 0/1 [00:00<?, ?it/s]\u001b[A\n",
      "100%|█████████████████████████████████████████████| 1/1 [00:00<00:00,  1.91it/s]\u001b[A\n",
      "431it [31:53,  4.66s/it]"
     ]
    },
    {
     "name": "stdout",
     "output_type": "stream",
     "text": [
      "431\n"
     ]
    },
    {
     "name": "stderr",
     "output_type": "stream",
     "text": [
      "\n",
      "0it [00:00, ?it/s]\u001b[A\n",
      "432it [31:53,  3.43s/it]"
     ]
    },
    {
     "name": "stdout",
     "output_type": "stream",
     "text": [
      "432\n"
     ]
    },
    {
     "name": "stderr",
     "output_type": "stream",
     "text": [
      "\n",
      "0it [00:00, ?it/s]\u001b[A\n",
      "433it [31:54,  2.57s/it]"
     ]
    },
    {
     "name": "stdout",
     "output_type": "stream",
     "text": [
      "433\n"
     ]
    },
    {
     "name": "stderr",
     "output_type": "stream",
     "text": [
      "\n",
      "  0%|                                                     | 0/6 [00:00<?, ?it/s]\u001b[A\n",
      " 17%|███████▌                                     | 1/6 [00:00<00:02,  1.89it/s]\u001b[A\n",
      " 33%|███████████████                              | 2/6 [00:01<00:02,  1.92it/s]\u001b[A\n",
      " 50%|██████████████████████▌                      | 3/6 [00:01<00:01,  1.85it/s]\u001b[A\n",
      " 67%|██████████████████████████████               | 4/6 [00:02<00:01,  1.89it/s]\u001b[A\n",
      " 83%|█████████████████████████████████████▌       | 5/6 [00:02<00:00,  1.89it/s]\u001b[A\n",
      "100%|█████████████████████████████████████████████| 6/6 [00:03<00:00,  1.88it/s]\u001b[A\n",
      "434it [31:58,  2.95s/it]"
     ]
    },
    {
     "name": "stdout",
     "output_type": "stream",
     "text": [
      "434\n"
     ]
    },
    {
     "name": "stderr",
     "output_type": "stream",
     "text": [
      "\n",
      "  0%|                                                    | 0/15 [00:00<?, ?it/s]\u001b[A\n",
      "  7%|██▉                                         | 1/15 [00:00<00:08,  1.72it/s]\u001b[A\n",
      " 13%|█████▊                                      | 2/15 [00:01<00:07,  1.82it/s]\u001b[A\n",
      " 20%|████████▊                                   | 3/15 [00:01<00:06,  1.89it/s]\u001b[A\n",
      " 27%|███████████▋                                | 4/15 [00:02<00:05,  1.91it/s]\u001b[A\n",
      " 33%|██████████████▋                             | 5/15 [00:02<00:05,  1.89it/s]\u001b[A\n",
      " 40%|█████████████████▌                          | 6/15 [00:03<00:04,  1.88it/s]\u001b[A\n",
      " 47%|████████████████████▌                       | 7/15 [00:03<00:04,  1.79it/s]\u001b[A\n",
      " 53%|███████████████████████▍                    | 8/15 [00:04<00:03,  1.81it/s]\u001b[A\n",
      " 60%|██████████████████████████▍                 | 9/15 [00:04<00:03,  1.83it/s]\u001b[A\n",
      " 67%|████████████████████████████▋              | 10/15 [00:05<00:02,  1.86it/s]\u001b[A\n",
      " 73%|███████████████████████████████▌           | 11/15 [00:05<00:02,  1.87it/s]\u001b[A\n",
      " 80%|██████████████████████████████████▍        | 12/15 [00:06<00:01,  1.80it/s]\u001b[A\n",
      " 87%|█████████████████████████████████████▎     | 13/15 [00:07<00:01,  1.78it/s]\u001b[A\n",
      " 93%|████████████████████████████████████████▏  | 14/15 [00:07<00:00,  1.82it/s]\u001b[A\n",
      "100%|███████████████████████████████████████████| 15/15 [00:08<00:00,  1.83it/s]\u001b[A\n",
      "435it [32:07,  4.72s/it]"
     ]
    },
    {
     "name": "stdout",
     "output_type": "stream",
     "text": [
      "435\n"
     ]
    },
    {
     "name": "stderr",
     "output_type": "stream",
     "text": [
      "\n",
      "  0%|                                                     | 0/7 [00:00<?, ?it/s]\u001b[A\n",
      " 14%|██████▍                                      | 1/7 [00:00<00:03,  1.81it/s]\u001b[A\n",
      " 29%|████████████▊                                | 2/7 [00:01<00:02,  1.93it/s]\u001b[A\n",
      " 43%|███████████████████▎                         | 3/7 [00:01<00:02,  1.98it/s]\u001b[A\n",
      " 57%|█████████████████████████▋                   | 4/7 [00:02<00:01,  1.97it/s]\u001b[A\n",
      " 71%|████████████████████████████████▏            | 5/7 [00:02<00:01,  1.96it/s]\u001b[A\n",
      " 86%|██████████████████████████████████████▌      | 6/7 [00:03<00:00,  1.96it/s]\u001b[A\n",
      "100%|█████████████████████████████████████████████| 7/7 [00:03<00:00,  1.96it/s]\u001b[A\n",
      "436it [32:11,  4.59s/it]"
     ]
    },
    {
     "name": "stdout",
     "output_type": "stream",
     "text": [
      "436\n"
     ]
    },
    {
     "name": "stderr",
     "output_type": "stream",
     "text": [
      "\n",
      "0it [00:00, ?it/s]\u001b[A\n",
      "437it [32:12,  3.37s/it]"
     ]
    },
    {
     "name": "stdout",
     "output_type": "stream",
     "text": [
      "437\n"
     ]
    },
    {
     "name": "stderr",
     "output_type": "stream",
     "text": [
      "\n",
      "0it [00:00, ?it/s]\u001b[A\n",
      "438it [32:12,  2.55s/it]"
     ]
    },
    {
     "name": "stdout",
     "output_type": "stream",
     "text": [
      "438\n"
     ]
    },
    {
     "name": "stderr",
     "output_type": "stream",
     "text": [
      "\n",
      "0it [00:00, ?it/s]\u001b[A\n",
      "439it [32:13,  1.96s/it]"
     ]
    },
    {
     "name": "stdout",
     "output_type": "stream",
     "text": [
      "439\n"
     ]
    },
    {
     "name": "stderr",
     "output_type": "stream",
     "text": [
      "\n",
      "0it [00:00, ?it/s]\u001b[A\n",
      "440it [32:13,  1.56s/it]"
     ]
    },
    {
     "name": "stdout",
     "output_type": "stream",
     "text": [
      "440\n"
     ]
    },
    {
     "name": "stderr",
     "output_type": "stream",
     "text": [
      "\n",
      "  0%|                                                     | 0/3 [00:00<?, ?it/s]\u001b[A\n",
      " 33%|███████████████                              | 1/3 [00:00<00:01,  1.97it/s]\u001b[A\n",
      " 67%|██████████████████████████████               | 2/3 [00:01<00:00,  1.88it/s]\u001b[A\n",
      "100%|█████████████████████████████████████████████| 3/3 [00:01<00:00,  1.89it/s]\u001b[A\n",
      "441it [32:16,  1.75s/it]"
     ]
    },
    {
     "name": "stdout",
     "output_type": "stream",
     "text": [
      "441\n"
     ]
    },
    {
     "name": "stderr",
     "output_type": "stream",
     "text": [
      "\n",
      "  0%|                                                     | 0/8 [00:00<?, ?it/s]\u001b[A\n",
      " 12%|█████▋                                       | 1/8 [00:00<00:03,  1.96it/s]\u001b[A\n",
      " 25%|███████████▎                                 | 2/8 [00:01<00:03,  1.70it/s]\u001b[A\n",
      " 38%|████████████████▉                            | 3/8 [00:01<00:02,  1.83it/s]\u001b[A\n",
      " 50%|██████████████████████▌                      | 4/8 [00:02<00:02,  1.80it/s]\u001b[A\n",
      " 62%|████████████████████████████▏                | 5/8 [00:02<00:01,  1.80it/s]\u001b[A\n",
      " 75%|█████████████████████████████████▊           | 6/8 [00:03<00:01,  1.71it/s]\u001b[A\n",
      " 88%|███████████████████████████████████████▍     | 7/8 [00:04<00:00,  1.65it/s]\u001b[A\n",
      "100%|█████████████████████████████████████████████| 8/8 [00:04<00:00,  1.73it/s]\u001b[A\n",
      "442it [32:21,  2.81s/it]"
     ]
    },
    {
     "name": "stdout",
     "output_type": "stream",
     "text": [
      "442\n"
     ]
    },
    {
     "name": "stderr",
     "output_type": "stream",
     "text": [
      "\n",
      "  0%|                                                     | 0/1 [00:00<?, ?it/s]\u001b[A\n",
      "100%|█████████████████████████████████████████████| 1/1 [00:00<00:00,  1.84it/s]\u001b[A\n",
      "443it [32:22,  2.35s/it]"
     ]
    },
    {
     "name": "stdout",
     "output_type": "stream",
     "text": [
      "443\n"
     ]
    },
    {
     "name": "stderr",
     "output_type": "stream",
     "text": [
      "\n",
      "  0%|                                                     | 0/5 [00:00<?, ?it/s]\u001b[A\n",
      " 20%|█████████                                    | 1/5 [00:00<00:02,  1.64it/s]\u001b[A\n",
      " 40%|██████████████████                           | 2/5 [00:01<00:01,  1.77it/s]\u001b[A\n",
      " 60%|███████████████████████████                  | 3/5 [00:01<00:01,  1.82it/s]\u001b[A\n",
      " 80%|████████████████████████████████████         | 4/5 [00:02<00:00,  1.78it/s]\u001b[A\n",
      "100%|█████████████████████████████████████████████| 5/5 [00:02<00:00,  1.79it/s]\u001b[A\n",
      "444it [32:26,  2.68s/it]"
     ]
    },
    {
     "name": "stdout",
     "output_type": "stream",
     "text": [
      "444\n"
     ]
    },
    {
     "name": "stderr",
     "output_type": "stream",
     "text": [
      "\n",
      "  0%|                                                     | 0/3 [00:00<?, ?it/s]\u001b[A\n",
      " 33%|███████████████                              | 1/3 [00:00<00:01,  1.63it/s]\u001b[A\n",
      " 67%|██████████████████████████████               | 2/3 [00:01<00:00,  1.63it/s]\u001b[A\n",
      "100%|█████████████████████████████████████████████| 3/3 [00:01<00:00,  1.69it/s]\u001b[A\n",
      "445it [32:28,  2.59s/it]"
     ]
    },
    {
     "name": "stdout",
     "output_type": "stream",
     "text": [
      "445\n"
     ]
    },
    {
     "name": "stderr",
     "output_type": "stream",
     "text": [
      "\n",
      "  0%|                                                     | 0/5 [00:00<?, ?it/s]\u001b[A\n",
      " 20%|█████████                                    | 1/5 [00:00<00:02,  1.81it/s]\u001b[A\n",
      " 40%|██████████████████                           | 2/5 [00:01<00:01,  1.80it/s]\u001b[A\n",
      " 60%|███████████████████████████                  | 3/5 [00:01<00:01,  1.90it/s]\u001b[A\n",
      " 80%|████████████████████████████████████         | 4/5 [00:02<00:00,  1.89it/s]\u001b[A\n",
      "100%|█████████████████████████████████████████████| 5/5 [00:02<00:00,  1.76it/s]\u001b[A\n",
      "446it [32:32,  2.88s/it]"
     ]
    },
    {
     "name": "stdout",
     "output_type": "stream",
     "text": [
      "446\n"
     ]
    },
    {
     "name": "stderr",
     "output_type": "stream",
     "text": [
      "\n",
      "0it [00:00, ?it/s]\u001b[A\n",
      "447it [32:32,  2.23s/it]"
     ]
    },
    {
     "name": "stdout",
     "output_type": "stream",
     "text": [
      "447\n"
     ]
    },
    {
     "name": "stderr",
     "output_type": "stream",
     "text": [
      "\n",
      "0it [00:00, ?it/s]\u001b[A\n",
      "448it [32:33,  1.77s/it]"
     ]
    },
    {
     "name": "stdout",
     "output_type": "stream",
     "text": [
      "448\n"
     ]
    },
    {
     "name": "stderr",
     "output_type": "stream",
     "text": [
      "\n",
      "  0%|                                                     | 0/7 [00:00<?, ?it/s]\u001b[A\n",
      " 14%|██████▍                                      | 1/7 [00:00<00:03,  1.64it/s]\u001b[A\n",
      " 29%|████████████▊                                | 2/7 [00:01<00:02,  1.69it/s]\u001b[A\n",
      " 43%|███████████████████▎                         | 3/7 [00:01<00:02,  1.73it/s]\u001b[A\n",
      " 57%|█████████████████████████▋                   | 4/7 [00:02<00:01,  1.76it/s]\u001b[A\n",
      " 71%|████████████████████████████████▏            | 5/7 [00:02<00:01,  1.81it/s]\u001b[A\n",
      " 86%|██████████████████████████████████████▌      | 6/7 [00:03<00:00,  1.82it/s]\u001b[A\n",
      "100%|█████████████████████████████████████████████| 7/7 [00:03<00:00,  1.76it/s]\u001b[A\n",
      "449it [32:38,  2.65s/it]"
     ]
    },
    {
     "name": "stdout",
     "output_type": "stream",
     "text": [
      "449\n"
     ]
    },
    {
     "name": "stderr",
     "output_type": "stream",
     "text": [
      "\n",
      "  0%|                                                     | 0/9 [00:00<?, ?it/s]\u001b[A\n",
      " 11%|█████                                        | 1/9 [00:00<00:04,  1.90it/s]\u001b[A\n",
      " 22%|██████████                                   | 2/9 [00:01<00:03,  1.91it/s]\u001b[A\n",
      " 33%|███████████████                              | 3/9 [00:01<00:03,  1.93it/s]\u001b[A\n",
      " 44%|████████████████████                         | 4/9 [00:02<00:02,  1.96it/s]\u001b[A\n",
      " 56%|█████████████████████████                    | 5/9 [00:02<00:02,  1.81it/s]\u001b[A\n",
      " 67%|██████████████████████████████               | 6/9 [00:03<00:01,  1.81it/s]\u001b[A\n",
      " 78%|███████████████████████████████████          | 7/9 [00:03<00:01,  1.86it/s]\u001b[A\n",
      " 89%|████████████████████████████████████████     | 8/9 [00:04<00:00,  1.72it/s]\u001b[A\n",
      "100%|█████████████████████████████████████████████| 9/9 [00:04<00:00,  1.80it/s]\u001b[A\n",
      "450it [32:43,  3.57s/it]"
     ]
    },
    {
     "name": "stdout",
     "output_type": "stream",
     "text": [
      "450\n"
     ]
    },
    {
     "name": "stderr",
     "output_type": "stream",
     "text": [
      "\n",
      "  0%|                                                     | 0/4 [00:00<?, ?it/s]\u001b[A\n",
      " 25%|███████████▎                                 | 1/4 [00:00<00:01,  2.08it/s]\u001b[A\n",
      " 50%|██████████████████████▌                      | 2/4 [00:01<00:01,  1.92it/s]\u001b[A\n",
      " 75%|█████████████████████████████████▊           | 3/4 [00:01<00:00,  1.87it/s]\u001b[A\n",
      "100%|█████████████████████████████████████████████| 4/4 [00:02<00:00,  1.89it/s]\u001b[A\n",
      "451it [32:46,  3.34s/it]"
     ]
    },
    {
     "name": "stdout",
     "output_type": "stream",
     "text": [
      "451\n"
     ]
    },
    {
     "name": "stderr",
     "output_type": "stream",
     "text": [
      "\n",
      "  0%|                                                     | 0/1 [00:00<?, ?it/s]\u001b[A\n",
      "100%|█████████████████████████████████████████████| 1/1 [00:00<00:00,  1.84it/s]\u001b[A\n",
      "452it [32:47,  2.69s/it]"
     ]
    },
    {
     "name": "stdout",
     "output_type": "stream",
     "text": [
      "452\n"
     ]
    },
    {
     "name": "stderr",
     "output_type": "stream",
     "text": [
      "\n",
      "  0%|                                                     | 0/6 [00:00<?, ?it/s]\u001b[A\n",
      " 17%|███████▌                                     | 1/6 [00:00<00:02,  1.86it/s]\u001b[A\n",
      " 33%|███████████████                              | 2/6 [00:01<00:02,  1.82it/s]\u001b[A\n",
      " 50%|██████████████████████▌                      | 3/6 [00:01<00:01,  1.67it/s]\u001b[A\n",
      " 67%|██████████████████████████████               | 4/6 [00:02<00:01,  1.62it/s]\u001b[A\n",
      " 83%|█████████████████████████████████████▌       | 5/6 [00:02<00:00,  1.71it/s]\u001b[A\n",
      "100%|█████████████████████████████████████████████| 6/6 [00:03<00:00,  1.73it/s]\u001b[A\n",
      "453it [32:52,  3.16s/it]"
     ]
    },
    {
     "name": "stdout",
     "output_type": "stream",
     "text": [
      "453\n"
     ]
    },
    {
     "name": "stderr",
     "output_type": "stream",
     "text": [
      "\n",
      "0it [00:00, ?it/s]\u001b[A\n",
      "454it [32:52,  2.39s/it]"
     ]
    },
    {
     "name": "stdout",
     "output_type": "stream",
     "text": [
      "454\n"
     ]
    },
    {
     "name": "stderr",
     "output_type": "stream",
     "text": [
      "\n",
      "0it [00:00, ?it/s]\u001b[A\n",
      "455it [32:53,  1.84s/it]"
     ]
    },
    {
     "name": "stdout",
     "output_type": "stream",
     "text": [
      "455\n"
     ]
    },
    {
     "name": "stderr",
     "output_type": "stream",
     "text": [
      "\n",
      "0it [00:00, ?it/s]\u001b[A\n",
      "456it [32:53,  1.46s/it]"
     ]
    },
    {
     "name": "stdout",
     "output_type": "stream",
     "text": [
      "456\n"
     ]
    },
    {
     "name": "stderr",
     "output_type": "stream",
     "text": [
      "\n",
      "  0%|                                                     | 0/3 [00:00<?, ?it/s]\u001b[A\n",
      " 33%|███████████████                              | 1/3 [00:00<00:01,  1.64it/s]\u001b[A\n",
      " 67%|██████████████████████████████               | 2/3 [00:01<00:00,  1.81it/s]\u001b[A\n",
      "100%|█████████████████████████████████████████████| 3/3 [00:01<00:00,  1.80it/s]\u001b[A\n",
      "457it [32:56,  1.82s/it]"
     ]
    },
    {
     "name": "stdout",
     "output_type": "stream",
     "text": [
      "457\n"
     ]
    },
    {
     "name": "stderr",
     "output_type": "stream",
     "text": [
      "\n",
      "0it [00:00, ?it/s]\u001b[A\n",
      "458it [32:57,  1.46s/it]"
     ]
    },
    {
     "name": "stdout",
     "output_type": "stream",
     "text": [
      "458\n"
     ]
    },
    {
     "name": "stderr",
     "output_type": "stream",
     "text": [
      "\n",
      "  0%|                                                     | 0/9 [00:00<?, ?it/s]\u001b[A\n",
      " 11%|█████                                        | 1/9 [00:00<00:04,  1.93it/s]\u001b[A\n",
      " 22%|██████████                                   | 2/9 [00:01<00:03,  1.88it/s]\u001b[A\n",
      " 33%|███████████████                              | 3/9 [00:01<00:03,  1.76it/s]\u001b[A\n",
      " 44%|████████████████████                         | 4/9 [00:02<00:02,  1.76it/s]\u001b[A\n",
      " 56%|█████████████████████████                    | 5/9 [00:02<00:02,  1.78it/s]\u001b[A\n",
      " 67%|██████████████████████████████               | 6/9 [00:03<00:01,  1.70it/s]\u001b[A\n",
      " 78%|███████████████████████████████████          | 7/9 [00:04<00:01,  1.68it/s]\u001b[A\n",
      " 89%|████████████████████████████████████████     | 8/9 [00:04<00:00,  1.77it/s]\u001b[A\n",
      "100%|█████████████████████████████████████████████| 9/9 [00:05<00:00,  1.77it/s]\u001b[A\n",
      "459it [33:02,  2.72s/it]"
     ]
    },
    {
     "name": "stdout",
     "output_type": "stream",
     "text": [
      "459\n"
     ]
    },
    {
     "name": "stderr",
     "output_type": "stream",
     "text": [
      "\n",
      "  0%|                                                     | 0/1 [00:00<?, ?it/s]\u001b[A\n",
      "100%|█████████████████████████████████████████████| 1/1 [00:00<00:00,  1.74it/s]\u001b[A\n",
      "460it [33:03,  2.26s/it]"
     ]
    },
    {
     "name": "stdout",
     "output_type": "stream",
     "text": [
      "460\n"
     ]
    },
    {
     "name": "stderr",
     "output_type": "stream",
     "text": [
      "\n",
      "0it [00:00, ?it/s]\u001b[A\n",
      "461it [33:04,  1.76s/it]"
     ]
    },
    {
     "name": "stdout",
     "output_type": "stream",
     "text": [
      "461\n"
     ]
    },
    {
     "name": "stderr",
     "output_type": "stream",
     "text": [
      "\n",
      "0it [00:00, ?it/s]\u001b[A\n",
      "462it [33:05,  1.44s/it]"
     ]
    },
    {
     "name": "stdout",
     "output_type": "stream",
     "text": [
      "462\n"
     ]
    },
    {
     "name": "stderr",
     "output_type": "stream",
     "text": [
      "\n",
      "0it [00:00, ?it/s]\u001b[A\n",
      "463it [33:05,  1.17s/it]"
     ]
    },
    {
     "name": "stdout",
     "output_type": "stream",
     "text": [
      "463\n"
     ]
    },
    {
     "name": "stderr",
     "output_type": "stream",
     "text": [
      "\n",
      "0it [00:00, ?it/s]\u001b[A\n",
      "464it [33:06,  1.02it/s]"
     ]
    },
    {
     "name": "stdout",
     "output_type": "stream",
     "text": [
      "464\n"
     ]
    },
    {
     "name": "stderr",
     "output_type": "stream",
     "text": [
      "\n",
      "  0%|                                                     | 0/1 [00:00<?, ?it/s]\u001b[A\n",
      "100%|█████████████████████████████████████████████| 1/1 [00:00<00:00,  1.63it/s]\u001b[A\n",
      "465it [33:07,  1.05s/it]"
     ]
    },
    {
     "name": "stdout",
     "output_type": "stream",
     "text": [
      "465\n"
     ]
    },
    {
     "name": "stderr",
     "output_type": "stream",
     "text": [
      "\n",
      "0it [00:00, ?it/s]\u001b[A\n",
      "466it [33:08,  1.06it/s]"
     ]
    },
    {
     "name": "stdout",
     "output_type": "stream",
     "text": [
      "466\n"
     ]
    },
    {
     "name": "stderr",
     "output_type": "stream",
     "text": [
      "\n",
      "  0%|                                                     | 0/5 [00:00<?, ?it/s]\u001b[A\n",
      " 20%|█████████                                    | 1/5 [00:00<00:02,  1.94it/s]\u001b[A\n",
      " 40%|██████████████████                           | 2/5 [00:01<00:01,  1.89it/s]\u001b[A\n",
      " 60%|███████████████████████████                  | 3/5 [00:01<00:01,  1.89it/s]\u001b[A\n",
      " 80%|████████████████████████████████████         | 4/5 [00:02<00:00,  1.86it/s]\u001b[A\n",
      "100%|█████████████████████████████████████████████| 5/5 [00:02<00:00,  1.91it/s]\u001b[A\n",
      "467it [33:11,  1.63s/it]"
     ]
    },
    {
     "name": "stdout",
     "output_type": "stream",
     "text": [
      "467\n"
     ]
    },
    {
     "name": "stderr",
     "output_type": "stream",
     "text": [
      "\n",
      "0it [00:00, ?it/s]\u001b[A\n",
      "468it [33:12,  1.31s/it]"
     ]
    },
    {
     "name": "stdout",
     "output_type": "stream",
     "text": [
      "468\n"
     ]
    },
    {
     "name": "stderr",
     "output_type": "stream",
     "text": [
      "\n",
      "  0%|                                                     | 0/8 [00:00<?, ?it/s]\u001b[A\n",
      " 12%|█████▋                                       | 1/8 [00:00<00:03,  1.84it/s]\u001b[A\n",
      " 25%|███████████▎                                 | 2/8 [00:01<00:03,  1.90it/s]\u001b[A\n",
      " 38%|████████████████▉                            | 3/8 [00:01<00:02,  1.86it/s]\u001b[A\n",
      " 50%|██████████████████████▌                      | 4/8 [00:02<00:02,  1.91it/s]\u001b[A\n",
      " 62%|████████████████████████████▏                | 5/8 [00:02<00:01,  1.93it/s]\u001b[A\n",
      " 75%|█████████████████████████████████▊           | 6/8 [00:03<00:01,  1.85it/s]\u001b[A\n",
      " 88%|███████████████████████████████████████▍     | 7/8 [00:03<00:00,  1.85it/s]\u001b[A\n",
      "100%|█████████████████████████████████████████████| 8/8 [00:04<00:00,  1.88it/s]\u001b[A\n",
      "469it [33:16,  2.37s/it]"
     ]
    },
    {
     "name": "stdout",
     "output_type": "stream",
     "text": [
      "469\n"
     ]
    },
    {
     "name": "stderr",
     "output_type": "stream",
     "text": [
      "\n",
      "0it [00:00, ?it/s]\u001b[A\n",
      "470it [33:17,  1.82s/it]"
     ]
    },
    {
     "name": "stdout",
     "output_type": "stream",
     "text": [
      "470\n"
     ]
    },
    {
     "name": "stderr",
     "output_type": "stream",
     "text": [
      "\n",
      "0it [00:00, ?it/s]\u001b[A\n",
      "471it [33:18,  1.46s/it]"
     ]
    },
    {
     "name": "stdout",
     "output_type": "stream",
     "text": [
      "471\n"
     ]
    },
    {
     "name": "stderr",
     "output_type": "stream",
     "text": [
      "\n",
      "  0%|                                                     | 0/2 [00:00<?, ?it/s]\u001b[A\n",
      " 50%|██████████████████████▌                      | 1/2 [00:00<00:00,  1.96it/s]\u001b[A\n",
      "100%|█████████████████████████████████████████████| 2/2 [00:01<00:00,  1.74it/s]\u001b[A\n",
      "472it [33:19,  1.57s/it]"
     ]
    },
    {
     "name": "stdout",
     "output_type": "stream",
     "text": [
      "472\n"
     ]
    },
    {
     "name": "stderr",
     "output_type": "stream",
     "text": [
      "\n",
      "0it [00:00, ?it/s]\u001b[A\n",
      "473it [33:20,  1.29s/it]"
     ]
    },
    {
     "name": "stdout",
     "output_type": "stream",
     "text": [
      "473\n"
     ]
    },
    {
     "name": "stderr",
     "output_type": "stream",
     "text": [
      "\n",
      "0it [00:00, ?it/s]\u001b[A\n",
      "474it [33:21,  1.10s/it]"
     ]
    },
    {
     "name": "stdout",
     "output_type": "stream",
     "text": [
      "474\n"
     ]
    },
    {
     "name": "stderr",
     "output_type": "stream",
     "text": [
      "\n",
      "0it [00:00, ?it/s]\u001b[A\n",
      "475it [33:21,  1.06it/s]"
     ]
    },
    {
     "name": "stdout",
     "output_type": "stream",
     "text": [
      "475\n"
     ]
    },
    {
     "name": "stderr",
     "output_type": "stream",
     "text": [
      "\n",
      "  0%|                                                     | 0/1 [00:00<?, ?it/s]\u001b[A\n",
      "100%|█████████████████████████████████████████████| 1/1 [00:00<00:00,  1.54it/s]\u001b[A\n",
      "476it [33:23,  1.10s/it]"
     ]
    },
    {
     "name": "stdout",
     "output_type": "stream",
     "text": [
      "476\n"
     ]
    },
    {
     "name": "stderr",
     "output_type": "stream",
     "text": [
      "\n",
      "0it [00:00, ?it/s]\u001b[A\n",
      "477it [33:23,  1.01it/s]"
     ]
    },
    {
     "name": "stdout",
     "output_type": "stream",
     "text": [
      "477\n"
     ]
    },
    {
     "name": "stderr",
     "output_type": "stream",
     "text": [
      "\n",
      "0it [00:00, ?it/s]\u001b[A\n",
      "478it [33:24,  1.15it/s]"
     ]
    },
    {
     "name": "stdout",
     "output_type": "stream",
     "text": [
      "478\n"
     ]
    },
    {
     "name": "stderr",
     "output_type": "stream",
     "text": [
      "\n",
      "  0%|                                                     | 0/2 [00:00<?, ?it/s]\u001b[A\n",
      " 50%|██████████████████████▌                      | 1/2 [00:00<00:00,  2.00it/s]\u001b[A\n",
      "100%|█████████████████████████████████████████████| 2/2 [00:01<00:00,  1.92it/s]\u001b[A\n",
      "479it [33:26,  1.11s/it]"
     ]
    },
    {
     "name": "stdout",
     "output_type": "stream",
     "text": [
      "479\n"
     ]
    },
    {
     "name": "stderr",
     "output_type": "stream",
     "text": [
      "\n",
      "  0%|                                                     | 0/3 [00:00<?, ?it/s]\u001b[A\n",
      " 33%|███████████████                              | 1/3 [00:00<00:01,  1.72it/s]\u001b[A\n",
      " 67%|██████████████████████████████               | 2/3 [00:01<00:00,  1.77it/s]\u001b[A\n",
      "100%|█████████████████████████████████████████████| 3/3 [00:01<00:00,  1.73it/s]\u001b[A\n",
      "480it [33:28,  1.48s/it]"
     ]
    },
    {
     "name": "stdout",
     "output_type": "stream",
     "text": [
      "480\n"
     ]
    },
    {
     "name": "stderr",
     "output_type": "stream",
     "text": [
      "\n",
      "  0%|                                                     | 0/1 [00:00<?, ?it/s]\u001b[A\n",
      "100%|█████████████████████████████████████████████| 1/1 [00:00<00:00,  1.92it/s]\u001b[A\n",
      "481it [33:29,  1.41s/it]"
     ]
    },
    {
     "name": "stdout",
     "output_type": "stream",
     "text": [
      "481\n"
     ]
    },
    {
     "name": "stderr",
     "output_type": "stream",
     "text": [
      "\n",
      "  0%|                                                    | 0/38 [00:00<?, ?it/s]\u001b[A\n",
      "  3%|█▏                                          | 1/38 [00:00<00:19,  1.91it/s]\u001b[A\n",
      "  5%|██▎                                         | 2/38 [00:01<00:20,  1.78it/s]\u001b[A\n",
      "  8%|███▍                                        | 3/38 [00:01<00:19,  1.81it/s]\u001b[A\n",
      " 11%|████▋                                       | 4/38 [00:02<00:18,  1.79it/s]\u001b[A\n",
      " 13%|█████▊                                      | 5/38 [00:02<00:17,  1.85it/s]\u001b[A\n",
      " 16%|██████▉                                     | 6/38 [00:03<00:17,  1.86it/s]\u001b[A\n",
      " 18%|████████                                    | 7/38 [00:03<00:17,  1.77it/s]\u001b[A\n",
      " 21%|█████████▎                                  | 8/38 [00:04<00:16,  1.79it/s]\u001b[A\n",
      " 24%|██████████▍                                 | 9/38 [00:04<00:16,  1.81it/s]\u001b[A\n",
      " 26%|███████████▎                               | 10/38 [00:05<00:15,  1.76it/s]\u001b[A\n",
      " 29%|████████████▍                              | 11/38 [00:06<00:15,  1.70it/s]\u001b[A\n",
      " 32%|█████████████▌                             | 12/38 [00:06<00:14,  1.76it/s]\u001b[A\n",
      " 34%|██████████████▋                            | 13/38 [00:07<00:14,  1.76it/s]\u001b[A\n",
      " 37%|███████████████▊                           | 14/38 [00:07<00:13,  1.80it/s]\u001b[A\n",
      " 39%|████████████████▉                          | 15/38 [00:08<00:12,  1.81it/s]\u001b[A\n",
      " 42%|██████████████████                         | 16/38 [00:08<00:11,  1.86it/s]\u001b[A\n",
      " 45%|███████████████████▏                       | 17/38 [00:09<00:11,  1.79it/s]\u001b[A\n",
      " 47%|████████████████████▎                      | 18/38 [00:10<00:11,  1.81it/s]\u001b[A\n",
      " 50%|█████████████████████▌                     | 19/38 [00:10<00:10,  1.76it/s]\u001b[A\n",
      " 53%|██████████████████████▋                    | 20/38 [00:11<00:09,  1.81it/s]\u001b[A\n",
      " 55%|███████████████████████▊                   | 21/38 [00:11<00:09,  1.74it/s]\u001b[A\n",
      " 58%|████████████████████████▉                  | 22/38 [00:12<00:09,  1.75it/s]\u001b[A\n",
      " 61%|██████████████████████████                 | 23/38 [00:12<00:08,  1.71it/s]\u001b[A\n",
      " 63%|███████████████████████████▏               | 24/38 [00:13<00:07,  1.78it/s]\u001b[A\n",
      " 66%|████████████████████████████▎              | 25/38 [00:13<00:07,  1.85it/s]\u001b[A\n",
      " 68%|█████████████████████████████▍             | 26/38 [00:14<00:06,  1.78it/s]\u001b[A\n",
      " 71%|██████████████████████████████▌            | 27/38 [00:15<00:06,  1.83it/s]\u001b[A\n",
      " 74%|███████████████████████████████▋           | 28/38 [00:15<00:05,  1.84it/s]\u001b[A\n",
      " 76%|████████████████████████████████▊          | 29/38 [00:16<00:04,  1.88it/s]\u001b[A\n",
      " 79%|█████████████████████████████████▉         | 30/38 [00:16<00:04,  1.82it/s]\u001b[A\n",
      " 82%|███████████████████████████████████        | 31/38 [00:17<00:03,  1.88it/s]\u001b[A\n",
      " 84%|████████████████████████████████████▏      | 32/38 [00:17<00:03,  1.92it/s]\u001b[A\n",
      " 87%|█████████████████████████████████████▎     | 33/38 [00:18<00:02,  1.94it/s]\u001b[A\n",
      " 89%|██████████████████████████████████████▍    | 34/38 [00:18<00:02,  1.88it/s]\u001b[A\n",
      " 92%|███████████████████████████████████████▌   | 35/38 [00:19<00:01,  1.88it/s]\u001b[A\n",
      " 95%|████████████████████████████████████████▋  | 36/38 [00:19<00:01,  1.83it/s]\u001b[A\n",
      " 97%|█████████████████████████████████████████▊ | 37/38 [00:20<00:00,  1.75it/s]\u001b[A\n",
      "100%|███████████████████████████████████████████| 38/38 [00:21<00:00,  1.81it/s]\u001b[A\n",
      "482it [33:51,  7.48s/it]"
     ]
    },
    {
     "name": "stdout",
     "output_type": "stream",
     "text": [
      "482\n"
     ]
    },
    {
     "name": "stderr",
     "output_type": "stream",
     "text": [
      "\n",
      "0it [00:00, ?it/s]\u001b[A\n",
      "483it [33:52,  5.43s/it]"
     ]
    },
    {
     "name": "stdout",
     "output_type": "stream",
     "text": [
      "483\n"
     ]
    },
    {
     "name": "stderr",
     "output_type": "stream",
     "text": [
      "\n",
      "  0%|                                                     | 0/2 [00:00<?, ?it/s]\u001b[A\n",
      " 50%|██████████████████████▌                      | 1/2 [00:00<00:00,  1.98it/s]\u001b[A\n",
      "100%|█████████████████████████████████████████████| 2/2 [00:01<00:00,  1.73it/s]\u001b[A\n",
      "484it [33:53,  4.37s/it]"
     ]
    },
    {
     "name": "stdout",
     "output_type": "stream",
     "text": [
      "484\n"
     ]
    },
    {
     "name": "stderr",
     "output_type": "stream",
     "text": [
      "\n",
      "  0%|                                                     | 0/4 [00:00<?, ?it/s]\u001b[A\n",
      " 25%|███████████▎                                 | 1/4 [00:00<00:01,  1.77it/s]\u001b[A\n",
      " 50%|██████████████████████▌                      | 2/4 [00:01<00:01,  1.72it/s]\u001b[A\n",
      " 75%|█████████████████████████████████▊           | 3/4 [00:01<00:00,  1.62it/s]\u001b[A\n",
      "100%|█████████████████████████████████████████████| 4/4 [00:02<00:00,  1.65it/s]\u001b[A\n",
      "485it [33:57,  4.01s/it]"
     ]
    },
    {
     "name": "stdout",
     "output_type": "stream",
     "text": [
      "485\n"
     ]
    },
    {
     "name": "stderr",
     "output_type": "stream",
     "text": [
      "\n",
      "0it [00:00, ?it/s]\u001b[A\n",
      "486it [33:57,  3.00s/it]"
     ]
    },
    {
     "name": "stdout",
     "output_type": "stream",
     "text": [
      "486\n"
     ]
    },
    {
     "name": "stderr",
     "output_type": "stream",
     "text": [
      "\n",
      "0it [00:00, ?it/s]\u001b[A\n",
      "487it [33:58,  2.27s/it]"
     ]
    },
    {
     "name": "stdout",
     "output_type": "stream",
     "text": [
      "487\n"
     ]
    },
    {
     "name": "stderr",
     "output_type": "stream",
     "text": [
      "\n",
      "  0%|                                                     | 0/1 [00:00<?, ?it/s]\u001b[A\n",
      "100%|█████████████████████████████████████████████| 1/1 [00:00<00:00,  1.82it/s]\u001b[A\n",
      "488it [33:59,  1.95s/it]"
     ]
    },
    {
     "name": "stdout",
     "output_type": "stream",
     "text": [
      "488\n"
     ]
    },
    {
     "name": "stderr",
     "output_type": "stream",
     "text": [
      "\n",
      "  0%|                                                     | 0/2 [00:00<?, ?it/s]\u001b[A\n",
      " 50%|██████████████████████▌                      | 1/2 [00:00<00:00,  1.97it/s]\u001b[A\n",
      "100%|█████████████████████████████████████████████| 2/2 [00:01<00:00,  1.79it/s]\u001b[A\n",
      "489it [34:01,  1.91s/it]"
     ]
    },
    {
     "name": "stdout",
     "output_type": "stream",
     "text": [
      "489\n"
     ]
    },
    {
     "name": "stderr",
     "output_type": "stream",
     "text": [
      "\n",
      "  0%|                                                     | 0/2 [00:00<?, ?it/s]\u001b[A\n",
      " 50%|██████████████████████▌                      | 1/2 [00:00<00:00,  1.98it/s]\u001b[A\n",
      "100%|█████████████████████████████████████████████| 2/2 [00:01<00:00,  1.90it/s]\u001b[A\n",
      "490it [34:03,  1.86s/it]"
     ]
    },
    {
     "name": "stdout",
     "output_type": "stream",
     "text": [
      "490\n"
     ]
    },
    {
     "name": "stderr",
     "output_type": "stream",
     "text": [
      "\n",
      "  0%|                                                     | 0/1 [00:00<?, ?it/s]\u001b[A\n",
      "100%|█████████████████████████████████████████████| 1/1 [00:00<00:00,  1.96it/s]\u001b[A\n",
      "491it [34:04,  1.64s/it]"
     ]
    },
    {
     "name": "stdout",
     "output_type": "stream",
     "text": [
      "491\n"
     ]
    },
    {
     "name": "stderr",
     "output_type": "stream",
     "text": [
      "\n",
      "0it [00:00, ?it/s]\u001b[A\n",
      "492it [34:04,  1.32s/it]"
     ]
    },
    {
     "name": "stdout",
     "output_type": "stream",
     "text": [
      "492\n"
     ]
    },
    {
     "name": "stderr",
     "output_type": "stream",
     "text": [
      "\n",
      "  0%|                                                     | 0/4 [00:00<?, ?it/s]\u001b[A\n",
      " 25%|███████████▎                                 | 1/4 [00:00<00:01,  1.70it/s]\u001b[A\n",
      " 50%|██████████████████████▌                      | 2/4 [00:01<00:01,  1.70it/s]\u001b[A\n",
      " 75%|█████████████████████████████████▊           | 3/4 [00:01<00:00,  1.82it/s]\u001b[A\n",
      "100%|█████████████████████████████████████████████| 4/4 [00:02<00:00,  1.74it/s]\u001b[A\n",
      "493it [34:07,  1.79s/it]"
     ]
    },
    {
     "name": "stdout",
     "output_type": "stream",
     "text": [
      "493\n"
     ]
    },
    {
     "name": "stderr",
     "output_type": "stream",
     "text": [
      "\n",
      "  0%|                                                     | 0/1 [00:00<?, ?it/s]\u001b[A\n",
      "100%|█████████████████████████████████████████████| 1/1 [00:00<00:00,  1.93it/s]\u001b[A\n",
      "494it [34:08,  1.59s/it]"
     ]
    },
    {
     "name": "stdout",
     "output_type": "stream",
     "text": [
      "494\n"
     ]
    },
    {
     "name": "stderr",
     "output_type": "stream",
     "text": [
      "\n",
      "  0%|                                                    | 0/14 [00:00<?, ?it/s]\u001b[A\n",
      "  7%|███▏                                        | 1/14 [00:00<00:07,  1.79it/s]\u001b[A\n",
      " 14%|██████▎                                     | 2/14 [00:01<00:09,  1.28it/s]\u001b[A\n",
      " 21%|█████████▍                                  | 3/14 [00:02<00:07,  1.46it/s]\u001b[A\n",
      " 29%|████████████▌                               | 4/14 [00:02<00:06,  1.61it/s]\u001b[A\n",
      " 36%|███████████████▋                            | 5/14 [00:03<00:05,  1.59it/s]\u001b[A\n",
      " 43%|██████████████████▊                         | 6/14 [00:03<00:04,  1.61it/s]\u001b[A\n",
      " 50%|██████████████████████                      | 7/14 [00:04<00:04,  1.70it/s]\u001b[A\n",
      " 57%|█████████████████████████▏                  | 8/14 [00:04<00:03,  1.65it/s]\u001b[A\n",
      " 64%|████████████████████████████▎               | 9/14 [00:05<00:03,  1.67it/s]\u001b[A\n",
      " 71%|██████████████████████████████▋            | 10/14 [00:06<00:02,  1.56it/s]\u001b[A\n",
      " 79%|█████████████████████████████████▊         | 11/14 [00:06<00:01,  1.62it/s]\u001b[A\n",
      " 86%|████████████████████████████████████▊      | 12/14 [00:07<00:01,  1.70it/s]\u001b[A\n",
      " 93%|███████████████████████████████████████▉   | 13/14 [00:07<00:00,  1.69it/s]\u001b[A\n",
      "100%|███████████████████████████████████████████| 14/14 [00:08<00:00,  1.64it/s]\u001b[A\n",
      "495it [34:17,  3.85s/it]"
     ]
    },
    {
     "name": "stdout",
     "output_type": "stream",
     "text": [
      "495\n"
     ]
    },
    {
     "name": "stderr",
     "output_type": "stream",
     "text": [
      "\n",
      "  0%|                                                    | 0/23 [00:00<?, ?it/s]\u001b[A\n",
      "  4%|█▉                                          | 1/23 [00:00<00:11,  1.96it/s]\u001b[A\n",
      "  9%|███▊                                        | 2/23 [00:01<00:10,  1.93it/s]\u001b[A\n",
      " 13%|█████▋                                      | 3/23 [00:01<00:11,  1.75it/s]\u001b[A\n",
      " 17%|███████▋                                    | 4/23 [00:02<00:10,  1.80it/s]\u001b[A\n",
      " 22%|█████████▌                                  | 5/23 [00:02<00:10,  1.68it/s]\u001b[A\n",
      " 26%|███████████▍                                | 6/23 [00:03<00:10,  1.67it/s]\u001b[A\n",
      " 30%|█████████████▍                              | 7/23 [00:03<00:09,  1.77it/s]\u001b[A\n",
      " 35%|███████████████▎                            | 8/23 [00:04<00:08,  1.84it/s]\u001b[A\n",
      " 39%|█████████████████▏                          | 9/23 [00:04<00:07,  1.90it/s]\u001b[A\n",
      " 43%|██████████████████▋                        | 10/23 [00:05<00:06,  1.90it/s]\u001b[A\n",
      " 48%|████████████████████▌                      | 11/23 [00:06<00:06,  1.89it/s]\u001b[A\n",
      " 52%|██████████████████████▍                    | 12/23 [00:06<00:06,  1.67it/s]\u001b[A\n",
      " 57%|████████████████████████▎                  | 13/23 [00:07<00:06,  1.63it/s]\u001b[A\n",
      " 61%|██████████████████████████▏                | 14/23 [00:08<00:05,  1.63it/s]\u001b[A\n",
      " 65%|████████████████████████████               | 15/23 [00:08<00:04,  1.71it/s]\u001b[A\n",
      " 70%|█████████████████████████████▉             | 16/23 [00:09<00:04,  1.70it/s]\u001b[A\n",
      " 74%|███████████████████████████████▊           | 17/23 [00:09<00:03,  1.78it/s]\u001b[A\n",
      " 78%|█████████████████████████████████▋         | 18/23 [00:10<00:02,  1.70it/s]\u001b[A\n",
      " 83%|███████████████████████████████████▌       | 19/23 [00:10<00:02,  1.74it/s]\u001b[A\n",
      " 87%|█████████████████████████████████████▍     | 20/23 [00:11<00:01,  1.77it/s]\u001b[A\n",
      " 91%|███████████████████████████████████████▎   | 21/23 [00:11<00:01,  1.83it/s]\u001b[A\n",
      " 96%|█████████████████████████████████████████▏ | 22/23 [00:12<00:00,  1.80it/s]\u001b[A\n",
      "100%|███████████████████████████████████████████| 23/23 [00:12<00:00,  1.77it/s]\u001b[A\n",
      "496it [34:31,  6.76s/it]"
     ]
    },
    {
     "name": "stdout",
     "output_type": "stream",
     "text": [
      "496\n"
     ]
    },
    {
     "name": "stderr",
     "output_type": "stream",
     "text": [
      "\n",
      "  0%|                                                    | 0/28 [00:00<?, ?it/s]\u001b[A\n",
      "  4%|█▌                                          | 1/28 [00:00<00:15,  1.78it/s]\u001b[A\n",
      "  7%|███▏                                        | 2/28 [00:01<00:13,  1.90it/s]\u001b[A\n",
      " 11%|████▋                                       | 3/28 [00:01<00:14,  1.77it/s]\u001b[A\n",
      " 14%|██████▎                                     | 4/28 [00:02<00:13,  1.83it/s]\u001b[A\n",
      " 18%|███████▊                                    | 5/28 [00:02<00:13,  1.73it/s]\u001b[A\n",
      " 21%|█████████▍                                  | 6/28 [00:03<00:12,  1.77it/s]\u001b[A\n",
      " 25%|███████████                                 | 7/28 [00:04<00:12,  1.70it/s]\u001b[A\n",
      " 29%|████████████▌                               | 8/28 [00:04<00:11,  1.76it/s]\u001b[A\n",
      " 32%|██████████████▏                             | 9/28 [00:05<00:10,  1.78it/s]\u001b[A\n",
      " 36%|███████████████▎                           | 10/28 [00:05<00:10,  1.80it/s]\u001b[A\n",
      " 39%|████████████████▉                          | 11/28 [00:06<00:09,  1.83it/s]\u001b[A\n",
      " 43%|██████████████████▍                        | 12/28 [00:06<00:08,  1.87it/s]\u001b[A\n",
      " 46%|███████████████████▉                       | 13/28 [00:07<00:08,  1.80it/s]\u001b[A\n",
      " 50%|█████████████████████▌                     | 14/28 [00:07<00:07,  1.82it/s]\u001b[A\n",
      " 54%|███████████████████████                    | 15/28 [00:08<00:07,  1.77it/s]\u001b[A\n",
      " 57%|████████████████████████▌                  | 16/28 [00:09<00:06,  1.72it/s]\u001b[A\n",
      " 61%|██████████████████████████                 | 17/28 [00:09<00:06,  1.79it/s]\u001b[A\n",
      " 64%|███████████████████████████▋               | 18/28 [00:10<00:05,  1.83it/s]\u001b[A\n",
      " 68%|█████████████████████████████▏             | 19/28 [00:10<00:04,  1.88it/s]\u001b[A\n",
      " 71%|██████████████████████████████▋            | 20/28 [00:11<00:04,  1.87it/s]\u001b[A\n",
      " 75%|████████████████████████████████▎          | 21/28 [00:11<00:03,  1.91it/s]\u001b[A\n",
      " 79%|█████████████████████████████████▊         | 22/28 [00:12<00:03,  1.92it/s]\u001b[A\n",
      " 82%|███████████████████████████████████▎       | 23/28 [00:12<00:02,  1.84it/s]\u001b[A\n",
      " 86%|████████████████████████████████████▊      | 24/28 [00:13<00:02,  1.85it/s]\u001b[A\n",
      " 89%|██████████████████████████████████████▍    | 25/28 [00:13<00:01,  1.90it/s]\u001b[A\n",
      " 93%|███████████████████████████████████████▉   | 26/28 [00:14<00:01,  1.90it/s]\u001b[A\n",
      " 96%|█████████████████████████████████████████▍ | 27/28 [00:14<00:00,  1.94it/s]\u001b[A\n",
      "100%|███████████████████████████████████████████| 28/28 [00:15<00:00,  1.84it/s]\u001b[A\n",
      "497it [34:47,  9.48s/it]"
     ]
    },
    {
     "name": "stdout",
     "output_type": "stream",
     "text": [
      "497\n"
     ]
    },
    {
     "name": "stderr",
     "output_type": "stream",
     "text": [
      "\n",
      "  0%|                                                    | 0/13 [00:00<?, ?it/s]\u001b[A\n",
      "  8%|███▍                                        | 1/13 [00:00<00:06,  1.90it/s]\u001b[A\n",
      " 15%|██████▊                                     | 2/13 [00:01<00:06,  1.77it/s]\u001b[A\n",
      " 23%|██████████▏                                 | 3/13 [00:01<00:05,  1.84it/s]\u001b[A\n",
      " 31%|█████████████▌                              | 4/13 [00:02<00:05,  1.79it/s]\u001b[A\n",
      " 38%|████████████████▉                           | 5/13 [00:02<00:04,  1.81it/s]\u001b[A\n",
      " 46%|████████████████████▎                       | 6/13 [00:03<00:03,  1.79it/s]\u001b[A\n",
      " 54%|███████████████████████▋                    | 7/13 [00:03<00:03,  1.70it/s]\u001b[A\n",
      " 62%|███████████████████████████                 | 8/13 [00:04<00:02,  1.76it/s]\u001b[A\n",
      " 69%|██████████████████████████████▍             | 9/13 [00:05<00:02,  1.81it/s]\u001b[A\n",
      " 77%|█████████████████████████████████          | 10/13 [00:05<00:01,  1.77it/s]\u001b[A\n",
      " 85%|████████████████████████████████████▍      | 11/13 [00:06<00:01,  1.75it/s]\u001b[A\n",
      " 92%|███████████████████████████████████████▋   | 12/13 [00:06<00:00,  1.72it/s]\u001b[A\n",
      "100%|███████████████████████████████████████████| 13/13 [00:07<00:00,  1.78it/s]\u001b[A\n",
      "498it [34:55,  9.03s/it]"
     ]
    },
    {
     "name": "stdout",
     "output_type": "stream",
     "text": [
      "498\n"
     ]
    }
   ],
   "source": [
    "Entrez.email = \"s1803764@ed.ac.uk\"\n",
    "all_gene_dates = []\n",
    "\n",
    "for j, g in tqdm(enumerate(gene_symbols)):\n",
    "    print(j)\n",
    "    handle = Entrez.esearch(db=\"pubmed\",retmax=10000, term=f\"({g}[TW] OR {names[j]}[TW] OR {ensembls[j]}[TW]) AND (autism[MH] OR autistic[MH] OR ASD[TW] OR \\\"autism spectrum disorder\\\"[TW] OR \\\"pervasive developmental disorder\\\"[TW] OR PDD-NOS[TW] OR PDD[TW] OR asperger[MH])\")\n",
    "    record = Entrez.read(handle)\n",
    "    ids = list(set(record[\"IdList\"]))\n",
    "    #print(record[\"ErrorList\"][\"PhraseNotFound\"])\n",
    "\n",
    "    dates = []\n",
    "    for i in tqdm(ids):\n",
    "        handle2 = Entrez.esummary(db=\"pubmed\", retmax=10000, id=i)\n",
    "        meta_data = Entrez.read(handle2)[0]\n",
    "        #print(meta_data[\"PubDate\"])\n",
    "        #print(meta_data[\"Title\"])\n",
    "        dates.append(meta_data[\"PubDate\"][0:4])\n",
    "\n",
    "    all_gene_dates.append(dates)\n",
    "    #all_gene_dates[j] = dates"
   ]
  },
  {
   "cell_type": "code",
   "execution_count": 268,
   "id": "c4305596",
   "metadata": {},
   "outputs": [
    {
     "data": {
      "text/plain": [
       "5674"
      ]
     },
     "execution_count": 268,
     "metadata": {},
     "output_type": "execute_result"
    }
   ],
   "source": [
    "len(dates)"
   ]
  },
  {
   "cell_type": "code",
   "execution_count": 233,
   "id": "8e389ed6",
   "metadata": {},
   "outputs": [
    {
     "name": "stdout",
     "output_type": "stream",
     "text": [
      "NRXN1\n",
      "119\n",
      "Counter({'2019': 15, '2012': 12, '2021': 10, '2015': 10, '2014': 10, '2013': 10, '2009': 10, '2020': 8, '2011': 8, '2018': 7, '2017': 5, '2008': 5, '2010': 4, '2016': 3, '2007': 1, '2004': 1})\n",
      "\n",
      "SHANK3\n",
      "331\n",
      "Counter({'2021': 49, '2020': 44, '2019': 39, '2018': 38, '2016': 31, '2017': 29, '2015': 22, '2014': 21, '2011': 13, '2013': 12, '2012': 12, '2009': 8, '2008': 5, '2007': 4, '2010': 2, '1993': 1, '2005': 1})\n",
      "\n",
      "MECP2\n",
      "261\n",
      "Counter({'2016': 29, '2011': 21, '2019': 18, '2014': 18, '2017': 17, '2020': 16, '2015': 14, '2012': 14, '2018': 13, '2010': 13, '2009': 13, '2021': 12, '2013': 12, '2008': 12, '2007': 11, '2005': 8, '2004': 5, '2003': 5, '2006': 4, '2002': 2, '2000': 2, '1993': 1, '2001': 1})\n",
      "\n",
      "SCN2A\n",
      "64\n",
      "Counter({'2021': 14, '2019': 13, '2020': 8, '2018': 6, '2017': 5, '2016': 5, '2015': 2, '2014': 2, '2013': 2, '2008': 2, '2004': 2, '2012': 1, '2010': 1, '2003': 1})\n",
      "\n",
      "SCN1A\n",
      "40\n",
      "Counter({'2021': 7, '2020': 5, '2012': 5, '2019': 4, '2018': 4, '2013': 3, '2016': 2, '2015': 2, '2004': 2, '1993': 1, '2011': 1, '2009': 1, '2008': 1, '2005': 1, '2003': 1})\n",
      "\n",
      "1993\n"
     ]
    }
   ],
   "source": [
    "from collections import Counter\n",
    "\n",
    "min_date = 2021\n",
    "\n",
    "for i, el in enumerate(all_dates):\n",
    "    all_dates[i] = list(map(int, el))\n",
    "    print(genes[i])\n",
    "    print(len(el))\n",
    "    print(Counter(el))\n",
    "    if len(el) > 0:\n",
    "        if np.min(all_dates[i]) < min_date:\n",
    "            min_date = np.min(all_dates[i])\n",
    "    print()\n",
    "print(min_date)"
   ]
  },
  {
   "cell_type": "code",
   "execution_count": 275,
   "id": "ae269fba",
   "metadata": {},
   "outputs": [
    {
     "name": "stdout",
     "output_type": "stream",
     "text": [
      "ABAT\n",
      "4\n",
      "Counter({2018: 1, 2017: 1, 2012: 1, 2005: 1})\n",
      "\n",
      "ABCA10\n",
      "0\n",
      "Counter()\n",
      "\n",
      "ABCA13\n",
      "4\n",
      "Counter({2018: 2, 2020: 1, 2016: 1})\n",
      "\n",
      "ABCA7\n",
      "0\n",
      "Counter()\n",
      "\n",
      "ACE\n",
      "24\n",
      "Counter({2021: 5, 2020: 5, 2019: 3, 2016: 2, 2014: 2, 2010: 2, 2018: 1, 2017: 1, 2015: 1, 2012: 1, 1998: 1})\n",
      "\n",
      "ACHE\n",
      "0\n",
      "Counter()\n",
      "\n",
      "ACTB\n",
      "2\n",
      "Counter({2019: 1, 2016: 1})\n",
      "\n",
      "ACTL6B\n",
      "5\n",
      "Counter({2020: 2, 2019: 1, 2017: 1, 2014: 1})\n",
      "\n",
      "ACTN4\n",
      "1\n",
      "Counter({2018: 1})\n",
      "\n",
      "ACY1\n",
      "1\n",
      "Counter({2010: 1})\n",
      "\n",
      "ADA\n",
      "13\n",
      "Counter({2013: 3, 2019: 2, 2020: 1, 2011: 1, 2008: 1, 2004: 1, 2002: 1, 2001: 1, 2000: 1, 1982: 1})\n",
      "\n",
      "ADCY3\n",
      "1\n",
      "Counter({2019: 1})\n",
      "\n",
      "ADCY5\n",
      "1\n",
      "Counter({2017: 1})\n",
      "\n",
      "ADK\n",
      "0\n",
      "Counter()\n",
      "\n",
      "ADNP\n",
      "42\n",
      "Counter({2021: 7, 2020: 7, 2019: 7, 2018: 7, 2017: 4, 2016: 4, 2015: 3, 2014: 2, 1993: 1})\n",
      "\n",
      "ADORA3\n",
      "2\n",
      "Counter({2013: 1, 2011: 1})\n",
      "\n",
      "ADSL\n",
      "47\n",
      "Counter({2013: 6, 2012: 5, 1989: 4, 2021: 3, 2015: 3, 2000: 3, 2020: 2, 2017: 2, 2011: 2, 2004: 2, 1986: 2, 2019: 1, 2018: 1, 2016: 1, 2014: 1, 2010: 1, 2009: 1, 2008: 1, 2005: 1, 1999: 1, 1996: 1, 1995: 1, 1992: 1, 1984: 1})\n",
      "\n",
      "AFF2\n",
      "9\n",
      "Counter({2018: 2, 2015: 2, 2020: 1, 2016: 1, 2013: 1, 2012: 1, 2011: 1})\n",
      "\n",
      "AGAP1\n",
      "3\n",
      "Counter({2019: 1, 2016: 1, 2005: 1})\n",
      "\n",
      "AGAP2\n",
      "0\n",
      "Counter()\n",
      "\n",
      "ADSS2\n",
      "0\n",
      "Counter()\n",
      "\n",
      "AGBL4\n",
      "0\n",
      "Counter()\n",
      "\n",
      "AGMO\n",
      "1\n",
      "Counter({2016: 1})\n",
      "\n",
      "AGO1\n",
      "3\n",
      "Counter({2021: 1, 2019: 1, 2018: 1})\n",
      "\n",
      "AGO3\n",
      "0\n",
      "Counter()\n",
      "\n",
      "AGO4\n",
      "0\n",
      "Counter()\n",
      "\n",
      "AGTR2\n",
      "2\n",
      "Counter({2019: 1, 2012: 1})\n",
      "\n",
      "AHDC1\n",
      "2\n",
      "Counter({2021: 1, 2018: 1})\n",
      "\n",
      "AHI1\n",
      "4\n",
      "Counter({2020: 1, 2014: 1, 2012: 1, 2008: 1})\n",
      "\n",
      "AKAP9\n",
      "0\n",
      "Counter()\n",
      "\n",
      "ALDH1A3\n",
      "3\n",
      "Counter({2021: 1, 2015: 1, 2014: 1})\n",
      "\n",
      "ALDH5A1\n",
      "0\n",
      "Counter()\n",
      "\n",
      "AMPD1\n",
      "2\n",
      "Counter({2015: 1, 2014: 1})\n",
      "\n",
      "AMT\n",
      "7\n",
      "Counter({2019: 2, 2020: 1, 2018: 1, 2013: 1, 2005: 1, 2001: 1})\n",
      "\n",
      "ANK2\n",
      "8\n",
      "Counter({2021: 3, 2020: 3, 2019: 2})\n",
      "\n",
      "ANK3\n",
      "12\n",
      "Counter({2020: 2, 2015: 2, 2012: 2, 2021: 1, 2019: 1, 2018: 1, 2017: 1, 2016: 1, 2014: 1})\n",
      "\n",
      "ANKRD11\n",
      "14\n",
      "Counter({2021: 3, 2015: 3, 2017: 2, 2019: 1, 2018: 1, 2014: 1, 2013: 1, 2010: 1, 2008: 1})\n",
      "\n",
      "AGAP5\n",
      "0\n",
      "Counter()\n",
      "\n",
      "AGO2\n",
      "0\n",
      "Counter()\n",
      "\n",
      "AHNAK\n",
      "0\n",
      "Counter()\n",
      "\n",
      "ANKRD17\n",
      "0\n",
      "Counter()\n",
      "\n",
      "ANKS1B\n",
      "2\n",
      "Counter({2020: 1, 2019: 1})\n",
      "\n",
      "ANXA1\n",
      "1\n",
      "Counter({2014: 1})\n",
      "\n",
      "AP1S2\n",
      "1\n",
      "Counter({2019: 1})\n",
      "\n",
      "APBA2\n",
      "0\n",
      "Counter()\n",
      "\n",
      "APBB1\n",
      "2\n",
      "Counter({2021: 1, 2014: 1})\n",
      "\n",
      "APH1A\n",
      "0\n",
      "Counter()\n",
      "\n",
      "ARHGAP11B\n",
      "2\n",
      "Counter({2019: 1, 2013: 1})\n",
      "\n",
      "ARHGAP32\n",
      "3\n",
      "Counter({2019: 1, 2016: 1, 2015: 1})\n",
      "\n",
      "ARHGAP5\n",
      "0\n",
      "Counter()\n",
      "\n",
      "ARHGEF10\n",
      "4\n",
      "Counter({2021: 1, 2018: 1, 2017: 1, 2009: 1})\n",
      "\n",
      "ARHGEF9\n",
      "0\n",
      "Counter()\n",
      "\n",
      "ARID1B\n",
      "25\n",
      "Counter({2021: 7, 2020: 5, 2017: 5, 2019: 2, 2018: 2, 2016: 1, 2015: 1, 2012: 1, 2011: 1})\n",
      "\n",
      "ARID2\n",
      "1\n",
      "Counter({2017: 1})\n",
      "\n",
      "ARNT2\n",
      "2\n",
      "Counter({2014: 2})\n",
      "\n",
      "ARX\n",
      "15\n",
      "Counter({2014: 3, 2008: 2, 2002: 2, 2021: 1, 2020: 1, 2019: 1, 2011: 1, 2010: 1, 2007: 1, 2005: 1, 2003: 1})\n",
      "\n",
      "ASAP2\n",
      "0\n",
      "Counter()\n",
      "\n",
      "ASB14\n",
      "0\n",
      "Counter()\n",
      "\n",
      "ASH1L\n",
      "0\n",
      "Counter()\n",
      "\n",
      "ASMT\n",
      "13\n",
      "Counter({2017: 2, 2013: 2, 2008: 2, 2021: 1, 2018: 1, 2015: 1, 2014: 1, 2011: 1, 2010: 1, 2007: 1})\n",
      "\n",
      "ASPM\n",
      "3\n",
      "Counter({2020: 1, 2018: 1, 2009: 1})\n",
      "\n",
      "ASTN2\n",
      "10\n",
      "Counter({2016: 3, 2018: 2, 2021: 1, 2017: 1, 2014: 1, 2011: 1, 2009: 1})\n",
      "\n",
      "ASXL3\n",
      "0\n",
      "Counter()\n",
      "\n",
      "ATP10A\n",
      "6\n",
      "Counter({2008: 3, 2020: 1, 2011: 1, 2002: 1})\n",
      "\n",
      "ATP1A1\n",
      "0\n",
      "Counter()\n",
      "\n",
      "ATP1A3\n",
      "5\n",
      "Counter({2018: 2, 2021: 1, 2019: 1, 2017: 1})\n",
      "\n",
      "ATP2B2\n",
      "7\n",
      "Counter({2020: 1, 2018: 1, 2017: 1, 2014: 1, 2013: 1, 2012: 1, 2011: 1})\n",
      "\n",
      "ATP6V0A2\n",
      "0\n",
      "Counter()\n",
      "\n",
      "ATRX\n",
      "8\n",
      "Counter({2020: 2, 2019: 2, 2018: 1, 2014: 1, 2013: 1, 2008: 1})\n",
      "\n",
      "AUTS2\n",
      "35\n",
      "Counter({2019: 6, 2021: 4, 2014: 4, 2011: 4, 2015: 3, 2013: 3, 2016: 2, 2010: 2, 2020: 1, 2017: 1, 2012: 1, 2008: 1, 2007: 1, 2006: 1, 2002: 1})\n",
      "\n",
      "ADORA2A\n",
      "12\n",
      "Counter({2018: 4, 2017: 4, 2020: 1, 2019: 1, 2014: 1, 2010: 1})\n",
      "\n",
      "AP2S1\n",
      "0\n",
      "Counter()\n",
      "\n",
      "AVPR1A\n",
      "26\n",
      "Counter({2017: 5, 2018: 4, 2015: 3, 2019: 2, 2016: 2, 2008: 2, 2006: 2, 2021: 1, 2012: 1, 2010: 1, 2009: 1, 2004: 1, 2002: 1})\n",
      "\n",
      "AZGP1\n",
      "0\n",
      "Counter()\n",
      "\n",
      "BAZ2B\n",
      "3\n",
      "Counter({2017: 2, 2020: 1})\n",
      "\n",
      "BBS4\n",
      "0\n",
      "Counter()\n",
      "\n",
      "BCAS1\n",
      "0\n",
      "Counter()\n",
      "\n",
      "BCKDK\n",
      "5\n",
      "Counter({2013: 2, 2019: 1, 2016: 1, 2012: 1})\n",
      "\n",
      "BCL11A\n",
      "0\n",
      "Counter()\n",
      "\n",
      "ADRB2\n",
      "2\n",
      "Counter({2009: 1, 2007: 1})\n",
      "\n",
      "ALG6\n",
      "1\n",
      "Counter({2020: 1})\n",
      "\n",
      "AR\n",
      "60\n",
      "Counter({2018: 5, 2017: 5, 2013: 5, 2012: 5, 2020: 4, 2019: 4, 2015: 4, 2010: 3, 2004: 3, 1982: 3, 2016: 2, 2009: 2, 2008: 2, 2021: 1, 2014: 1, 2011: 1, 2007: 1, 2006: 1, 2005: 1, 2002: 1, 2001: 1, 1994: 1, 1992: 1, 1987: 1, 1985: 1, 1981: 1})\n",
      "\n",
      "AVPR1B\n",
      "4\n",
      "Counter({2018: 1, 2016: 1, 2012: 1, 2009: 1})\n",
      "\n",
      "BCORL1\n",
      "0\n",
      "Counter()\n",
      "\n",
      "BIRC6\n",
      "3\n",
      "Counter({2021: 1, 2020: 1, 2019: 1})\n",
      "\n",
      "BRAF\n",
      "1\n",
      "Counter({2020: 1})\n",
      "\n",
      "BRCA2\n",
      "1\n",
      "Counter({2015: 1})\n",
      "\n",
      "BRD4\n",
      "3\n",
      "Counter({2021: 1, 2020: 1, 2019: 1})\n",
      "\n",
      "BRSK2\n",
      "2\n",
      "Counter({2019: 2})\n",
      "\n",
      "BRWD3\n",
      "0\n",
      "Counter()\n",
      "\n",
      "BST1\n",
      "5\n",
      "Counter({2017: 2, 2019: 1, 2015: 1, 2014: 1})\n",
      "\n",
      "BTAF1\n",
      "0\n",
      "Counter()\n",
      "\n",
      "BTRC\n",
      "1\n",
      "Counter({2021: 1})\n",
      "\n",
      "C12orf57\n",
      "0\n",
      "Counter()\n",
      "\n",
      "C15orf62\n",
      "0\n",
      "Counter()\n",
      "\n",
      "C4B\n",
      "12\n",
      "Counter({1996: 2, 2012: 1, 2010: 1, 2008: 1, 2005: 1, 2001: 1, 1997: 1, 1995: 1, 1994: 1, 1992: 1, 1991: 1})\n",
      "\n",
      "CA6\n",
      "0\n",
      "Counter()\n",
      "\n",
      "CACNA1A\n",
      "9\n",
      "Counter({2019: 3, 2015: 2, 2021: 1, 2020: 1, 2009: 1, 2007: 1})\n",
      "\n",
      "CACNA1B\n",
      "5\n",
      "Counter({2020: 1, 2019: 1, 2018: 1, 2016: 1, 2010: 1})\n",
      "\n",
      "CACNA1C\n",
      "88\n",
      "Counter({2014: 13, 2020: 11, 2019: 10, 2018: 8, 2016: 8, 2011: 8, 2017: 7, 2015: 7, 2013: 7, 2021: 4, 2012: 3, 2009: 1, 2006: 1})\n",
      "\n",
      "CACNA1D\n",
      "14\n",
      "Counter({2016: 4, 2020: 3, 2019: 2, 2017: 2, 2021: 1, 2018: 1, 2015: 1})\n",
      "\n",
      "CACNA1E\n",
      "4\n",
      "Counter({2021: 2, 2020: 1, 2016: 1})\n",
      "\n",
      "CACNA1F\n",
      "3\n",
      "Counter({2020: 1, 2011: 1, 2007: 1})\n",
      "\n",
      "CACNA1G\n",
      "3\n",
      "Counter({2020: 1, 2009: 1, 2010: 1})\n",
      "\n",
      "CACNA1H\n",
      "12\n",
      "Counter({2020: 2, 2018: 2, 2007: 2, 2021: 1, 2019: 1, 2016: 1, 2010: 1, 2008: 1, 2006: 1})\n",
      "\n",
      "CACNA1I\n",
      "2\n",
      "Counter({2020: 1, 2012: 1})\n",
      "\n",
      "CACNA2D1\n",
      "2\n",
      "Counter({2021: 1, 2018: 1})\n",
      "\n",
      "CACNA2D3\n",
      "2\n",
      "Counter({2021: 1, 2020: 1})\n",
      "\n",
      "CACNB2\n",
      "8\n",
      "Counter({2020: 2, 2014: 2, 2021: 1, 2016: 1, 2015: 1, 2013: 1})\n",
      "\n",
      "CADM1\n",
      "19\n",
      "Counter({2012: 4, 2020: 2, 2010: 2, 2009: 2, 2007: 2, 2021: 1, 2019: 1, 2018: 1, 2015: 1, 2013: 1, 2008: 1, 2000: 1})\n",
      "\n",
      "CADM2\n",
      "3\n",
      "Counter({2021: 1, 2016: 1, 2012: 1})\n",
      "\n",
      "CADPS\n",
      "1\n",
      "Counter({2003: 1})\n",
      "\n",
      "CADPS2\n",
      "18\n",
      "Counter({2013: 4, 2021: 2, 2019: 2, 2009: 2, 2018: 1, 2017: 1, 2014: 1, 2012: 1, 2011: 1, 2010: 1, 2007: 1, 2003: 1})\n",
      "\n",
      "CAMK2A\n",
      "7\n",
      "Counter({2019: 2, 2017: 2, 2021: 1, 2018: 1, 2016: 1})\n",
      "\n",
      "CAMK2B\n",
      "0\n",
      "Counter()\n",
      "\n",
      "CAMK4\n",
      "4\n",
      "Counter({2021: 1, 2020: 1, 2019: 1, 2014: 1})\n",
      "\n",
      "CAPN12\n",
      "0\n",
      "Counter()\n",
      "\n",
      "CAPRIN1\n",
      "3\n",
      "Counter({2020: 1, 2016: 1, 2013: 1})\n",
      "\n",
      "CARD11\n",
      "0\n",
      "Counter()\n",
      "\n",
      "CASK\n",
      "16\n",
      "Counter({2021: 3, 2015: 3, 2020: 2, 2018: 2, 2017: 2, 2014: 2, 2016: 1, 2007: 1})\n",
      "\n",
      "CASZ1\n",
      "0\n",
      "Counter()\n",
      "\n",
      "CC2D1A\n",
      "11\n",
      "Counter({2021: 3, 2020: 3, 2019: 1, 2018: 1, 2017: 1, 2016: 1, 2014: 1})\n",
      "\n",
      "CCDC88C\n",
      "0\n",
      "Counter()\n",
      "\n",
      "CCDC91\n",
      "0\n",
      "Counter()\n",
      "\n",
      "CCIN\n",
      "0\n",
      "Counter()\n",
      "\n",
      "CCNG1\n",
      "0\n",
      "Counter()\n",
      "\n",
      "CCNK\n",
      "1\n",
      "Counter({2018: 1})\n",
      "\n",
      "CCSER1\n",
      "0\n",
      "Counter()\n",
      "\n",
      "CCT4\n",
      "0\n",
      "Counter()\n",
      "\n",
      "CD276\n",
      "0\n",
      "Counter()\n",
      "\n",
      "CD38\n",
      "44\n",
      "Counter({2012: 7, 2019: 6, 2017: 6, 2020: 5, 2016: 4, 2011: 4, 2021: 3, 2018: 3, 2014: 2, 2010: 2, 2015: 1, 2013: 1})\n",
      "\n",
      "CDC42BPB\n",
      "0\n",
      "Counter()\n",
      "\n",
      "BRINP3\n",
      "1\n",
      "Counter({2016: 1})\n",
      "\n",
      "CACNB1\n",
      "3\n",
      "Counter({2020: 1, 2017: 1, 2016: 1})\n",
      "\n",
      "CD99L2\n",
      "1\n",
      "Counter({2012: 1})\n",
      "\n",
      "CDH10\n",
      "0\n",
      "Counter()\n",
      "\n",
      "CDH11\n",
      "6\n",
      "Counter({2021: 3, 2019: 1, 2018: 1, 2014: 1})\n",
      "\n",
      "CDH13\n",
      "9\n",
      "Counter({2018: 2, 2011: 2, 2021: 1, 2019: 1, 2015: 1, 2012: 1, 2010: 1})\n",
      "\n",
      "CDH22\n",
      "0\n",
      "Counter()\n",
      "\n",
      "CDH8\n",
      "9\n",
      "Counter({2021: 2, 2020: 2, 2015: 2, 2013: 1, 2012: 1, 2011: 1})\n",
      "\n",
      "CDH9\n",
      "0\n",
      "Counter()\n",
      "\n",
      "CDK13\n",
      "2\n",
      "Counter({1993: 1, 2018: 1})\n",
      "\n",
      "CDK19\n",
      "1\n",
      "Counter({2019: 1})\n",
      "\n",
      "CDK8\n",
      "2\n",
      "Counter({2021: 1, 2018: 1})\n",
      "\n",
      "CDKL5\n",
      "23\n",
      "Counter({2020: 4, 2015: 4, 2016: 3, 2012: 3, 2017: 2, 2019: 1, 2018: 1, 1993: 1, 2014: 1, 2011: 1, 2009: 1, 2008: 1})\n",
      "\n",
      "BICRA\n",
      "1\n",
      "Counter({2020: 1})\n",
      "\n",
      "BICDL1\n",
      "0\n",
      "Counter()\n",
      "\n",
      "CECR2\n",
      "2\n",
      "Counter({2018: 1, 2006: 1})\n",
      "\n",
      "CELF4\n",
      "2\n",
      "Counter({2019: 1, 2017: 1})\n",
      "\n",
      "CELF6\n",
      "3\n",
      "Counter({2018: 1, 2016: 1, 2013: 1})\n",
      "\n",
      "CEP135\n",
      "0\n",
      "Counter()\n",
      "\n",
      "CEP290\n",
      "3\n",
      "Counter({2014: 2, 2018: 1})\n",
      "\n",
      "CEP41\n",
      "1\n",
      "Counter({2019: 1})\n",
      "\n",
      "CGNL1\n",
      "0\n",
      "Counter()\n",
      "\n",
      "CHAMP1\n",
      "1\n",
      "Counter({2021: 1})\n",
      "\n",
      "CHD1\n",
      "1\n",
      "Counter({2018: 1})\n",
      "\n",
      "CHD2\n",
      "15\n",
      "Counter({2020: 3, 2014: 3, 2021: 2, 2019: 2, 2018: 2, 2017: 2, 2016: 1})\n",
      "\n",
      "CHD3\n",
      "2\n",
      "Counter({2021: 2})\n",
      "\n",
      "CHD7\n",
      "13\n",
      "Counter({2021: 4, 2018: 3, 2020: 1, 2019: 1, 2015: 1, 2014: 1, 2013: 1, 2012: 1})\n",
      "\n",
      "CHD8\n",
      "100\n",
      "Counter({2020: 23, 2018: 19, 2021: 15, 2016: 9, 2015: 9, 2014: 8, 2017: 6, 2019: 5, 2012: 5, 2013: 1})\n",
      "\n",
      "CHKB\n",
      "2\n",
      "Counter({2020: 1, 2013: 1})\n",
      "\n",
      "CHMP1A\n",
      "0\n",
      "Counter()\n",
      "\n",
      "CHRM3\n",
      "1\n",
      "Counter({2013: 1})\n",
      "\n",
      "CHRNA7\n",
      "25\n",
      "Counter({2017: 4, 2016: 4, 2015: 3, 2020: 2, 2019: 2, 2012: 2, 2021: 1, 2014: 1, 2013: 1, 2011: 1, 2010: 1, 2009: 1, 2004: 1, 2002: 1})\n",
      "\n",
      "CHRNB3\n",
      "1\n",
      "Counter({2009: 1})\n",
      "\n",
      "CIB2\n",
      "1\n",
      "Counter({2012: 1})\n",
      "\n",
      "CIC\n",
      "2\n",
      "Counter({2017: 1, 2014: 1})\n",
      "\n",
      "CLASP1\n",
      "0\n",
      "Counter()\n",
      "\n",
      "CLCN4\n",
      "0\n",
      "Counter()\n",
      "\n",
      "CLN8\n",
      "0\n",
      "Counter()\n",
      "\n",
      "CLTCL1\n",
      "2\n",
      "Counter({2019: 1, 2012: 1})\n",
      "\n",
      "CDON\n",
      "0\n",
      "Counter()\n",
      "\n",
      "CHM\n",
      "1\n",
      "Counter({2020: 1})\n",
      "\n",
      "CLIP2\n",
      "3\n",
      "Counter({2021: 2, 2020: 1})\n",
      "\n",
      "CMIP\n",
      "3\n",
      "Counter({2017: 1, 2015: 1, 2012: 1})\n",
      "\n",
      "CMPK2\n",
      "0\n",
      "Counter()\n",
      "\n",
      "CNGB3\n",
      "0\n",
      "Counter()\n",
      "\n",
      "CNKSR2\n",
      "3\n",
      "Counter({2021: 2, 2018: 1})\n",
      "\n",
      "CNOT3\n",
      "1\n",
      "Counter({2020: 1})\n",
      "\n",
      "CNR1\n",
      "0\n",
      "Counter()\n",
      "\n",
      "CNTN3\n",
      "2\n",
      "Counter({2020: 1, 2015: 1})\n",
      "\n",
      "CNTN4\n",
      "20\n",
      "Counter({2013: 4, 2009: 3, 2020: 2, 2018: 2, 2016: 2, 2008: 2, 2021: 1, 2017: 1, 2015: 1, 2012: 1, 2011: 1})\n",
      "\n",
      "CNTN5\n",
      "13\n",
      "Counter({2013: 3, 2020: 2, 2015: 2, 2011: 2, 2019: 1, 2018: 1, 2017: 1, 2014: 1})\n",
      "\n",
      "CNTN6\n",
      "17\n",
      "Counter({2020: 4, 2017: 2, 2016: 2, 2015: 2, 2013: 2, 2021: 1, 2018: 1, 2014: 1, 2012: 1, 2011: 1})\n",
      "\n",
      "CNTNAP2\n",
      "144\n",
      "Counter({2020: 16, 2021: 14, 2018: 14, 2019: 14, 2016: 14, 2017: 13, 2015: 12, 2011: 9, 2010: 8, 2008: 8, 2012: 7, 2014: 6, 2013: 5, 2009: 4})\n",
      "\n",
      "CNTNAP3\n",
      "1\n",
      "Counter({2019: 1})\n",
      "\n",
      "CNTNAP4\n",
      "3\n",
      "Counter({2021: 1, 2018: 1, 2017: 1})\n",
      "\n",
      "CNTNAP5\n",
      "4\n",
      "Counter({2020: 2, 2021: 1, 2010: 1})\n",
      "\n",
      "COL28A1\n",
      "0\n",
      "Counter()\n",
      "\n",
      "CPT2\n",
      "0\n",
      "Counter()\n",
      "\n",
      "CPZ\n",
      "2\n",
      "Counter({2012: 1, 1985: 1})\n",
      "\n",
      "CREBBP\n",
      "14\n",
      "Counter({2015: 4, 2021: 2, 2014: 2, 2020: 1, 2016: 1, 2013: 1, 2009: 1, 2008: 1, 2005: 1})\n",
      "\n",
      "CSDE1\n",
      "5\n",
      "Counter({2021: 3, 2019: 1, 2014: 1})\n",
      "\n",
      "CSMD1\n",
      "8\n",
      "Counter({2021: 2, 2017: 2, 2014: 2, 2016: 1, 2009: 1})\n",
      "\n",
      "CSNK1E\n",
      "0\n",
      "Counter()\n",
      "\n",
      "CTCF\n",
      "5\n",
      "Counter({2019: 2, 2020: 1, 2015: 1, 2008: 1})\n",
      "\n",
      "CTNNA2\n",
      "0\n",
      "Counter()\n",
      "\n",
      "CTNNA3\n",
      "0\n",
      "Counter()\n",
      "\n",
      "CTNNB1\n",
      "10\n",
      "Counter({2014: 3, 2017: 2, 2015: 2, 2020: 1, 2021: 1, 2016: 1})\n",
      "\n",
      "CTNND2\n",
      "0\n",
      "Counter()\n",
      "\n",
      "CTTNBP2\n",
      "3\n",
      "Counter({2020: 2, 2001: 1})\n",
      "\n",
      "CUL3\n",
      "12\n",
      "Counter({2021: 4, 2020: 4, 2019: 1, 2017: 1, 2016: 1, 2015: 1})\n",
      "\n",
      "CNOT1\n",
      "0\n",
      "Counter()\n",
      "\n",
      "CORO1A\n",
      "0\n",
      "Counter()\n",
      "\n",
      "CSNK1G1\n",
      "1\n",
      "Counter({2020: 1})\n",
      "\n",
      "CSNK2A1\n",
      "1\n",
      "Counter({2020: 1})\n",
      "\n",
      "CSNK2B\n",
      "0\n",
      "Counter()\n",
      "\n",
      "CUL7\n",
      "1\n",
      "Counter({2015: 1})\n",
      "\n",
      "CUX1\n",
      "8\n",
      "Counter({2016: 3, 2021: 1, 2020: 1, 2019: 1, 2018: 1, 2012: 1})\n",
      "\n",
      "CUX2\n",
      "2\n",
      "Counter({2018: 1, 2019: 1})\n",
      "\n",
      "CX3CR1\n",
      "0\n",
      "Counter()\n",
      "\n",
      "CYFIP1\n",
      "35\n",
      "Counter({2019: 7, 2014: 7, 2021: 3, 2020: 3, 2015: 3, 2018: 2, 2013: 2, 2012: 2, 2007: 2, 2017: 1, 2016: 1, 2010: 1, 2006: 1})\n",
      "\n",
      "CYLC2\n",
      "0\n",
      "Counter()\n",
      "\n",
      "CYP27A1\n",
      "1\n",
      "Counter({2018: 1})\n",
      "\n",
      "DAGLA\n",
      "4\n",
      "Counter({2021: 1, 2018: 1, 2017: 1, 2013: 1})\n",
      "\n",
      "DAPP1\n",
      "2\n",
      "Counter({2020: 1, 2012: 1})\n",
      "\n",
      "DDC\n",
      "8\n",
      "Counter({2021: 1, 2020: 1, 2019: 1, 2016: 1, 2014: 1, 2013: 1, 2000: 1, 2002: 1})\n",
      "\n",
      "DDX3X\n",
      "0\n",
      "Counter()\n",
      "\n",
      "DDX53\n",
      "0\n",
      "Counter()\n",
      "\n",
      "DEAF1\n",
      "5\n",
      "Counter({2021: 1, 2020: 1, 2019: 1, 2018: 1, 2015: 1})\n",
      "\n",
      "DENR\n",
      "1\n",
      "Counter({2021: 1})\n",
      "\n",
      "DEPDC5\n",
      "2\n",
      "Counter({2017: 1, 1993: 1})\n",
      "\n",
      "DHCR7\n",
      "6\n",
      "Counter({2016: 3, 2017: 1, 2009: 1, 2003: 1})\n",
      "\n",
      "DHX30\n",
      "0\n",
      "Counter()\n",
      "\n",
      "DIP2A\n",
      "0\n",
      "Counter()\n",
      "\n",
      "DIP2C\n",
      "0\n",
      "Counter()\n",
      "\n",
      "DISC1\n",
      "23\n",
      "Counter({2016: 5, 2020: 2, 2018: 2, 2017: 2, 2014: 2, 2012: 2, 2010: 2, 2009: 2, 2008: 2, 2019: 1, 2011: 1})\n",
      "\n",
      "DIXDC1\n",
      "2\n",
      "Counter({2021: 1, 2016: 1})\n",
      "\n",
      "DIPK2A\n",
      "2\n",
      "Counter({2013: 1, 2011: 1})\n",
      "\n",
      "DLG1\n",
      "10\n",
      "Counter({2019: 3, 2021: 2, 2016: 2, 2020: 1, 2014: 1, 2010: 1})\n",
      "\n",
      "DLG2\n",
      "4\n",
      "Counter({2020: 1, 2019: 1, 2016: 1, 2014: 1})\n",
      "\n",
      "DLG4\n",
      "31\n",
      "Counter({2014: 6, 2019: 4, 2017: 4, 2015: 4, 2018: 3, 2016: 3, 2021: 2, 2020: 1, 2013: 1, 2012: 1, 2011: 1, 2005: 1})\n",
      "\n",
      "DLGAP1\n",
      "6\n",
      "Counter({2016: 2, 2021: 1, 2019: 1, 2018: 1, 2011: 1})\n",
      "\n",
      "DLGAP2\n",
      "1\n",
      "Counter({2013: 1})\n",
      "\n",
      "DLGAP3\n",
      "1\n",
      "Counter({2016: 1})\n",
      "\n",
      "DLL1\n",
      "2\n",
      "Counter({2019: 1, 2016: 1})\n",
      "\n",
      "DLX3\n",
      "2\n",
      "Counter({2018: 1, 2016: 1})\n",
      "\n",
      "DLX6\n",
      "4\n",
      "Counter({2010: 2, 2017: 1, 2003: 1})\n",
      "\n",
      "DMD\n",
      "0\n",
      "Counter()\n",
      "\n",
      "DMPK\n",
      "4\n",
      "Counter({2020: 2, 2016: 1, 2008: 1})\n",
      "\n",
      "CPEB4\n",
      "1\n",
      "Counter({2018: 1})\n",
      "\n",
      "CYP11B1\n",
      "2\n",
      "Counter({2016: 1, 2009: 1})\n",
      "\n",
      "DDHD2\n",
      "2\n",
      "Counter({2020: 1, 2021: 1})\n",
      "\n",
      "DDX23\n",
      "1\n",
      "Counter({2021: 1})\n",
      "\n",
      "DLX2\n",
      "4\n",
      "Counter({2009: 1, 2005: 1, 2004: 1, 2003: 1})\n",
      "\n",
      "DMWD\n",
      "0\n",
      "Counter()\n",
      "\n",
      "DMXL2\n",
      "1\n",
      "Counter({2019: 1})\n",
      "\n",
      "DNAH10\n",
      "0\n",
      "Counter()\n",
      "\n",
      "DNAH17\n",
      "2\n",
      "Counter({2020: 2})\n",
      "\n",
      "DNAH3\n",
      "0\n",
      "Counter()\n",
      "\n",
      "DNER\n",
      "3\n",
      "Counter({2020: 1, 2015: 1, 2012: 1})\n",
      "\n",
      "DNMT3A\n",
      "0\n",
      "Counter()\n",
      "\n",
      "DCC\n",
      "8\n",
      "Counter({2020: 6, 2018: 1, 2001: 1})\n",
      "\n",
      "DOCK1\n",
      "4\n",
      "Counter({2020: 2, 2021: 1, 2017: 1})\n",
      "\n",
      "DOCK4\n",
      "11\n",
      "Counter({2021: 3, 2014: 2, 2010: 2, 2019: 1, 2018: 1, 2013: 1, 2012: 1})\n",
      "\n",
      "DOCK8\n",
      "7\n",
      "Counter({2019: 2, 2021: 1, 2020: 1, 2017: 1, 2016: 1, 2007: 1})\n",
      "\n",
      "DOLK\n",
      "2\n",
      "Counter({2019: 1, 2013: 1})\n",
      "\n",
      "DPP10\n",
      "6\n",
      "Counter({2020: 2, 2017: 1, 2014: 1, 2013: 1, 2008: 1})\n",
      "\n",
      "DPP3\n",
      "0\n",
      "Counter()\n",
      "\n",
      "DPP4\n",
      "11\n",
      "Counter({2015: 2, 2003: 2, 2021: 1, 2019: 1, 2017: 1, 2014: 1, 2012: 1, 2004: 1, 2002: 1})\n",
      "\n",
      "DPP6\n",
      "10\n",
      "Counter({2014: 2, 2021: 1, 2020: 1, 2019: 1, 2018: 1, 2016: 1, 2017: 1, 2010: 1, 2008: 1})\n",
      "\n",
      "DPYD\n",
      "10\n",
      "Counter({2015: 2, 2011: 2, 2021: 1, 2016: 1, 2012: 1, 2010: 1, 2008: 1, 2000: 1})\n",
      "\n",
      "DPYSL2\n",
      "3\n",
      "Counter({2009: 2, 2016: 1})\n",
      "\n",
      "DPYSL3\n",
      "1\n",
      "Counter({2017: 1})\n",
      "\n",
      "DRD1\n",
      "13\n",
      "Counter({2020: 2, 2019: 2, 2016: 2, 2014: 2, 2021: 1, 2018: 1, 2017: 1, 2015: 1, 2008: 1})\n",
      "\n",
      "DRD2\n",
      "33\n",
      "Counter({2021: 4, 2019: 4, 2017: 4, 2018: 4, 2016: 3, 2014: 3, 2020: 2, 2013: 2, 2010: 2, 2015: 1, 2007: 1, 2005: 1, 1999: 1, 1991: 1})\n",
      "\n",
      "DRD3\n",
      "16\n",
      "Counter({2020: 2, 2015: 2, 2013: 2, 2010: 2, 2021: 1, 2019: 1, 2017: 1, 2016: 1, 2014: 1, 2012: 1, 2009: 1, 1994: 1})\n",
      "\n",
      "DSCAM\n",
      "7\n",
      "Counter({2021: 3, 2016: 2, 2020: 1, 2017: 1})\n",
      "\n",
      "DST\n",
      "9\n",
      "Counter({1987: 3, 2021: 2, 2019: 1, 2008: 1, 1993: 1, 1984: 1})\n",
      "\n",
      "DUSP15\n",
      "2\n",
      "Counter({2021: 1, 2017: 1})\n",
      "\n",
      "DVL3\n",
      "0\n",
      "Counter()\n",
      "\n",
      "DYDC1\n",
      "0\n",
      "Counter()\n",
      "\n",
      "DYDC2\n",
      "0\n",
      "Counter()\n",
      "\n",
      "DYNC1H1\n",
      "2\n",
      "Counter({2021: 2})\n",
      "\n",
      "DYRK1A\n",
      "0\n",
      "Counter()\n",
      "\n",
      "EBF3\n",
      "2\n",
      "Counter({2020: 1, 2017: 1})\n",
      "\n",
      "EEF1A2\n",
      "5\n",
      "Counter({2020: 2, 2019: 1, 2016: 1, 2015: 1})\n",
      "\n",
      "EFR3A\n",
      "0\n",
      "Counter()\n",
      "\n",
      "EGR3\n",
      "3\n",
      "Counter({2021: 1, 2020: 1, 2009: 1})\n",
      "\n",
      "EHMT1\n",
      "26\n",
      "Counter({2020: 5, 2016: 4, 2017: 3, 2018: 2, 2015: 2, 2014: 2, 2013: 2, 2012: 2, 2021: 1, 2019: 1, 2010: 1, 2007: 1})\n",
      "\n",
      "EIF3G\n",
      "0\n",
      "Counter()\n",
      "\n",
      "EIF4E\n",
      "24\n",
      "Counter({2020: 4, 2015: 4, 2021: 3, 2019: 3, 2013: 3, 2018: 2, 2017: 2, 2014: 2, 2009: 1})\n",
      "\n",
      "ELAVL2\n",
      "1\n",
      "Counter({2016: 1})\n",
      "\n",
      "ELAVL3\n",
      "0\n",
      "Counter()\n",
      "\n",
      "ELP4\n",
      "3\n",
      "Counter({2021: 1, 2016: 1, 2015: 1})\n",
      "\n",
      "EN2\n",
      "53\n",
      "Counter({2015: 7, 2014: 6, 2018: 4, 2016: 4, 2012: 4, 2017: 3, 2013: 3, 2009: 3, 2008: 3, 2020: 2, 2019: 2, 2010: 2, 2005: 2, 2021: 1, 2011: 1, 2007: 1, 2006: 1, 2004: 1, 2003: 1, 1999: 1, 1995: 1})\n",
      "\n",
      "EP300\n",
      "3\n",
      "Counter({2020: 1, 2016: 1, 2008: 1})\n",
      "\n",
      "EP400\n",
      "0\n",
      "Counter()\n",
      "\n",
      "EMSY\n",
      "0\n",
      "Counter()\n",
      "\n",
      "EPC2\n",
      "0\n",
      "Counter()\n",
      "\n",
      "EPHB2\n",
      "1\n",
      "Counter({2021: 1})\n",
      "\n",
      "EPPK1\n",
      "0\n",
      "Counter()\n",
      "\n",
      "ERMN\n",
      "2\n",
      "Counter({2021: 1, 2016: 1})\n",
      "\n",
      "ESR2\n",
      "0\n",
      "Counter()\n",
      "\n",
      "ESRRB\n",
      "0\n",
      "Counter()\n",
      "\n",
      "ETFB\n",
      "0\n",
      "Counter()\n",
      "\n",
      "EXOC3\n",
      "0\n",
      "Counter()\n",
      "\n",
      "EXOC5\n",
      "0\n",
      "Counter()\n",
      "\n",
      "EXOC6\n",
      "1\n",
      "Counter({2021: 1})\n",
      "\n",
      "EXOC6B\n",
      "0\n",
      "Counter()\n",
      "\n",
      "EXT1\n",
      "3\n",
      "Counter({2017: 1, 2012: 1, 2002: 1})\n",
      "\n",
      "ERBIN\n",
      "1\n",
      "Counter({2020: 1})\n",
      "\n",
      "FABP5\n",
      "0\n",
      "Counter()\n",
      "\n",
      "FAM47A\n",
      "0\n",
      "Counter()\n",
      "\n",
      "FAM98C\n",
      "0\n",
      "Counter()\n",
      "\n",
      "FAN1\n",
      "3\n",
      "Counter({2020: 1, 2016: 1, 2014: 1})\n",
      "\n",
      "FAT1\n",
      "4\n",
      "Counter({2021: 2, 2014: 2})\n",
      "\n",
      "FBN1\n",
      "1\n",
      "Counter({2020: 1})\n",
      "\n",
      "FBXO11\n",
      "3\n",
      "Counter({2020: 2, 2019: 1})\n",
      "\n",
      "FBXO40\n",
      "1\n",
      "Counter({2009: 1})\n",
      "\n",
      "FCRL6\n",
      "0\n",
      "Counter()\n",
      "\n",
      "FEZF2\n",
      "3\n",
      "Counter({2020: 1, 2014: 1, 2013: 1})\n",
      "\n",
      "FGA\n",
      "2\n",
      "Counter({2018: 1, 2013: 1})\n",
      "\n",
      "FHIT\n",
      "5\n",
      "Counter({2013: 2, 2021: 1, 2020: 1, 2016: 1})\n",
      "\n",
      "FMR1\n",
      "390\n",
      "Counter({2020: 45, 2021: 38, 2017: 37, 2019: 35, 2015: 34, 2014: 34, 2018: 33, 2016: 31, 2011: 17, 2012: 16, 2013: 14, 2010: 10, 2007: 9, 2006: 6, 2009: 5, 2008: 5, 2004: 4, 2005: 3, 2003: 2, 2002: 2, 2001: 2, 1998: 2, 1997: 2, 1996: 2, 1993: 1, 1994: 1})\n",
      "\n",
      "FOXG1\n",
      "7\n",
      "Counter({2020: 2, 2021: 1, 2017: 1, 2016: 1, 2015: 1, 2014: 1})\n",
      "\n",
      "FOXP1\n",
      "37\n",
      "Counter({2017: 8, 2021: 4, 2019: 4, 2012: 4, 2013: 4, 2020: 3, 2018: 3, 2015: 3, 2011: 2, 2016: 1, 2010: 1})\n",
      "\n",
      "FOXP2\n",
      "56\n",
      "Counter({2012: 7, 2021: 4, 2019: 4, 2017: 4, 2016: 4, 2020: 3, 2018: 3, 2014: 3, 2013: 3, 2010: 3, 2006: 3, 2002: 3, 2011: 2, 2008: 2, 2005: 2, 2004: 2, 1993: 1, 2015: 1, 2007: 1, 2003: 1})\n",
      "\n",
      "FRK\n",
      "0\n",
      "Counter()\n",
      "\n",
      "FRMPD4\n",
      "0\n",
      "Counter()\n",
      "\n",
      "GABBR2\n",
      "5\n",
      "Counter({2012: 2, 2021: 1, 2020: 1, 2009: 1})\n",
      "\n",
      "GABRA3\n",
      "0\n",
      "Counter()\n",
      "\n",
      "GABRA4\n",
      "1\n",
      "Counter({2018: 1})\n",
      "\n",
      "GABRB3\n",
      "5\n",
      "Counter({2011: 2, 2009: 1, 2007: 1, 2004: 1})\n",
      "\n",
      "GABRG3\n",
      "16\n",
      "Counter({2018: 2, 2007: 2, 2001: 2, 2021: 1, 2019: 1, 2017: 1, 2016: 1, 2012: 1, 2010: 1, 2006: 1, 2005: 1, 2004: 1, 1999: 1})\n",
      "\n",
      "GALNT13\n",
      "0\n",
      "Counter()\n",
      "\n",
      "GALNT14\n",
      "0\n",
      "Counter()\n",
      "\n",
      "GALNT8\n",
      "0\n",
      "Counter()\n",
      "\n",
      "GATM\n",
      "0\n",
      "Counter()\n",
      "\n",
      "EIF4G1\n",
      "3\n",
      "Counter({2020: 2, 2011: 1})\n",
      "\n",
      "ELOVL2\n",
      "2\n",
      "Counter({2018: 1, 2015: 1})\n",
      "\n",
      "ELP2\n",
      "1\n",
      "Counter({2021: 1})\n",
      "\n",
      "ENPP1\n",
      "1\n",
      "Counter({2020: 1})\n",
      "\n",
      "ERG\n",
      "10\n",
      "Counter({2020: 2, 2019: 2, 1989: 2, 2021: 1, 2016: 1, 2014: 1, 1990: 1})\n",
      "\n",
      "FABP4\n",
      "5\n",
      "Counter({2021: 3, 2020: 1, 2015: 1})\n",
      "\n",
      "FBRSL1\n",
      "0\n",
      "Counter()\n",
      "\n",
      "FBXO33\n",
      "0\n",
      "Counter()\n",
      "\n",
      "FGF13\n",
      "1\n",
      "Counter({2017: 1})\n",
      "\n",
      "FGF14\n",
      "2\n",
      "Counter({2020: 1, 2019: 1})\n",
      "\n",
      "FRG1\n",
      "0\n",
      "Counter()\n",
      "\n",
      "FXN\n",
      "1\n",
      "Counter({2020: 1})\n",
      "\n",
      "GABRB2\n",
      "4\n",
      "Counter({2022: 1, 2018: 1, 2017: 1, 2005: 1})\n",
      "\n",
      "GALNT2\n",
      "0\n",
      "Counter()\n",
      "\n",
      "GAS2\n",
      "0\n",
      "Counter()\n",
      "\n",
      "GDA\n",
      "3\n",
      "Counter({2021: 1, 2020: 1, 2013: 1})\n",
      "\n",
      "GGNBP2\n",
      "1\n",
      "Counter({2018: 1})\n",
      "\n",
      "GIGYF1\n",
      "0\n",
      "Counter()\n",
      "\n",
      "GIGYF2\n",
      "4\n",
      "Counter({2020: 1, 2018: 1, 2016: 1, 2014: 1})\n",
      "\n",
      "GLIS1\n",
      "1\n",
      "Counter({2015: 1})\n",
      "\n",
      "GLO1\n",
      "11\n",
      "Counter({2008: 2, 2020: 1, 2019: 1, 2016: 1, 2014: 1, 2015: 1, 2011: 1, 2007: 1, 2004: 1, 1989: 1})\n",
      "\n",
      "GLRA2\n",
      "5\n",
      "Counter({2017: 2, 2019: 1, 2018: 1, 2016: 1})\n",
      "\n",
      "GNAS\n",
      "1\n",
      "Counter({2000: 1})\n",
      "\n",
      "GNB1L\n",
      "0\n",
      "Counter()\n",
      "\n",
      "GPC4\n",
      "2\n",
      "Counter({2018: 1, 2016: 1})\n",
      "\n",
      "GPC6\n",
      "2\n",
      "Counter({2016: 1, 2015: 1})\n",
      "\n",
      "GPD2\n",
      "3\n",
      "Counter({2019: 1, 2018: 1, 2013: 1})\n",
      "\n",
      "GPHN\n",
      "23\n",
      "Counter({2019: 5, 2016: 5, 2014: 3, 2021: 2, 2015: 2, 2020: 1, 2018: 1, 2017: 1, 2013: 1, 2012: 1, 2011: 1})\n",
      "\n",
      "GPR37\n",
      "2\n",
      "Counter({2015: 1, 2012: 1})\n",
      "\n",
      "GPR85\n",
      "2\n",
      "Counter({2018: 1, 2015: 1})\n",
      "\n",
      "GPX1\n",
      "4\n",
      "Counter({2020: 1, 2016: 1, 2015: 1, 2010: 1})\n",
      "\n",
      "GRIA1\n",
      "5\n",
      "Counter({2018: 2, 2020: 1, 2019: 1, 2017: 1})\n",
      "\n",
      "GRIA2\n",
      "4\n",
      "Counter({2021: 3, 2019: 1})\n",
      "\n",
      "GRID1\n",
      "2\n",
      "Counter({2020: 1, 2012: 1})\n",
      "\n",
      "GRID2\n",
      "7\n",
      "Counter({2020: 2, 2018: 1, 2017: 1, 2016: 1, 2014: 1, 2012: 1})\n",
      "\n",
      "GRID2IP\n",
      "0\n",
      "Counter()\n",
      "\n",
      "GRIK2\n",
      "10\n",
      "Counter({2012: 2, 2007: 2, 2004: 2, 2019: 1, 2014: 1, 2010: 1, 2002: 1})\n",
      "\n",
      "GRIK3\n",
      "2\n",
      "Counter({2019: 1, 2004: 1})\n",
      "\n",
      "GRIK4\n",
      "5\n",
      "Counter({2012: 2, 2018: 1, 2015: 1, 2002: 1})\n",
      "\n",
      "GRIK5\n",
      "1\n",
      "Counter({2019: 1})\n",
      "\n",
      "GRIN1\n",
      "16\n",
      "Counter({2021: 3, 2017: 2, 2016: 2, 2015: 2, 2014: 2, 2020: 1, 2019: 1, 2018: 1, 2011: 1, 2008: 1})\n",
      "\n",
      "GRIN2A\n",
      "13\n",
      "Counter({2018: 5, 2021: 2, 2020: 2, 2022: 1, 2012: 1, 2011: 1, 2005: 1})\n",
      "\n",
      "FGFR1\n",
      "3\n",
      "Counter({2018: 1, 2010: 1, 2009: 1})\n",
      "\n",
      "GALNT10\n",
      "0\n",
      "Counter()\n",
      "\n",
      "GFAP\n",
      "68\n",
      "Counter({2019: 10, 2015: 8, 2017: 7, 2018: 5, 2021: 4, 2012: 4, 2020: 3, 2008: 3, 2005: 3, 2016: 2, 2014: 2, 2013: 2, 2007: 2, 1992: 2, 2011: 1, 2010: 1, 2009: 1, 2004: 1, 2002: 1, 1997: 1, 1993: 1, 1990: 1, 1989: 1, 1988: 1, 1985: 1})\n",
      "\n",
      "GNAI1\n",
      "0\n",
      "Counter()\n",
      "\n",
      "GRIN2B\n",
      "33\n",
      "Counter({2016: 6, 2020: 5, 2021: 4, 2011: 4, 2015: 3, 2012: 3, 2019: 2, 2017: 2, 1993: 1, 2018: 1, 2014: 1, 2013: 1})\n",
      "\n",
      "GRIP1\n",
      "5\n",
      "Counter({2019: 1, 2017: 1, 2015: 1, 2014: 1, 2011: 1})\n",
      "\n",
      "GRM5\n",
      "20\n",
      "Counter({2016: 3, 2015: 3, 2011: 3, 2021: 2, 2019: 2, 2018: 2, 2010: 2, 2017: 1, 2014: 1, 2012: 1})\n",
      "\n",
      "GRM7\n",
      "12\n",
      "Counter({2021: 2, 2019: 2, 2018: 2, 2020: 1, 2017: 1, 2016: 1, 2015: 1, 2013: 1, 2012: 1})\n",
      "\n",
      "GTF2I\n",
      "10\n",
      "Counter({2020: 2, 2021: 2, 2019: 1, 2018: 1, 2017: 1, 2015: 1, 2012: 1, 2007: 1})\n",
      "\n",
      "GUCY1A2\n",
      "0\n",
      "Counter()\n",
      "\n",
      "HCFC1\n",
      "1\n",
      "Counter({2019: 1})\n",
      "\n",
      "HCN1\n",
      "1\n",
      "Counter({2016: 1})\n",
      "\n",
      "HDAC4\n",
      "10\n",
      "Counter({2014: 4, 2019: 1, 2017: 1, 2016: 1, 1993: 1, 2012: 1, 2010: 1})\n",
      "\n",
      "HDAC8\n",
      "5\n",
      "Counter({2019: 2, 2021: 1, 2017: 1, 2015: 1})\n",
      "\n",
      "HDLBP\n",
      "1\n",
      "Counter({2009: 1})\n",
      "\n",
      "HECTD4\n",
      "0\n",
      "Counter()\n",
      "\n",
      "HECW2\n",
      "0\n",
      "Counter()\n",
      "\n",
      "HEPACAM\n",
      "2\n",
      "Counter({2014: 1, 2011: 1})\n",
      "\n",
      "H2BC11\n",
      "0\n",
      "Counter()\n",
      "\n",
      "HERC2\n",
      "4\n",
      "Counter({2019: 1, 2018: 1, 2012: 1, 2000: 1})\n",
      "\n",
      "HIVEP2\n",
      "2\n",
      "Counter({2020: 1, 2019: 1})\n",
      "\n",
      "HIVEP3\n",
      "0\n",
      "Counter()\n",
      "\n",
      "HLA-DPB1\n",
      "0\n",
      "Counter()\n",
      "\n",
      "HNRNPH2\n",
      "2\n",
      "Counter({2021: 1, 2016: 1})\n",
      "\n",
      "HNRNPU\n",
      "3\n",
      "Counter({2018: 1, 2017: 1, 2014: 1})\n",
      "\n",
      "HOMER1\n",
      "0\n",
      "Counter()\n",
      "\n",
      "HOXA1\n",
      "25\n",
      "Counter({2002: 6, 2007: 3, 2004: 3, 2011: 2, 2005: 2, 2003: 2, 2000: 2, 2012: 1, 2010: 1, 2009: 1, 2008: 1, 2001: 1})\n",
      "\n",
      "HRAS\n",
      "8\n",
      "Counter({2020: 1, 2017: 1, 2015: 1, 2002: 1, 1996: 1, 1995: 1, 1994: 1, 1993: 1})\n",
      "\n",
      "HTR1B\n",
      "0\n",
      "Counter()\n",
      "\n",
      "HTR3A\n",
      "0\n",
      "Counter()\n",
      "\n",
      "HTR3C\n",
      "0\n",
      "Counter()\n",
      "\n",
      "HUWE1\n",
      "7\n",
      "Counter({2021: 1, 2019: 1, 2020: 1, 2018: 1, 2017: 1, 2014: 1, 2012: 1})\n",
      "\n",
      "HYDIN\n",
      "3\n",
      "Counter({2020: 1, 2018: 1, 2013: 1})\n",
      "\n",
      "ICA1\n",
      "2\n",
      "Counter({2011: 1, 2010: 1})\n",
      "\n",
      "IL1R2\n",
      "0\n",
      "Counter()\n",
      "\n",
      "IL1RAPL1\n",
      "19\n",
      "Counter({2011: 4, 2015: 3, 2019: 2, 2014: 2, 2013: 2, 2010: 2, 2008: 2, 2018: 1, 2017: 1})\n",
      "\n",
      "IL1RAPL2\n",
      "2\n",
      "Counter({2011: 1, 2008: 1})\n",
      "\n",
      "ILF2\n",
      "0\n",
      "Counter()\n",
      "\n",
      "IMMP2L\n",
      "0\n",
      "Counter()\n",
      "\n",
      "INPP1\n",
      "1\n",
      "Counter({2003: 1})\n",
      "\n",
      "INTS1\n",
      "0\n",
      "Counter()\n",
      "\n",
      "INTS6\n",
      "0\n",
      "Counter()\n",
      "\n",
      "IQGAP3\n",
      "0\n",
      "Counter()\n",
      "\n",
      "IQSEC2\n",
      "8\n",
      "Counter({2021: 4, 2019: 2, 2020: 1, 2015: 1})\n",
      "\n",
      "IRF2BPL\n",
      "0\n",
      "Counter()\n",
      "\n",
      "ITGB3\n",
      "0\n",
      "Counter()\n",
      "\n",
      "ITPR1\n",
      "5\n",
      "Counter({2020: 2, 2016: 1, 2014: 1, 2013: 1})\n",
      "\n",
      "ITSN1\n",
      "3\n",
      "Counter({2021: 3})\n",
      "\n",
      "GSTM1\n",
      "17\n",
      "Counter({2021: 3, 2020: 3, 2019: 2, 2016: 2, 2014: 2, 2010: 2, 2017: 1, 2015: 1, 2006: 1})\n",
      "\n",
      "HLA-A\n",
      "6\n",
      "Counter({2020: 1, 2018: 1, 2015: 1, 2011: 1, 2006: 1, 1980: 1})\n",
      "\n",
      "HNRNPD\n",
      "0\n",
      "Counter()\n",
      "\n",
      "HNRNPF\n",
      "0\n",
      "Counter()\n",
      "\n",
      "HNRNPK\n",
      "1\n",
      "Counter({2021: 1})\n",
      "\n",
      "HNRNPR\n",
      "0\n",
      "Counter()\n",
      "\n",
      "HNRNPUL2\n",
      "0\n",
      "Counter()\n",
      "\n",
      "IGF1\n",
      "49\n",
      "Counter({2021: 6, 2020: 6, 2017: 6, 2019: 5, 2016: 5, 2015: 5, 2014: 4, 2013: 3, 2009: 2, 2018: 1, 2012: 1, 2011: 1, 2010: 1, 2007: 1, 2006: 1, 2003: 1})\n",
      "\n",
      "JARID2\n",
      "5\n",
      "Counter({2018: 1, 2017: 1, 2016: 1, 2012: 1, 2011: 1})\n",
      "\n",
      "JMJD1C\n",
      "6\n",
      "Counter({2021: 2, 2020: 1, 2019: 1, 2016: 1, 2007: 1})\n",
      "\n",
      "KANK1\n",
      "7\n",
      "Counter({2021: 2, 2020: 1, 2019: 1, 2017: 1, 2013: 1, 2007: 1})\n",
      "\n",
      "KANSL1\n",
      "1\n",
      "Counter({2016: 1})\n",
      "\n",
      "KAT2B\n",
      "0\n",
      "Counter()\n",
      "\n",
      "KAT6A\n",
      "0\n",
      "Counter()\n",
      "\n",
      "HLA-B\n",
      "6\n",
      "Counter({2015: 2, 2020: 1, 2011: 1, 2006: 1, 1980: 1})\n",
      "\n",
      "HLA-DRB1\n",
      "15\n",
      "Counter({2018: 2, 2013: 2, 2006: 2, 2020: 1, 2016: 1, 2015: 1, 2012: 1, 2011: 1, 2009: 1, 2002: 1, 2001: 1, 1996: 1})\n",
      "\n",
      "HLA-G\n",
      "7\n",
      "Counter({2020: 2, 2018: 2, 2019: 1, 2016: 1, 2015: 1})\n",
      "\n",
      "HMGN1\n",
      "0\n",
      "Counter()\n",
      "\n",
      "HS3ST5\n",
      "0\n",
      "Counter()\n",
      "\n",
      "HSD11B1\n",
      "0\n",
      "Counter()\n",
      "\n",
      "KATNAL1\n",
      "0\n",
      "Counter()\n",
      "\n",
      "KATNAL2\n",
      "3\n",
      "Counter({2021: 1, 2016: 1, 2012: 1})\n",
      "\n",
      "KCNB1\n",
      "8\n",
      "Counter({2021: 3, 2020: 3, 2019: 1, 2018: 1})\n",
      "\n",
      "KCNC1\n",
      "1\n",
      "Counter({2016: 1})\n",
      "\n",
      "KCND2\n",
      "5\n",
      "Counter({2021: 1, 2018: 1, 2015: 1, 2014: 1, 2012: 1})\n",
      "\n",
      "KCND3\n",
      "3\n",
      "Counter({2021: 1, 2016: 1, 2013: 1})\n",
      "\n",
      "KCNJ10\n",
      "5\n",
      "Counter({2021: 1, 2020: 1, 2018: 1, 2015: 1, 2011: 1})\n",
      "\n",
      "KCNJ15\n",
      "0\n",
      "Counter()\n",
      "\n",
      "KCNK7\n",
      "0\n",
      "Counter()\n",
      "\n",
      "KCNMA1\n",
      "7\n",
      "Counter({2021: 2, 2020: 2, 2015: 1, 2007: 1, 2006: 1})\n",
      "\n",
      "KCNQ2\n",
      "9\n",
      "Counter({2021: 4, 2019: 2, 2013: 2, 2018: 1})\n",
      "\n",
      "KCNQ3\n",
      "4\n",
      "Counter({2019: 2, 2021: 1, 2015: 1})\n",
      "\n",
      "KCNS3\n",
      "1\n",
      "Counter({2016: 1})\n",
      "\n",
      "KCTD13\n",
      "6\n",
      "Counter({2017: 2, 2021: 1, 2020: 1, 2019: 1, 2015: 1})\n",
      "\n",
      "KDM1B\n",
      "0\n",
      "Counter()\n",
      "\n",
      "KDM3B\n",
      "0\n",
      "Counter()\n",
      "\n",
      "KDM4B\n",
      "0\n",
      "Counter()\n",
      "\n",
      "KDM4C\n",
      "3\n",
      "Counter({2020: 1, 2010: 1, 2007: 1})\n",
      "\n",
      "KDM5B\n",
      "0\n",
      "Counter()\n",
      "\n",
      "KDM5C\n",
      "9\n",
      "Counter({2019: 3, 2021: 2, 2016: 1, 2015: 1, 2014: 1, 2010: 1})\n",
      "\n",
      "KDM6A\n",
      "1\n",
      "Counter({2015: 1})\n",
      "\n",
      "KDM6B\n",
      "0\n",
      "Counter()\n",
      "\n",
      "KHDRBS2\n",
      "0\n",
      "Counter()\n",
      "\n",
      "KIAA1586\n",
      "0\n",
      "Counter()\n",
      "\n",
      "KIF13B\n",
      "0\n",
      "Counter()\n",
      "\n",
      "KIF14\n",
      "1\n",
      "Counter({2015: 1})\n",
      "\n",
      "KAT6B\n",
      "0\n",
      "Counter()\n",
      "\n",
      "KDM5A\n",
      "5\n",
      "Counter({2014: 2, 2020: 1, 2019: 1, 2008: 1})\n",
      "\n",
      "KIAA0232\n",
      "0\n",
      "Counter()\n",
      "\n",
      "KIF1A\n",
      "8\n",
      "Counter({2020: 3, 2021: 1, 2019: 1, 2018: 1, 2017: 1, 2009: 1})\n",
      "\n",
      "KIF5C\n",
      "0\n",
      "Counter()\n",
      "\n",
      "KIRREL3\n",
      "0\n",
      "Counter()\n",
      "\n",
      "KLF16\n",
      "2\n",
      "Counter({2017: 1, 2007: 1})\n",
      "\n",
      "KMT2A\n",
      "0\n",
      "Counter()\n",
      "\n",
      "KMT2C\n",
      "0\n",
      "Counter()\n",
      "\n",
      "KMT2E\n",
      "0\n",
      "Counter()\n",
      "\n",
      "KPTN\n",
      "1\n",
      "Counter({2020: 1})\n",
      "\n",
      "KRR1\n",
      "0\n",
      "Counter()\n",
      "\n",
      "KRT26\n",
      "0\n",
      "Counter()\n",
      "\n",
      "LAMA1\n",
      "2\n",
      "Counter({2013: 1, 1997: 1})\n",
      "\n",
      "LAMB1\n",
      "3\n",
      "Counter({2015: 1, 2005: 1, 2004: 1})\n",
      "\n",
      "LEO1\n",
      "1\n",
      "Counter({2018: 1})\n",
      "\n",
      "LEP\n",
      "38\n",
      "Counter({2014: 7, 2018: 6, 2021: 5, 2016: 4, 2019: 3, 2017: 3, 2020: 2, 2015: 2, 2004: 2, 2012: 1, 2011: 1, 2010: 1, 2008: 1})\n",
      "\n",
      "LILRB2\n",
      "0\n",
      "Counter()\n",
      "\n",
      "LIN7B\n",
      "2\n",
      "Counter({2015: 1, 2014: 1})\n",
      "\n",
      "KMT5B\n",
      "4\n",
      "Counter({2021: 2, 2019: 1, 2017: 1})\n",
      "\n",
      "LNPK\n",
      "0\n",
      "Counter()\n",
      "\n",
      "LRBA\n",
      "0\n",
      "Counter()\n",
      "\n",
      "LRFN2\n",
      "1\n",
      "Counter({2017: 1})\n",
      "\n",
      "LRFN5\n",
      "2\n",
      "Counter({2019: 1, 2011: 1})\n",
      "\n",
      "LRP1\n",
      "2\n",
      "Counter({2019: 1, 2018: 1})\n",
      "\n",
      "LRP2\n",
      "1\n",
      "Counter({2012: 1})\n",
      "\n",
      "LRRC1\n",
      "0\n",
      "Counter()\n",
      "\n",
      "LRRC4\n",
      "4\n",
      "Counter({2021: 1, 2019: 1, 2020: 1, 2018: 1})\n",
      "\n",
      "LZTR1\n",
      "1\n",
      "Counter({2015: 1})\n",
      "\n",
      "MACROD2\n",
      "14\n",
      "Counter({2017: 3, 2019: 2, 2013: 2, 2011: 2, 2020: 1, 2015: 1, 2014: 1, 2012: 1, 2010: 1})\n",
      "\n",
      "MAGEL2\n",
      "23\n",
      "Counter({2020: 7, 2018: 3, 2021: 2, 2019: 2, 2017: 2, 2015: 2, 2016: 1, 2013: 1, 2012: 1, 2008: 1, 2001: 1})\n",
      "\n",
      "MAOA\n",
      "28\n",
      "Counter({2014: 4, 2017: 3, 2016: 3, 2013: 3, 2018: 2, 2011: 2, 2009: 2, 2008: 2, 2021: 1, 2020: 1, 2015: 1, 2012: 1, 2003: 1, 2002: 1, 1999: 1})\n",
      "\n",
      "MAOB\n",
      "13\n",
      "Counter({2018: 2, 2013: 2, 2009: 2, 2021: 1, 2019: 1, 2017: 1, 2016: 1, 2014: 1, 2011: 1, 1999: 1})\n",
      "\n",
      "MAPK3\n",
      "17\n",
      "Counter({2017: 3, 2021: 2, 2018: 2, 2011: 2, 2020: 1, 2019: 1, 2016: 1, 2015: 1, 2014: 1, 2013: 1, 2012: 1, 2010: 1})\n",
      "\n",
      "MARK1\n",
      "2\n",
      "Counter({2016: 1, 2008: 1})\n",
      "\n",
      "MBD1\n",
      "5\n",
      "Counter({2010: 2, 2009: 1, 2008: 1, 2005: 1})\n",
      "\n",
      "MBD3\n",
      "2\n",
      "Counter({2010: 1, 2005: 1})\n",
      "\n",
      "MBD4\n",
      "3\n",
      "Counter({2010: 1, 2009: 1, 2005: 1})\n",
      "\n",
      "MBD5\n",
      "21\n",
      "Counter({2017: 4, 2021: 3, 2020: 2, 2018: 2, 2016: 2, 2015: 2, 2014: 2, 2012: 2, 2013: 1, 2011: 1})\n",
      "\n",
      "MBD6\n",
      "1\n",
      "Counter({2012: 1})\n",
      "\n",
      "MBOAT7\n",
      "2\n",
      "Counter({2019: 1, 2016: 1})\n",
      "\n",
      "MCM4\n",
      "0\n",
      "Counter()\n",
      "\n",
      "MCM6\n",
      "1\n",
      "Counter({2018: 1})\n",
      "\n",
      "MCPH1\n",
      "5\n",
      "Counter({2009: 3, 2011: 2})\n",
      "\n",
      "MDGA2\n",
      "4\n",
      "Counter({2021: 1, 2013: 1, 2012: 1, 2009: 1})\n",
      "\n",
      "MECP2\n",
      "261\n",
      "Counter({2016: 29, 2011: 21, 2019: 18, 2014: 18, 2017: 17, 2020: 16, 2015: 14, 2012: 14, 2018: 13, 2010: 13, 2009: 13, 2021: 12, 2013: 12, 2008: 12, 2007: 11, 2005: 8, 2004: 5, 2003: 5, 2006: 4, 2002: 2, 2000: 2, 1993: 1, 2001: 1})\n",
      "\n",
      "KNG1\n",
      "2\n",
      "Counter({2015: 1, 2014: 1})\n",
      "\n",
      "LAS1L\n",
      "1\n",
      "Counter({2020: 1})\n",
      "\n",
      "LDB1\n",
      "0\n",
      "Counter()\n",
      "\n",
      "LDLR\n",
      "9\n",
      "Counter({2019: 5, 2016: 2, 2021: 1, 2012: 1})\n",
      "\n",
      "LMX1B\n",
      "3\n",
      "Counter({2020: 1, 2019: 1, 2011: 1})\n",
      "\n",
      "LRRC4C\n",
      "3\n",
      "Counter({2019: 1, 2017: 1, 2013: 1})\n",
      "\n",
      "LZTS2\n",
      "0\n",
      "Counter()\n",
      "\n",
      "MED12L\n",
      "1\n",
      "Counter({2019: 1})\n",
      "\n",
      "MED13\n",
      "3\n",
      "Counter({2021: 1, 2019: 1, 2018: 1})\n",
      "\n",
      "MED13L\n",
      "5\n",
      "Counter({2019: 2, 2018: 1, 2015: 1, 2014: 1})\n",
      "\n",
      "MEF2C\n",
      "16\n",
      "Counter({2016: 3, 2021: 2, 2019: 2, 2017: 2, 2018: 2, 2015: 2, 2020: 1, 2010: 1, 2009: 1})\n",
      "\n",
      "KIZ\n",
      "0\n",
      "Counter()\n",
      "\n",
      "MAPT\n",
      "31\n",
      "Counter({2021: 8, 2020: 7, 2019: 4, 2016: 4, 2012: 2, 2018: 1, 2017: 1, 2014: 1, 2011: 1, 2010: 1, 1991: 1})\n",
      "\n",
      "MAPT-AS1\n",
      "0\n",
      "Counter()\n",
      "\n",
      "MEGF10\n",
      "1\n",
      "Counter({2017: 1})\n",
      "\n",
      "MEGF11\n",
      "0\n",
      "Counter()\n",
      "\n",
      "MEIS2\n",
      "4\n",
      "Counter({2020: 1, 2018: 1, 2017: 1, 2015: 1})\n",
      "\n",
      "MEMO1\n",
      "1\n",
      "Counter({2019: 1})\n",
      "\n",
      "MET\n",
      "0\n",
      "Counter()\n",
      "\n",
      "MFRP\n",
      "0\n",
      "Counter()\n",
      "\n",
      "MIB1\n",
      "1\n",
      "Counter({2009: 1})\n",
      "\n",
      "MKX\n",
      "0\n",
      "Counter()\n",
      "\n",
      "METTL26\n",
      "0\n",
      "Counter()\n",
      "\n",
      "MIR137\n",
      "9\n",
      "Counter({2016: 2, 2014: 2, 2021: 1, 2020: 1, 2018: 1, 2015: 1, 2011: 1})\n",
      "\n",
      "MAP1A\n",
      "3\n",
      "Counter({2021: 1, 2019: 1, 2011: 1})\n",
      "\n",
      "MLANA\n",
      "1\n",
      "Counter({2019: 1})\n",
      "\n",
      "MSANTD2\n",
      "1\n",
      "Counter({2017: 1})\n",
      "\n",
      "MSR1\n",
      "0\n",
      "Counter()\n",
      "\n",
      "MTF1\n",
      "3\n",
      "Counter({2014: 1, 2011: 1, 2004: 1})\n",
      "\n",
      "MTHFR\n",
      "0\n",
      "Counter()\n",
      "\n",
      "MTOR\n",
      "218\n",
      "Counter({2021: 35, 2020: 32, 2019: 30, 2015: 27, 2016: 19, 2017: 18, 2018: 15, 2013: 12, 2014: 10, 2012: 9, 2011: 4, 2009: 4, 1993: 1, 2010: 1, 2006: 1})\n",
      "\n",
      "MUC12\n",
      "0\n",
      "Counter()\n",
      "\n",
      "MUC4\n",
      "1\n",
      "Counter({2011: 1})\n",
      "\n",
      "MYH10\n",
      "2\n",
      "Counter({2020: 1, 2016: 1})\n",
      "\n",
      "MRTFB\n",
      "2\n",
      "Counter({2021: 1, 2018: 1})\n",
      "\n",
      "MYH4\n",
      "0\n",
      "Counter()\n",
      "\n",
      "MYO16\n",
      "3\n",
      "Counter({2019: 1, 2015: 1, 2013: 1})\n",
      "\n",
      "MYO1E\n",
      "1\n",
      "Counter({2016: 1})\n",
      "\n",
      "MYO5A\n",
      "1\n",
      "Counter({2020: 1})\n",
      "\n",
      "MYO5C\n",
      "0\n",
      "Counter()\n",
      "\n",
      "MYO9B\n",
      "1\n",
      "Counter({2018: 1})\n",
      "\n",
      "MYT1L\n",
      "6\n",
      "Counter({2021: 1, 2020: 1, 2018: 1, 2016: 1, 2013: 1, 2012: 1})\n",
      "\n",
      "NAA15\n",
      "0\n",
      "Counter()\n",
      "\n",
      "NAALADL2\n",
      "1\n",
      "Counter({2015: 1})\n",
      "\n",
      "NACC1\n",
      "0\n",
      "Counter()\n",
      "\n",
      "NAV2\n",
      "0\n",
      "Counter()\n",
      "\n",
      "NBEA\n",
      "20\n",
      "Counter({2015: 3, 2021: 2, 2020: 2, 2018: 2, 2013: 2, 2019: 1, 2016: 1, 2014: 1, 2011: 1, 2010: 1, 2009: 1, 2006: 1, 2002: 1, 2003: 1})\n",
      "\n",
      "NCKAP1\n",
      "2\n",
      "Counter({2020: 1, 2016: 1})\n",
      "\n",
      "NCKAP5\n",
      "0\n",
      "Counter()\n",
      "\n",
      "NCOR1\n",
      "2\n",
      "Counter({2018: 1, 2016: 1})\n",
      "\n",
      "NEGR1\n",
      "1\n",
      "Counter({2018: 1})\n",
      "\n",
      "NEO1\n",
      "2\n",
      "Counter({2020: 1, 2016: 1})\n",
      "\n",
      "NEXMIF\n",
      "6\n",
      "Counter({2020: 2, 2015: 2, 2021: 1, 2018: 1})\n",
      "\n",
      "NF1\n",
      "0\n",
      "Counter()\n",
      "\n",
      "NFE2L3\n",
      "0\n",
      "Counter()\n",
      "\n",
      "NFIA\n",
      "5\n",
      "Counter({2021: 1, 2020: 1, 2018: 1, 2015: 1, 2013: 1})\n",
      "\n",
      "NFIB\n",
      "3\n",
      "Counter({2020: 1, 2018: 1, 2012: 1})\n",
      "\n",
      "NFIX\n",
      "0\n",
      "Counter()\n",
      "\n",
      "NINL\n",
      "0\n",
      "Counter()\n",
      "\n",
      "NIPA1\n",
      "7\n",
      "Counter({2021: 1, 2020: 1, 2017: 1, 2015: 1, 2013: 1, 2010: 1, 2006: 1})\n",
      "\n",
      "NIPA2\n",
      "6\n",
      "Counter({2021: 1, 2020: 1, 2017: 1, 2015: 1, 2013: 1, 2006: 1})\n",
      "\n",
      "NIPBL\n",
      "0\n",
      "Counter()\n",
      "\n",
      "NLGN1\n",
      "49\n",
      "Counter({2021: 7, 2020: 7, 2013: 7, 2012: 4, 2019: 3, 2008: 3, 2005: 3, 2016: 2, 2015: 2, 2014: 2, 2009: 2, 2018: 1, 2017: 1, 2011: 1, 2010: 1, 2007: 1, 2004: 1, 2003: 1})\n",
      "\n",
      "MNT\n",
      "2\n",
      "Counter({2019: 1, 2015: 1})\n",
      "\n",
      "MSL3\n",
      "1\n",
      "Counter({2021: 1})\n",
      "\n",
      "MSNP1AS\n",
      "7\n",
      "Counter({2016: 3, 2021: 1, 2020: 1, 2019: 1, 2012: 1})\n",
      "\n",
      "MSX2\n",
      "3\n",
      "Counter({2020: 1, 2019: 1, 2002: 1})\n",
      "\n",
      "MYH9\n",
      "1\n",
      "Counter({2012: 1})\n",
      "\n",
      "MYLK\n",
      "1\n",
      "Counter({2011: 1})\n",
      "\n",
      "MYOCD\n",
      "2\n",
      "Counter({2021: 1, 2016: 1})\n",
      "\n",
      "NCAPH2\n",
      "1\n",
      "Counter({2010: 1})\n",
      "\n",
      "NCOA1\n",
      "0\n",
      "Counter()\n",
      "\n",
      "NDUFA5\n",
      "0\n",
      "Counter()\n",
      "\n",
      "NLGN2\n",
      "18\n",
      "Counter({2013: 4, 2020: 3, 2019: 2, 2017: 2, 2005: 2, 2021: 1, 2016: 1, 2014: 1, 2012: 1, 2011: 1})\n",
      "\n",
      "NLGN3\n",
      "128\n",
      "Counter({2020: 12, 2018: 12, 2021: 11, 2017: 11, 2014: 10, 2012: 10, 2009: 8, 2019: 6, 2015: 6, 2011: 6, 2008: 6, 2016: 5, 2013: 5, 2007: 4, 2005: 4, 2004: 4, 2010: 3, 2006: 3, 2003: 2})\n",
      "\n",
      "NLGN4X\n",
      "66\n",
      "Counter({2012: 7, 2009: 6, 2021: 5, 2020: 5, 2016: 5, 2013: 5, 2019: 4, 2008: 4, 2004: 4, 2007: 3, 2006: 3, 2005: 3, 2018: 2, 2015: 2, 2014: 2, 2010: 2, 2003: 2, 2017: 1, 2011: 1})\n",
      "\n",
      "NLGN4Y\n",
      "10\n",
      "Counter({2020: 3, 2021: 2, 2019: 2, 2015: 1, 2008: 1, 2005: 1})\n",
      "\n",
      "NOTCH2NL\n",
      "0\n",
      "Counter()\n",
      "\n",
      "NPAS2\n",
      "2\n",
      "Counter({2016: 1, 2007: 1})\n",
      "\n",
      "NR1D1\n",
      "3\n",
      "Counter({2019: 1, 2017: 1, 2016: 1})\n",
      "\n",
      "NR2F1\n",
      "11\n",
      "Counter({2020: 6, 2019: 3, 2017: 1, 2016: 1})\n",
      "\n",
      "NR3C2\n",
      "4\n",
      "Counter({2021: 1, 2020: 1, 2019: 1, 2016: 1})\n",
      "\n",
      "NR4A2\n",
      "6\n",
      "Counter({2019: 1, 2018: 1, 2016: 1, 2015: 1, 2013: 1, 2005: 1})\n",
      "\n",
      "NRCAM\n",
      "13\n",
      "Counter({2019: 2, 2015: 2, 2012: 2, 2009: 2, 2021: 1, 2018: 1, 2006: 1, 2005: 1, 2004: 1})\n",
      "\n",
      "NRP2\n",
      "8\n",
      "Counter({2019: 3, 2021: 1, 2017: 1, 2015: 1, 2010: 1, 2007: 1})\n",
      "\n",
      "NRXN1\n",
      "119\n",
      "Counter({2019: 15, 2012: 12, 2021: 10, 2015: 10, 2014: 10, 2013: 10, 2009: 10, 2020: 8, 2011: 8, 2018: 7, 2017: 5, 2008: 5, 2010: 4, 2016: 3, 2007: 1, 2004: 1})\n",
      "\n",
      "NRXN2\n",
      "17\n",
      "Counter({2018: 5, 2019: 2, 2015: 2, 2012: 2, 2011: 2, 2020: 1, 2021: 1, 2014: 1, 2013: 1})\n",
      "\n",
      "NRXN3\n",
      "13\n",
      "Counter({2018: 4, 2012: 4, 2014: 2, 2021: 1, 2013: 1, 2011: 1})\n",
      "\n",
      "NSD1\n",
      "3\n",
      "Counter({2019: 1, 2015: 1, 2007: 1})\n",
      "\n",
      "NTNG1\n",
      "5\n",
      "Counter({2015: 2, 2012: 2, 2020: 1})\n",
      "\n",
      "NTNG2\n",
      "3\n",
      "Counter({2021: 1, 2019: 1, 2018: 1})\n",
      "\n",
      "NTRK1\n",
      "1\n",
      "Counter({2009: 1})\n",
      "\n",
      "NTRK2\n",
      "8\n",
      "Counter({2020: 2, 2015: 2, 2021: 1, 2018: 1, 2013: 1, 2010: 1})\n",
      "\n",
      "NTRK3\n",
      "1\n",
      "Counter({2013: 1})\n",
      "\n",
      "NSMCE3\n",
      "1\n",
      "Counter({2001: 1})\n",
      "\n",
      "NUAK1\n",
      "1\n",
      "Counter({2018: 1})\n",
      "\n",
      "NUDCD2\n",
      "0\n",
      "Counter()\n",
      "\n",
      "NUP133\n",
      "0\n",
      "Counter()\n",
      "\n",
      "NXPH1\n",
      "1\n",
      "Counter({2011: 1})\n",
      "\n",
      "OCRL\n",
      "4\n",
      "Counter({2020: 2, 2018: 1, 2012: 1})\n",
      "\n",
      "ODF3L2\n",
      "0\n",
      "Counter()\n",
      "\n",
      "OFD1\n",
      "1\n",
      "Counter({2020: 1})\n",
      "\n",
      "OPHN1\n",
      "6\n",
      "Counter({2019: 1, 2016: 1, 2014: 1, 2012: 1, 2011: 1, 2009: 1})\n",
      "\n",
      "OR1C1\n",
      "1\n",
      "Counter({2021: 1})\n",
      "\n",
      "OR2M4\n",
      "1\n",
      "Counter({2015: 1})\n",
      "\n",
      "OR2T10\n",
      "0\n",
      "Counter()\n",
      "\n",
      "OR52M1\n",
      "0\n",
      "Counter()\n",
      "\n",
      "OTUD7A\n",
      "3\n",
      "Counter({2020: 1, 2018: 1, 2016: 1})\n",
      "\n",
      "OTX1\n",
      "2\n",
      "Counter({2013: 1, 2011: 1})\n",
      "\n",
      "OXT\n",
      "85\n",
      "Counter({2018: 13, 2016: 12, 2020: 11, 2021: 10, 2019: 6, 2017: 6, 2015: 6, 2012: 5, 2014: 4, 2013: 4, 2008: 4, 2011: 2, 2010: 1, 2009: 1})\n",
      "\n",
      "MSRA\n",
      "2\n",
      "Counter({2010: 1, 2009: 1})\n",
      "\n",
      "NKX2-2\n",
      "4\n",
      "Counter({2021: 2, 2019: 1, 2018: 1})\n",
      "\n",
      "NOVA2\n",
      "0\n",
      "Counter()\n",
      "\n",
      "NUP155\n",
      "0\n",
      "Counter()\n",
      "\n",
      "NXF1\n",
      "0\n",
      "Counter()\n",
      "\n",
      "OXTR\n",
      "148\n",
      "Counter({2017: 17, 2016: 16, 2019: 14, 2018: 13, 2020: 12, 2021: 11, 2012: 11, 2015: 10, 2014: 8, 2010: 7, 2008: 7, 2013: 6, 2011: 5, 2009: 3, 2006: 3, 2007: 2, 2022: 1, 2005: 1, 2004: 1})\n",
      "\n",
      "P2RX5\n",
      "0\n",
      "Counter()\n",
      "\n",
      "P4HA2\n",
      "0\n",
      "Counter()\n",
      "\n",
      "PACS1\n",
      "2\n",
      "Counter({2021: 1, 2017: 1})\n",
      "\n",
      "PACS2\n",
      "1\n",
      "Counter({2019: 1})\n",
      "\n",
      "PAFAH1B2\n",
      "1\n",
      "Counter({2018: 1})\n",
      "\n",
      "PAH\n",
      "90\n",
      "Counter({2020: 16, 2013: 9, 2012: 9, 2021: 7, 2019: 7, 2011: 6, 2017: 5, 2016: 5, 2014: 5, 2018: 4, 2010: 4, 2008: 4, 2015: 3, 2007: 3, 2022: 1, 2009: 1, 1975: 1})\n",
      "\n",
      "PAK1\n",
      "0\n",
      "Counter()\n",
      "\n",
      "PAK2\n",
      "0\n",
      "Counter()\n",
      "\n",
      "PAPOLG\n",
      "0\n",
      "Counter()\n",
      "\n",
      "NSD2\n",
      "0\n",
      "Counter()\n",
      "\n",
      "PARD3B\n",
      "0\n",
      "Counter()\n",
      "\n",
      "PAX5\n",
      "2\n",
      "Counter({2020: 1, 2014: 1})\n",
      "\n",
      "PAX6\n",
      "35\n",
      "Counter({2016: 6, 2020: 4, 2021: 3, 2017: 3, 2008: 3, 2019: 2, 2018: 2, 2015: 2, 2014: 2, 2013: 2, 2011: 2, 1993: 1, 2010: 1, 2009: 1, 2006: 1})\n",
      "\n",
      "PBX1\n",
      "0\n",
      "Counter()\n",
      "\n",
      "PCCA\n",
      "0\n",
      "Counter()\n",
      "\n",
      "PCCB\n",
      "3\n",
      "Counter({2020: 1, 2018: 1, 2016: 1})\n",
      "\n",
      "PCDH10\n",
      "6\n",
      "Counter({2017: 2, 2021: 1, 2019: 1, 2012: 1, 2008: 1})\n",
      "\n",
      "PCDH11X\n",
      "1\n",
      "Counter({2006: 1})\n",
      "\n",
      "PCDH15\n",
      "1\n",
      "Counter({2016: 1})\n",
      "\n",
      "PCDH19\n",
      "15\n",
      "Counter({2019: 5, 2020: 3, 2018: 2, 2016: 2, 2015: 1, 2013: 1, 2012: 1})\n",
      "\n",
      "PATJ\n",
      "0\n",
      "Counter()\n",
      "\n",
      "PCDH9\n",
      "4\n",
      "Counter({2015: 1, 2013: 1, 2010: 1, 2008: 1})\n",
      "\n",
      "PCDHA1\n",
      "0\n",
      "Counter()\n",
      "\n",
      "PCDHA10\n",
      "0\n",
      "Counter()\n",
      "\n",
      "PCDHA11\n",
      "0\n",
      "Counter()\n",
      "\n",
      "PCDHA12\n",
      "1\n",
      "Counter({2020: 1})\n",
      "\n",
      "PCDHA13\n",
      "0\n",
      "Counter()\n",
      "\n",
      "PCDHA2\n",
      "0\n",
      "Counter()\n",
      "\n",
      "PCDHA3\n",
      "0\n",
      "Counter()\n",
      "\n",
      "PCDHA4\n",
      "0\n",
      "Counter()\n",
      "\n",
      "PCDHA5\n",
      "0\n",
      "Counter()\n",
      "\n",
      "PCDHA6\n",
      "0\n",
      "Counter()\n",
      "\n",
      "PCDHA7\n",
      "1\n",
      "Counter({2021: 1})\n",
      "\n",
      "PCDHA8\n",
      "1\n",
      "Counter({2021: 1})\n",
      "\n",
      "PCDHA9\n",
      "0\n",
      "Counter()\n",
      "\n",
      "PCDHAC1\n",
      "0\n",
      "Counter()\n",
      "\n",
      "PCM1\n",
      "3\n",
      "Counter({2017: 1, 2009: 1, 2008: 1})\n",
      "\n",
      "PDCD1\n",
      "1\n",
      "Counter({2016: 1})\n",
      "\n",
      "PDE1C\n",
      "0\n",
      "Counter()\n",
      "\n",
      "PDK2\n",
      "0\n",
      "Counter()\n",
      "\n",
      "PER1\n",
      "0\n",
      "Counter()\n",
      "\n",
      "PER2\n",
      "4\n",
      "Counter({2021: 1, 2020: 1, 2016: 1, 2015: 1})\n",
      "\n",
      "PEX7\n",
      "2\n",
      "Counter({2013: 1, 2012: 1})\n",
      "\n",
      "PHF2\n",
      "0\n",
      "Counter()\n",
      "\n",
      "PHF21A\n",
      "2\n",
      "Counter({2019: 2})\n",
      "\n",
      "PHF3\n",
      "0\n",
      "Counter()\n",
      "\n",
      "PHF8\n",
      "4\n",
      "Counter({2021: 1, 2014: 1, 2012: 1, 2008: 1})\n",
      "\n",
      "PHIP\n",
      "1\n",
      "Counter({2016: 1})\n",
      "\n",
      "PHRF1\n",
      "0\n",
      "Counter()\n",
      "\n",
      "PIK3R2\n",
      "1\n",
      "Counter({2019: 1})\n",
      "\n",
      "PITX1\n",
      "2\n",
      "Counter({2012: 1, 2007: 1})\n",
      "\n",
      "PLAUR\n",
      "4\n",
      "Counter({2016: 1, 2011: 1, 2010: 1, 2008: 1})\n",
      "\n",
      "PLCB1\n",
      "0\n",
      "Counter()\n",
      "\n",
      "PEBP4\n",
      "0\n",
      "Counter()\n",
      "\n",
      "PHF12\n",
      "0\n",
      "Counter()\n",
      "\n",
      "PLCD4\n",
      "0\n",
      "Counter()\n",
      "\n",
      "PLN\n",
      "1\n",
      "Counter({2007: 1})\n",
      "\n",
      "PLXNA3\n",
      "1\n",
      "Counter({2021: 1})\n",
      "\n",
      "PLXNA4\n",
      "0\n",
      "Counter()\n",
      "\n",
      "PLXNB1\n",
      "1\n",
      "Counter({2021: 1})\n",
      "\n",
      "PNPLA7\n",
      "0\n",
      "Counter()\n",
      "\n",
      "POGZ\n",
      "22\n",
      "Counter({2016: 7, 2021: 5, 2020: 4, 2019: 2, 1993: 1, 2018: 1, 2017: 1, 2015: 1})\n",
      "\n",
      "POLA2\n",
      "0\n",
      "Counter()\n",
      "\n",
      "PCDHAC2\n",
      "1\n",
      "Counter({2020: 1})\n",
      "\n",
      "PHB\n",
      "2\n",
      "Counter({2020: 1, 2018: 1})\n",
      "\n",
      "PHF7\n",
      "0\n",
      "Counter()\n",
      "\n",
      "PIK3CA\n",
      "6\n",
      "Counter({2019: 2, 2016: 2, 2017: 1, 2011: 1})\n",
      "\n",
      "PIK3CG\n",
      "1\n",
      "Counter({2003: 1})\n",
      "\n",
      "PJA1\n",
      "1\n",
      "Counter({2020: 1})\n",
      "\n",
      "POMGNT1\n",
      "0\n",
      "Counter()\n",
      "\n",
      "POMT1\n",
      "0\n",
      "Counter()\n",
      "\n",
      "PON1\n",
      "14\n",
      "Counter({2017: 3, 2010: 3, 2021: 2, 2014: 2, 2020: 1, 2006: 1, 2005: 1, 2004: 1})\n",
      "\n",
      "POT1\n",
      "0\n",
      "Counter()\n",
      "\n",
      "POU3F3\n",
      "0\n",
      "Counter()\n",
      "\n",
      "PPFIA1\n",
      "1\n",
      "Counter({2007: 1})\n",
      "\n",
      "PPM1D\n",
      "1\n",
      "Counter({2017: 1})\n",
      "\n",
      "PPP1R1B\n",
      "0\n",
      "Counter()\n",
      "\n",
      "PPP2CA\n",
      "1\n",
      "Counter({2017: 1})\n",
      "\n",
      "PPP2R1B\n",
      "0\n",
      "Counter()\n",
      "\n",
      "PPP2R5D\n",
      "6\n",
      "Counter({2020: 2, 2021: 1, 1993: 1, 2017: 1, 2016: 1})\n",
      "\n",
      "PREX1\n",
      "1\n",
      "Counter({2015: 1})\n",
      "\n",
      "PRICKLE1\n",
      "0\n",
      "Counter()\n",
      "\n",
      "PRICKLE2\n",
      "4\n",
      "Counter({2020: 1, 2019: 1, 2014: 1, 2013: 1})\n",
      "\n",
      "PRKAR1B\n",
      "1\n",
      "Counter({2021: 1})\n",
      "\n",
      "PRKCA\n",
      "2\n",
      "Counter({2017: 1, 2016: 1})\n",
      "\n",
      "PRKCB\n",
      "10\n",
      "Counter({2007: 2, 2021: 1, 2018: 1, 2019: 1, 2014: 1, 2012: 1, 2009: 1, 2008: 1, 2005: 1})\n",
      "\n",
      "PRKD1\n",
      "1\n",
      "Counter({2021: 1})\n",
      "\n",
      "PRKD2\n",
      "2\n",
      "Counter({2019: 1, 2016: 1})\n",
      "\n",
      "PRKDC\n",
      "0\n",
      "Counter()\n",
      "\n",
      "PRKN\n",
      "2\n",
      "Counter({2020: 1, 2018: 1})\n",
      "\n",
      "PRODH\n",
      "2\n",
      "Counter({2016: 1, 2014: 1})\n",
      "\n",
      "PRPF39\n",
      "0\n",
      "Counter()\n",
      "\n",
      "PRR12\n",
      "1\n",
      "Counter({2008: 1})\n",
      "\n",
      "PRUNE2\n",
      "0\n",
      "Counter()\n",
      "\n",
      "PSD3\n",
      "0\n",
      "Counter()\n",
      "\n",
      "PSMD12\n",
      "1\n",
      "Counter({2018: 1})\n",
      "\n",
      "PTBP2\n",
      "2\n",
      "Counter({2016: 1, 2011: 1})\n",
      "\n",
      "PTCHD1\n",
      "20\n",
      "Counter({2011: 4, 2020: 3, 2019: 3, 2015: 2, 2010: 2, 2021: 1, 2017: 1, 2018: 1, 2016: 1, 2012: 1, 2008: 1})\n",
      "\n",
      "PTEN\n",
      "0\n",
      "Counter()\n",
      "\n",
      "PTCHD1-AS\n",
      "0\n",
      "Counter()\n",
      "\n",
      "PTGS2\n",
      "8\n",
      "Counter({2018: 2, 2021: 1, 2016: 1, 2014: 1, 2012: 1, 2008: 1, 2001: 1})\n",
      "\n",
      "PTK7\n",
      "0\n",
      "Counter()\n",
      "\n",
      "PTPN11\n",
      "3\n",
      "Counter({2021: 1, 2015: 1, 2013: 1})\n",
      "\n",
      "PTPRB\n",
      "0\n",
      "Counter()\n",
      "\n",
      "PTPRC\n",
      "0\n",
      "Counter()\n",
      "\n",
      "PTPRT\n",
      "1\n",
      "Counter({2015: 1})\n",
      "\n",
      "PXDN\n",
      "3\n",
      "Counter({2020: 2, 2012: 1})\n",
      "\n",
      "PYHIN1\n",
      "0\n",
      "Counter()\n",
      "\n",
      "QRICH1\n",
      "2\n",
      "Counter({2021: 1, 2018: 1})\n",
      "\n",
      "RAB11FIP5\n",
      "4\n",
      "Counter({2021: 1, 2015: 1, 2014: 1, 2008: 1})\n",
      "\n",
      "RAB2A\n",
      "1\n",
      "Counter({2016: 1})\n",
      "\n",
      "RAB39B\n",
      "7\n",
      "Counter({2021: 2, 2020: 2, 2017: 1, 2015: 1, 2010: 1})\n",
      "\n",
      "POLR3A\n",
      "1\n",
      "Counter({2020: 1})\n",
      "\n",
      "PPP1R9B\n",
      "0\n",
      "Counter()\n",
      "\n",
      "PPP3CA\n",
      "1\n",
      "Counter({2021: 1})\n",
      "\n",
      "PPP5C\n",
      "0\n",
      "Counter()\n",
      "\n",
      "RAB43\n",
      "0\n",
      "Counter()\n",
      "\n",
      "RAC1\n",
      "25\n",
      "Counter({2021: 5, 2016: 4, 2020: 3, 2018: 3, 2017: 3, 2015: 3, 2019: 2, 2013: 2})\n",
      "\n",
      "RAD21\n",
      "4\n",
      "Counter({2019: 2, 2017: 1, 2015: 1})\n",
      "\n",
      "RAD21L1\n",
      "0\n",
      "Counter()\n",
      "\n",
      "RAI1\n",
      "19\n",
      "Counter({2018: 3, 2019: 2, 2017: 2, 2015: 2, 2014: 2, 2010: 2, 2020: 1, 1993: 1, 2016: 1, 2009: 1, 2007: 1, 2008: 1})\n",
      "\n",
      "RALA\n",
      "1\n",
      "Counter({2019: 1})\n",
      "\n",
      "RALGAPB\n",
      "2\n",
      "Counter({2020: 1, 2018: 1})\n",
      "\n",
      "RANBP17\n",
      "0\n",
      "Counter()\n",
      "\n",
      "RAPGEF4\n",
      "0\n",
      "Counter()\n",
      "\n",
      "RASSF5\n",
      "0\n",
      "Counter()\n",
      "\n",
      "RBFOX1\n",
      "1\n",
      "Counter({2020: 1})\n",
      "\n",
      "RBM27\n",
      "0\n",
      "Counter()\n",
      "\n",
      "REEP3\n",
      "1\n",
      "Counter({2007: 1})\n",
      "\n",
      "RELN\n",
      "95\n",
      "Counter({2020: 8, 2016: 8, 2005: 6, 2004: 6, 2002: 6, 2014: 5, 2013: 5, 2012: 5, 2011: 5, 2008: 5, 2007: 5, 2021: 4, 2019: 4, 2017: 4, 2010: 4, 2001: 4, 2018: 3, 2015: 3, 2003: 3, 2009: 1, 2006: 1})\n",
      "\n",
      "RERE\n",
      "0\n",
      "Counter()\n",
      "\n",
      "RFX3\n",
      "2\n",
      "Counter({2021: 1, 2015: 1})\n",
      "\n",
      "RGS7\n",
      "0\n",
      "Counter()\n",
      "\n",
      "RHEB\n",
      "6\n",
      "Counter({2013: 3, 2021: 1, 2020: 1, 2015: 1})\n",
      "\n",
      "RIMS1\n",
      "5\n",
      "Counter({2019: 2, 2020: 1, 2015: 1, 2014: 1})\n",
      "\n",
      "RIMS3\n",
      "1\n",
      "Counter({2010: 1})\n",
      "\n",
      "RLIM\n",
      "0\n",
      "Counter()\n",
      "\n",
      "RNF135\n",
      "1\n",
      "Counter({2015: 1})\n",
      "\n",
      "RNF25\n",
      "0\n",
      "Counter()\n",
      "\n",
      "RNF38\n",
      "0\n",
      "Counter()\n",
      "\n",
      "ROBO2\n",
      "2\n",
      "Counter({2014: 1, 2008: 1})\n",
      "\n",
      "RORA\n",
      "16\n",
      "Counter({2013: 4, 2018: 2, 2017: 2, 2015: 2, 2020: 1, 2019: 1, 2016: 1, 2014: 1, 2012: 1, 2011: 1})\n",
      "\n",
      "RORB\n",
      "3\n",
      "Counter({2018: 1, 2015: 1, 2014: 1})\n",
      "\n",
      "RPL10\n",
      "5\n",
      "Counter({2014: 2, 2011: 1, 2009: 1, 2006: 1})\n",
      "\n",
      "RP11-1407O15.2\n",
      "0\n",
      "Counter()\n",
      "\n",
      "RPS6KA2\n",
      "0\n",
      "Counter()\n",
      "\n",
      "RPS6KA3\n",
      "2\n",
      "Counter({2019: 1, 2013: 1})\n",
      "\n",
      "SAE1\n",
      "2\n",
      "Counter({2016: 1, 2012: 1})\n",
      "\n",
      "SAMD11\n",
      "2\n",
      "Counter({2018: 1, 2015: 1})\n",
      "\n",
      "SASH1\n",
      "0\n",
      "Counter()\n",
      "\n",
      "SATB2\n",
      "7\n",
      "Counter({2014: 2, 2013: 2, 2019: 1, 2018: 1, 2012: 1})\n",
      "\n",
      "SBF1\n",
      "1\n",
      "Counter({2016: 1})\n",
      "\n",
      "SCFD2\n",
      "0\n",
      "Counter()\n",
      "\n",
      "SCN1A\n",
      "40\n",
      "Counter({2021: 7, 2020: 5, 2012: 5, 2019: 4, 2018: 4, 2013: 3, 2016: 2, 2015: 2, 2004: 2, 1993: 1, 2011: 1, 2009: 1, 2008: 1, 2005: 1, 2003: 1})\n",
      "\n",
      "RFX4\n",
      "2\n",
      "Counter({2021: 1, 2008: 1})\n",
      "\n",
      "RFX7\n",
      "1\n",
      "Counter({2021: 1})\n",
      "\n",
      "RHOXF1\n",
      "0\n",
      "Counter()\n",
      "\n",
      "RIMS2\n",
      "1\n",
      "Counter({2018: 1})\n",
      "\n",
      "RIT2\n",
      "4\n",
      "Counter({2017: 2, 2018: 1, 2016: 1})\n",
      "\n",
      "RSRC1\n",
      "0\n",
      "Counter()\n",
      "\n",
      "SATB1\n",
      "1\n",
      "Counter({2021: 1})\n",
      "\n",
      "SCAF4\n",
      "0\n",
      "Counter()\n",
      "\n",
      "SCN2A\n",
      "64\n",
      "Counter({2021: 14, 2019: 13, 2020: 8, 2018: 6, 2017: 5, 2016: 5, 2015: 2, 2014: 2, 2013: 2, 2008: 2, 2004: 2, 2012: 1, 2010: 1, 2003: 1})\n",
      "\n",
      "RPS10P2-AS1\n",
      "2\n",
      "Counter({2021: 1, 2019: 1})\n",
      "\n",
      "SCN4A\n",
      "0\n",
      "Counter()\n",
      "\n",
      "SCN8A\n",
      "11\n",
      "Counter({2021: 4, 2019: 2, 2017: 2, 2020: 1, 2016: 1, 2015: 1})\n",
      "\n",
      "SCN9A\n",
      "4\n",
      "Counter({2020: 1, 2019: 1, 2018: 1, 2016: 1})\n",
      "\n",
      "SCP2\n",
      "0\n",
      "Counter()\n",
      "\n",
      "SDC2\n",
      "0\n",
      "Counter()\n",
      "\n",
      "SEMA5A\n",
      "0\n",
      "Counter()\n",
      "\n",
      "SERPINE1\n",
      "2\n",
      "Counter({2010: 1, 2008: 1})\n",
      "\n",
      "SET\n",
      "1860\n",
      "Counter({2021: 223, 2020: 220, 2018: 160, 2019: 155, 2017: 138, 2016: 109, 2015: 106, 2014: 94, 2013: 84, 2012: 71, 2011: 69, 2009: 56, 2010: 52, 2008: 45, 2007: 33, 2005: 28, 2006: 25, 2002: 23, 2003: 20, 2004: 19, 2001: 16, 2000: 14, 1999: 11, 1997: 9, 1995: 8, 1989: 7, 1998: 6, 1992: 6, 1988: 6, 1993: 5, 1990: 5, 1994: 4, 1975: 4, 1991: 3, 1984: 3, 1983: 3, 1980: 3, 1979: 3, 1977: 3, 1976: 3, 1996: 2, 1987: 2, 1974: 2, 1986: 1, 1972: 1})\n",
      "\n",
      "SETBP1\n",
      "4\n",
      "Counter({2020: 2, 2015: 1, 2014: 1})\n",
      "\n",
      "SETD1B\n",
      "6\n",
      "Counter({2021: 2, 2019: 2, 2018: 1, 2016: 1})\n",
      "\n",
      "SETD2\n",
      "9\n",
      "Counter({2021: 2, 2016: 2, 2015: 2, 2020: 1, 2019: 1, 2018: 1})\n",
      "\n",
      "SETD5\n",
      "7\n",
      "Counter({2019: 2, 2018: 2, 2021: 1, 2020: 1, 2014: 1})\n",
      "\n",
      "SETDB1\n",
      "2\n",
      "Counter({2016: 1, 2012: 1})\n",
      "\n",
      "SETDB2\n",
      "1\n",
      "Counter({2012: 1})\n",
      "\n",
      "SEZ6L2\n",
      "0\n",
      "Counter()\n",
      "\n",
      "SF3B1\n",
      "0\n",
      "Counter()\n",
      "\n",
      "SGSH\n",
      "3\n",
      "Counter({1993: 1, 2018: 1, 2014: 1})\n",
      "\n",
      "SGSM3\n",
      "0\n",
      "Counter()\n",
      "\n",
      "SH3RF3\n",
      "0\n",
      "Counter()\n",
      "\n",
      "SHANK1\n",
      "42\n",
      "Counter({2014: 9, 2021: 6, 2018: 6, 2017: 6, 2016: 5, 2015: 4, 2019: 2, 2013: 2, 2012: 1, 2011: 1})\n",
      "\n",
      "SHANK2\n",
      "94\n",
      "Counter({2018: 17, 2021: 12, 2014: 10, 2020: 9, 2019: 9, 2015: 8, 2017: 7, 2016: 7, 2012: 6, 2013: 5, 2010: 3, 2011: 1})\n",
      "\n",
      "SHANK3\n",
      "331\n",
      "Counter({2021: 49, 2020: 44, 2019: 39, 2018: 38, 2016: 31, 2017: 29, 2015: 22, 2014: 21, 2011: 13, 2013: 12, 2012: 12, 2009: 8, 2008: 5, 2007: 4, 2010: 2, 1993: 1, 2005: 1})\n",
      "\n",
      "SHOX\n",
      "3\n",
      "Counter({2017: 1, 2016: 1, 2014: 1})\n",
      "\n",
      "SIK1\n",
      "2\n",
      "Counter({2021: 1, 2015: 1})\n",
      "\n",
      "SIN3A\n",
      "7\n",
      "Counter({2021: 2, 2020: 1, 2019: 1, 2016: 1, 2009: 1, 2008: 1})\n",
      "\n",
      "SLC12A5\n",
      "0\n",
      "Counter()\n",
      "\n",
      "SLC1A1\n",
      "0\n",
      "Counter()\n",
      "\n",
      "SLC1A2\n",
      "1\n",
      "Counter({2008: 1})\n",
      "\n",
      "SLC22A9\n",
      "0\n",
      "Counter()\n",
      "\n",
      "SLC24A2\n",
      "0\n",
      "Counter()\n",
      "\n",
      "SLC25A12\n",
      "0\n",
      "Counter()\n",
      "\n",
      "SLC25A39\n",
      "0\n",
      "Counter()\n",
      "\n",
      "SETD1A\n",
      "4\n",
      "Counter({2021: 1, 2019: 1, 2018: 1, 2016: 1})\n",
      "\n",
      "SIN3B\n",
      "1\n",
      "Counter({2021: 1})\n",
      "\n",
      "SKI\n",
      "3\n",
      "Counter({2021: 2, 2013: 1})\n",
      "\n",
      "SLC27A4\n",
      "0\n",
      "Counter()\n",
      "\n",
      "SLC29A4\n",
      "1\n",
      "Counter({2014: 1})\n",
      "\n",
      "SLC38A10\n",
      "1\n",
      "Counter({2011: 1})\n",
      "\n",
      "SLC45A1\n",
      "1\n",
      "Counter({2021: 1})\n",
      "\n",
      "SLC4A10\n",
      "1\n",
      "Counter({2014: 1})\n",
      "\n",
      "SLC6A1\n",
      "1\n",
      "Counter({2020: 1})\n",
      "\n",
      "SLC6A3\n",
      "1\n",
      "Counter({2018: 1})\n",
      "\n",
      "SLC6A4\n",
      "0\n",
      "Counter()\n",
      "\n",
      "SLC6A8\n",
      "1\n",
      "Counter({2017: 1})\n",
      "\n",
      "SLC7A3\n",
      "0\n",
      "Counter()\n",
      "\n",
      "SLC7A5\n",
      "5\n",
      "Counter({2020: 2, 2016: 2, 2009: 1})\n",
      "\n",
      "SLC7A7\n",
      "2\n",
      "Counter({2020: 1, 2017: 1})\n",
      "\n",
      "SLC9A6\n",
      "0\n",
      "Counter()\n",
      "\n",
      "SLC9A9\n",
      "0\n",
      "Counter()\n",
      "\n",
      "SLCO1B3\n",
      "1\n",
      "Counter({2016: 1})\n",
      "\n",
      "SLITRK5\n",
      "1\n",
      "Counter({2014: 1})\n",
      "\n",
      "SMAD4\n",
      "3\n",
      "Counter({2019: 2, 2021: 1})\n",
      "\n",
      "SMARCA2\n",
      "5\n",
      "Counter({2014: 3, 2020: 1, 2019: 1})\n",
      "\n",
      "SMARCA4\n",
      "9\n",
      "Counter({2014: 3, 2021: 2, 2017: 2, 2020: 1, 2016: 1})\n",
      "\n",
      "SMARCC2\n",
      "0\n",
      "Counter()\n",
      "\n",
      "SMC1A\n",
      "5\n",
      "Counter({2019: 2, 2015: 2, 2017: 1})\n",
      "\n",
      "SMC3\n",
      "5\n",
      "Counter({2015: 2, 2019: 1, 2017: 1, 2009: 1})\n",
      "\n",
      "SMG6\n",
      "1\n",
      "Counter({2018: 1})\n",
      "\n",
      "SMURF1\n",
      "0\n",
      "Counter()\n",
      "\n",
      "SNAP25\n",
      "12\n",
      "Counter({2020: 3, 2019: 3, 2015: 2, 2018: 1, 2017: 1, 2016: 1, 2014: 1})\n",
      "\n",
      "SND1\n",
      "2\n",
      "Counter({2019: 1, 2010: 1})\n",
      "\n",
      "SNTG2\n",
      "4\n",
      "Counter({2018: 1, 2013: 1, 2010: 1, 2007: 1})\n",
      "\n",
      "SNX14\n",
      "0\n",
      "Counter()\n",
      "\n",
      "SNX5\n",
      "0\n",
      "Counter()\n",
      "\n",
      "SOD1\n",
      "6\n",
      "Counter({2021: 1, 2019: 1, 2017: 1, 2016: 1, 2015: 1, 2014: 1})\n",
      "\n",
      "SON\n",
      "550\n",
      "Counter({2020: 48, 2016: 48, 2021: 42, 2017: 42, 2018: 37, 2019: 34, 2014: 33, 2015: 32, 2012: 30, 2013: 29, 2011: 21, 2008: 19, 2007: 19, 2010: 18, 2009: 16, 2005: 13, 2006: 12, 2004: 10, 1993: 8, 2001: 6, 2003: 5, 2000: 5, 2002: 4, 1994: 3, 1992: 3, 1988: 3, 1996: 2, 1995: 2, 1997: 1, 1991: 1, 1989: 1, 1986: 1, 1985: 1, 1982: 1})\n",
      "\n",
      "SOX5\n",
      "5\n",
      "Counter({2018: 1, 2016: 1, 2015: 1, 2013: 1, 2010: 1})\n",
      "\n",
      "SPARCL1\n",
      "1\n",
      "Counter({2017: 1})\n",
      "\n",
      "SPAST\n",
      "3\n",
      "Counter({2019: 1, 2018: 1, 2017: 1})\n",
      "\n",
      "SPEN\n",
      "19\n",
      "Counter({2018: 2, 2016: 2, 2011: 2, 2005: 2, 2021: 1, 2020: 1, 2017: 1, 2015: 1, 2014: 1, 2012: 1, 2010: 1, 2009: 1, 2008: 1, 2007: 1, 2004: 1})\n",
      "\n",
      "SPP2\n",
      "0\n",
      "Counter()\n",
      "\n",
      "SRCAP\n",
      "0\n",
      "Counter()\n",
      "\n",
      "SRGAP3\n",
      "4\n",
      "Counter({2021: 1, 2018: 1, 2010: 1, 2009: 1})\n",
      "\n",
      "SRSF11\n",
      "2\n",
      "Counter({2018: 1, 2013: 1})\n",
      "\n",
      "SSRP1\n",
      "1\n",
      "Counter({2017: 1})\n",
      "\n",
      "ST7\n",
      "2\n",
      "Counter({2004: 1, 2000: 1})\n",
      "\n",
      "SORCS3\n",
      "2\n",
      "Counter({2020: 1, 2011: 1})\n",
      "\n",
      "SOX6\n",
      "0\n",
      "Counter()\n",
      "\n",
      "ST8SIA2\n",
      "7\n",
      "Counter({2016: 2, 2021: 1, 2018: 1, 2015: 1, 2014: 1, 2010: 1})\n",
      "\n",
      "STAG1\n",
      "2\n",
      "Counter({2020: 2})\n",
      "\n",
      "STX1A\n",
      "0\n",
      "Counter()\n",
      "\n",
      "STXBP1\n",
      "10\n",
      "Counter({2019: 3, 2021: 2, 2016: 2, 2017: 1, 1993: 1, 2014: 1})\n",
      "\n",
      "STXBP5\n",
      "0\n",
      "Counter()\n",
      "\n",
      "STYK1\n",
      "1\n",
      "Counter({2015: 1})\n",
      "\n",
      "SYAP1\n",
      "0\n",
      "Counter()\n",
      "\n",
      "SYN1\n",
      "15\n",
      "Counter({2020: 3, 2013: 3, 2021: 2, 2019: 2, 2018: 1, 2017: 1, 2015: 1, 2014: 1, 2011: 1})\n",
      "\n",
      "SLC22A15\n",
      "0\n",
      "Counter()\n",
      "\n",
      "SLC25A27\n",
      "1\n",
      "Counter({2012: 1})\n",
      "\n",
      "SLC35B1\n",
      "1\n",
      "Counter({2018: 1})\n",
      "\n",
      "SPTBN1\n",
      "0\n",
      "Counter()\n",
      "\n",
      "STK39\n",
      "0\n",
      "Counter()\n",
      "\n",
      "SUPT16H\n",
      "4\n",
      "Counter({2020: 1, 2019: 1, 2016: 1, 2014: 1})\n",
      "\n",
      "SYBU\n",
      "1\n",
      "Counter({2021: 1})\n",
      "\n",
      "SYCE1\n",
      "0\n",
      "Counter()\n",
      "\n",
      "SYN2\n",
      "3\n",
      "Counter({2017: 1, 2014: 1, 2013: 1})\n",
      "\n",
      "SYNCRIP\n",
      "2\n",
      "Counter({2021: 1, 2019: 1})\n",
      "\n",
      "SYNE1\n",
      "3\n",
      "Counter({2020: 1, 2014: 1, 2013: 1})\n",
      "\n",
      "SYNGAP1\n",
      "48\n",
      "Counter({2019: 11, 2021: 7, 2020: 5, 2018: 5, 2017: 3, 2016: 3, 2015: 3, 2013: 3, 2014: 2, 2012: 2, 2011: 2, 1993: 1, 2010: 1})\n",
      "\n",
      "SRPRA\n",
      "0\n",
      "Counter()\n",
      "\n",
      "SYNJ1\n",
      "0\n",
      "Counter()\n",
      "\n",
      "SYT1\n",
      "2\n",
      "Counter({2021: 1, 2018: 1})\n",
      "\n",
      "TAF1\n",
      "3\n",
      "Counter({2019: 2, 2012: 1})\n",
      "\n",
      "TAF1C\n",
      "2\n",
      "Counter({2015: 1, 2010: 1})\n",
      "\n",
      "TAF6\n",
      "0\n",
      "Counter()\n",
      "\n",
      "TANC2\n",
      "2\n",
      "Counter({2020: 1, 2019: 1})\n",
      "\n",
      "TAOK1\n",
      "0\n",
      "Counter()\n",
      "\n",
      "TAOK2\n",
      "7\n",
      "Counter({2021: 3, 2020: 2, 2019: 1, 2012: 1})\n",
      "\n",
      "TBC1D23\n",
      "0\n",
      "Counter()\n",
      "\n",
      "TBC1D31\n",
      "0\n",
      "Counter()\n",
      "\n",
      "TBC1D5\n",
      "0\n",
      "Counter()\n",
      "\n",
      "TBCK\n",
      "0\n",
      "Counter()\n",
      "\n",
      "TBL1XR1\n",
      "9\n",
      "Counter({2020: 2, 2017: 2, 2014: 2, 2021: 1, 2019: 1, 2012: 1})\n",
      "\n",
      "TBR1\n",
      "30\n",
      "Counter({2020: 6, 2021: 4, 2018: 4, 2019: 3, 2017: 3, 2015: 3, 2014: 2, 2013: 2, 2016: 1, 2012: 1, 2010: 1})\n",
      "\n",
      "TBX1\n",
      "8\n",
      "Counter({2012: 2, 2021: 1, 2019: 1, 2018: 1, 2016: 1, 2013: 1, 2011: 1})\n",
      "\n",
      "TCF20\n",
      "0\n",
      "Counter()\n",
      "\n",
      "TCF4\n",
      "27\n",
      "Counter({2021: 5, 2018: 5, 2020: 3, 2012: 3, 2017: 2, 2015: 2, 2014: 2, 2019: 1, 1993: 1, 2016: 1, 2013: 1, 2010: 1})\n",
      "\n",
      "TCF7L2\n",
      "0\n",
      "Counter()\n",
      "\n",
      "TECTA\n",
      "0\n",
      "Counter()\n",
      "\n",
      "TERF2\n",
      "0\n",
      "Counter()\n",
      "\n",
      "TET2\n",
      "1\n",
      "Counter({2014: 1})\n",
      "\n",
      "THBS1\n",
      "3\n",
      "Counter({2018: 1, 2015: 1, 2014: 1})\n",
      "\n",
      "THRA\n",
      "6\n",
      "Counter({2020: 1, 2021: 1, 2018: 1, 2017: 1, 2007: 1, 1995: 1})\n",
      "\n",
      "TLK2\n",
      "2\n",
      "Counter({2021: 1, 2019: 1})\n",
      "\n",
      "TM4SF19\n",
      "0\n",
      "Counter()\n",
      "\n",
      "TM4SF20\n",
      "0\n",
      "Counter()\n",
      "\n",
      "TMEM39B\n",
      "0\n",
      "Counter()\n",
      "\n",
      "TMLHE\n",
      "8\n",
      "Counter({2015: 2, 2012: 2, 2019: 1, 2017: 1, 2016: 1, 2011: 1})\n",
      "\n",
      "TERB2\n",
      "0\n",
      "Counter()\n",
      "\n",
      "SYP\n",
      "23\n",
      "Counter({2021: 7, 2012: 3, 2018: 2, 2017: 2, 2016: 2, 2015: 2, 2020: 1, 2019: 1, 2013: 1, 1997: 1, 1993: 1})\n",
      "\n",
      "TBX22\n",
      "1\n",
      "Counter({2020: 1})\n",
      "\n",
      "TEK\n",
      "700\n",
      "Counter({2021: 67, 2017: 48, 2018: 43, 2015: 43, 2019: 42, 2020: 40, 2013: 39, 2016: 38, 2011: 28, 2014: 24, 2012: 19, 1993: 18, 1994: 18, 1988: 18, 2009: 15, 1996: 15, 1990: 15, 1995: 14, 1991: 14, 1987: 14, 2010: 13, 1989: 12, 2008: 11, 1992: 11, 2007: 9, 2001: 8, 1998: 7, 1986: 7, 1985: 7, 2006: 6, 2005: 6, 2004: 6, 1997: 6, 1999: 5, 2003: 4, 2002: 4, 2000: 2, 1984: 1, 1976: 1, 1975: 1, 1970: 1})\n",
      "\n",
      "TET3\n",
      "2\n",
      "Counter({2020: 1, 2014: 1})\n",
      "\n",
      "TFB2M\n",
      "1\n",
      "Counter({2018: 1})\n",
      "\n",
      "TM9SF4\n",
      "0\n",
      "Counter()\n",
      "\n",
      "TMEM134\n",
      "0\n",
      "Counter()\n",
      "\n",
      "TNRC6B\n",
      "3\n",
      "Counter({2021: 1, 2020: 1, 2014: 1})\n",
      "\n",
      "TOP3B\n",
      "0\n",
      "Counter()\n",
      "\n",
      "TRAF7\n",
      "0\n",
      "Counter()\n",
      "\n",
      "TRAPPC6B\n",
      "1\n",
      "Counter({2018: 1})\n",
      "\n",
      "TRAPPC9\n",
      "7\n",
      "Counter({2021: 2, 2020: 2, 2014: 2, 2019: 1})\n",
      "\n",
      "TNS2\n",
      "0\n",
      "Counter()\n",
      "\n",
      "TRIO\n",
      "90\n",
      "Counter({2021: 20, 2020: 13, 2019: 10, 2018: 10, 2017: 7, 2016: 5, 2015: 5, 2011: 5, 2013: 3, 2007: 3, 2010: 2, 2008: 2, 2005: 2, 1993: 1, 2014: 1, 2009: 1})\n",
      "\n",
      "TRIP12\n",
      "5\n",
      "Counter({2020: 2, 2017: 2, 2014: 1})\n",
      "\n",
      "TRPC6\n",
      "4\n",
      "Counter({2015: 1, 2013: 1, 2011: 1, 2009: 1})\n",
      "\n",
      "TRPM1\n",
      "3\n",
      "Counter({2020: 1, 2016: 1, 2013: 1})\n",
      "\n",
      "TRRAP\n",
      "3\n",
      "Counter({2019: 1, 2018: 1, 2017: 1})\n",
      "\n",
      "TSC1\n",
      "82\n",
      "Counter({2020: 13, 2017: 9, 2015: 9, 2021: 8, 2018: 7, 2013: 7, 2011: 7, 2016: 6, 2019: 4, 2012: 4, 2010: 2, 2009: 2, 2006: 2, 2014: 1, 2004: 1})\n",
      "\n",
      "TSC2\n",
      "96\n",
      "Counter({2020: 13, 2021: 12, 2015: 12, 2018: 9, 2011: 8, 2017: 7, 2019: 5, 2016: 5, 2013: 5, 2012: 5, 2014: 4, 2010: 3, 2009: 2, 2006: 2, 2005: 1, 2004: 1, 2003: 1, 1997: 1})\n",
      "\n",
      "TSHZ3\n",
      "5\n",
      "Counter({2020: 2, 2021: 1, 2019: 1, 2016: 1})\n",
      "\n",
      "TSPAN17\n",
      "0\n",
      "Counter()\n",
      "\n",
      "TSPAN4\n",
      "1\n",
      "Counter({2016: 1})\n",
      "\n",
      "TSPAN7\n",
      "3\n",
      "Counter({2021: 1, 2011: 1, 2009: 1})\n",
      "\n",
      "TTI2\n",
      "0\n",
      "Counter()\n",
      "\n",
      "TTN\n",
      "2\n",
      "Counter({2020: 1, 2015: 1})\n",
      "\n",
      "TUBGCP5\n",
      "5\n",
      "Counter({2021: 1, 2020: 1, 2017: 1, 2015: 1, 2013: 1})\n",
      "\n",
      "TSPOAP1\n",
      "1\n",
      "Counter({2009: 1})\n",
      "\n",
      "UBE3A\n",
      "87\n",
      "Counter({2018: 10, 2019: 9, 2020: 8, 2015: 8, 2016: 7, 2011: 7, 2017: 6, 2021: 4, 2007: 3, 2004: 3, 2003: 3, 2013: 2, 2010: 2, 2009: 2, 2008: 2, 2005: 2, 2002: 2, 2001: 2, 2014: 1, 2006: 1, 2000: 1, 1999: 1, 1998: 1})\n",
      "\n",
      "UBE3C\n",
      "1\n",
      "Counter({2020: 1})\n",
      "\n",
      "UBN2\n",
      "1\n",
      "Counter({2020: 1})\n",
      "\n",
      "UBR5\n",
      "1\n",
      "Counter({2019: 1})\n",
      "\n",
      "UIMC1\n",
      "0\n",
      "Counter()\n",
      "\n",
      "UNC13A\n",
      "0\n",
      "Counter()\n",
      "\n",
      "UNC79\n",
      "1\n",
      "Counter({2017: 1})\n",
      "\n",
      "UNC80\n",
      "1\n",
      "Counter({2015: 1})\n",
      "\n",
      "UPF2\n",
      "1\n",
      "Counter({2019: 1})\n",
      "\n",
      "UPF3B\n",
      "5\n",
      "Counter({2018: 2, 2019: 1, 2013: 1, 2010: 1})\n",
      "\n",
      "TRAPPC2L\n",
      "0\n",
      "Counter()\n",
      "\n",
      "TRIM23\n",
      "0\n",
      "Counter()\n",
      "\n",
      "TRIM32\n",
      "6\n",
      "Counter({2020: 2, 2014: 2, 2021: 1, 2011: 1})\n",
      "\n",
      "UNC5D\n",
      "0\n",
      "Counter()\n",
      "\n",
      "USH2A\n",
      "3\n",
      "Counter({2019: 2, 2010: 1})\n",
      "\n",
      "USP15\n",
      "1\n",
      "Counter({2017: 1})\n",
      "\n",
      "USP45\n",
      "0\n",
      "Counter()\n",
      "\n",
      "USP7\n",
      "0\n",
      "Counter()\n",
      "\n",
      "USP9X\n",
      "6\n",
      "Counter({2020: 2, 2017: 2, 2021: 1, 2014: 1})\n",
      "\n",
      "USP9Y\n",
      "0\n",
      "Counter()\n",
      "\n",
      "VAMP2\n",
      "3\n",
      "Counter({2019: 1, 2018: 1, 2016: 1})\n",
      "\n",
      "VEZF1\n",
      "0\n",
      "Counter()\n",
      "\n",
      "VIL1\n",
      "0\n",
      "Counter()\n",
      "\n",
      "VPS13B\n",
      "0\n",
      "Counter()\n",
      "\n",
      "SYT17\n",
      "0\n",
      "Counter()\n",
      "\n",
      "TBL1X\n",
      "1\n",
      "Counter({2011: 1})\n",
      "\n",
      "TDO2\n",
      "4\n",
      "Counter({2021: 2, 2019: 1, 2004: 1})\n",
      "\n",
      "TPO\n",
      "9\n",
      "Counter({2021: 2, 2020: 1, 2017: 1, 2016: 1, 2015: 1, 2013: 1, 2012: 1, 2007: 1})\n",
      "\n",
      "TRIM33\n",
      "1\n",
      "Counter({2014: 1})\n",
      "\n",
      "TTC25\n",
      "1\n",
      "Counter({2017: 1})\n",
      "\n",
      "UBE2H\n",
      "0\n",
      "Counter()\n",
      "\n",
      "VASH1\n",
      "0\n",
      "Counter()\n",
      "\n",
      "VDR\n",
      "18\n",
      "Counter({2018: 5, 2020: 4, 2021: 3, 2015: 2, 2017: 1, 2016: 1, 1994: 1, 1992: 1})\n",
      "\n",
      "VSIG4\n",
      "0\n",
      "Counter()\n",
      "\n",
      "WAC\n",
      "3\n",
      "Counter({2021: 1, 2020: 1, 1993: 1})\n",
      "\n",
      "WASF1\n",
      "2\n",
      "Counter({2018: 1, 2014: 1})\n",
      "\n",
      "WDFY3\n",
      "5\n",
      "Counter({2018: 2, 2021: 1, 2020: 1, 2016: 1})\n",
      "\n",
      "UBR1\n",
      "0\n",
      "Counter()\n",
      "\n",
      "VWA7\n",
      "0\n",
      "Counter()\n",
      "\n",
      "WDFY4\n",
      "1\n",
      "Counter({2019: 1})\n",
      "\n",
      "WDR26\n",
      "2\n",
      "Counter({2021: 2})\n",
      "\n",
      "WNK3\n",
      "1\n",
      "Counter({2008: 1})\n",
      "\n",
      "WNT1\n",
      "6\n",
      "Counter({2012: 2, 2019: 1, 2018: 1, 2016: 1, 2013: 1})\n",
      "\n",
      "WWOX\n",
      "6\n",
      "Counter({2020: 2, 2019: 2, 2017: 1, 2016: 1})\n",
      "\n",
      "XPC\n",
      "1\n",
      "Counter({1998: 1})\n",
      "\n",
      "XPO1\n",
      "1\n",
      "Counter({2011: 1})\n",
      "\n",
      "YEATS2\n",
      "0\n",
      "Counter()\n",
      "\n",
      "YTHDC2\n",
      "1\n",
      "Counter({2016: 1})\n",
      "\n",
      "YWHAE\n",
      "9\n",
      "Counter({2012: 3, 2014: 2, 2020: 1, 2018: 1, 2016: 1, 2009: 1})\n",
      "\n",
      "YY1\n",
      "3528\n",
      "Counter({2021: 412, 2020: 374, 2018: 319, 2019: 290, 2017: 272, 2016: 235, 2015: 222, 2014: 178, 2013: 154, 2011: 136, 2012: 134, 2010: 92, 2009: 91, 2007: 75, 2008: 74, 2006: 55, 2005: 51, 2004: 39, 2002: 36, 2001: 34, 2003: 32, 2000: 22, 1998: 16, 1995: 16, 1996: 15, 1997: 14, 1999: 13, 1993: 12, 1994: 11, 1990: 10, 1986: 9, 1991: 8, 1992: 7, 1988: 7, 1979: 7, 1989: 6, 1980: 6, 1987: 5, 1985: 4, 1984: 4, 1982: 4, 1981: 4, 1977: 4, 1975: 4, 2022: 3, 1976: 3, 1983: 2, 1972: 2, 1974: 1, 1971: 1, 1970: 1, 1968: 1, 1967: 1})\n",
      "\n",
      "ZBTB16\n",
      "1\n",
      "Counter({2021: 1})\n",
      "\n",
      "ZBTB20\n",
      "3\n",
      "Counter({2021: 1, 2018: 1, 2013: 1})\n",
      "\n",
      "ZC3H11A\n",
      "0\n",
      "Counter()\n",
      "\n",
      "ZC3H4\n",
      "0\n",
      "Counter()\n",
      "\n",
      "ZFYVE26\n",
      "0\n",
      "Counter()\n",
      "\n",
      "ZMYND11\n",
      "1\n",
      "Counter({2014: 1})\n",
      "\n",
      "ZNF18\n",
      "1\n",
      "Counter({2012: 1})\n",
      "\n",
      "ZNF292\n",
      "3\n",
      "Counter({2020: 1, 2018: 1, 2016: 1})\n",
      "\n",
      "ZNF385B\n",
      "1\n",
      "Counter({2014: 1})\n",
      "\n",
      "ZNF462\n",
      "2\n",
      "Counter({2019: 1, 2018: 1})\n",
      "\n",
      "ZNF517\n",
      "0\n",
      "Counter()\n",
      "\n",
      "ZNF548\n",
      "0\n",
      "Counter()\n",
      "\n",
      "ZNF559\n",
      "0\n",
      "Counter()\n",
      "\n",
      "ZNF626\n",
      "0\n",
      "Counter()\n",
      "\n",
      "ZNF713\n",
      "1\n",
      "Counter({2014: 1})\n",
      "\n",
      "ZNF774\n",
      "0\n",
      "Counter()\n",
      "\n",
      "ZNF804A\n",
      "12\n",
      "Counter({2019: 3, 2014: 2, 2012: 2, 2021: 1, 2017: 1, 2015: 1, 2011: 1, 2010: 1})\n",
      "\n",
      "WWP1\n",
      "1\n",
      "Counter({2020: 1})\n",
      "\n",
      "XRCC6\n",
      "1\n",
      "Counter({2020: 1})\n",
      "\n",
      "YWHAG\n",
      "2\n",
      "Counter({2020: 1, 2014: 1})\n",
      "\n",
      "ZMIZ1\n",
      "0\n",
      "Counter()\n",
      "\n",
      "ZMYM2\n",
      "0\n",
      "Counter()\n",
      "\n",
      "ZMYND8\n",
      "1\n",
      "Counter({2020: 1})\n",
      "\n",
      "ZNF827\n",
      "0\n",
      "Counter()\n",
      "\n",
      "ZSWIM6\n",
      "0\n",
      "Counter()\n",
      "\n",
      "ZWILCH\n",
      "4\n",
      "Counter({2018: 2, 2020: 1, 2016: 1})\n",
      "\n",
      "1967\n"
     ]
    }
   ],
   "source": [
    "from collections import Counter\n",
    "\n",
    "min_date = 2021\n",
    "\n",
    "for i, el in enumerate(all_gene_dates):\n",
    "    all_gene_dates[i] = list(map(int, el))\n",
    "    print(gene_symbols[i])\n",
    "    print(len(el))\n",
    "    print(Counter(el))\n",
    "    if len(el) > 0:\n",
    "        if np.min(all_gene_dates[i]) < min_date:\n",
    "            min_date = np.min(all_gene_dates[i])\n",
    "    print()\n",
    "print(min_date)"
   ]
  },
  {
   "cell_type": "code",
   "execution_count": 276,
   "id": "a4b2f5a1",
   "metadata": {},
   "outputs": [
    {
     "name": "stderr",
     "output_type": "stream",
     "text": [
      "1023it [00:00, 310858.00it/s]"
     ]
    },
    {
     "name": "stdout",
     "output_type": "stream",
     "text": [
      "[[3528.  996.]\n",
      " [ 700.  921.]\n",
      " [ 218.  541.]\n",
      " [ 148.  626.]\n",
      " [ 119.  596.]\n",
      " [  96.  938.]\n",
      " [  94.  811.]\n",
      " [  90.  932.]\n",
      " [  87.  947.]\n",
      " [  27.  906.]]\n",
      "[1022, 1022, 1022, 1022, 1022, 1022, 1022, 1022, 1022, 1022]\n"
     ]
    },
    {
     "name": "stderr",
     "output_type": "stream",
     "text": [
      "\n"
     ]
    }
   ],
   "source": [
    "# get best 10 genes (based on literature)\n",
    "top10 = np.zeros((10,2))\n",
    "\n",
    "for i, el in tqdm(enumerate(all_gene_dates)):\n",
    "    num = len(el)\n",
    "    for j in range(top10.shape[0]):\n",
    "        if num > top10[j, 0]:\n",
    "            top10[j, 0] = num\n",
    "            top10[j, 1] = i\n",
    "            break\n",
    "                \n",
    "print(top10)\n",
    "print(top10_idx)"
   ]
  },
  {
   "cell_type": "code",
   "execution_count": 277,
   "id": "896c2ac0",
   "metadata": {},
   "outputs": [
    {
     "name": "stdout",
     "output_type": "stream",
     "text": [
      "YY1\n",
      "TEK\n",
      "MTOR\n",
      "OXTR\n",
      "NRXN1\n",
      "TSC2\n",
      "SHANK2\n",
      "TRIO\n",
      "UBE3A\n",
      "TCF4\n"
     ]
    }
   ],
   "source": [
    "genes = []\n",
    "gene_idxs = []\n",
    "new_years = []\n",
    "\n",
    "for i in range(top10.shape[0]):\n",
    "    idx = int(top10[i, 1])\n",
    "    print(gene_symbols[idx])\n",
    "    genes.append(gene_symbols[idx])\n",
    "    gene_idxs.append(idx)\n",
    "    new_years.append(all_gene_dates[idx])"
   ]
  },
  {
   "cell_type": "code",
   "execution_count": 152,
   "id": "35b54e38",
   "metadata": {},
   "outputs": [
    {
     "name": "stdout",
     "output_type": "stream",
     "text": [
      "NRXN1\n",
      "76\n",
      "Counter({'2019': 9, '2012': 9, '2015': 7, '2013': 7, '2009': 7, '2021': 6, '2014': 6, '2011': 6, '2020': 5, '2017': 4, '2018': 2, '2016': 2, '2010': 2, '2008': 2, '2007': 1, '2004': 1})\n",
      "\n",
      "SHANK3\n",
      "216\n",
      "Counter({'2020': 29, '2018': 26, '2019': 20, '2021': 19, '2017': 19, '2016': 19, '2015': 17, '2014': 17, '2013': 12, '2011': 11, '2012': 9, '2009': 8, '2008': 4, '2010': 3, '2007': 3})\n",
      "\n",
      "MECP2\n",
      "148\n",
      "Counter({'2016': 14, '2015': 12, '2013': 11, '2011': 10, '2020': 9, '2017': 9, '2019': 8, '2014': 8, '2009': 8, '2021': 7, '2008': 7, '2005': 7, '2018': 6, '2012': 6, '2010': 5, '2007': 5, '2004': 4, '2003': 4, '2006': 3, '2002': 2, '2000': 2, '2001': 1})\n",
      "\n",
      "SCN2A\n",
      "41\n",
      "Counter({'2021': 7, '2019': 6, '2017': 5, '2020': 4, '2018': 4, '2016': 3, '2015': 2, '2014': 2, '2013': 2, '2008': 2, '2012': 1, '2010': 1, '2004': 1, '2003': 1})\n",
      "\n",
      "SCN1A\n",
      "19\n",
      "Counter({'2018': 3, '2012': 3, '2020': 2, '2013': 2, '2021': 1, '2019': 1, '2016': 1, '2015': 1, '2011': 1, '2009': 1, '2008': 1, '2004': 1, '2003': 1})\n",
      "\n"
     ]
    }
   ],
   "source": [
    "from collections import Counter\n",
    "\n",
    "for i, el in enumerate(all_dates):\n",
    "    all_dates[i] = list(map(int, el))\n",
    "    print(genes[i])\n",
    "    print(len(el))\n",
    "    print(Counter(el))\n",
    "    print()"
   ]
  },
  {
   "cell_type": "markdown",
   "id": "db14130c",
   "metadata": {},
   "source": [
    "# Task 5"
   ]
  },
  {
   "cell_type": "code",
   "execution_count": 14,
   "id": "6f3f2d8a",
   "metadata": {},
   "outputs": [
    {
     "data": {
      "text/plain": [
       "<matplotlib.legend.Legend at 0x7f649b6e81d0>"
      ]
     },
     "execution_count": 14,
     "metadata": {},
     "output_type": "execute_result"
    },
    {
     "data": {
      "image/png": "[encoded data removed]",
      "text/plain": [
       "<Figure size 720x288 with 1 Axes>"
      ]
     },
     "metadata": {
      "needs_background": "light"
     },
     "output_type": "display_data"
    }
   ],
   "source": [
    "ax = plt.subplot()\n",
    "\n",
    "width = 1\n",
    "offsets = [-width*2, -width, 0, width, width*2]\n",
    "colours = [\"b\", \"g\", \"r\", \"c\", \"m\"]\n",
    "new_years = years*6\n",
    "labels = np.char.mod(\"%d\", years)\n",
    "\n",
    "for f in range(5):\n",
    "    ax.bar(new_years + offsets[f], year_data[f, :] + offsets[f], width=width, color=colours[f], align=\"center\", label=genes[f])\n",
    "    #print(new_years + offsets[f])\n",
    "    \n",
    "ax.set_xticks(new_years)\n",
    "ax.set_xticklabels(labels, rotation=90)\n",
    "#ax.figure.set_figheight(8)\n",
    "ax.figure.set_figwidth(10)\n",
    "ax.legend()"
   ]
  },
  {
   "cell_type": "code",
   "execution_count": 96,
   "id": "a89c5b3a",
   "metadata": {},
   "outputs": [
    {
     "data": {
      "text/plain": [
       "Text(0, 0.5, '# papers published')"
      ]
     },
     "execution_count": 96,
     "metadata": {},
     "output_type": "execute_result"
    },
    {
     "data": {
      "image/png": "[encoded data removed]",
      "text/plain": [
       "<Figure size 576x432 with 1 Axes>"
      ]
     },
     "metadata": {
      "needs_background": "light"
     },
     "output_type": "display_data"
    }
   ],
   "source": [
    "n_bins = years.size\n",
    "#fcs = [(1,0,0,0.5), (0,1,0,0.5), (0,0,1,0.5), (0.5,0.5,0,0.5), (0.5,0,0.5,0.5)]\n",
    "\n",
    "fig = plt.figure(figsize=(8,6))\n",
    "plt.hist(year_data2, range(1993,2023), density=0, histtype=\"bar\", stacked=True,color=colours, alpha=0.8, label=genes)\n",
    "plt.legend()\n",
    "plt.xticks(years+0.5, years, rotation=90)\n",
    "plt.title(\"A stacked histogram to show the number of ASD-related PubMed papers\\npublished each year for the top 5 reported gene-score 1 SFARI genes\", fontsize=14)\n",
    "plt.xlabel(\"Year\", fontsize=12)\n",
    "plt.ylabel(\"# papers published\", fontsize=12)\n",
    "#fig.savefig(f'{os.getcwd()}/results/task1-5-stacked.pdf', dpi=fig.dpi)"
   ]
  },
  {
   "cell_type": "code",
   "execution_count": null,
   "id": "47d31911",
   "metadata": {},
   "outputs": [],
   "source": [
    "# EXTENSION: plot citations too"
   ]
  },
  {
   "cell_type": "code",
   "execution_count": 41,
   "id": "c27640b9",
   "metadata": {},
   "outputs": [
    {
     "ename": "ValueError",
     "evalue": "The 'color' keyword argument must have one color per dataset, but 1 datasets and 5 colors were provided",
     "output_type": "error",
     "traceback": [
      "\u001b[0;31m---------------------------------------------------------------------------\u001b[0m",
      "\u001b[0;31mValueError\u001b[0m                                Traceback (most recent call last)",
      "\u001b[0;32m/tmp/ipykernel_121246/1151238622.py\u001b[0m in \u001b[0;36m<module>\u001b[0;34m\u001b[0m\n\u001b[1;32m      3\u001b[0m \u001b[0;34m\u001b[0m\u001b[0m\n\u001b[1;32m      4\u001b[0m \u001b[0mfig\u001b[0m \u001b[0;34m=\u001b[0m \u001b[0mplt\u001b[0m\u001b[0;34m.\u001b[0m\u001b[0mfigure\u001b[0m\u001b[0;34m(\u001b[0m\u001b[0mfigsize\u001b[0m\u001b[0;34m=\u001b[0m\u001b[0;34m(\u001b[0m\u001b[0;36m8\u001b[0m\u001b[0;34m,\u001b[0m\u001b[0;36m6\u001b[0m\u001b[0;34m)\u001b[0m\u001b[0;34m)\u001b[0m\u001b[0;34m\u001b[0m\u001b[0;34m\u001b[0m\u001b[0m\n\u001b[0;32m----> 5\u001b[0;31m \u001b[0mplt\u001b[0m\u001b[0;34m.\u001b[0m\u001b[0mhist\u001b[0m\u001b[0;34m(\u001b[0m\u001b[0mcitation_data\u001b[0m\u001b[0;34m,\u001b[0m \u001b[0mrange\u001b[0m\u001b[0;34m(\u001b[0m\u001b[0;36m1993\u001b[0m\u001b[0;34m,\u001b[0m\u001b[0;36m2023\u001b[0m\u001b[0;34m)\u001b[0m\u001b[0;34m,\u001b[0m \u001b[0mdensity\u001b[0m\u001b[0;34m=\u001b[0m\u001b[0;36m1\u001b[0m\u001b[0;34m,\u001b[0m \u001b[0mhisttype\u001b[0m\u001b[0;34m=\u001b[0m\u001b[0;34m\"bar\"\u001b[0m\u001b[0;34m,\u001b[0m \u001b[0mstacked\u001b[0m\u001b[0;34m=\u001b[0m\u001b[0;32mTrue\u001b[0m\u001b[0;34m,\u001b[0m\u001b[0mcolor\u001b[0m\u001b[0;34m=\u001b[0m\u001b[0mcolours\u001b[0m\u001b[0;34m,\u001b[0m \u001b[0malpha\u001b[0m\u001b[0;34m=\u001b[0m\u001b[0;36m0.8\u001b[0m\u001b[0;34m,\u001b[0m \u001b[0mlabel\u001b[0m\u001b[0;34m=\u001b[0m\u001b[0mgenes\u001b[0m\u001b[0;34m)\u001b[0m\u001b[0;34m\u001b[0m\u001b[0;34m\u001b[0m\u001b[0m\n\u001b[0m\u001b[1;32m      6\u001b[0m \u001b[0mplt\u001b[0m\u001b[0;34m.\u001b[0m\u001b[0mlegend\u001b[0m\u001b[0;34m(\u001b[0m\u001b[0;34m)\u001b[0m\u001b[0;34m\u001b[0m\u001b[0;34m\u001b[0m\u001b[0m\n\u001b[1;32m      7\u001b[0m \u001b[0mplt\u001b[0m\u001b[0;34m.\u001b[0m\u001b[0mxticks\u001b[0m\u001b[0;34m(\u001b[0m\u001b[0myears\u001b[0m\u001b[0;34m+\u001b[0m\u001b[0;36m0.5\u001b[0m\u001b[0;34m,\u001b[0m \u001b[0myears\u001b[0m\u001b[0;34m,\u001b[0m \u001b[0mrotation\u001b[0m\u001b[0;34m=\u001b[0m\u001b[0;36m90\u001b[0m\u001b[0;34m)\u001b[0m\u001b[0;34m\u001b[0m\u001b[0;34m\u001b[0m\u001b[0m\n",
      "\u001b[0;32m~/miniconda3/envs/omnia/lib/python3.7/site-packages/matplotlib/pyplot.py\u001b[0m in \u001b[0;36mhist\u001b[0;34m(x, bins, range, density, weights, cumulative, bottom, histtype, align, orientation, rwidth, log, color, label, stacked, data, **kwargs)\u001b[0m\n\u001b[1;32m   2856\u001b[0m         \u001b[0malign\u001b[0m\u001b[0;34m=\u001b[0m\u001b[0malign\u001b[0m\u001b[0;34m,\u001b[0m \u001b[0morientation\u001b[0m\u001b[0;34m=\u001b[0m\u001b[0morientation\u001b[0m\u001b[0;34m,\u001b[0m \u001b[0mrwidth\u001b[0m\u001b[0;34m=\u001b[0m\u001b[0mrwidth\u001b[0m\u001b[0;34m,\u001b[0m \u001b[0mlog\u001b[0m\u001b[0;34m=\u001b[0m\u001b[0mlog\u001b[0m\u001b[0;34m,\u001b[0m\u001b[0;34m\u001b[0m\u001b[0;34m\u001b[0m\u001b[0m\n\u001b[1;32m   2857\u001b[0m         \u001b[0mcolor\u001b[0m\u001b[0;34m=\u001b[0m\u001b[0mcolor\u001b[0m\u001b[0;34m,\u001b[0m \u001b[0mlabel\u001b[0m\u001b[0;34m=\u001b[0m\u001b[0mlabel\u001b[0m\u001b[0;34m,\u001b[0m \u001b[0mstacked\u001b[0m\u001b[0;34m=\u001b[0m\u001b[0mstacked\u001b[0m\u001b[0;34m,\u001b[0m\u001b[0;34m\u001b[0m\u001b[0;34m\u001b[0m\u001b[0m\n\u001b[0;32m-> 2858\u001b[0;31m         **({\"data\": data} if data is not None else {}), **kwargs)\n\u001b[0m\u001b[1;32m   2859\u001b[0m \u001b[0;34m\u001b[0m\u001b[0m\n\u001b[1;32m   2860\u001b[0m \u001b[0;34m\u001b[0m\u001b[0m\n",
      "\u001b[0;32m~/miniconda3/envs/omnia/lib/python3.7/site-packages/matplotlib/__init__.py\u001b[0m in \u001b[0;36minner\u001b[0;34m(ax, data, *args, **kwargs)\u001b[0m\n\u001b[1;32m   1359\u001b[0m     \u001b[0;32mdef\u001b[0m \u001b[0minner\u001b[0m\u001b[0;34m(\u001b[0m\u001b[0max\u001b[0m\u001b[0;34m,\u001b[0m \u001b[0;34m*\u001b[0m\u001b[0margs\u001b[0m\u001b[0;34m,\u001b[0m \u001b[0mdata\u001b[0m\u001b[0;34m=\u001b[0m\u001b[0;32mNone\u001b[0m\u001b[0;34m,\u001b[0m \u001b[0;34m**\u001b[0m\u001b[0mkwargs\u001b[0m\u001b[0;34m)\u001b[0m\u001b[0;34m:\u001b[0m\u001b[0;34m\u001b[0m\u001b[0;34m\u001b[0m\u001b[0m\n\u001b[1;32m   1360\u001b[0m         \u001b[0;32mif\u001b[0m \u001b[0mdata\u001b[0m \u001b[0;32mis\u001b[0m \u001b[0;32mNone\u001b[0m\u001b[0;34m:\u001b[0m\u001b[0;34m\u001b[0m\u001b[0;34m\u001b[0m\u001b[0m\n\u001b[0;32m-> 1361\u001b[0;31m             \u001b[0;32mreturn\u001b[0m \u001b[0mfunc\u001b[0m\u001b[0;34m(\u001b[0m\u001b[0max\u001b[0m\u001b[0;34m,\u001b[0m \u001b[0;34m*\u001b[0m\u001b[0mmap\u001b[0m\u001b[0;34m(\u001b[0m\u001b[0msanitize_sequence\u001b[0m\u001b[0;34m,\u001b[0m \u001b[0margs\u001b[0m\u001b[0;34m)\u001b[0m\u001b[0;34m,\u001b[0m \u001b[0;34m**\u001b[0m\u001b[0mkwargs\u001b[0m\u001b[0;34m)\u001b[0m\u001b[0;34m\u001b[0m\u001b[0;34m\u001b[0m\u001b[0m\n\u001b[0m\u001b[1;32m   1362\u001b[0m \u001b[0;34m\u001b[0m\u001b[0m\n\u001b[1;32m   1363\u001b[0m         \u001b[0mbound\u001b[0m \u001b[0;34m=\u001b[0m \u001b[0mnew_sig\u001b[0m\u001b[0;34m.\u001b[0m\u001b[0mbind\u001b[0m\u001b[0;34m(\u001b[0m\u001b[0max\u001b[0m\u001b[0;34m,\u001b[0m \u001b[0;34m*\u001b[0m\u001b[0margs\u001b[0m\u001b[0;34m,\u001b[0m \u001b[0;34m**\u001b[0m\u001b[0mkwargs\u001b[0m\u001b[0;34m)\u001b[0m\u001b[0;34m\u001b[0m\u001b[0;34m\u001b[0m\u001b[0m\n",
      "\u001b[0;32m~/miniconda3/envs/omnia/lib/python3.7/site-packages/matplotlib/axes/_axes.py\u001b[0m in \u001b[0;36mhist\u001b[0;34m(self, x, bins, range, density, weights, cumulative, bottom, histtype, align, orientation, rwidth, log, color, label, stacked, **kwargs)\u001b[0m\n\u001b[1;32m   6713\u001b[0m             \u001b[0mcolor\u001b[0m \u001b[0;34m=\u001b[0m \u001b[0mmcolors\u001b[0m\u001b[0;34m.\u001b[0m\u001b[0mto_rgba_array\u001b[0m\u001b[0;34m(\u001b[0m\u001b[0mcolor\u001b[0m\u001b[0;34m)\u001b[0m\u001b[0;34m\u001b[0m\u001b[0;34m\u001b[0m\u001b[0m\n\u001b[1;32m   6714\u001b[0m             \u001b[0;32mif\u001b[0m \u001b[0mlen\u001b[0m\u001b[0;34m(\u001b[0m\u001b[0mcolor\u001b[0m\u001b[0;34m)\u001b[0m \u001b[0;34m!=\u001b[0m \u001b[0mnx\u001b[0m\u001b[0;34m:\u001b[0m\u001b[0;34m\u001b[0m\u001b[0;34m\u001b[0m\u001b[0m\n\u001b[0;32m-> 6715\u001b[0;31m                 raise ValueError(f\"The 'color' keyword argument must have one \"\n\u001b[0m\u001b[1;32m   6716\u001b[0m                                  \u001b[0;34mf\"color per dataset, but {nx} datasets and \"\u001b[0m\u001b[0;34m\u001b[0m\u001b[0;34m\u001b[0m\u001b[0m\n\u001b[1;32m   6717\u001b[0m                                  f\"{len(color)} colors were provided\")\n",
      "\u001b[0;31mValueError\u001b[0m: The 'color' keyword argument must have one color per dataset, but 1 datasets and 5 colors were provided"
     ]
    },
    {
     "data": {
      "image/png": "[encoded data removed]",
      "text/plain": [
       "<Figure size 576x432 with 1 Axes>"
      ]
     },
     "metadata": {
      "needs_background": "light"
     },
     "output_type": "display_data"
    }
   ],
   "source": [
    "n_bins = years.size\n",
    "#fcs = [(1,0,0,0.5), (0,1,0,0.5), (0,0,1,0.5), (0.5,0.5,0,0.5), (0.5,0,0.5,0.5)]\n",
    "\n",
    "fig = plt.figure(figsize=(8,6))\n",
    "plt.hist(citation_data, range(1993,2023), density=1, histtype=\"bar\", stacked=True,color=colours, alpha=0.8, label=genes)\n",
    "plt.legend()\n",
    "plt.xticks(years+0.5, years, rotation=90)\n",
    "plt.title(\"A stacked histogram to show the number of autism-related PubMed papers\\npublished each year for the top 5 reported SFARI genes with gene-score 1\", fontsize=14)\n",
    "plt.xlabel(\"Year\", fontsize=12)\n",
    "plt.ylabel(\"# papers published\", fontsize=12)\n",
    "#fig.savefig(f'{os.getcwd()}/results/task1-5-stacked.pdf', dpi=fig.dpi)"
   ]
  },
  {
   "cell_type": "code",
   "execution_count": 115,
   "id": "3d93b47b",
   "metadata": {},
   "outputs": [
    {
     "name": "stderr",
     "output_type": "stream",
     "text": [
      "100%|███████████████████████████████████████| 1023/1023 [10:29<00:00,  1.63it/s]\n"
     ]
    }
   ],
   "source": [
    "Entrez.email = \"s1803764@ed.ac.uk\"\n",
    "num_pubs = []\n",
    "\n",
    "for g in tqdm(gene_symbols):\n",
    "    handle = Entrez.esearch(db=\"pubmed\",retmax=2000, term=f\"({g}) AND (ASD)\")\n",
    "    record = Entrez.read(handle)\n",
    "    num_pubs.append(len(record[\"IdList\"]))"
   ]
  },
  {
   "cell_type": "code",
   "execution_count": 254,
   "id": "8a989f22",
   "metadata": {},
   "outputs": [
    {
     "data": {
      "text/plain": [
       "Text(0, 0.5, '# papers published')"
      ]
     },
     "execution_count": 254,
     "metadata": {},
     "output_type": "execute_result"
    },
    {
     "data": {
      "image/png": "[encoded data removed]",
      "text/plain": [
       "<Figure size 576x432 with 1 Axes>"
      ]
     },
     "metadata": {
      "needs_background": "light"
     },
     "output_type": "display_data"
    }
   ],
   "source": [
    "years = np.arange(2000,2022)\n",
    "year_labels = np.insert(years, 0, 1993)\n",
    "year_range = np.arange(1993,2023)\n",
    "n_bins = year_labels.size\n",
    "#fcs = [(1,0,0,0.5), (0,1,0,0.5), (0,0,1,0.5), (0.5,0.5,0,0.5), (0.5,0,0.5,0.5)]\n",
    "\n",
    "fig = plt.figure(figsize=(8,6))\n",
    "plt.hist(all_dates, year_range, density=0, histtype=\"bar\", stacked=True, color=colours, alpha=0.8, label=genes)\n",
    "plt.legend()\n",
    "plt.xticks(year_labels+0.5, year_labels, rotation=90)\n",
    "plt.title(\"A stacked histogram to show the number of autism-related PubMed papers\\npublished each year for the top 5 reported gene-score 1 SFARI genes\", fontsize=14)\n",
    "plt.xlabel(\"Year\", fontsize=12)\n",
    "plt.ylabel(\"# papers published\", fontsize=12)\n",
    "#fig.savefig(f'{os.getcwd()}/results/task1-5-stacked.pdf', dpi=fig.dpi)"
   ]
  },
  {
   "cell_type": "code",
   "execution_count": null,
   "id": "e4943bea",
   "metadata": {},
   "outputs": [],
   "source": []
  },
  {
   "cell_type": "code",
   "execution_count": 281,
   "id": "6aa4dba4",
   "metadata": {},
   "outputs": [
    {
     "data": {
      "text/plain": [
       "Text(0, 0.5, '# papers published')"
      ]
     },
     "execution_count": 281,
     "metadata": {},
     "output_type": "execute_result"
    },
    {
     "data": {
      "image/png": "[encoded data removed]",
      "text/plain": [
       "<Figure size 576x432 with 1 Axes>"
      ]
     },
     "metadata": {
      "needs_background": "light"
     },
     "output_type": "display_data"
    }
   ],
   "source": [
    "years = np.arange(1967,2022,1)\n",
    "n_bins = years.size\n",
    "#fcs = [(1,0,0,0.5), (0,1,0,0.5), (0,0,1,0.5), (0.5,0.5,0,0.5), (0.5,0,0.5,0.5)]\n",
    "\n",
    "fig = plt.figure(figsize=(8,6))\n",
    "plt.hist(new_years, range(1967,2023), density=0, histtype=\"bar\", stacked=True, alpha=0.8, label=genes)\n",
    "plt.legend()\n",
    "plt.xticks(years+0.5, years, rotation=90, fontsize=8)\n",
    "plt.title(\"A stacked histogram to show the 10 SFARI genes with the highest number of autism-related PubMed articles published each year\", fontsize=14)\n",
    "plt.xlabel(\"Year\", fontsize=12)\n",
    "plt.ylabel(\"# papers published\", fontsize=12)\n",
    "#fig.savefig(f'{os.getcwd()}/results/task1-5-stacked.pdf', dpi=fig.dpi)"
   ]
  },
  {
   "cell_type": "code",
   "execution_count": 283,
   "id": "c95b3204",
   "metadata": {},
   "outputs": [
    {
     "data": {
      "text/plain": [
       "status                                                              9\n",
       "gene-symbol                                                       YY1\n",
       "gene-name                                     YY1transcription factor\n",
       "ensembl-id                                            ENSG00000100811\n",
       "chromosome                                                         14\n",
       "genetic-category     Rare Single Gene Mutation, Syndromic, Functional\n",
       "gene-score                                                        NaN\n",
       "syndromic                                                           1\n",
       "number-of-reports                                                   5\n",
       "Name: 996, dtype: object"
      ]
     },
     "execution_count": 283,
     "metadata": {},
     "output_type": "execute_result"
    }
   ],
   "source": [
    "data.iloc[996]"
   ]
  }
 ],
 "metadata": {
  "kernelspec": {
   "display_name": "Python 3 (ipykernel)",
   "language": "python",
   "name": "python3"
  },
  "language_info": {
   "codemirror_mode": {
    "name": "ipython",
    "version": 3
   },
   "file_extension": ".py",
   "mimetype": "text/x-python",
   "name": "python",
   "nbconvert_exporter": "python",
   "pygments_lexer": "ipython3",
   "version": "3.7.11"
  }
 },
 "nbformat": 4,
 "nbformat_minor": 5
}
