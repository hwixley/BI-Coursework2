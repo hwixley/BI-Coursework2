{
 "cells": [
  {
   "cell_type": "code",
   "execution_count": 22,
   "id": "3cc95751",
   "metadata": {},
   "outputs": [],
   "source": [
    "import numpy as np\n",
    "import matplotlib.pyplot as plt\n",
    "import pandas as pd\n",
    "import os\n",
    "from Bio import Entrez\n",
    "from tqdm import tqdm"
   ]
  },
  {
   "cell_type": "code",
   "execution_count": 23,
   "id": "6bc028ac",
   "metadata": {},
   "outputs": [
    {
     "name": "stdout",
     "output_type": "stream",
     "text": [
      "Index(['status', 'gene-symbol', 'gene-name', 'ensembl-id', 'chromosome',\n",
      "       'genetic-category', 'gene-score', 'syndromic', 'number-of-reports'],\n",
      "      dtype='object')\n"
     ]
    }
   ],
   "source": [
    "data = pd.read_csv (r'data/SFARI-Genes.csv')\n",
    "cols = data.columns\n",
    "N, D = data.shape\n",
    "print(cols)"
   ]
  },
  {
   "cell_type": "markdown",
   "id": "ffa07162",
   "metadata": {},
   "source": [
    "# Task 1"
   ]
  },
  {
   "cell_type": "code",
   "execution_count": 24,
   "id": "835a403e",
   "metadata": {},
   "outputs": [
    {
     "name": "stdout",
     "output_type": "stream",
     "text": [
      "1023\n"
     ]
    }
   ],
   "source": [
    "gene_symbols = data['gene-symbol'].unique()\n",
    "print(gene_symbols.size)"
   ]
  },
  {
   "cell_type": "code",
   "execution_count": 25,
   "id": "5939e6dd",
   "metadata": {},
   "outputs": [],
   "source": [
    "def save_to_txt_file(contents, filename):\n",
    "    DIR = os.getcwd() + \"/results/\" + filename\n",
    "    \n",
    "    with open(DIR, \"w\") as f:\n",
    "        f.write(contents)"
   ]
  },
  {
   "cell_type": "code",
   "execution_count": null,
   "id": "6917d4bc",
   "metadata": {},
   "outputs": [
    {
     "name": "stderr",
     "output_type": "stream",
     "text": [
      "  3%|█▉                                                       | 34/1023 [00:29<14:42,  1.12it/s]"
     ]
    }
   ],
   "source": [
    "Entrez.email = \"s1803764@ed.ac.uk\"\n",
    "output = \"\"\n",
    "\n",
    "for i in tqdm(range(gene_symbols.size)):\n",
    "    g = gene_symbols[i]\n",
    "    handle = Entrez.esearch(db=\"gene\", retmax=10, term=g + \"[sym] homo sapiens[Organism]\")\n",
    "    record = Entrez.read(handle)\n",
    "    output += g + \": \" + \", \".join(str(x) for x in record['IdList'])\n",
    "    output += \"\\n\"\n",
    "    \n",
    "save_to_txt_file(output, \"task2-1-eid.txt\")"
   ]
  },
  {
   "cell_type": "code",
   "execution_count": null,
   "id": "0739c99a",
   "metadata": {},
   "outputs": [],
   "source": []
  }
 ],
 "metadata": {
  "kernelspec": {
   "display_name": "Python 3 (ipykernel)",
   "language": "python",
   "name": "python3"
  },
  "language_info": {
   "codemirror_mode": {
    "name": "ipython",
    "version": 3
   },
   "file_extension": ".py",
   "mimetype": "text/x-python",
   "name": "python",
   "nbconvert_exporter": "python",
   "pygments_lexer": "ipython3",
   "version": "3.9.7"
  }
 },
 "nbformat": 4,
 "nbformat_minor": 5
}
