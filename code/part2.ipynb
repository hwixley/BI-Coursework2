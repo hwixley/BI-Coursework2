{
 "cells": [
  {
   "cell_type": "code",
   "execution_count": 16,
   "id": "3cc95751",
   "metadata": {},
   "outputs": [],
   "source": [
    "import numpy as np\n",
    "import matplotlib.pyplot as plt\n",
    "import pandas as pd\n",
    "import os\n",
    "from Bio import Entrez\n",
    "from tqdm import tqdm\n",
    "import pickle"
   ]
  },
  {
   "cell_type": "code",
   "execution_count": 3,
   "id": "6bc028ac",
   "metadata": {},
   "outputs": [
    {
     "name": "stdout",
     "output_type": "stream",
     "text": [
      "Index(['status', 'gene-symbol', 'gene-name', 'ensembl-id', 'chromosome',\n",
      "       'genetic-category', 'gene-score', 'syndromic', 'number-of-reports'],\n",
      "      dtype='object')\n"
     ]
    }
   ],
   "source": [
    "data = pd.read_csv (r'data/SFARI-Genes.csv')\n",
    "cols = data.columns\n",
    "N, D = data.shape\n",
    "print(cols)"
   ]
  },
  {
   "cell_type": "code",
   "execution_count": 21,
   "id": "6810493b",
   "metadata": {},
   "outputs": [],
   "source": [
    "def save_to_txt_file(contents, filename):\n",
    "    DIR = os.getcwd() + \"/results/\" + filename\n",
    "    \n",
    "    with open(DIR, \"w\") as f:\n",
    "        f.write(contents)\n",
    "        \n",
    "def save_to_pickle_file(contents, filename):\n",
    "    DIR = os.getcwd() + \"/data/\" + filename\n",
    "    \n",
    "    with open(DIR, \"wb\") as handle:\n",
    "        pickle.dump(contents, handle, protocol=pickle.HIGHEST_PROTOCOL)"
   ]
  },
  {
   "cell_type": "markdown",
   "id": "ffa07162",
   "metadata": {},
   "source": [
    "# Task 1"
   ]
  },
  {
   "cell_type": "code",
   "execution_count": 4,
   "id": "835a403e",
   "metadata": {},
   "outputs": [
    {
     "name": "stdout",
     "output_type": "stream",
     "text": [
      "1023\n"
     ]
    }
   ],
   "source": [
    "gene_symbols = data['gene-symbol'].unique()\n",
    "print(gene_symbols.size)"
   ]
  },
  {
   "cell_type": "code",
   "execution_count": 5,
   "id": "be1e05e9",
   "metadata": {},
   "outputs": [],
   "source": []
  },
  {
   "cell_type": "code",
   "execution_count": 14,
   "id": "6917d4bc",
   "metadata": {},
   "outputs": [
    {
     "name": "stderr",
     "output_type": "stream",
     "text": [
      "100%|███████████████████████████████████████| 1023/1023 [10:31<00:00,  1.62it/s]\n"
     ]
    }
   ],
   "source": [
    "Entrez.email = \"s1803764@ed.ac.uk\"\n",
    "output = \"\"\n",
    "eid = {}\n",
    "\n",
    "for i in tqdm(range(gene_symbols.size)):\n",
    "    g = gene_symbols[i]\n",
    "    handle = Entrez.esearch(db=\"gene\", retmax=10, term=g + \"[sym] homo sapiens[Organism]\")\n",
    "    record = Entrez.read(handle)\n",
    "    #output += g + \": \" + \", \".join(str(x) for x in record['IdList'])\n",
    "    #output += \"\\n\"\n",
    "    eid[g] = record['IdList']\n",
    "    \n",
    "#save_to_txt_file(output, \"task2-1-eid.txt\")"
   ]
  },
  {
   "cell_type": "code",
   "execution_count": 22,
   "id": "9b2476a5",
   "metadata": {},
   "outputs": [],
   "source": [
    "save_to_pickle_file(eid, \"eid.pickle\")"
   ]
  },
  {
   "cell_type": "markdown",
   "id": "46b165d1",
   "metadata": {},
   "source": [
    "# Task 2"
   ]
  },
  {
   "cell_type": "code",
   "execution_count": 6,
   "id": "0bba64ab",
   "metadata": {},
   "outputs": [],
   "source": [
    "gene2go = pd.read_csv(os.getcwd() + \"/data/gene2go\", dtype=str, delimiter=\"\\t\")"
   ]
  },
  {
   "cell_type": "code",
   "execution_count": 25,
   "id": "46919eb2",
   "metadata": {},
   "outputs": [
    {
     "data": {
      "text/plain": [
       "(2084178, 8)"
      ]
     },
     "execution_count": 25,
     "metadata": {},
     "output_type": "execute_result"
    }
   ],
   "source": [
    "gene2go.shape"
   ]
  },
  {
   "cell_type": "code",
   "execution_count": 26,
   "id": "1f466c56",
   "metadata": {},
   "outputs": [
    {
     "data": {
      "text/html": [
       "<div>\n",
       "<style scoped>\n",
       "    .dataframe tbody tr th:only-of-type {\n",
       "        vertical-align: middle;\n",
       "    }\n",
       "\n",
       "    .dataframe tbody tr th {\n",
       "        vertical-align: top;\n",
       "    }\n",
       "\n",
       "    .dataframe thead th {\n",
       "        text-align: right;\n",
       "    }\n",
       "</style>\n",
       "<table border=\"1\" class=\"dataframe\">\n",
       "  <thead>\n",
       "    <tr style=\"text-align: right;\">\n",
       "      <th></th>\n",
       "      <th>#tax_id</th>\n",
       "      <th>GeneID</th>\n",
       "      <th>GO_ID</th>\n",
       "      <th>Evidence</th>\n",
       "      <th>Qualifier</th>\n",
       "      <th>GO_term</th>\n",
       "      <th>PubMed</th>\n",
       "      <th>Category</th>\n",
       "    </tr>\n",
       "  </thead>\n",
       "  <tbody>\n",
       "    <tr>\n",
       "      <th>0</th>\n",
       "      <td>3702</td>\n",
       "      <td>814629</td>\n",
       "      <td>GO:0005634</td>\n",
       "      <td>ISM</td>\n",
       "      <td>located_in</td>\n",
       "      <td>nucleus</td>\n",
       "      <td>-</td>\n",
       "      <td>Component</td>\n",
       "    </tr>\n",
       "    <tr>\n",
       "      <th>1</th>\n",
       "      <td>3702</td>\n",
       "      <td>814629</td>\n",
       "      <td>GO:0008150</td>\n",
       "      <td>ND</td>\n",
       "      <td>involved_in</td>\n",
       "      <td>biological_process</td>\n",
       "      <td>-</td>\n",
       "      <td>Process</td>\n",
       "    </tr>\n",
       "    <tr>\n",
       "      <th>2</th>\n",
       "      <td>3702</td>\n",
       "      <td>814630</td>\n",
       "      <td>GO:0003700</td>\n",
       "      <td>ISS</td>\n",
       "      <td>enables</td>\n",
       "      <td>DNA-binding transcription factor activity</td>\n",
       "      <td>11118137</td>\n",
       "      <td>Function</td>\n",
       "    </tr>\n",
       "    <tr>\n",
       "      <th>3</th>\n",
       "      <td>3702</td>\n",
       "      <td>814630</td>\n",
       "      <td>GO:0005634</td>\n",
       "      <td>ISM</td>\n",
       "      <td>located_in</td>\n",
       "      <td>nucleus</td>\n",
       "      <td>-</td>\n",
       "      <td>Component</td>\n",
       "    </tr>\n",
       "    <tr>\n",
       "      <th>4</th>\n",
       "      <td>3702</td>\n",
       "      <td>814630</td>\n",
       "      <td>GO:0006355</td>\n",
       "      <td>TAS</td>\n",
       "      <td>acts_upstream_of_or_within</td>\n",
       "      <td>regulation of transcription, DNA-templated</td>\n",
       "      <td>11118137</td>\n",
       "      <td>Process</td>\n",
       "    </tr>\n",
       "    <tr>\n",
       "      <th>...</th>\n",
       "      <td>...</td>\n",
       "      <td>...</td>\n",
       "      <td>...</td>\n",
       "      <td>...</td>\n",
       "      <td>...</td>\n",
       "      <td>...</td>\n",
       "      <td>...</td>\n",
       "      <td>...</td>\n",
       "    </tr>\n",
       "    <tr>\n",
       "      <th>2084173</th>\n",
       "      <td>559292</td>\n",
       "      <td>65052912</td>\n",
       "      <td>GO:0005575</td>\n",
       "      <td>ND</td>\n",
       "      <td>is_active_in</td>\n",
       "      <td>cellular_component</td>\n",
       "      <td>-</td>\n",
       "      <td>Component</td>\n",
       "    </tr>\n",
       "    <tr>\n",
       "      <th>2084174</th>\n",
       "      <td>559292</td>\n",
       "      <td>65052912</td>\n",
       "      <td>GO:0008150</td>\n",
       "      <td>ND</td>\n",
       "      <td>involved_in</td>\n",
       "      <td>biological_process</td>\n",
       "      <td>-</td>\n",
       "      <td>Process</td>\n",
       "    </tr>\n",
       "    <tr>\n",
       "      <th>2084175</th>\n",
       "      <td>559292</td>\n",
       "      <td>65052913</td>\n",
       "      <td>GO:0003674</td>\n",
       "      <td>ND</td>\n",
       "      <td>enables</td>\n",
       "      <td>molecular_function</td>\n",
       "      <td>-</td>\n",
       "      <td>Function</td>\n",
       "    </tr>\n",
       "    <tr>\n",
       "      <th>2084176</th>\n",
       "      <td>559292</td>\n",
       "      <td>65052913</td>\n",
       "      <td>GO:0005575</td>\n",
       "      <td>ND</td>\n",
       "      <td>is_active_in</td>\n",
       "      <td>cellular_component</td>\n",
       "      <td>-</td>\n",
       "      <td>Component</td>\n",
       "    </tr>\n",
       "    <tr>\n",
       "      <th>2084177</th>\n",
       "      <td>559292</td>\n",
       "      <td>65052913</td>\n",
       "      <td>GO:0008150</td>\n",
       "      <td>ND</td>\n",
       "      <td>involved_in</td>\n",
       "      <td>biological_process</td>\n",
       "      <td>-</td>\n",
       "      <td>Process</td>\n",
       "    </tr>\n",
       "  </tbody>\n",
       "</table>\n",
       "<p>2084178 rows × 8 columns</p>\n",
       "</div>"
      ],
      "text/plain": [
       "        #tax_id    GeneID       GO_ID Evidence                   Qualifier  \\\n",
       "0          3702    814629  GO:0005634      ISM                  located_in   \n",
       "1          3702    814629  GO:0008150       ND                 involved_in   \n",
       "2          3702    814630  GO:0003700      ISS                     enables   \n",
       "3          3702    814630  GO:0005634      ISM                  located_in   \n",
       "4          3702    814630  GO:0006355      TAS  acts_upstream_of_or_within   \n",
       "...         ...       ...         ...      ...                         ...   \n",
       "2084173  559292  65052912  GO:0005575       ND                is_active_in   \n",
       "2084174  559292  65052912  GO:0008150       ND                 involved_in   \n",
       "2084175  559292  65052913  GO:0003674       ND                     enables   \n",
       "2084176  559292  65052913  GO:0005575       ND                is_active_in   \n",
       "2084177  559292  65052913  GO:0008150       ND                 involved_in   \n",
       "\n",
       "                                            GO_term    PubMed   Category  \n",
       "0                                           nucleus         -  Component  \n",
       "1                                biological_process         -    Process  \n",
       "2         DNA-binding transcription factor activity  11118137   Function  \n",
       "3                                           nucleus         -  Component  \n",
       "4        regulation of transcription, DNA-templated  11118137    Process  \n",
       "...                                             ...       ...        ...  \n",
       "2084173                          cellular_component         -  Component  \n",
       "2084174                          biological_process         -    Process  \n",
       "2084175                          molecular_function         -   Function  \n",
       "2084176                          cellular_component         -  Component  \n",
       "2084177                          biological_process         -    Process  \n",
       "\n",
       "[2084178 rows x 8 columns]"
      ]
     },
     "execution_count": 26,
     "metadata": {},
     "output_type": "execute_result"
    }
   ],
   "source": [
    "gene2go"
   ]
  },
  {
   "cell_type": "code",
   "execution_count": 23,
   "id": "10b321f9",
   "metadata": {},
   "outputs": [],
   "source": [
    "save_to_pickle_file(gene2go, \"gene2go.pickle\")"
   ]
  },
  {
   "cell_type": "code",
   "execution_count": 55,
   "id": "ed29c098",
   "metadata": {},
   "outputs": [
    {
     "name": "stderr",
     "output_type": "stream",
     "text": [
      " 12%|████▉                                   | 127/1023 [00:13<01:37,  9.22it/s]\n"
     ]
    },
    {
     "ename": "IndexError",
     "evalue": "single positional indexer is out-of-bounds",
     "output_type": "error",
     "traceback": [
      "\u001b[0;31m---------------------------------------------------------------------------\u001b[0m",
      "\u001b[0;31mIndexError\u001b[0m                                Traceback (most recent call last)",
      "\u001b[0;32m/tmp/ipykernel_602054/115192868.py\u001b[0m in \u001b[0;36m<module>\u001b[0;34m\u001b[0m\n\u001b[1;32m      5\u001b[0m \u001b[0;34m\u001b[0m\u001b[0m\n\u001b[1;32m      6\u001b[0m     \u001b[0mids\u001b[0m \u001b[0;34m=\u001b[0m \u001b[0mgene2go\u001b[0m\u001b[0;34m[\u001b[0m\u001b[0;34m\"GeneID\"\u001b[0m\u001b[0;34m]\u001b[0m\u001b[0;34m\u001b[0m\u001b[0;34m\u001b[0m\u001b[0m\n\u001b[0;32m----> 7\u001b[0;31m     \u001b[0mindex\u001b[0m \u001b[0;34m=\u001b[0m \u001b[0mids\u001b[0m\u001b[0;34m[\u001b[0m\u001b[0mids\u001b[0m \u001b[0;34m==\u001b[0m \u001b[0mentrez\u001b[0m\u001b[0;34m]\u001b[0m\u001b[0;34m.\u001b[0m\u001b[0miloc\u001b[0m\u001b[0;34m[\u001b[0m\u001b[0;36m0\u001b[0m\u001b[0;34m]\u001b[0m\u001b[0;34m\u001b[0m\u001b[0;34m\u001b[0m\u001b[0m\n\u001b[0m\u001b[1;32m      8\u001b[0m \u001b[0;34m\u001b[0m\u001b[0m\n\u001b[1;32m      9\u001b[0m     \u001b[0mgo_term\u001b[0m \u001b[0;34m=\u001b[0m \u001b[0mgene2go\u001b[0m\u001b[0;34m.\u001b[0m\u001b[0miloc\u001b[0m\u001b[0;34m[\u001b[0m\u001b[0mint\u001b[0m\u001b[0;34m(\u001b[0m\u001b[0mindex\u001b[0m\u001b[0;34m)\u001b[0m\u001b[0;34m]\u001b[0m\u001b[0;34m[\u001b[0m\u001b[0;34m\"GO_term\"\u001b[0m\u001b[0;34m]\u001b[0m\u001b[0;34m\u001b[0m\u001b[0;34m\u001b[0m\u001b[0m\n",
      "\u001b[0;32m~/miniconda3/envs/omnia/lib/python3.9/site-packages/pandas/core/indexing.py\u001b[0m in \u001b[0;36m__getitem__\u001b[0;34m(self, key)\u001b[0m\n\u001b[1;32m    929\u001b[0m \u001b[0;34m\u001b[0m\u001b[0m\n\u001b[1;32m    930\u001b[0m             \u001b[0mmaybe_callable\u001b[0m \u001b[0;34m=\u001b[0m \u001b[0mcom\u001b[0m\u001b[0;34m.\u001b[0m\u001b[0mapply_if_callable\u001b[0m\u001b[0;34m(\u001b[0m\u001b[0mkey\u001b[0m\u001b[0;34m,\u001b[0m \u001b[0mself\u001b[0m\u001b[0;34m.\u001b[0m\u001b[0mobj\u001b[0m\u001b[0;34m)\u001b[0m\u001b[0;34m\u001b[0m\u001b[0;34m\u001b[0m\u001b[0m\n\u001b[0;32m--> 931\u001b[0;31m             \u001b[0;32mreturn\u001b[0m \u001b[0mself\u001b[0m\u001b[0;34m.\u001b[0m\u001b[0m_getitem_axis\u001b[0m\u001b[0;34m(\u001b[0m\u001b[0mmaybe_callable\u001b[0m\u001b[0;34m,\u001b[0m \u001b[0maxis\u001b[0m\u001b[0;34m=\u001b[0m\u001b[0maxis\u001b[0m\u001b[0;34m)\u001b[0m\u001b[0;34m\u001b[0m\u001b[0;34m\u001b[0m\u001b[0m\n\u001b[0m\u001b[1;32m    932\u001b[0m \u001b[0;34m\u001b[0m\u001b[0m\n\u001b[1;32m    933\u001b[0m     \u001b[0;32mdef\u001b[0m \u001b[0m_is_scalar_access\u001b[0m\u001b[0;34m(\u001b[0m\u001b[0mself\u001b[0m\u001b[0;34m,\u001b[0m \u001b[0mkey\u001b[0m\u001b[0;34m:\u001b[0m \u001b[0mtuple\u001b[0m\u001b[0;34m)\u001b[0m\u001b[0;34m:\u001b[0m\u001b[0;34m\u001b[0m\u001b[0;34m\u001b[0m\u001b[0m\n",
      "\u001b[0;32m~/miniconda3/envs/omnia/lib/python3.9/site-packages/pandas/core/indexing.py\u001b[0m in \u001b[0;36m_getitem_axis\u001b[0;34m(self, key, axis)\u001b[0m\n\u001b[1;32m   1564\u001b[0m \u001b[0;34m\u001b[0m\u001b[0m\n\u001b[1;32m   1565\u001b[0m             \u001b[0;31m# validate the location\u001b[0m\u001b[0;34m\u001b[0m\u001b[0;34m\u001b[0m\u001b[0m\n\u001b[0;32m-> 1566\u001b[0;31m             \u001b[0mself\u001b[0m\u001b[0;34m.\u001b[0m\u001b[0m_validate_integer\u001b[0m\u001b[0;34m(\u001b[0m\u001b[0mkey\u001b[0m\u001b[0;34m,\u001b[0m \u001b[0maxis\u001b[0m\u001b[0;34m)\u001b[0m\u001b[0;34m\u001b[0m\u001b[0;34m\u001b[0m\u001b[0m\n\u001b[0m\u001b[1;32m   1567\u001b[0m \u001b[0;34m\u001b[0m\u001b[0m\n\u001b[1;32m   1568\u001b[0m             \u001b[0;32mreturn\u001b[0m \u001b[0mself\u001b[0m\u001b[0;34m.\u001b[0m\u001b[0mobj\u001b[0m\u001b[0;34m.\u001b[0m\u001b[0m_ixs\u001b[0m\u001b[0;34m(\u001b[0m\u001b[0mkey\u001b[0m\u001b[0;34m,\u001b[0m \u001b[0maxis\u001b[0m\u001b[0;34m=\u001b[0m\u001b[0maxis\u001b[0m\u001b[0;34m)\u001b[0m\u001b[0;34m\u001b[0m\u001b[0;34m\u001b[0m\u001b[0m\n",
      "\u001b[0;32m~/miniconda3/envs/omnia/lib/python3.9/site-packages/pandas/core/indexing.py\u001b[0m in \u001b[0;36m_validate_integer\u001b[0;34m(self, key, axis)\u001b[0m\n\u001b[1;32m   1498\u001b[0m         \u001b[0mlen_axis\u001b[0m \u001b[0;34m=\u001b[0m \u001b[0mlen\u001b[0m\u001b[0;34m(\u001b[0m\u001b[0mself\u001b[0m\u001b[0;34m.\u001b[0m\u001b[0mobj\u001b[0m\u001b[0;34m.\u001b[0m\u001b[0m_get_axis\u001b[0m\u001b[0;34m(\u001b[0m\u001b[0maxis\u001b[0m\u001b[0;34m)\u001b[0m\u001b[0;34m)\u001b[0m\u001b[0;34m\u001b[0m\u001b[0;34m\u001b[0m\u001b[0m\n\u001b[1;32m   1499\u001b[0m         \u001b[0;32mif\u001b[0m \u001b[0mkey\u001b[0m \u001b[0;34m>=\u001b[0m \u001b[0mlen_axis\u001b[0m \u001b[0;32mor\u001b[0m \u001b[0mkey\u001b[0m \u001b[0;34m<\u001b[0m \u001b[0;34m-\u001b[0m\u001b[0mlen_axis\u001b[0m\u001b[0;34m:\u001b[0m\u001b[0;34m\u001b[0m\u001b[0;34m\u001b[0m\u001b[0m\n\u001b[0;32m-> 1500\u001b[0;31m             \u001b[0;32mraise\u001b[0m \u001b[0mIndexError\u001b[0m\u001b[0;34m(\u001b[0m\u001b[0;34m\"single positional indexer is out-of-bounds\"\u001b[0m\u001b[0;34m)\u001b[0m\u001b[0;34m\u001b[0m\u001b[0;34m\u001b[0m\u001b[0m\n\u001b[0m\u001b[1;32m   1501\u001b[0m \u001b[0;34m\u001b[0m\u001b[0m\n\u001b[1;32m   1502\u001b[0m     \u001b[0;31m# -------------------------------------------------------------------\u001b[0m\u001b[0;34m\u001b[0m\u001b[0;34m\u001b[0m\u001b[0m\n",
      "\u001b[0;31mIndexError\u001b[0m: single positional indexer is out-of-bounds"
     ]
    }
   ],
   "source": [
    "go_terms = {}\n",
    "\n",
    "for g in tqdm(gene_symbols):\n",
    "    entrez = eid[g][0]\n",
    "    \n",
    "    ids = gene2go[\"GeneID\"]\n",
    "    index = ids[ids == entrez]\n",
    "    \n",
    "    if\n",
    "    \n",
    "    go_term = gene2go.iloc[int(index)][\"GO_term\"]\n",
    "    \n",
    "    go_terms[g] = go_term\n",
    "\n",
    "save_to_pickle_file(go_terms, \"go-terms.pickle\")"
   ]
  },
  {
   "cell_type": "code",
   "execution_count": null,
   "id": "0f17eacc",
   "metadata": {},
   "outputs": [],
   "source": []
  }
 ],
 "metadata": {
  "kernelspec": {
   "display_name": "Python 3 (ipykernel)",
   "language": "python",
   "name": "python3"
  },
  "language_info": {
   "codemirror_mode": {
    "name": "ipython",
    "version": 3
   },
   "file_extension": ".py",
   "mimetype": "text/x-python",
   "name": "python",
   "nbconvert_exporter": "python",
   "pygments_lexer": "ipython3",
   "version": "3.9.7"
  }
 },
 "nbformat": 4,
 "nbformat_minor": 5
}
