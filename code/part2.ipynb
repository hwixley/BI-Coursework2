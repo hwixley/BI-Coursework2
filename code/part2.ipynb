{
 "cells": [
  {
   "cell_type": "code",
   "execution_count": 1,
   "id": "3cc95751",
   "metadata": {},
   "outputs": [],
   "source": [
    "import numpy as np\n",
    "import matplotlib.pyplot as plt\n",
    "import pandas as pd\n",
    "import os\n",
    "from Bio import Entrez\n",
    "from tqdm import tqdm"
   ]
  },
  {
   "cell_type": "code",
   "execution_count": 2,
   "id": "6bc028ac",
   "metadata": {},
   "outputs": [
    {
     "name": "stdout",
     "output_type": "stream",
     "text": [
      "Index(['status', 'gene-symbol', 'gene-name', 'ensembl-id', 'chromosome',\n",
      "       'genetic-category', 'gene-score', 'syndromic', 'number-of-reports'],\n",
      "      dtype='object')\n"
     ]
    }
   ],
   "source": [
    "data = pd.read_csv (r'data/SFARI-Genes.csv')\n",
    "cols = data.columns\n",
    "N, D = data.shape\n",
    "print(cols)"
   ]
  },
  {
   "cell_type": "markdown",
   "id": "ffa07162",
   "metadata": {},
   "source": [
    "# Task 1"
   ]
  },
  {
   "cell_type": "code",
   "execution_count": 3,
   "id": "835a403e",
   "metadata": {},
   "outputs": [
    {
     "name": "stdout",
     "output_type": "stream",
     "text": [
      "1023\n"
     ]
    }
   ],
   "source": [
    "gene_symbols = data['gene-symbol'].unique()\n",
    "print(gene_symbols.size)"
   ]
  },
  {
   "cell_type": "code",
   "execution_count": 4,
   "id": "be1e05e9",
   "metadata": {},
   "outputs": [],
   "source": [
    "def save_to_txt_file(contents, filename):\n",
    "    DIR = os.getcwd() + \"/results/\" + filename\n",
    "    \n",
    "    with open(DIR, \"w\") as f:\n",
    "        f.write(contents)"
   ]
  },
  {
   "cell_type": "code",
   "execution_count": 5,
   "id": "6917d4bc",
   "metadata": {},
   "outputs": [
    {
     "name": "stderr",
     "output_type": "stream",
     "text": [
      "100%|███████████████████████████████████████| 1023/1023 [10:17<00:00,  1.66it/s]\n"
     ]
    }
   ],
   "source": [
    "Entrez.email = \"s1803764@ed.ac.uk\"\n",
    "output = \"\"\n",
    "\n",
    "for i in tqdm(range(gene_symbols.size)):\n",
    "    g = gene_symbols[i]\n",
    "    handle = Entrez.esearch(db=\"gene\", retmax=10, term=g + \"[sym] homo sapiens[Organism]\")\n",
    "    record = Entrez.read(handle)\n",
    "    output += g + \": \" + \", \".join(str(x) for x in record['IdList'])\n",
    "    output += \"\\n\"\n",
    "    \n",
    "save_to_txt_file(output, \"task2-1-eid.txt\")"
   ]
  },
  {
   "cell_type": "markdown",
   "id": "46b165d1",
   "metadata": {},
   "source": [
    "# Task 2"
   ]
  },
  {
   "cell_type": "code",
   "execution_count": 5,
   "id": "0bba64ab",
   "metadata": {},
   "outputs": [],
   "source": [
    "gene2go = np.loadtxt(os.getcwd() + \"/data/gene2go\", dtype=str, delimiter=\"\\n\")"
   ]
  },
  {
   "cell_type": "code",
   "execution_count": 6,
   "id": "46919eb2",
   "metadata": {},
   "outputs": [
    {
     "data": {
      "text/plain": [
       "(2084178,)"
      ]
     },
     "execution_count": 6,
     "metadata": {},
     "output_type": "execute_result"
    }
   ],
   "source": [
    "gene2go.shape"
   ]
  },
  {
   "cell_type": "code",
   "execution_count": 7,
   "id": "e1ba9a3c",
   "metadata": {},
   "outputs": [
    {
     "data": {
      "text/plain": [
       "'3702\\t814629\\tGO:0005634\\tISM\\tlocated_in\\tnucleus\\t-\\tComponent'"
      ]
     },
     "execution_count": 7,
     "metadata": {},
     "output_type": "execute_result"
    }
   ],
   "source": [
    "gene2go[0]"
   ]
  },
  {
   "cell_type": "code",
   "execution_count": null,
   "id": "d36769a4",
   "metadata": {},
   "outputs": [],
   "source": [
    "#task2_data = [line[12:22] for line in gene2go]\n",
    "#print(task2_data)\n",
    "\n",
    "task2_data = np.genfromtxt(gene2go, delimiter=\"\\t\")\n",
    "np.save(os.getcwd() + \"/data/task2.npy\", task2_data, allow_pickle=True)"
   ]
  },
  {
   "cell_type": "code",
   "execution_count": 9,
   "id": "c9ef8841",
   "metadata": {},
   "outputs": [
    {
     "data": {
      "text/plain": [
       "'GO:0005634'"
      ]
     },
     "execution_count": 9,
     "metadata": {},
     "output_type": "execute_result"
    }
   ],
   "source": [
    "\"3702\\t814629\\tGO:0005634\"[5:22]"
   ]
  }
 ],
 "metadata": {
  "kernelspec": {
   "display_name": "Python 3 (ipykernel)",
   "language": "python",
   "name": "python3"
  },
  "language_info": {
   "codemirror_mode": {
    "name": "ipython",
    "version": 3
   },
   "file_extension": ".py",
   "mimetype": "text/x-python",
   "name": "python",
   "nbconvert_exporter": "python",
   "pygments_lexer": "ipython3",
   "version": "3.9.7"
  }
 },
 "nbformat": 4,
 "nbformat_minor": 5
}
